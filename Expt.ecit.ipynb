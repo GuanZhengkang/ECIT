{
 "cells": [
  {
   "cell_type": "code",
   "execution_count": 3,
   "metadata": {},
   "outputs": [],
   "source": [
    "import numpy as np\n",
    "from tqdm import tqdm\n",
    "import time\n",
    "import matplotlib.pyplot as plt\n",
    "from ecit import *\n",
    "\n",
    "\n",
    "def ecit_simu(n_list=[400,800,2000,4000],\n",
    "              t=100,\n",
    "              cit=kcit,\n",
    "              ensembles=[(p_alpha175,1), (p_alpha175,2), (p_alpha175,400)],\n",
    "              show_progress=True,\n",
    "              dz=1,n_indp='N',z_dis='gaussian',noise_dis='gaussian',noise_std=0.3,fun1=None,fun2=None):\n",
    "    \n",
    "    results = []\n",
    "\n",
    "    for p_ensemble, k in ensembles:\n",
    "\n",
    "        if show_progress: print(f\"Ensemble (k={k}, {p_ensemble.__name__})\") if k>1 else print(f\"Default (k=1)\")\n",
    "\n",
    "        eI = [0]*len(n_list)\n",
    "        eII = [0]*len(n_list)\n",
    "        tim = [0]*len(n_list)\n",
    "\n",
    "        for i, n in enumerate(n_list):\n",
    "\n",
    "            start_time = time.time()\n",
    "            iteration_loop = tqdm(range(t), desc=f\"n={n}\", leave=True, dynamic_ncols=True) if show_progress else range(t)\n",
    "            for sed in iteration_loop:\n",
    "                np.random.seed(sed)\n",
    "                random.seed(sed)\n",
    "                dataI = np.hstack((generate_samples(n=n,dz=dz,indp='C',z_dis=z_dis, noise_dis=noise_dis,noise_std=noise_std,\n",
    "                                                    fun1=fun1, fun2=fun1)))\n",
    "                dataII = np.hstack((generate_samples(n=n,dz=dz,indp=n_indp,z_dis=z_dis, noise_dis=noise_dis,noise_std=noise_std,\n",
    "                                                     fun1=fun1, fun2=fun1)))\n",
    "                obj_ECIT = ECIT(dataI, cit, p_ensemble, k if k<100 else int(n/k))\n",
    "                pI = obj_ECIT([0], [1], [2])\n",
    "                obj_ECIT = ECIT(dataII, cit, p_ensemble, k if k<100 else int(n/k))\n",
    "                pII = obj_ECIT([0], [1], [2])\n",
    "                if pI<0.05:\n",
    "                    eI[i] += 1\n",
    "                if pII>0.05:\n",
    "                    eII[i] += 1\n",
    "\n",
    "            end_time = time.time()\n",
    "            tim[i] = end_time - start_time\n",
    "            eI[i] = eI[i]/t\n",
    "            eII[i] = eII[i]/t\n",
    "\n",
    "        results.append([eI, eII, tim])\n",
    "\n",
    "    return results\n",
    "\n",
    "\n",
    "\n",
    "\n",
    "def show_results(results, ensembles, n_list):\n",
    "    dir = {}\n",
    "    for (p_ensemble, k), result in zip(ensembles, results):\n",
    "        key_name = f\"Ensemble (k={k}, {p_ensemble.__name__})\" if k > 1 else f\"Default (k=1)\"\n",
    "        dir[key_name] = result\n",
    "\n",
    "    fig, axes = plt.subplots(2, 2, figsize=(16, 10), dpi=300, sharex=True)\n",
    "    (ax_eI, ax_eII), (ax_eSum, ax_tim) = axes\n",
    "\n",
    "    for label, result in dir.items():\n",
    "        eI, eII, tim = result\n",
    "        eSum = np.array(eI) + np.array(eII)\n",
    "\n",
    "        ax_eI.plot(n_list, eI, label=label)\n",
    "        ax_eII.plot(n_list, eII)\n",
    "        ax_eSum.plot(n_list, eSum)\n",
    "        ax_tim.plot(n_list, tim)\n",
    "\n",
    "    ax_eI.set_title(\"Error I\")\n",
    "    ax_eI.set_ylabel(\"Error Rate\")\n",
    "\n",
    "    ax_eII.set_title(\"Error II\")\n",
    "\n",
    "    ax_eSum.set_title(\"Error I + Error II\")\n",
    "    ax_eSum.set_xlabel(\"Sample Size (n)\")   \n",
    "    ax_eSum.set_ylabel(\"Error Rate\")\n",
    "\n",
    "\n",
    "    ax_tim.set_title(\"Execution Time\")\n",
    "    ax_tim.set_ylabel(\"Time (s)\")\n",
    "    ax_tim.set_xlabel(\"Sample Size (n)\")\n",
    "\n",
    "    fig.legend(loc='upper center', bbox_to_anchor=(0.5, -0.05), ncol=3, fontsize=12)\n",
    "\n",
    "    ax_tim.set_xticks(n_list)\n",
    "    ax_eSum.set_xticks(n_list)\n",
    "\n",
    "    plt.tight_layout()\n",
    "    plt.show()"
   ]
  },
  {
   "cell_type": "code",
   "execution_count": 12,
   "metadata": {},
   "outputs": [
    {
     "name": "stdout",
     "output_type": "stream",
     "text": [
      "Default (k=1)\n"
     ]
    },
    {
     "name": "stderr",
     "output_type": "stream",
     "text": [
      "n=800: 100%|██████████| 20/20 [00:32<00:00,  1.64s/it]\n",
      "n=1200:  50%|█████     | 10/20 [01:04<01:03,  6.32s/it]"
     ]
    }
   ],
   "source": [
    "n_list = [800, 1200, 2000]\n",
    "ensembles = [(p_alpha2, 1), (p_alpha2, 400)]\n",
    "t = 20\n",
    "cit = kcit\n",
    "results = ecit_simu(n_list=n_list, t=t, cit=cit, ensembles=ensembles,\n",
    "                    dz=1,z_dis='gaussian',noise_dis='gaussian',noise_std=0.5,fun1=None,fun2=None)\n",
    "show_results(results, ensembles, n_list)\n",
    "results"
   ]
  },
  {
   "cell_type": "markdown",
   "metadata": {},
   "source": [
    "| **method** | $\\alpha$           |  $n$     |\n",
    "|------------|--------------------|----------| \n",
    "|   KCIT     |         2          | 200, 400 |\n",
    "|   CMIknn   |         1.25       | 500, 1000| \n",
    "|   CCIT     |         1.75       | 1000     |  "
   ]
  },
  {
   "cell_type": "markdown",
   "metadata": {},
   "source": [
    "indp: 'N'\n",
    "\n",
    "dz: 1-2-5\n",
    "\n",
    "z_dis: 'gaussian'\n",
    "\n",
    "noise_dis: 'gaussian'\n",
    "\n",
    "noise_std: 1\n",
    "\n"
   ]
  },
  {
   "cell_type": "markdown",
   "metadata": {},
   "source": [
    "| **N**  | **Category**        | **dz=1**           |             |             | **dz=2**           |             |             | **dz=5**           |             |             |\n",
    "|--------|---------------------|--------------------|-------------|-------------|--------------------|-------------|-------------|--------------------|-------------|-------------|\n",
    "|        |                     | **Type I**         | **Type II** | **Overall** | **Type I**         | **Type II** | **Overall** | **Type I**         | **Type II** | **Overall** |\n",
    "| 800    |  KCIT                |                    |             |             |                    |             |             |                    |             |             |\n",
    "|        | Ensemble (n=400)    |                    |             |             |                    |             |             |                    |             |             |\n",
    "| 1200    | KCIT                |                    |             |             |                    |             |             |                    |             |             |\n",
    "|        | Ensemble (n=400)    |                    |             |             |                    |             |             |                    |             |             |\n",
    "| 2000   | KCIT                |                    |             |             |                    |             |             |                    |             |             |\n",
    "|        | Ensemble (n=400)    |                    |             |             |                    |             |             |                    |             |             |\n"
   ]
  }
 ],
 "metadata": {
  "kernelspec": {
   "display_name": "graph",
   "language": "python",
   "name": "python3"
  },
  "language_info": {
   "codemirror_mode": {
    "name": "ipython",
    "version": 3
   },
   "file_extension": ".py",
   "mimetype": "text/x-python",
   "name": "python",
   "nbconvert_exporter": "python",
   "pygments_lexer": "ipython3",
   "version": "3.10.14"
  }
 },
 "nbformat": 4,
 "nbformat_minor": 2
}
