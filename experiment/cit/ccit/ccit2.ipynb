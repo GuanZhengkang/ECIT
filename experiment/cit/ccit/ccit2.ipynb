{
 "cells": [
  {
   "cell_type": "code",
   "execution_count": null,
   "metadata": {
    "execution": {
     "iopub.execute_input": "2025-04-26T15:05:19.760793Z",
     "iopub.status.busy": "2025-04-26T15:05:19.760521Z",
     "iopub.status.idle": "2025-04-26T15:05:27.122355Z",
     "shell.execute_reply": "2025-04-26T15:05:27.121608Z"
    }
   },
   "outputs": [],
   "source": [
    "import sys\n",
    "sys.path.append(\"..\")\n",
    "sys.path.append(\"../../..\")\n",
    "from citSimu import *"
   ]
  },
  {
   "cell_type": "code",
   "execution_count": null,
   "metadata": {
    "execution": {
     "iopub.execute_input": "2025-04-26T15:05:27.125054Z",
     "iopub.status.busy": "2025-04-26T15:05:27.124527Z",
     "iopub.status.idle": "2025-04-30T10:29:20.294485Z",
     "shell.execute_reply": "2025-04-30T10:29:20.293945Z"
    }
   },
   "outputs": [],
   "source": [
    "np.random.seed(1)\n",
    "random.seed(1)\n",
    "\n",
    "ensCIT = [(ccit, 400, p_alpha2)]\n",
    "results = ecitSimulate(ensCIT,t=500)"
   ]
  },
  {
   "cell_type": "code",
   "execution_count": 3,
   "metadata": {
    "execution": {
     "iopub.execute_input": "2025-04-30T10:29:20.296596Z",
     "iopub.status.busy": "2025-04-30T10:29:20.296354Z",
     "iopub.status.idle": "2025-04-30T10:29:20.300332Z",
     "shell.execute_reply": "2025-04-30T10:29:20.299810Z"
    }
   },
   "outputs": [
    {
     "name": "stdout",
     "output_type": "stream",
     "text": [
      "800   Gaussian ccit400p_alpha2       | 0.400  0.844  | 0.424  0.848  | 0.392  0.814 \n",
      "800   Laplace  ccit400p_alpha2       | 0.386  0.828  | 0.386  0.832  | 0.418  0.824 \n",
      "1200  Gaussian ccit400p_alpha2       | 0.322  0.848  | 0.350  0.830  | 0.308  0.812 \n",
      "1200  Laplace  ccit400p_alpha2       | 0.348  0.862  | 0.318  0.810  | 0.312  0.812 \n",
      "1600  Gaussian ccit400p_alpha2       | 0.270  0.828  | 0.260  0.826  | 0.260  0.802 \n",
      "1600  Laplace  ccit400p_alpha2       | 0.282  0.788  | 0.248  0.818  | 0.280  0.758 \n"
     ]
    }
   ],
   "source": [
    "table = [\n",
    "    [round(item, 3) if isinstance(item, float) else item for item in sublist]\n",
    "    for sublist in results\n",
    "]\n",
    "\n",
    "for i, row in enumerate(table):\n",
    "    print(\"{:<5} {:<8} {:<21} | {:<6.3f} {:<6.3f} | {:<6.3f} {:<6.3f} | {:<6.3f} {:<6.3f}\".format(*row))\n"
   ]
  }
 ],
 "metadata": {
  "kernelspec": {
   "display_name": "graph",
   "language": "python",
   "name": "python3"
  },
  "language_info": {
   "codemirror_mode": {
    "name": "ipython",
    "version": 3
   },
   "file_extension": ".py",
   "mimetype": "text/x-python",
   "name": "python",
   "nbconvert_exporter": "python",
   "pygments_lexer": "ipython3",
   "version": "3.10.14"
  },
  "share": {
   "datetime": "2025-01-16T05:48:24.740Z",
   "image": {
    "name": "modelscope:1.18.0-pytorch2.3.0-cpu-py310-ubuntu22.04",
    "url": "dsw-registry-vpc.cn-hangzhou.cr.aliyuncs.com/pai/modelscope:1.18.0-pytorch2.3.0-cpu-py310-ubuntu22.04"
   },
   "instance": "dsw-03a689ba3735b16d",
   "spec": {
    "id": "ecs.g6.xlarge",
    "type": "CPU"
   },
   "uid": "1260733139507565"
  }
 },
 "nbformat": 4,
 "nbformat_minor": 4
}
