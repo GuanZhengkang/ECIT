{
 "cells": [
  {
   "cell_type": "code",
   "execution_count": 2,
   "metadata": {},
   "outputs": [
    {
     "name": "stderr",
     "output_type": "stream",
     "text": [
      "  800, gaussian,   1,   p_alpha2: 100%|██████████| 3/3 [18:58:42<00:00, 22774.04s/it]  \n",
      "  800,  laplace,   1,   p_alpha2: 100%|██████████| 3/3 [23:37:44<00:00, 28354.68s/it]  \n",
      " 1200, gaussian,   1,   p_alpha2: 100%|██████████| 3/3 [15:58:37<00:00, 19172.57s/it] \n",
      " 1200,  laplace,   1,   p_alpha2: 100%|██████████| 3/3 [21:15:52<00:00, 25517.45s/it]  \n",
      " 1600, gaussian,   1,   p_alpha2: 100%|██████████| 3/3 [13:44:29<00:00, 16489.92s/it] \n",
      " 1600,  laplace,   1,   p_alpha2: 100%|██████████| 3/3 [15:12:39<00:00, 18253.29s/it]  \n"
     ]
    }
   ],
   "source": [
    "import sys\n",
    "sys.path.append(\"..\")\n",
    "sys.path.append(\"../../..\")\n",
    "from citSimu import *\n",
    "\n",
    "np.random.seed(1)\n",
    "random.seed(1)\n",
    "\n",
    "ensCIT = [(ccit, 1, p_alpha2)]\n",
    "results = ecitSimulate(ensCIT,t=500)"
   ]
  },
  {
   "cell_type": "code",
   "execution_count": 3,
   "metadata": {},
   "outputs": [
    {
     "name": "stdout",
     "output_type": "stream",
     "text": [
      "800   Gaussian ccit1p_alpha2         | 0.414  0.904  | 0.426  0.886  | 0.414  0.882 \n",
      "800   Laplace  ccit1p_alpha2         | 0.424  0.874  | 0.434  0.882  | 0.430  0.850 \n",
      "1200  Gaussian ccit1p_alpha2         | 0.450  0.896  | 0.430  0.928  | 0.454  0.904 \n",
      "1200  Laplace  ccit1p_alpha2         | 0.442  0.898  | 0.428  0.900  | 0.458  0.892 \n",
      "1600  Gaussian ccit1p_alpha2         | 0.428  0.932  | 0.434  0.928  | 0.428  0.926 \n",
      "1600  Laplace  ccit1p_alpha2         | 0.452  0.936  | 0.462  0.910  | 0.436  0.908 \n"
     ]
    }
   ],
   "source": [
    "table = [\n",
    "    [round(item, 3) if isinstance(item, float) else item for item in sublist]\n",
    "    for sublist in results\n",
    "]\n",
    "\n",
    "for i, row in enumerate(table):\n",
    "    print(\"{:<5} {:<8} {:<21} | {:<6.3f} {:<6.3f} | {:<6.3f} {:<6.3f} | {:<6.3f} {:<6.3f}\".format(*row))\n"
   ]
  }
 ],
 "metadata": {
  "kernelspec": {
   "display_name": "graph",
   "language": "python",
   "name": "python3"
  },
  "language_info": {
   "codemirror_mode": {
    "name": "ipython",
    "version": 3
   },
   "file_extension": ".py",
   "mimetype": "text/x-python",
   "name": "python",
   "nbconvert_exporter": "python",
   "pygments_lexer": "ipython3",
   "version": "3.10.14"
  },
  "share": {
   "datetime": "2025-01-16T05:48:24.740Z",
   "image": {
    "name": "modelscope:1.18.0-pytorch2.3.0-cpu-py310-ubuntu22.04",
    "url": "dsw-registry-vpc.cn-hangzhou.cr.aliyuncs.com/pai/modelscope:1.18.0-pytorch2.3.0-cpu-py310-ubuntu22.04"
   },
   "instance": "dsw-03a689ba3735b16d",
   "spec": {
    "id": "ecs.g6.xlarge",
    "type": "CPU"
   },
   "uid": "1260733139507565"
  }
 },
 "nbformat": 4,
 "nbformat_minor": 4
}
