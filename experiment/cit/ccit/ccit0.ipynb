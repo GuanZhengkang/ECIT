{
 "cells": [
  {
   "cell_type": "code",
   "execution_count": 1,
   "metadata": {},
   "outputs": [
    {
     "name": "stderr",
     "output_type": "stream",
     "text": [
      "/opt/anaconda3/envs/graph/lib/python3.10/site-packages/tqdm/auto.py:21: TqdmWarning: IProgress not found. Please update jupyter and ipywidgets. See https://ipywidgets.readthedocs.io/en/stable/user_install.html\n",
      "  from .autonotebook import tqdm as notebook_tqdm\n",
      "  800, gaussian,   1,   p_alpha2: 100%|██████████| 3/3 [02:28<00:00, 49.64s/it]\n",
      "  800,  laplace,   1,   p_alpha2: 100%|██████████| 3/3 [02:55<00:00, 58.60s/it]\n",
      " 1200, gaussian,   1,   p_alpha2: 100%|██████████| 3/3 [02:57<00:00, 59.06s/it]\n",
      " 1200,  laplace,   1,   p_alpha2: 100%|██████████| 3/3 [02:34<00:00, 51.39s/it]\n",
      " 1600, gaussian,   1,   p_alpha2: 100%|██████████| 3/3 [03:10<00:00, 63.57s/it]\n",
      " 1600,  laplace,   1,   p_alpha2: 100%|██████████| 3/3 [02:42<00:00, 54.23s/it]\n"
     ]
    }
   ],
   "source": [
    "import sys\n",
    "sys.path.append(\"..\")\n",
    "sys.path.append(\"../../..\")\n",
    "from citSimu import *\n",
    "\n",
    "np.random.seed(1)\n",
    "random.seed(1)\n",
    "\n",
    "ensCIT = [(ccit, 1, p_alpha2)]\n",
    "results = ecitSimulate(ensCIT,t=1)"
   ]
  },
  {
   "cell_type": "code",
   "execution_count": 2,
   "metadata": {},
   "outputs": [
    {
     "name": "stdout",
     "output_type": "stream",
     "text": [
      "800   Gaussian ccit1p_alpha2         | 1.000  1.000  | 0.000  1.000  | 1.000  1.000 \n",
      "800   Laplace  ccit1p_alpha2         | 0.000  1.000  | 0.000  0.000  | 0.000  1.000 \n",
      "1200  Gaussian ccit1p_alpha2         | 1.000  1.000  | 1.000  1.000  | 1.000  1.000 \n",
      "1200  Laplace  ccit1p_alpha2         | 1.000  1.000  | 0.000  1.000  | 1.000  1.000 \n",
      "1600  Gaussian ccit1p_alpha2         | 0.000  1.000  | 0.000  1.000  | 1.000  1.000 \n",
      "1600  Laplace  ccit1p_alpha2         | 1.000  1.000  | 0.000  1.000  | 0.000  1.000 \n"
     ]
    }
   ],
   "source": [
    "table = [\n",
    "    [round(item, 3) if isinstance(item, float) else item for item in sublist]\n",
    "    for sublist in results\n",
    "]\n",
    "\n",
    "for i, row in enumerate(table):\n",
    "    print(\"{:<5} {:<8} {:<21} | {:<6.3f} {:<6.3f} | {:<6.3f} {:<6.3f} | {:<6.3f} {:<6.3f}\".format(*row))\n"
   ]
  }
 ],
 "metadata": {
  "kernelspec": {
   "display_name": "graph",
   "language": "python",
   "name": "python3"
  },
  "language_info": {
   "codemirror_mode": {
    "name": "ipython",
    "version": 3
   },
   "file_extension": ".py",
   "mimetype": "text/x-python",
   "name": "python",
   "nbconvert_exporter": "python",
   "pygments_lexer": "ipython3",
   "version": "3.10.13"
  },
  "share": {
   "datetime": "2025-01-16T05:48:24.740Z",
   "image": {
    "name": "modelscope:1.18.0-pytorch2.3.0-cpu-py310-ubuntu22.04",
    "url": "dsw-registry-vpc.cn-hangzhou.cr.aliyuncs.com/pai/modelscope:1.18.0-pytorch2.3.0-cpu-py310-ubuntu22.04"
   },
   "instance": "dsw-03a689ba3735b16d",
   "spec": {
    "id": "ecs.g6.xlarge",
    "type": "CPU"
   },
   "uid": "1260733139507565"
  }
 },
 "nbformat": 4,
 "nbformat_minor": 4
}
