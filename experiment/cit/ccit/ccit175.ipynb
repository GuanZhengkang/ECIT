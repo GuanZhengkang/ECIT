{
 "cells": [
  {
   "cell_type": "code",
   "execution_count": null,
   "metadata": {
    "execution": {
     "iopub.execute_input": "2025-04-26T15:05:06.636094Z",
     "iopub.status.busy": "2025-04-26T15:05:06.635802Z",
     "iopub.status.idle": "2025-04-26T15:05:14.617583Z",
     "shell.execute_reply": "2025-04-26T15:05:14.616820Z"
    }
   },
   "outputs": [],
   "source": [
    "import sys\n",
    "sys.path.append(\"..\")\n",
    "sys.path.append(\"../../..\")\n",
    "from citSimu import *"
   ]
  },
  {
   "cell_type": "code",
   "execution_count": null,
   "metadata": {
    "execution": {
     "iopub.execute_input": "2025-04-26T15:05:14.619909Z",
     "iopub.status.busy": "2025-04-26T15:05:14.619465Z",
     "iopub.status.idle": "2025-04-30T15:43:26.510618Z",
     "shell.execute_reply": "2025-04-30T15:43:26.510075Z"
    }
   },
   "outputs": [],
   "source": [
    "np.random.seed(1)\n",
    "random.seed(1)\n",
    "\n",
    "ensCIT = [(ccit, 400, p_alpha175)]\n",
    "results = ecitSimulate(ensCIT,t=500)"
   ]
  },
  {
   "cell_type": "code",
   "execution_count": 3,
   "metadata": {
    "execution": {
     "iopub.execute_input": "2025-04-30T15:43:26.512788Z",
     "iopub.status.busy": "2025-04-30T15:43:26.512538Z",
     "iopub.status.idle": "2025-04-30T15:43:26.516807Z",
     "shell.execute_reply": "2025-04-30T15:43:26.516280Z"
    }
   },
   "outputs": [
    {
     "name": "stdout",
     "output_type": "stream",
     "text": [
      "800   Gaussian ccit400p_alpha175     | 0.372  0.838  | 0.358  0.844  | 0.352  0.816 \n",
      "800   Laplace  ccit400p_alpha175     | 0.332  0.862  | 0.356  0.806  | 0.378  0.818 \n",
      "1200  Gaussian ccit400p_alpha175     | 0.336  0.856  | 0.334  0.828  | 0.286  0.816 \n",
      "1200  Laplace  ccit400p_alpha175     | 0.318  0.806  | 0.296  0.816  | 0.326  0.788 \n",
      "1600  Gaussian ccit400p_alpha175     | 0.232  0.834  | 0.256  0.806  | 0.230  0.752 \n",
      "1600  Laplace  ccit400p_alpha175     | 0.266  0.810  | 0.230  0.788  | 0.254  0.768 \n"
     ]
    }
   ],
   "source": [
    "table = [\n",
    "    [round(item, 3) if isinstance(item, float) else item for item in sublist]\n",
    "    for sublist in results\n",
    "]\n",
    "\n",
    "for i, row in enumerate(table):\n",
    "    print(\"{:<5} {:<8} {:<21} | {:<6.3f} {:<6.3f} | {:<6.3f} {:<6.3f} | {:<6.3f} {:<6.3f}\".format(*row))\n"
   ]
  }
 ],
 "metadata": {
  "kernelspec": {
   "display_name": "Python 3 (ipykernel)",
   "language": "python",
   "name": "python3"
  },
  "language_info": {
   "codemirror_mode": {
    "name": "ipython",
    "version": 3
   },
   "file_extension": ".py",
   "mimetype": "text/x-python",
   "name": "python",
   "nbconvert_exporter": "python",
   "pygments_lexer": "ipython3",
   "version": "3.11.0rc1"
  },
  "share": {
   "datetime": "2025-01-16T05:48:24.740Z",
   "image": {
    "name": "modelscope:1.18.0-pytorch2.3.0-cpu-py310-ubuntu22.04",
    "url": "dsw-registry-vpc.cn-hangzhou.cr.aliyuncs.com/pai/modelscope:1.18.0-pytorch2.3.0-cpu-py310-ubuntu22.04"
   },
   "instance": "dsw-03a689ba3735b16d",
   "spec": {
    "id": "ecs.g6.xlarge",
    "type": "CPU"
   },
   "uid": "1260733139507565"
  }
 },
 "nbformat": 4,
 "nbformat_minor": 4
}
