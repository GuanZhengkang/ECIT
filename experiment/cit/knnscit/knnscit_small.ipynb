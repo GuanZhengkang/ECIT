{
 "cells": [
  {
   "cell_type": "code",
   "execution_count": 4,
   "metadata": {},
   "outputs": [
    {
     "name": "stderr",
     "output_type": "stream",
     "text": [
      " 1200, gaussian, 400,  p_alpha01: 100%|██████████| 2/2 [16:29:13<00:00, 29676.66s/it] \n"
     ]
    },
    {
     "data": {
      "text/plain": [
       "[[1200, 'Gaussian', 'knnscit400p_alpha01', 0.02, 0.56, 0.01, 0.45]]"
      ]
     },
     "execution_count": 4,
     "metadata": {},
     "output_type": "execute_result"
    }
   ],
   "source": [
    "import sys\n",
    "sys.path.append(\"..\")\n",
    "sys.path.append(\"../../..\")\n",
    "from citSimu import *\n",
    "\n",
    "np.random.seed(1)\n",
    "random.seed(1)\n",
    "\n",
    "ensCIT = [(knnscit, 400, p_alpha01)]\n",
    "results = ecitSimulate(ensCIT,\n",
    "                       zDis_list=['gaussian'], \n",
    "                        noiseDis_list =['t3','t2'], \n",
    "                        n_list=[1200], \n",
    "                        t=100)\n",
    "results"
   ]
  },
  {
   "cell_type": "code",
   "execution_count": null,
   "metadata": {},
   "outputs": [],
   "source": [
    "table = [\n",
    "    [round(item, 3) if isinstance(item, float) else item for item in sublist]\n",
    "    for sublist in results\n",
    "]\n",
    "\n",
    "for i, row in enumerate(table):\n",
    "    print(\"{:<5} {:<8} {:<21} | {:<6.3f} {:<6.3f} | {:<6.3f} {:<6.3f} | {:<6.3f} {:<6.3f}\".format(*row))\n"
   ]
  }
 ],
 "metadata": {
  "kernelspec": {
   "display_name": "graph",
   "language": "python",
   "name": "python3"
  },
  "language_info": {
   "codemirror_mode": {
    "name": "ipython",
    "version": 3
   },
   "file_extension": ".py",
   "mimetype": "text/x-python",
   "name": "python",
   "nbconvert_exporter": "python",
   "pygments_lexer": "ipython3",
   "version": "3.10.14"
  },
  "share": {
   "datetime": "2025-01-16T05:48:24.740Z",
   "image": {
    "name": "modelscope:1.18.0-pytorch2.3.0-cpu-py310-ubuntu22.04",
    "url": "dsw-registry-vpc.cn-hangzhou.cr.aliyuncs.com/pai/modelscope:1.18.0-pytorch2.3.0-cpu-py310-ubuntu22.04"
   },
   "instance": "dsw-03a689ba3735b16d",
   "spec": {
    "id": "ecs.g6.xlarge",
    "type": "CPU"
   },
   "uid": "1260733139507565"
  }
 },
 "nbformat": 4,
 "nbformat_minor": 4
}
