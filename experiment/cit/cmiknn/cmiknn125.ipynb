{
 "cells": [
  {
   "cell_type": "code",
   "execution_count": 1,
   "metadata": {},
   "outputs": [
    {
     "name": "stderr",
     "output_type": "stream",
     "text": [
      "/opt/anaconda3/envs/graph/lib/python3.10/site-packages/tqdm/auto.py:21: TqdmWarning: IProgress not found. Please update jupyter and ipywidgets. See https://ipywidgets.readthedocs.io/en/stable/user_install.html\n",
      "  from .autonotebook import tqdm as notebook_tqdm\n",
      "  800, gaussian, 400, p_alpha125: 100%|██████████| 3/3 [4:59:39<00:00, 5993.18s/it]  \n",
      "  800,  laplace, 400, p_alpha125:  33%|███▎      | 1/3 [1:38:50<3:17:40, 5930.38s/it]/opt/anaconda3/envs/graph/lib/python3.10/site-packages/numpy/core/_methods.py:118: RuntimeWarning: invalid value encountered in reduce\n",
      "  ret = umr_sum(arr, axis, dtype, out, keepdims, where=where)\n",
      "  800,  laplace, 400, p_alpha125: 100%|██████████| 3/3 [4:56:44<00:00, 5934.89s/it]  \n",
      " 1200, gaussian, 400, p_alpha125:   0%|          | 0/3 [00:00<?, ?it/s]/opt/anaconda3/envs/graph/lib/python3.10/site-packages/numpy/core/_methods.py:118: RuntimeWarning: invalid value encountered in reduce\n",
      "  ret = umr_sum(arr, axis, dtype, out, keepdims, where=where)\n",
      " 1200, gaussian, 400, p_alpha125: 100%|██████████| 3/3 [7:33:40<00:00, 9073.54s/it]  \n",
      " 1200,  laplace, 400, p_alpha125: 100%|██████████| 3/3 [7:26:07<00:00, 8922.63s/it]  \n",
      " 1600, gaussian, 400, p_alpha125:   0%|          | 0/3 [00:00<?, ?it/s]/opt/anaconda3/envs/graph/lib/python3.10/site-packages/numpy/core/_methods.py:118: RuntimeWarning: invalid value encountered in reduce\n",
      "  ret = umr_sum(arr, axis, dtype, out, keepdims, where=where)\n",
      "/opt/anaconda3/envs/graph/lib/python3.10/site-packages/numpy/core/_methods.py:118: RuntimeWarning: invalid value encountered in reduce\n",
      "  ret = umr_sum(arr, axis, dtype, out, keepdims, where=where)\n",
      " 1600, gaussian, 400, p_alpha125:  33%|███▎      | 1/3 [3:18:12<6:36:24, 11892.37s/it]/opt/anaconda3/envs/graph/lib/python3.10/site-packages/numpy/core/_methods.py:118: RuntimeWarning: invalid value encountered in reduce\n",
      "  ret = umr_sum(arr, axis, dtype, out, keepdims, where=where)\n",
      "/opt/anaconda3/envs/graph/lib/python3.10/site-packages/numpy/core/_methods.py:118: RuntimeWarning: invalid value encountered in reduce\n",
      "  ret = umr_sum(arr, axis, dtype, out, keepdims, where=where)\n",
      " 1600, gaussian, 400, p_alpha125:  67%|██████▋   | 2/3 [6:36:20<3:18:09, 11889.70s/it]/opt/anaconda3/envs/graph/lib/python3.10/site-packages/numpy/core/_methods.py:118: RuntimeWarning: invalid value encountered in reduce\n",
      "  ret = umr_sum(arr, axis, dtype, out, keepdims, where=where)\n",
      "/opt/anaconda3/envs/graph/lib/python3.10/site-packages/numpy/core/_methods.py:118: RuntimeWarning: invalid value encountered in reduce\n",
      "  ret = umr_sum(arr, axis, dtype, out, keepdims, where=where)\n",
      " 1600, gaussian, 400, p_alpha125: 100%|██████████| 3/3 [9:54:43<00:00, 11894.37s/it]  \n",
      " 1600,  laplace, 400, p_alpha125: 100%|██████████| 3/3 [9:53:53<00:00, 11877.81s/it]  \n"
     ]
    }
   ],
   "source": [
    "import sys\n",
    "sys.path.append(\"..\")\n",
    "sys.path.append(\"../../..\")\n",
    "from citSimu import *\n",
    "\n",
    "np.random.seed(1)\n",
    "random.seed(1)\n",
    "\n",
    "ensCIT = [(cmiknn, 400, p_alpha125)]\n",
    "results = ecitSimulate(ensCIT,t=500)"
   ]
  },
  {
   "cell_type": "code",
   "execution_count": 2,
   "metadata": {},
   "outputs": [
    {
     "name": "stdout",
     "output_type": "stream",
     "text": [
      "800   Gaussian cmiknn400p_alpha125   | 0.114  0.978  | 0.160  0.980  | 0.118  0.964 \n",
      "800   Laplace  cmiknn400p_alpha125   | 0.124  0.964  | 0.144  0.944  | 0.128  0.948 \n",
      "1200  Gaussian cmiknn400p_alpha125   | 0.144  0.994  | 0.152  0.984  | 0.154  0.978 \n",
      "1200  Laplace  cmiknn400p_alpha125   | 0.146  0.982  | 0.132  0.972  | 0.148  0.966 \n",
      "1600  Gaussian cmiknn400p_alpha125   | 0.144  0.998  | 0.142  0.986  | 0.158  0.996 \n",
      "1600  Laplace  cmiknn400p_alpha125   | 0.138  0.990  | 0.174  0.988  | 0.162  0.984 \n"
     ]
    }
   ],
   "source": [
    "table = [\n",
    "    [round(item, 3) if isinstance(item, float) else item for item in sublist]\n",
    "    for sublist in results\n",
    "]\n",
    "\n",
    "for i, row in enumerate(table):\n",
    "    print(\"{:<5} {:<8} {:<21} | {:<6.3f} {:<6.3f} | {:<6.3f} {:<6.3f} | {:<6.3f} {:<6.3f}\".format(*row))\n"
   ]
  }
 ],
 "metadata": {
  "kernelspec": {
   "display_name": "graph",
   "language": "python",
   "name": "python3"
  },
  "language_info": {
   "codemirror_mode": {
    "name": "ipython",
    "version": 3
   },
   "file_extension": ".py",
   "mimetype": "text/x-python",
   "name": "python",
   "nbconvert_exporter": "python",
   "pygments_lexer": "ipython3",
   "version": "3.10.13"
  },
  "share": {
   "datetime": "2025-01-16T05:48:24.740Z",
   "image": {
    "name": "modelscope:1.18.0-pytorch2.3.0-cpu-py310-ubuntu22.04",
    "url": "dsw-registry-vpc.cn-hangzhou.cr.aliyuncs.com/pai/modelscope:1.18.0-pytorch2.3.0-cpu-py310-ubuntu22.04"
   },
   "instance": "dsw-03a689ba3735b16d",
   "spec": {
    "id": "ecs.g6.xlarge",
    "type": "CPU"
   },
   "uid": "1260733139507565"
  }
 },
 "nbformat": 4,
 "nbformat_minor": 4
}
