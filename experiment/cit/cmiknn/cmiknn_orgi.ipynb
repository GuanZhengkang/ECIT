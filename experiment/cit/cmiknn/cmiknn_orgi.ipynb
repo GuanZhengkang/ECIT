{
 "cells": [
  {
   "cell_type": "code",
   "execution_count": 1,
   "metadata": {},
   "outputs": [
    {
     "name": "stderr",
     "output_type": "stream",
     "text": [
      "  800, gaussian,   1,   p_alpha2: 100%|██████████| 3/3 [4:48:11<00:00, 5763.69s/it]  \n",
      "  800,  laplace,   1,   p_alpha2: 100%|██████████| 3/3 [4:44:48<00:00, 5696.30s/it]  \n",
      " 1200, gaussian,   1,   p_alpha2: 100%|██████████| 3/3 [7:14:01<00:00, 8680.42s/it]  \n",
      " 1200,  laplace,   1,   p_alpha2: 100%|██████████| 3/3 [7:12:36<00:00, 8652.28s/it]  \n",
      " 1600, gaussian,   1,   p_alpha2: 100%|██████████| 3/3 [10:09:48<00:00, 12196.27s/it] \n",
      " 1600,  laplace,   1,   p_alpha2: 100%|██████████| 3/3 [10:05:14<00:00, 12104.87s/it] \n"
     ]
    }
   ],
   "source": [
    "import sys\n",
    "sys.path.append(\"..\")\n",
    "sys.path.append(\"../../..\")\n",
    "from citSimu import *\n",
    "\n",
    "np.random.seed(1)\n",
    "random.seed(1)\n",
    "\n",
    "ensCIT = [(cmiknn, 1, p_alpha2)]\n",
    "results = ecitSimulate(ensCIT,t=500)"
   ]
  },
  {
   "cell_type": "code",
   "execution_count": 2,
   "metadata": {},
   "outputs": [
    {
     "name": "stdout",
     "output_type": "stream",
     "text": [
      "800   Gaussian cmiknn1p_alpha2       | 0.086  0.978  | 0.124  0.984  | 0.106  0.954 \n",
      "800   Laplace  cmiknn1p_alpha2       | 0.122  0.960  | 0.114  0.956  | 0.090  0.938 \n",
      "1200  Gaussian cmiknn1p_alpha2       | 0.122  0.990  | 0.116  0.986  | 0.124  0.982 \n",
      "1200  Laplace  cmiknn1p_alpha2       | 0.100  0.992  | 0.108  0.968  | 0.084  0.960 \n",
      "1600  Gaussian cmiknn1p_alpha2       | 0.102  0.994  | 0.104  0.996  | 0.114  0.994 \n",
      "1600  Laplace  cmiknn1p_alpha2       | 0.098  0.990  | 0.112  0.980  | 0.114  0.982 \n"
     ]
    }
   ],
   "source": [
    "table = [\n",
    "    [round(item, 3) if isinstance(item, float) else item for item in sublist]\n",
    "    for sublist in results\n",
    "]\n",
    "\n",
    "for i, row in enumerate(table):\n",
    "    print(\"{:<5} {:<8} {:<21} | {:<6.3f} {:<6.3f} | {:<6.3f} {:<6.3f} | {:<6.3f} {:<6.3f}\".format(*row))\n"
   ]
  }
 ],
 "metadata": {
  "kernelspec": {
   "display_name": "graph",
   "language": "python",
   "name": "python3"
  },
  "language_info": {
   "codemirror_mode": {
    "name": "ipython",
    "version": 3
   },
   "file_extension": ".py",
   "mimetype": "text/x-python",
   "name": "python",
   "nbconvert_exporter": "python",
   "pygments_lexer": "ipython3",
   "version": "3.10.13"
  },
  "share": {
   "datetime": "2025-01-16T05:48:24.740Z",
   "image": {
    "name": "modelscope:1.18.0-pytorch2.3.0-cpu-py310-ubuntu22.04",
    "url": "dsw-registry-vpc.cn-hangzhou.cr.aliyuncs.com/pai/modelscope:1.18.0-pytorch2.3.0-cpu-py310-ubuntu22.04"
   },
   "instance": "dsw-03a689ba3735b16d",
   "spec": {
    "id": "ecs.g6.xlarge",
    "type": "CPU"
   },
   "uid": "1260733139507565"
  }
 },
 "nbformat": 4,
 "nbformat_minor": 4
}
