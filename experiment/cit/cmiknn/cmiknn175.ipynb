{
 "cells": [
  {
   "cell_type": "code",
   "execution_count": 1,
   "metadata": {},
   "outputs": [
    {
     "name": "stderr",
     "output_type": "stream",
     "text": [
      "/opt/anaconda3/envs/graph/lib/python3.10/site-packages/tqdm/auto.py:21: TqdmWarning: IProgress not found. Please update jupyter and ipywidgets. See https://ipywidgets.readthedocs.io/en/stable/user_install.html\n",
      "  from .autonotebook import tqdm as notebook_tqdm\n",
      "  800, gaussian, 400, p_alpha175:  33%|███▎      | 1/3 [1:40:22<3:20:45, 6022.96s/it]/opt/anaconda3/envs/graph/lib/python3.10/site-packages/numpy/core/_methods.py:118: RuntimeWarning: invalid value encountered in reduce\n",
      "  ret = umr_sum(arr, axis, dtype, out, keepdims, where=where)\n",
      "  800, gaussian, 400, p_alpha175: 100%|██████████| 3/3 [5:01:00<00:00, 6020.22s/it]  \n",
      "  800,  laplace, 400, p_alpha175: 100%|██████████| 3/3 [4:57:49<00:00, 5956.57s/it]  \n",
      " 1200, gaussian, 400, p_alpha175:   0%|          | 0/3 [00:00<?, ?it/s]/opt/anaconda3/envs/graph/lib/python3.10/site-packages/numpy/core/_methods.py:118: RuntimeWarning: invalid value encountered in reduce\n",
      "  ret = umr_sum(arr, axis, dtype, out, keepdims, where=where)\n",
      " 1200, gaussian, 400, p_alpha175:  33%|███▎      | 1/3 [2:29:40<4:59:20, 8980.02s/it]/opt/anaconda3/envs/graph/lib/python3.10/site-packages/numpy/core/_methods.py:118: RuntimeWarning: invalid value encountered in reduce\n",
      "  ret = umr_sum(arr, axis, dtype, out, keepdims, where=where)\n",
      " 1200, gaussian, 400, p_alpha175:  67%|██████▋   | 2/3 [5:01:00<2:30:39, 9039.26s/it]/opt/anaconda3/envs/graph/lib/python3.10/site-packages/numpy/core/_methods.py:118: RuntimeWarning: invalid value encountered in reduce\n",
      "  ret = umr_sum(arr, axis, dtype, out, keepdims, where=where)\n",
      " 1200, gaussian, 400, p_alpha175: 100%|██████████| 3/3 [7:35:35<00:00, 9111.77s/it]  \n",
      " 1200,  laplace, 400, p_alpha175:  33%|███▎      | 1/3 [2:29:49<4:59:38, 8989.14s/it]/opt/anaconda3/envs/graph/lib/python3.10/site-packages/numpy/core/_methods.py:118: RuntimeWarning: invalid value encountered in reduce\n",
      "  ret = umr_sum(arr, axis, dtype, out, keepdims, where=where)\n",
      " 1200,  laplace, 400, p_alpha175: 100%|██████████| 3/3 [7:28:01<00:00, 8960.62s/it]  \n",
      " 1600, gaussian, 400, p_alpha175: 100%|██████████| 3/3 [9:57:32<00:00, 11950.92s/it]  \n",
      " 1600,  laplace, 400, p_alpha175:  67%|██████▋   | 2/3 [6:36:23<3:18:14, 11894.84s/it]/opt/anaconda3/envs/graph/lib/python3.10/site-packages/numpy/core/_methods.py:118: RuntimeWarning: invalid value encountered in reduce\n",
      "  ret = umr_sum(arr, axis, dtype, out, keepdims, where=where)\n",
      " 1600,  laplace, 400, p_alpha175: 100%|██████████| 3/3 [9:56:26<00:00, 11928.77s/it]  \n"
     ]
    }
   ],
   "source": [
    "import sys\n",
    "sys.path.append(\"..\")\n",
    "sys.path.append(\"../../..\")\n",
    "from citSimu import *\n",
    "\n",
    "np.random.seed(1)\n",
    "random.seed(1)\n",
    "\n",
    "ensCIT = [(cmiknn, 400, p_alpha175)]\n",
    "results = ecitSimulate(ensCIT,t=500)"
   ]
  },
  {
   "cell_type": "code",
   "execution_count": 2,
   "metadata": {},
   "outputs": [
    {
     "name": "stdout",
     "output_type": "stream",
     "text": [
      "800   Gaussian cmiknn400p_alpha175   | 0.110  0.974  | 0.104  0.978  | 0.128  0.958 \n",
      "800   Laplace  cmiknn400p_alpha175   | 0.116  0.962  | 0.130  0.962  | 0.118  0.956 \n",
      "1200  Gaussian cmiknn400p_alpha175   | 0.164  0.994  | 0.138  0.988  | 0.136  0.988 \n",
      "1200  Laplace  cmiknn400p_alpha175   | 0.150  0.980  | 0.136  0.982  | 0.130  0.982 \n",
      "1600  Gaussian cmiknn400p_alpha175   | 0.146  0.998  | 0.128  0.998  | 0.164  0.986 \n",
      "1600  Laplace  cmiknn400p_alpha175   | 0.146  0.992  | 0.160  0.994  | 0.144  0.994 \n"
     ]
    }
   ],
   "source": [
    "table = [\n",
    "    [round(item, 3) if isinstance(item, float) else item for item in sublist]\n",
    "    for sublist in results\n",
    "]\n",
    "\n",
    "for i, row in enumerate(table):\n",
    "    print(\"{:<5} {:<8} {:<21} | {:<6.3f} {:<6.3f} | {:<6.3f} {:<6.3f} | {:<6.3f} {:<6.3f}\".format(*row))\n"
   ]
  }
 ],
 "metadata": {
  "kernelspec": {
   "display_name": "graph",
   "language": "python",
   "name": "python3"
  },
  "language_info": {
   "codemirror_mode": {
    "name": "ipython",
    "version": 3
   },
   "file_extension": ".py",
   "mimetype": "text/x-python",
   "name": "python",
   "nbconvert_exporter": "python",
   "pygments_lexer": "ipython3",
   "version": "3.10.13"
  },
  "share": {
   "datetime": "2025-01-16T05:48:24.740Z",
   "image": {
    "name": "modelscope:1.18.0-pytorch2.3.0-cpu-py310-ubuntu22.04",
    "url": "dsw-registry-vpc.cn-hangzhou.cr.aliyuncs.com/pai/modelscope:1.18.0-pytorch2.3.0-cpu-py310-ubuntu22.04"
   },
   "instance": "dsw-03a689ba3735b16d",
   "spec": {
    "id": "ecs.g6.xlarge",
    "type": "CPU"
   },
   "uid": "1260733139507565"
  }
 },
 "nbformat": 4,
 "nbformat_minor": 4
}
