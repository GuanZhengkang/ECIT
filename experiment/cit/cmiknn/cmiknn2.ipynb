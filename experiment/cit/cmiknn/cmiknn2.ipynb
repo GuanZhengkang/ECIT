{
 "cells": [
  {
   "cell_type": "code",
   "execution_count": 1,
   "metadata": {},
   "outputs": [
    {
     "name": "stderr",
     "output_type": "stream",
     "text": [
      "/opt/anaconda3/envs/graph/lib/python3.10/site-packages/tqdm/auto.py:21: TqdmWarning: IProgress not found. Please update jupyter and ipywidgets. See https://ipywidgets.readthedocs.io/en/stable/user_install.html\n",
      "  from .autonotebook import tqdm as notebook_tqdm\n",
      "  800, gaussian, 400,   p_alpha2: 100%|██████████| 3/3 [5:00:13<00:00, 6004.62s/it]  \n",
      "  800,  laplace, 400,   p_alpha2: 100%|██████████| 3/3 [4:56:59<00:00, 5939.84s/it]  \n",
      " 1200, gaussian, 400,   p_alpha2: 100%|██████████| 3/3 [7:34:15<00:00, 9085.00s/it]  \n",
      " 1200,  laplace, 400,   p_alpha2: 100%|██████████| 3/3 [7:27:56<00:00, 8958.97s/it]  \n",
      " 1600, gaussian, 400,   p_alpha2:  33%|███▎      | 1/3 [3:18:59<6:37:59, 11939.69s/it]/opt/anaconda3/envs/graph/lib/python3.10/site-packages/numpy/core/_methods.py:118: RuntimeWarning: invalid value encountered in reduce\n",
      "  ret = umr_sum(arr, axis, dtype, out, keepdims, where=where)\n",
      " 1600, gaussian, 400,   p_alpha2:  67%|██████▋   | 2/3 [6:37:56<3:18:58, 11938.02s/it]/opt/anaconda3/envs/graph/lib/python3.10/site-packages/numpy/core/_methods.py:118: RuntimeWarning: invalid value encountered in reduce\n",
      "  ret = umr_sum(arr, axis, dtype, out, keepdims, where=where)\n",
      " 1600, gaussian, 400,   p_alpha2: 100%|██████████| 3/3 [9:56:58<00:00, 11939.47s/it]  \n",
      " 1600,  laplace, 400,   p_alpha2:  67%|██████▋   | 2/3 [6:36:06<3:18:06, 11886.28s/it]/opt/anaconda3/envs/graph/lib/python3.10/site-packages/numpy/core/_methods.py:118: RuntimeWarning: invalid value encountered in reduce\n",
      "  ret = umr_sum(arr, axis, dtype, out, keepdims, where=where)\n",
      " 1600,  laplace, 400,   p_alpha2: 100%|██████████| 3/3 [9:55:59<00:00, 11919.96s/it]  \n"
     ]
    }
   ],
   "source": [
    "import sys\n",
    "sys.path.append(\"..\")\n",
    "sys.path.append(\"../../..\")\n",
    "from citSimu import *\n",
    "\n",
    "np.random.seed(1)\n",
    "random.seed(1)\n",
    "\n",
    "ensCIT = [(cmiknn, 400, p_alpha2)]\n",
    "results = ecitSimulate(ensCIT,t=500)"
   ]
  },
  {
   "cell_type": "code",
   "execution_count": 2,
   "metadata": {},
   "outputs": [
    {
     "name": "stdout",
     "output_type": "stream",
     "text": [
      "800   Gaussian cmiknn400p_alpha2     | 0.088  0.976  | 0.116  0.972  | 0.108  0.964 \n",
      "800   Laplace  cmiknn400p_alpha2     | 0.120  0.970  | 0.126  0.952  | 0.122  0.954 \n",
      "1200  Gaussian cmiknn400p_alpha2     | 0.124  0.990  | 0.136  0.980  | 0.104  0.982 \n",
      "1200  Laplace  cmiknn400p_alpha2     | 0.082  0.982  | 0.128  0.972  | 0.098  0.984 \n",
      "1600  Gaussian cmiknn400p_alpha2     | 0.142  1.000  | 0.104  0.996  | 0.130  1.000 \n",
      "1600  Laplace  cmiknn400p_alpha2     | 0.116  0.994  | 0.134  0.990  | 0.106  0.994 \n"
     ]
    }
   ],
   "source": [
    "table = [\n",
    "    [round(item, 3) if isinstance(item, float) else item for item in sublist]\n",
    "    for sublist in results\n",
    "]\n",
    "\n",
    "for i, row in enumerate(table):\n",
    "    print(\"{:<5} {:<8} {:<21} | {:<6.3f} {:<6.3f} | {:<6.3f} {:<6.3f} | {:<6.3f} {:<6.3f}\".format(*row))\n"
   ]
  }
 ],
 "metadata": {
  "kernelspec": {
   "display_name": "graph",
   "language": "python",
   "name": "python3"
  },
  "language_info": {
   "codemirror_mode": {
    "name": "ipython",
    "version": 3
   },
   "file_extension": ".py",
   "mimetype": "text/x-python",
   "name": "python",
   "nbconvert_exporter": "python",
   "pygments_lexer": "ipython3",
   "version": "3.10.13"
  },
  "share": {
   "datetime": "2025-01-16T05:48:24.740Z",
   "image": {
    "name": "modelscope:1.18.0-pytorch2.3.0-cpu-py310-ubuntu22.04",
    "url": "dsw-registry-vpc.cn-hangzhou.cr.aliyuncs.com/pai/modelscope:1.18.0-pytorch2.3.0-cpu-py310-ubuntu22.04"
   },
   "instance": "dsw-03a689ba3735b16d",
   "spec": {
    "id": "ecs.g6.xlarge",
    "type": "CPU"
   },
   "uid": "1260733139507565"
  }
 },
 "nbformat": 4,
 "nbformat_minor": 4
}
