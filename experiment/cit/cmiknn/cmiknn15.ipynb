{
 "cells": [
  {
   "cell_type": "code",
   "execution_count": 1,
   "metadata": {},
   "outputs": [
    {
     "name": "stderr",
     "output_type": "stream",
     "text": [
      "/Users/gzk/anaconda3/envs/graph/lib/python3.10/site-packages/tqdm/auto.py:21: TqdmWarning: IProgress not found. Please update jupyter and ipywidgets. See https://ipywidgets.readthedocs.io/en/stable/user_install.html\n",
      "  from .autonotebook import tqdm as notebook_tqdm\n",
      "  800, gaussian, 400,  p_alpha15: 100%|██████████| 3/3 [7:26:25<00:00, 8928.35s/it]  \n",
      "  800,  laplace, 400,  p_alpha15: 100%|██████████| 3/3 [7:31:23<00:00, 9027.98s/it]  \n",
      " 1200, gaussian, 400,  p_alpha15:  67%|██████▋   | 2/3 [7:49:47<3:54:33, 14073.84s/it]/Users/gzk/anaconda3/envs/graph/lib/python3.10/site-packages/numpy/core/_methods.py:118: RuntimeWarning: invalid value encountered in reduce\n",
      "  ret = umr_sum(arr, axis, dtype, out, keepdims, where=where)\n",
      "/Users/gzk/anaconda3/envs/graph/lib/python3.10/site-packages/numpy/core/_methods.py:118: RuntimeWarning: invalid value encountered in reduce\n",
      "  ret = umr_sum(arr, axis, dtype, out, keepdims, where=where)\n",
      " 1200, gaussian, 400,  p_alpha15: 100%|██████████| 3/3 [11:42:54<00:00, 14058.20s/it] \n",
      " 1200,  laplace, 400,  p_alpha15:   0%|          | 0/3 [00:00<?, ?it/s]/Users/gzk/anaconda3/envs/graph/lib/python3.10/site-packages/numpy/core/_methods.py:118: RuntimeWarning: invalid value encountered in reduce\n",
      "  ret = umr_sum(arr, axis, dtype, out, keepdims, where=where)\n",
      " 1200,  laplace, 400,  p_alpha15:  33%|███▎      | 1/3 [3:16:05<6:32:11, 11765.69s/it]/Users/gzk/anaconda3/envs/graph/lib/python3.10/site-packages/numpy/core/_methods.py:118: RuntimeWarning: invalid value encountered in reduce\n",
      "  ret = umr_sum(arr, axis, dtype, out, keepdims, where=where)\n",
      " 1200,  laplace, 400,  p_alpha15:  67%|██████▋   | 2/3 [6:18:33<3:08:04, 11284.48s/it]/Users/gzk/anaconda3/envs/graph/lib/python3.10/site-packages/numpy/core/_methods.py:118: RuntimeWarning: invalid value encountered in reduce\n",
      "  ret = umr_sum(arr, axis, dtype, out, keepdims, where=where)\n",
      " 1200,  laplace, 400,  p_alpha15: 100%|██████████| 3/3 [9:20:54<00:00, 11218.01s/it]  \n",
      " 1600, gaussian, 400,  p_alpha15:  33%|███▎      | 1/3 [4:04:27<8:08:55, 14667.55s/it]/Users/gzk/anaconda3/envs/graph/lib/python3.10/site-packages/numpy/core/_methods.py:118: RuntimeWarning: invalid value encountered in reduce\n",
      "  ret = umr_sum(arr, axis, dtype, out, keepdims, where=where)\n",
      " 1600, gaussian, 400,  p_alpha15: 100%|██████████| 3/3 [12:13:41<00:00, 14673.70s/it] \n",
      " 1600,  laplace, 400,  p_alpha15:   0%|          | 0/3 [00:00<?, ?it/s]/Users/gzk/anaconda3/envs/graph/lib/python3.10/site-packages/numpy/core/_methods.py:118: RuntimeWarning: invalid value encountered in reduce\n",
      "  ret = umr_sum(arr, axis, dtype, out, keepdims, where=where)\n",
      " 1600,  laplace, 400,  p_alpha15:  33%|███▎      | 1/3 [4:03:07<8:06:15, 14587.53s/it]/Users/gzk/anaconda3/envs/graph/lib/python3.10/site-packages/numpy/core/_methods.py:118: RuntimeWarning: invalid value encountered in reduce\n",
      "  ret = umr_sum(arr, axis, dtype, out, keepdims, where=where)\n",
      "/Users/gzk/anaconda3/envs/graph/lib/python3.10/site-packages/numpy/core/_methods.py:118: RuntimeWarning: invalid value encountered in reduce\n",
      "  ret = umr_sum(arr, axis, dtype, out, keepdims, where=where)\n",
      "/Users/gzk/anaconda3/envs/graph/lib/python3.10/site-packages/numpy/core/_methods.py:118: RuntimeWarning: invalid value encountered in reduce\n",
      "  ret = umr_sum(arr, axis, dtype, out, keepdims, where=where)\n",
      " 1600,  laplace, 400,  p_alpha15:  67%|██████▋   | 2/3 [8:06:46<4:03:26, 14606.21s/it]/Users/gzk/anaconda3/envs/graph/lib/python3.10/site-packages/numpy/core/_methods.py:118: RuntimeWarning: invalid value encountered in reduce\n",
      "  ret = umr_sum(arr, axis, dtype, out, keepdims, where=where)\n",
      "/Users/gzk/anaconda3/envs/graph/lib/python3.10/site-packages/numpy/core/_methods.py:118: RuntimeWarning: invalid value encountered in reduce\n",
      "  ret = umr_sum(arr, axis, dtype, out, keepdims, where=where)\n",
      " 1600,  laplace, 400,  p_alpha15: 100%|██████████| 3/3 [12:10:26<00:00, 14608.79s/it] \n"
     ]
    }
   ],
   "source": [
    "import sys\n",
    "sys.path.append(\"..\")\n",
    "sys.path.append(\"../../..\")\n",
    "from citSimu import *\n",
    "\n",
    "np.random.seed(1)\n",
    "random.seed(1)\n",
    "\n",
    "ensCIT = [(cmiknn, 400, p_alpha15)]\n",
    "results = ecitSimulate(ensCIT,t=500)"
   ]
  },
  {
   "cell_type": "code",
   "execution_count": 2,
   "metadata": {},
   "outputs": [
    {
     "name": "stdout",
     "output_type": "stream",
     "text": [
      "800   Gaussian cmiknn400p_alpha15    | 0.122  0.980  | 0.102  0.964  | 0.152  0.956 \n",
      "800   Laplace  cmiknn400p_alpha15    | 0.110  0.960  | 0.128  0.956  | 0.138  0.956 \n",
      "1200  Gaussian cmiknn400p_alpha15    | 0.146  0.994  | 0.136  0.990  | 0.158  0.988 \n",
      "1200  Laplace  cmiknn400p_alpha15    | 0.150  0.990  | 0.148  0.984  | 0.170  0.976 \n",
      "1600  Gaussian cmiknn400p_alpha15    | 0.142  0.996  | 0.160  0.998  | 0.134  0.994 \n",
      "1600  Laplace  cmiknn400p_alpha15    | 0.164  0.992  | 0.168  0.994  | 0.144  0.994 \n"
     ]
    }
   ],
   "source": [
    "table = [\n",
    "    [round(item, 3) if isinstance(item, float) else item for item in sublist]\n",
    "    for sublist in results\n",
    "]\n",
    "\n",
    "for i, row in enumerate(table):\n",
    "    print(\"{:<5} {:<8} {:<21} | {:<6.3f} {:<6.3f} | {:<6.3f} {:<6.3f} | {:<6.3f} {:<6.3f}\".format(*row))\n"
   ]
  }
 ],
 "metadata": {
  "kernelspec": {
   "display_name": "graph",
   "language": "python",
   "name": "python3"
  },
  "language_info": {
   "codemirror_mode": {
    "name": "ipython",
    "version": 3
   },
   "file_extension": ".py",
   "mimetype": "text/x-python",
   "name": "python",
   "nbconvert_exporter": "python",
   "pygments_lexer": "ipython3",
   "version": "3.10.14"
  },
  "share": {
   "datetime": "2025-01-16T05:48:24.740Z",
   "image": {
    "name": "modelscope:1.18.0-pytorch2.3.0-cpu-py310-ubuntu22.04",
    "url": "dsw-registry-vpc.cn-hangzhou.cr.aliyuncs.com/pai/modelscope:1.18.0-pytorch2.3.0-cpu-py310-ubuntu22.04"
   },
   "instance": "dsw-03a689ba3735b16d",
   "spec": {
    "id": "ecs.g6.xlarge",
    "type": "CPU"
   },
   "uid": "1260733139507565"
  }
 },
 "nbformat": 4,
 "nbformat_minor": 4
}
