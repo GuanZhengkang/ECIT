{
 "cells": [
  {
   "cell_type": "code",
   "execution_count": null,
   "metadata": {},
   "outputs": [
    {
     "name": "stderr",
     "output_type": "stream",
     "text": [
      "/opt/anaconda3/envs/graph/lib/python3.10/site-packages/tqdm/auto.py:21: TqdmWarning: IProgress not found. Please update jupyter and ipywidgets. See https://ipywidgets.readthedocs.io/en/stable/user_install.html\n",
      "  from .autonotebook import tqdm as notebook_tqdm\n",
      "  800, gaussian,   1,   p_alpha2: 100%|██████████| 3/3 [00:31<00:00, 10.62s/it]\n",
      "  800, gaussian, 400, p_alpha125: 100%|██████████| 3/3 [00:33<00:00, 11.16s/it]\n",
      "  800, gaussian, 400, p_alpha175: 100%|██████████| 3/3 [00:33<00:00, 11.31s/it]\n",
      "  800, gaussian, 400,   p_alpha2: 100%|██████████| 3/3 [00:33<00:00, 11.13s/it]\n",
      "  800,  laplace,   1,   p_alpha2: 100%|██████████| 3/3 [00:31<00:00, 10.35s/it]\n",
      "  800,  laplace, 400, p_alpha125: 100%|██████████| 3/3 [00:34<00:00, 11.34s/it]\n",
      "  800,  laplace, 400, p_alpha175: 100%|██████████| 3/3 [00:34<00:00, 11.34s/it]\n",
      "  800,  laplace, 400,   p_alpha2: 100%|██████████| 3/3 [00:33<00:00, 11.22s/it]\n",
      " 1200, gaussian,   1,   p_alpha2: 100%|██████████| 3/3 [00:51<00:00, 17.11s/it]\n",
      " 1200, gaussian, 400, p_alpha125: 100%|██████████| 3/3 [00:51<00:00, 17.02s/it]\n",
      " 1200, gaussian, 400, p_alpha175: 100%|██████████| 3/3 [00:50<00:00, 16.83s/it]\n",
      " 1200, gaussian, 400,   p_alpha2: 100%|██████████| 3/3 [00:50<00:00, 16.86s/it]\n",
      " 1200,  laplace,   1,   p_alpha2: 100%|██████████| 3/3 [00:47<00:00, 15.98s/it]\n",
      " 1200,  laplace, 400, p_alpha125: 100%|██████████| 3/3 [00:52<00:00, 17.39s/it]\n",
      " 1200,  laplace, 400, p_alpha175: 100%|██████████| 3/3 [00:51<00:00, 17.24s/it]\n",
      " 1200,  laplace, 400,   p_alpha2: 100%|██████████| 3/3 [00:51<00:00, 17.19s/it]\n",
      " 1600, gaussian,   1,   p_alpha2: 100%|██████████| 3/3 [01:09<00:00, 23.26s/it]\n",
      " 1600, gaussian, 400, p_alpha125: 100%|██████████| 3/3 [01:09<00:00, 23.05s/it]\n",
      " 1600, gaussian, 400, p_alpha175: 100%|██████████| 3/3 [01:08<00:00, 22.94s/it]\n",
      " 1600, gaussian, 400,   p_alpha2: 100%|██████████| 3/3 [01:09<00:00, 23.26s/it]\n",
      " 1600,  laplace,   1,   p_alpha2: 100%|██████████| 3/3 [01:07<00:00, 22.55s/it]\n",
      " 1600,  laplace, 400, p_alpha125: 100%|██████████| 3/3 [01:10<00:00, 23.43s/it]\n",
      " 1600,  laplace, 400, p_alpha175: 100%|██████████| 3/3 [01:08<00:00, 22.68s/it]\n",
      " 1600,  laplace, 400,   p_alpha2: 100%|██████████| 3/3 [01:07<00:00, 22.62s/it]\n"
     ]
    }
   ],
   "source": [
    "import sys\n",
    "sys.path.append(\"..\")\n",
    "sys.path.append(\"../../..\")\n",
    "from citSimu import *\n",
    "\n",
    "np.random.seed(1)\n",
    "random.seed(1)\n",
    "\n",
    "ensCIT = [(cmiknn, 1, p_alpha2), (cmiknn, 400, p_alpha125), (cmiknn, 400, p_alpha175), (cmiknn, 400, p_alpha2)]\n",
    "results = ecitSimulate(ensCIT,t=500)"
   ]
  },
  {
   "cell_type": "code",
   "execution_count": null,
   "metadata": {},
   "outputs": [],
   "source": [
    "table = [\n",
    "    [round(item, 3) if isinstance(item, float) else item for item in sublist]\n",
    "    for sublist in results\n",
    "]\n",
    "\n",
    "for i, row in enumerate(table):\n",
    "    if (i)%3 == 0: print('-'*100)\n",
    "    print(\"{:<5} {:<8} {:<21} | {:<6.3f} {:<6.3f} | {:<6.3f} {:<6.3f} | {:<6.3f} {:<6.3f}\".format(*row))\n"
   ]
  }
 ],
 "metadata": {
  "kernelspec": {
   "display_name": "graph",
   "language": "python",
   "name": "python3"
  },
  "language_info": {
   "codemirror_mode": {
    "name": "ipython",
    "version": 3
   },
   "file_extension": ".py",
   "mimetype": "text/x-python",
   "name": "python",
   "nbconvert_exporter": "python",
   "pygments_lexer": "ipython3",
   "version": "3.10.13"
  },
  "share": {
   "datetime": "2025-01-16T05:48:24.740Z",
   "image": {
    "name": "modelscope:1.18.0-pytorch2.3.0-cpu-py310-ubuntu22.04",
    "url": "dsw-registry-vpc.cn-hangzhou.cr.aliyuncs.com/pai/modelscope:1.18.0-pytorch2.3.0-cpu-py310-ubuntu22.04"
   },
   "instance": "dsw-03a689ba3735b16d",
   "spec": {
    "id": "ecs.g6.xlarge",
    "type": "CPU"
   },
   "uid": "1260733139507565"
  }
 },
 "nbformat": 4,
 "nbformat_minor": 4
}
