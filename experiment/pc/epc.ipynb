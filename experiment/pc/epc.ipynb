{
 "cells": [
  {
   "cell_type": "code",
   "execution_count": 1,
   "metadata": {
    "ExecutionIndicator": {
     "show": true
    },
    "execution": {
     "iopub.execute_input": "2025-02-07T04:36:25.793832Z",
     "iopub.status.busy": "2025-02-07T04:36:25.793471Z",
     "iopub.status.idle": "2025-02-07T04:36:34.030516Z",
     "shell.execute_reply": "2025-02-07T04:36:34.029866Z",
     "shell.execute_reply.started": "2025-02-07T04:36:25.793805Z"
    },
    "tags": []
   },
   "outputs": [
    {
     "name": "stderr",
     "output_type": "stream",
     "text": [
      "/opt/anaconda3/envs/graph/lib/python3.10/site-packages/tqdm/auto.py:21: TqdmWarning: IProgress not found. Please update jupyter and ipywidgets. See https://ipywidgets.readthedocs.io/en/stable/user_install.html\n",
      "  from .autonotebook import tqdm as notebook_tqdm\n"
     ]
    }
   ],
   "source": [
    "import numpy as np\n",
    "from tqdm import tqdm\n",
    "import time\n",
    "import matplotlib.pyplot as plt\n",
    "import seaborn as sns\n",
    "import sys\n",
    "sys.path.append(\"../..\")\n",
    "from ecit import *"
   ]
  },
  {
   "cell_type": "code",
   "execution_count": 4,
   "metadata": {},
   "outputs": [
    {
     "name": "stderr",
     "output_type": "stream",
     "text": [
      "rcit, n=800: 100%|██████████| 50/50 [01:01<00:00,  1.24s/it]\n",
      "rcit, n=1600:  68%|██████▊   | 34/50 [00:46<00:20,  1.29s/it]/opt/anaconda3/envs/graph/lib/python3.10/site-packages/numpy/core/fromnumeric.py:3504: RuntimeWarning: Mean of empty slice.\n",
      "  return _methods._mean(a, axis=axis, dtype=dtype,\n",
      "/opt/anaconda3/envs/graph/lib/python3.10/site-packages/numpy/core/_methods.py:129: RuntimeWarning: invalid value encountered in scalar divide\n",
      "  ret = ret.dtype.type(ret / rcount)\n"
     ]
    },
    {
     "name": "stdout",
     "output_type": "stream",
     "text": [
      "Retries times 1\n",
      "Retries times 2\n"
     ]
    },
    {
     "name": "stderr",
     "output_type": "stream",
     "text": [
      "rcit, n=1600: 100%|██████████| 50/50 [01:09<00:00,  1.39s/it]\n",
      "rcit, n=2400:  18%|█▊        | 9/50 [00:12<00:59,  1.45s/it]"
     ]
    },
    {
     "name": "stdout",
     "output_type": "stream",
     "text": [
      "Retries times 1\n",
      "Retries times 2\n"
     ]
    },
    {
     "name": "stderr",
     "output_type": "stream",
     "text": [
      "rcit, n=2400:  26%|██▌       | 13/50 [00:19<00:56,  1.53s/it]"
     ]
    },
    {
     "name": "stdout",
     "output_type": "stream",
     "text": [
      "Retries times 1\n"
     ]
    },
    {
     "name": "stderr",
     "output_type": "stream",
     "text": [
      "rcit, n=2400:  56%|█████▌    | 28/50 [00:41<00:33,  1.53s/it]"
     ]
    },
    {
     "name": "stdout",
     "output_type": "stream",
     "text": [
      "Retries times 1\n"
     ]
    },
    {
     "name": "stderr",
     "output_type": "stream",
     "text": [
      "rcit, n=2400: 100%|██████████| 50/50 [01:13<00:00,  1.48s/it]\n",
      "rcit, n=3200:   4%|▍         | 2/50 [00:03<01:25,  1.78s/it]"
     ]
    },
    {
     "name": "stdout",
     "output_type": "stream",
     "text": [
      "Retries times 1\n"
     ]
    },
    {
     "name": "stderr",
     "output_type": "stream",
     "text": [
      "rcit, n=3200:  34%|███▍      | 17/50 [00:28<01:01,  1.86s/it]"
     ]
    },
    {
     "name": "stdout",
     "output_type": "stream",
     "text": [
      "Retries times 1\n"
     ]
    },
    {
     "name": "stderr",
     "output_type": "stream",
     "text": [
      "/opt/anaconda3/envs/graph/lib/python3.10/site-packages/momentchi2/utilities.py:231: RuntimeWarning: divide by zero encountered in scalar divide\n",
      "  alpha = 1/lambdatilde_p\n",
      "/opt/anaconda3/envs/graph/lib/python3.10/site-packages/scipy/stats/_distn_infrastructure.py:2129: RuntimeWarning: divide by zero encountered in divide\n",
      "  x = np.asarray((x - loc)/scale, dtype=dtyp)\n",
      "rcit, n=3200: 100%|██████████| 50/50 [01:22<00:00,  1.66s/it]\n",
      "rcit, n=4000:   8%|▊         | 4/50 [00:07<01:25,  1.86s/it]"
     ]
    },
    {
     "name": "stdout",
     "output_type": "stream",
     "text": [
      "Retries times 1\n"
     ]
    },
    {
     "name": "stderr",
     "output_type": "stream",
     "text": [
      "rcit, n=4000:  12%|█▏        | 6/50 [00:11<01:21,  1.85s/it]"
     ]
    },
    {
     "name": "stdout",
     "output_type": "stream",
     "text": [
      "Retries times 1\n"
     ]
    },
    {
     "name": "stderr",
     "output_type": "stream",
     "text": [
      "rcit, n=4000:  22%|██▏       | 11/50 [00:21<01:20,  2.08s/it]"
     ]
    },
    {
     "name": "stdout",
     "output_type": "stream",
     "text": [
      "Retries times 1\n"
     ]
    },
    {
     "name": "stderr",
     "output_type": "stream",
     "text": [
      "rcit, n=4000:  74%|███████▍  | 37/50 [01:08<00:25,  1.97s/it]"
     ]
    },
    {
     "name": "stdout",
     "output_type": "stream",
     "text": [
      "Retries times 1\n"
     ]
    },
    {
     "name": "stderr",
     "output_type": "stream",
     "text": [
      "rcit, n=4000:  82%|████████▏ | 41/50 [01:17<00:18,  2.07s/it]"
     ]
    },
    {
     "name": "stdout",
     "output_type": "stream",
     "text": [
      "Retries times 1\n"
     ]
    },
    {
     "name": "stderr",
     "output_type": "stream",
     "text": [
      "rcit, n=4000:  98%|█████████▊| 49/50 [01:32<00:01,  1.74s/it]"
     ]
    },
    {
     "name": "stdout",
     "output_type": "stream",
     "text": [
      "Retries times 1\n"
     ]
    },
    {
     "name": "stderr",
     "output_type": "stream",
     "text": [
      "rcit, n=4000: 100%|██████████| 50/50 [01:34<00:00,  1.88s/it]"
     ]
    },
    {
     "name": "stdout",
     "output_type": "stream",
     "text": [
      "---\n"
     ]
    },
    {
     "name": "stderr",
     "output_type": "stream",
     "text": [
      "\n"
     ]
    },
    {
     "data": {
      "text/plain": [
       "{'rcit1p_alpha2': [[0.6973748473748472,\n",
       "   0.6655690975690974,\n",
       "   0.7065274725274725,\n",
       "   0.6899405039405039,\n",
       "   0.7207824397824397],\n",
       "  [0.23513676000428604,\n",
       "   0.22658348343110815,\n",
       "   0.21147900793881344,\n",
       "   0.2247736858349272,\n",
       "   0.20776903813893044],\n",
       "  [2.48, 2.84, 2.56, 2.72, 2.48],\n",
       "  [1.7116074316267733,\n",
       "   1.759090674183682,\n",
       "   1.8017769007288333,\n",
       "   1.8334666618185342,\n",
       "   1.7577258034175864],\n",
       "  [61.86264610290527,\n",
       "   69.52665185928345,\n",
       "   73.90794801712036,\n",
       "   82.85531687736511,\n",
       "   94.14085412025452]]}"
      ]
     },
     "execution_count": 4,
     "metadata": {},
     "output_type": "execute_result"
    }
   ],
   "source": [
    "np.random.seed(1)\n",
    "random.seed(1)\n",
    "\n",
    "n_nodes = 5\n",
    "dense = 0.3\n",
    "t = 50\n",
    "n_list = [800,1600,2400,3200,4000]\n",
    "\n",
    "ensCIT = [(rcit, 1, p_alpha2)]\n",
    "          #(kcit, 400, p_alpha175),\n",
    "          #(kcit, 400, p_alpha2)]\n",
    "\n",
    "\n",
    "results = {}\n",
    "\n",
    "for cit, k, p_ensemble in ensCIT:\n",
    "\n",
    "    result = []\n",
    "\n",
    "    for n in n_list:\n",
    "        start_time = time.time()\n",
    "        f1 = []\n",
    "        shd = []\n",
    "        for _ in tqdm(range(t), desc=f\"{cit.__name__}, n={n}\", leave=True, dynamic_ncols=True):\n",
    "            retries = 0\n",
    "            while retries < 5:\n",
    "                try:\n",
    "                    data, tcg = generate_graph_samples(n,n_nodes,dense)\n",
    "                    cg = epc(data, cit, p_ensemble, k if k < 100 else int(n/k), show_progress=False)\n",
    "                    cg = cg.G.graph\n",
    "                    break\n",
    "                except Exception as e:\n",
    "                    retries += 1\n",
    "                    print(f\"Retries times {retries}\")\n",
    "                    if retries >= 5: raise e\n",
    "            f1.append(compute_skeleton_f1(cg, tcg)[-1])\n",
    "            shd.append(compute_skeleton_SHD(cg, tcg))\n",
    "        end_time = time.time()\n",
    "        result.append([np.mean(f1), np.std(f1), np.mean(shd), np.std(shd), end_time - start_time])\n",
    "\n",
    "    print('---')\n",
    "    \n",
    "    results[cit.__name__ + str(k) + p_ensemble.__name__] = np.array(result).T.tolist()\n",
    "\n",
    "results"
   ]
  },
  {
   "cell_type": "code",
   "execution_count": 3,
   "metadata": {},
   "outputs": [
    {
     "name": "stderr",
     "output_type": "stream",
     "text": [
      "kcit, n=800: 100%|██████████| 10/10 [01:19<00:00,  7.92s/it]\n",
      "kcit, n=1600: 100%|██████████| 10/10 [03:14<00:00, 19.47s/it]\n",
      "kcit, n=2400: 100%|██████████| 10/10 [04:10<00:00, 25.08s/it]\n",
      "kcit, n=3200: 100%|██████████| 10/10 [05:42<00:00, 34.23s/it]\n",
      "kcit, n=4000: 100%|██████████| 10/10 [06:49<00:00, 40.98s/it]\n"
     ]
    },
    {
     "name": "stdout",
     "output_type": "stream",
     "text": [
      "---\n"
     ]
    },
    {
     "name": "stderr",
     "output_type": "stream",
     "text": [
      "kcit, n=800: 100%|██████████| 10/10 [01:18<00:00,  7.84s/it]\n",
      "kcit, n=1600: 100%|██████████| 10/10 [02:37<00:00, 15.73s/it]\n",
      "kcit, n=2400: 100%|██████████| 10/10 [04:26<00:00, 26.61s/it]\n",
      "kcit, n=3200: 100%|██████████| 10/10 [07:55<00:00, 47.59s/it]\n",
      "kcit, n=4000: 100%|██████████| 10/10 [09:45<00:00, 58.59s/it]"
     ]
    },
    {
     "name": "stdout",
     "output_type": "stream",
     "text": [
      "---\n"
     ]
    },
    {
     "name": "stderr",
     "output_type": "stream",
     "text": [
      "\n"
     ]
    },
    {
     "data": {
      "text/plain": [
       "{'kcit400p_alpha175': [[0.6771717171717172,\n",
       "   0.7553596403596403,\n",
       "   0.7646214896214896,\n",
       "   0.7928671328671328,\n",
       "   0.8171717171717171],\n",
       "  [0.1982426877558113,\n",
       "   0.17374292397428479,\n",
       "   0.18256470369307798,\n",
       "   0.14356507674181182,\n",
       "   0.12486826034091805],\n",
       "  [2.7, 2.3, 2.3, 2.1, 1.9],\n",
       "  [1.4177446878757827,\n",
       "   1.6155494421403513,\n",
       "   1.7349351572897473,\n",
       "   1.374772708486752,\n",
       "   1.374772708486752],\n",
       "  [79.16285181045532,\n",
       "   194.73503732681274,\n",
       "   250.76726698875427,\n",
       "   342.27256536483765,\n",
       "   409.79694509506226]],\n",
       " 'kcit400p_alpha2': [[0.7877849927849927,\n",
       "   0.8094988344988344,\n",
       "   0.8256709956709957,\n",
       "   0.8336241536241535,\n",
       "   0.853568196509373],\n",
       "  [0.13196891594315066,\n",
       "   0.15086251093107023,\n",
       "   0.12094870108778379,\n",
       "   0.1153373823296325,\n",
       "   0.10764958980693508],\n",
       "  [2.1, 2.0, 1.7, 2.0, 2.1],\n",
       "  [1.445683229480096,\n",
       "   1.61245154965971,\n",
       "   1.0999999999999999,\n",
       "   1.4832396974191326,\n",
       "   1.57797338380595],\n",
       "  [78.36645197868347,\n",
       "   157.27710795402527,\n",
       "   266.1027989387512,\n",
       "   475.8724181652069,\n",
       "   585.9242312908173]]}"
      ]
     },
     "execution_count": 3,
     "metadata": {},
     "output_type": "execute_result"
    }
   ],
   "source": [
    "np.random.seed(1)\n",
    "random.seed(1)\n",
    "\n",
    "n_nodes = 5\n",
    "dense = 0.3\n",
    "t = 10\n",
    "n_list = [800,1600,2400,3200,4000]\n",
    "\n",
    "ensCIT = [(kcit, 400, p_alpha175),\n",
    "          (kcit, 400, p_alpha2)]\n",
    "\n",
    "\n",
    "results = {}\n",
    "\n",
    "for cit, k, p_ensemble in ensCIT:\n",
    "\n",
    "    result = []\n",
    "\n",
    "    for n in n_list:\n",
    "        start_time = time.time()\n",
    "        f1 = []\n",
    "        shd = []\n",
    "        for _ in tqdm(range(t), desc=f\"{cit.__name__}, n={n}\", leave=True, dynamic_ncols=True):\n",
    "            retries = 0\n",
    "            while retries < 5:\n",
    "                try:\n",
    "                    data, tcg = generate_graph_samples(n,n_nodes,dense)\n",
    "                    cg = epc(data, cit, p_ensemble, k if k < 100 else int(n/k), show_progress=False)\n",
    "                    cg = cg.G.graph\n",
    "                    break\n",
    "                except Exception as e:\n",
    "                    retries += 1\n",
    "                    print(f\"Retries times {retries}\")\n",
    "                    if retries >= 5: raise e\n",
    "            f1.append(compute_skeleton_f1(cg, tcg)[-1])\n",
    "            shd.append(compute_skeleton_SHD(cg, tcg))\n",
    "        end_time = time.time()\n",
    "        result.append([np.mean(f1), np.std(f1), np.mean(shd), np.std(shd), end_time - start_time])\n",
    "\n",
    "    print('---')\n",
    "    \n",
    "    results[cit.__name__ + str(k) + p_ensemble.__name__] = np.array(result).T.tolist()\n",
    "\n",
    "results"
   ]
  }
 ],
 "metadata": {
  "kernelspec": {
   "display_name": "graph",
   "language": "python",
   "name": "python3"
  },
  "language_info": {
   "codemirror_mode": {
    "name": "ipython",
    "version": 3
   },
   "file_extension": ".py",
   "mimetype": "text/x-python",
   "name": "python",
   "nbconvert_exporter": "python",
   "pygments_lexer": "ipython3",
   "version": "3.10.13"
  }
 },
 "nbformat": 4,
 "nbformat_minor": 4
}
