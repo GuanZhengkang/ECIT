{
 "cells": [
  {
   "cell_type": "code",
   "execution_count": null,
   "id": "c2ef01b2",
   "metadata": {},
   "outputs": [],
   "source": [
    "from timeSimu import *\n",
    "\n",
    "np.random.seed(1)\n",
    "random.seed(1)\n",
    "\n",
    "result4 = ecitSimulateTime(noiseDis='t4',t=20)\n",
    "result4"
   ]
  },
  {
   "cell_type": "code",
   "execution_count": null,
   "id": "8e5be2ac",
   "metadata": {},
   "outputs": [],
   "source": [
    "show_results(result4, yl=0.5)"
   ]
  },
  {
   "cell_type": "code",
   "execution_count": null,
   "id": "daa80a06",
   "metadata": {},
   "outputs": [],
   "source": [
    "np.random.seed(1)\n",
    "random.seed(1)\n",
    "\n",
    "result3 = ecitSimulateTime(noiseDis='t3')\n",
    "result3"
   ]
  },
  {
   "cell_type": "code",
   "execution_count": null,
   "id": "65e8cd72",
   "metadata": {},
   "outputs": [],
   "source": [
    "show_results(result3, yl=0.66)"
   ]
  },
  {
   "cell_type": "code",
   "execution_count": null,
   "id": "f82cfee5",
   "metadata": {},
   "outputs": [],
   "source": [
    "np.random.seed(1)\n",
    "random.seed(1)\n",
    "\n",
    "result2 = ecitSimulateTime(noiseDis='t2')\n",
    "result2"
   ]
  },
  {
   "cell_type": "code",
   "execution_count": null,
   "id": "9e635d7d",
   "metadata": {},
   "outputs": [],
   "source": [
    "show_results(result4, yl=0.76)"
   ]
  }
 ],
 "metadata": {
  "kernelspec": {
   "display_name": "graph",
   "language": "python",
   "name": "python3"
  },
  "language_info": {
   "codemirror_mode": {
    "name": "ipython",
    "version": 3
   },
   "file_extension": ".py",
   "mimetype": "text/x-python",
   "name": "python",
   "nbconvert_exporter": "python",
   "pygments_lexer": "ipython3",
   "version": "3.10.13"
  }
 },
 "nbformat": 4,
 "nbformat_minor": 5
}
