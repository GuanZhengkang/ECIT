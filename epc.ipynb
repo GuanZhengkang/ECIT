{
 "cells": [
  {
   "cell_type": "code",
   "execution_count": 1,
   "metadata": {
    "ExecutionIndicator": {
     "show": true
    },
    "execution": {
     "iopub.execute_input": "2025-02-07T04:36:25.793832Z",
     "iopub.status.busy": "2025-02-07T04:36:25.793471Z",
     "iopub.status.idle": "2025-02-07T04:36:34.030516Z",
     "shell.execute_reply": "2025-02-07T04:36:34.029866Z",
     "shell.execute_reply.started": "2025-02-07T04:36:25.793805Z"
    },
    "tags": []
   },
   "outputs": [
    {
     "name": "stderr",
     "output_type": "stream",
     "text": [
      "/Users/gzk/anaconda3/envs/graph/lib/python3.10/site-packages/tqdm/auto.py:21: TqdmWarning: IProgress not found. Please update jupyter and ipywidgets. See https://ipywidgets.readthedocs.io/en/stable/user_install.html\n",
      "  from .autonotebook import tqdm as notebook_tqdm\n"
     ]
    }
   ],
   "source": [
    "import numpy as np\n",
    "from tqdm import tqdm\n",
    "import time\n",
    "import matplotlib.pyplot as plt\n",
    "from ecit import *"
   ]
  },
  {
   "cell_type": "code",
   "execution_count": 6,
   "metadata": {},
   "outputs": [
    {
     "name": "stdout",
     "output_type": "stream",
     "text": [
      "---k=400---\n"
     ]
    },
    {
     "name": "stderr",
     "output_type": "stream",
     "text": [
      "Processing: 100%|██████████| 50/50 [06:49<00:00,  8.20s/it]\n",
      "Processing: 100%|██████████| 50/50 [11:54<00:00, 14.30s/it]\n",
      "Processing: 100%|██████████| 50/50 [18:18<00:00, 21.97s/it]\n",
      "Processing: 100%|██████████| 50/50 [35:58<00:00, 43.17s/it]\n",
      "Processing: 100%|██████████| 50/50 [54:24<00:00, 65.28s/it] \n",
      "Processing: 100%|██████████| 50/50 [1:19:16<00:00, 95.13s/it] \n",
      "Processing: 100%|██████████| 50/50 [1:39:53<00:00, 119.87s/it]\n"
     ]
    },
    {
     "name": "stdout",
     "output_type": "stream",
     "text": [
      "---\n",
      "---k=400---\n"
     ]
    },
    {
     "name": "stderr",
     "output_type": "stream",
     "text": [
      "Processing: 100%|██████████| 50/50 [05:46<00:00,  6.93s/it]\n",
      "Processing: 100%|██████████| 50/50 [09:00<00:00, 10.81s/it]\n",
      "Processing: 100%|██████████| 50/50 [15:27<00:00, 18.55s/it]\n",
      "Processing: 100%|██████████| 50/50 [30:50<00:00, 37.01s/it]\n",
      "Processing: 100%|██████████| 50/50 [44:55<00:00, 53.90s/it]\n",
      "Processing: 100%|██████████| 50/50 [1:06:18<00:00, 79.57s/it]\n",
      "Processing: 100%|██████████| 50/50 [1:24:40<00:00, 101.60s/it]\n"
     ]
    },
    {
     "name": "stdout",
     "output_type": "stream",
     "text": [
      "---\n",
      "---k=1---\n"
     ]
    },
    {
     "name": "stderr",
     "output_type": "stream",
     "text": [
      "Processing: 100%|██████████| 50/50 [04:03<00:00,  4.86s/it]\n",
      "Processing: 100%|██████████| 50/50 [04:24<00:00,  5.29s/it]\n",
      "Processing: 100%|██████████| 50/50 [04:43<00:00,  5.68s/it]\n",
      "Processing: 100%|██████████| 50/50 [05:25<00:00,  6.51s/it]\n",
      "Processing: 100%|██████████| 50/50 [06:03<00:00,  7.26s/it]\n",
      "Processing: 100%|██████████| 50/50 [07:25<00:00,  8.91s/it]\n",
      "Processing: 100%|██████████| 50/50 [08:06<00:00,  9.74s/it]"
     ]
    },
    {
     "name": "stdout",
     "output_type": "stream",
     "text": [
      "---\n"
     ]
    },
    {
     "name": "stderr",
     "output_type": "stream",
     "text": [
      "\n"
     ]
    },
    {
     "data": {
      "text/plain": [
       "{'kcit400p_alpha175': [[3.86, 3.78, 3.96, 3.82, 3.96, 3.94, 4.16],\n",
       "  [1.2491597175701752,\n",
       "   1.1187493016757597,\n",
       "   1.1482160075525858,\n",
       "   1.1779643458101776,\n",
       "   1.232233744059949,\n",
       "   1.3024592124131948,\n",
       "   1.3763720427268202],\n",
       "  [0.72, 0.46, 0.54, 0.24, 0.36, 0.28, 0.32],\n",
       "  [0.8953211714239757,\n",
       "   0.7539230729988307,\n",
       "   0.8296987405076616,\n",
       "   0.5499090833947008,\n",
       "   0.5919459434779497,\n",
       "   0.530659966456864,\n",
       "   0.581033561853358],\n",
       "  [409.9502079486847,\n",
       "   714.8251421451569,\n",
       "   1098.6531970500946,\n",
       "   2158.4108939170837,\n",
       "   3264.134285211563,\n",
       "   4756.748898983002,\n",
       "   5993.621770143509]],\n",
       " 'kcit400p_cauchy': [[3.98, 3.86, 4.18, 3.94, 3.82, 3.94, 4.04],\n",
       "  [1.1914696806885183,\n",
       "   1.0772186407596185,\n",
       "   1.0712609392673664,\n",
       "   1.0846197490365,\n",
       "   1.0712609392673664,\n",
       "   1.2068139873236472,\n",
       "   1.0575443253121828],\n",
       "  [0.76, 0.66, 0.7, 0.5, 0.6, 0.34, 0.46],\n",
       "  [0.928654941299512,\n",
       "   0.9718024490605074,\n",
       "   0.9643650760992954,\n",
       "   0.8306623862918074,\n",
       "   0.824621125123532,\n",
       "   0.6814690014960328,\n",
       "   0.78],\n",
       "  [346.3612928390503,\n",
       "   540.574342250824,\n",
       "   927.6800849437714,\n",
       "   1850.5320239067078,\n",
       "   2695.066656112671,\n",
       "   3978.7276468276978,\n",
       "   5080.204492092133]],\n",
       " 'rcit1p_cauchy': [[4.0, 3.98, 3.92, 3.96, 4.02, 3.98, 4.08],\n",
       "  [1.1135528725660044,\n",
       "   1.0097524449091468,\n",
       "   1.0361467077590893,\n",
       "   1.0947145746723206,\n",
       "   1.14,\n",
       "   1.122319027727856,\n",
       "   1.1461239025515522],\n",
       "  [1.36, 0.9, 1.0, 0.64, 0.92, 0.56, 0.7],\n",
       "  [1.2126005112979295,\n",
       "   1.02469507659596,\n",
       "   0.9797958971132712,\n",
       "   0.932952303175248,\n",
       "   1.092520022699813,\n",
       "   0.8979977728257459,\n",
       "   1.004987562112089],\n",
       "  [243.20236992835999,\n",
       "   264.4118459224701,\n",
       "   283.7838249206543,\n",
       "   325.47190380096436,\n",
       "   363.1983280181885,\n",
       "   445.37412309646606,\n",
       "   486.8319079875946]]}"
      ]
     },
     "execution_count": 6,
     "metadata": {},
     "output_type": "execute_result"
    }
   ],
   "source": [
    "n_nodes = 4\n",
    "dense = 0.5\n",
    "t = 50\n",
    "n_list = [800,1200,2000,4000,6000,8000,10000]\n",
    "cits = [kcit, kcit, rcit]\n",
    "p_ensembles = [p_alpha175, p_cauchy, p_cauchy]\n",
    "ks = [400,400,1]\n",
    "\n",
    "results = {}\n",
    "\n",
    "for k, cit, p_ensemble in zip(ks, cits, p_ensembles):\n",
    "\n",
    "    print(f'---k={k}---')\n",
    "\n",
    "    result = []\n",
    "\n",
    "    for n in n_list:\n",
    "        if cit != kcit or k!=1 or n<6000:\n",
    "            start_time = time.time()\n",
    "            res = []\n",
    "            resabs = []\n",
    "            for i in tqdm(range(t), desc=\"Processing\"):\n",
    "                np.random.seed(i)\n",
    "                data, tcg = generate_graph_samples(n,n_nodes,dense)\n",
    "                cg = epc(data, cit, p_ensemble, k if k < 100 else int(n/k), show_progress=False)\n",
    "                cg = cg.G.graph\n",
    "                resabs.append(compute_SHD(np.abs(cg), np.abs(tcg)))\n",
    "                res.append(compute_SHD(cg, tcg))\n",
    "            end_time = time.time()\n",
    "            result.append([np.mean(res), np.std(res), np.mean(resabs), np.std(resabs), end_time - start_time])\n",
    "\n",
    "    print('---')\n",
    "    \n",
    "    results[cit.__name__ + str(k) + p_ensemble.__name__] = np.array(result).T.tolist()\n",
    "\n",
    "results"
   ]
  },
  {
   "cell_type": "code",
   "execution_count": 7,
   "metadata": {},
   "outputs": [
    {
     "name": "stdout",
     "output_type": "stream",
     "text": [
      "---k=1---\n"
     ]
    },
    {
     "name": "stderr",
     "output_type": "stream",
     "text": [
      "Processing: 100%|██████████| 50/50 [11:23<00:00, 13.68s/it]\n",
      "Processing: 100%|██████████| 50/50 [30:36<00:00, 36.73s/it]\n",
      "Processing: 100%|██████████| 50/50 [1:38:48<00:00, 118.57s/it]\n",
      "Processing: 100%|██████████| 50/50 [12:55:31<00:00, 930.62s/it]   "
     ]
    },
    {
     "name": "stdout",
     "output_type": "stream",
     "text": [
      "---\n"
     ]
    },
    {
     "name": "stderr",
     "output_type": "stream",
     "text": [
      "\n"
     ]
    },
    {
     "data": {
      "text/plain": [
       "{'kcit1p_cauchy': [[4.16, 3.96, 4.14, 3.94],\n",
       "  [1.0071742649611335,\n",
       "   1.1128342194594845,\n",
       "   1.1315476127852508,\n",
       "   1.1385956261992227],\n",
       "  [0.82, 0.56, 0.78, 0.4],\n",
       "  [0.9526804291051644,\n",
       "   0.8979977728257459,\n",
       "   1.0057832768544126,\n",
       "   0.848528137423857],\n",
       "  [683.8540432453156,\n",
       "   1836.6942892074585,\n",
       "   5928.541255950928,\n",
       "   46531.11504793167]]}"
      ]
     },
     "execution_count": 7,
     "metadata": {},
     "output_type": "execute_result"
    }
   ],
   "source": [
    "n_nodes = 4\n",
    "dense = 0.5\n",
    "t = 50\n",
    "n_list = [800,1200,2000,4000]\n",
    "cits = [kcit]\n",
    "p_ensembles = [p_cauchy]\n",
    "ks = [1]\n",
    "\n",
    "results = {}\n",
    "\n",
    "for k, cit, p_ensemble in zip(ks, cits, p_ensembles):\n",
    "\n",
    "    print(f'---k={k}---')\n",
    "\n",
    "    result = []\n",
    "\n",
    "    for n in n_list:\n",
    "        if cit != kcit or k!=1 or n<6000:\n",
    "            start_time = time.time()\n",
    "            res = []\n",
    "            resabs = []\n",
    "            for i in tqdm(range(t), desc=\"Processing\"):\n",
    "                np.random.seed(i)\n",
    "                data, tcg = generate_graph_samples(n,n_nodes,dense)\n",
    "                cg = epc(data, cit, p_ensemble, k if k < 100 else int(n/k), show_progress=False)\n",
    "                cg = cg.G.graph\n",
    "                resabs.append(compute_SHD(np.abs(cg), np.abs(tcg)))\n",
    "                res.append(compute_SHD(cg, tcg))\n",
    "            end_time = time.time()\n",
    "            result.append([np.mean(res), np.std(res), np.mean(resabs), np.std(resabs), end_time - start_time])\n",
    "\n",
    "    print('---')\n",
    "    \n",
    "    results[cit.__name__ + str(k) + p_ensemble.__name__] = np.array(result).T.tolist()\n",
    "\n",
    "results"
   ]
  },
  {
   "cell_type": "markdown",
   "metadata": {},
   "source": [
    "---"
   ]
  },
  {
   "cell_type": "code",
   "execution_count": 10,
   "metadata": {},
   "outputs": [
    {
     "name": "stdout",
     "output_type": "stream",
     "text": [
      "---k=400---\n"
     ]
    },
    {
     "name": "stderr",
     "output_type": "stream",
     "text": [
      "Processing: 100%|██████████| 10/10 [04:05<00:00, 24.51s/it]\n",
      "Processing: 100%|██████████| 10/10 [07:39<00:00, 45.99s/it]\n",
      "Processing: 100%|██████████| 10/10 [10:39<00:00, 63.95s/it]\n",
      "Processing: 100%|██████████| 10/10 [16:47<00:00, 100.76s/it]\n",
      "Processing: 100%|██████████| 10/10 [20:22<00:00, 122.27s/it]\n"
     ]
    },
    {
     "name": "stdout",
     "output_type": "stream",
     "text": [
      "---\n",
      "---k=400---\n"
     ]
    },
    {
     "name": "stderr",
     "output_type": "stream",
     "text": [
      "Processing: 100%|██████████| 10/10 [03:17<00:00, 19.80s/it]\n",
      "Processing: 100%|██████████| 10/10 [06:29<00:00, 38.91s/it]\n",
      "Processing: 100%|██████████| 10/10 [08:46<00:00, 52.66s/it]\n",
      "Processing: 100%|██████████| 10/10 [12:35<00:00, 75.52s/it]\n",
      "Processing: 100%|██████████| 10/10 [16:13<00:00, 97.33s/it]\n"
     ]
    },
    {
     "name": "stdout",
     "output_type": "stream",
     "text": [
      "---\n",
      "---k=1---\n"
     ]
    },
    {
     "name": "stderr",
     "output_type": "stream",
     "text": [
      "Processing: 100%|██████████| 10/10 [01:50<00:00, 11.01s/it]\n",
      "Processing: 100%|██████████| 10/10 [02:01<00:00, 12.16s/it]\n",
      "Processing: 100%|██████████| 10/10 [02:07<00:00, 12.79s/it]\n",
      "Processing: 100%|██████████| 10/10 [02:12<00:00, 13.22s/it]\n",
      "Processing: 100%|██████████| 10/10 [02:39<00:00, 15.91s/it]"
     ]
    },
    {
     "name": "stdout",
     "output_type": "stream",
     "text": [
      "---\n"
     ]
    },
    {
     "name": "stderr",
     "output_type": "stream",
     "text": [
      "\n"
     ]
    },
    {
     "data": {
      "text/plain": [
       "{'kcit400p_alpha175': [[5.9, 5.3, 5.4, 5.6, 5.4],\n",
       "  [1.0440306508910548,\n",
       "   1.3453624047073711,\n",
       "   1.7435595774162693,\n",
       "   1.624807680927192,\n",
       "   1.3564659966250536],\n",
       "  [1.5, 1.8, 1.4, 1.5, 1.2],\n",
       "  [1.5,\n",
       "   1.32664991614216,\n",
       "   1.1135528725660042,\n",
       "   1.2041594578792296,\n",
       "   1.2489995996796797],\n",
       "  [245.148334980011,\n",
       "   459.8895790576935,\n",
       "   639.518217086792,\n",
       "   1007.6199789047241,\n",
       "   1222.7188007831573]],\n",
       " 'kcit400p_cauchy': [[6.1, 5.9, 5.3, 6.0, 6.2],\n",
       "  [1.374772708486752,\n",
       "   1.57797338380595,\n",
       "   1.268857754044952,\n",
       "   1.7888543819998317,\n",
       "   1.2489995996796797],\n",
       "  [1.7, 2.3, 1.8, 2.5, 1.8],\n",
       "  [1.676305461424021,\n",
       "   1.552417469626002,\n",
       "   1.5362291495737217,\n",
       "   1.8027756377319946,\n",
       "   1.9899748742132402],\n",
       "  [197.975928068161,\n",
       "   389.0821850299835,\n",
       "   526.6474170684814,\n",
       "   755.2476232051849,\n",
       "   973.2943429946899]],\n",
       " 'rcit1p_cauchy': [[6.0, 6.1, 5.5, 6.5, 6.1],\n",
       "  [1.3416407864998738,\n",
       "   1.7000000000000002,\n",
       "   1.91049731745428,\n",
       "   1.284523257866513,\n",
       "   1.1357816691600546],\n",
       "  [2.5, 2.6, 2.8, 3.0, 2.4],\n",
       "  [1.91049731745428, 1.2, 1.6, 1.3416407864998738, 2.1540659228538015],\n",
       "  [110.12068009376526,\n",
       "   121.55469799041748,\n",
       "   127.88361120223999,\n",
       "   132.1684501171112,\n",
       "   159.13219094276428]]}"
      ]
     },
     "execution_count": 10,
     "metadata": {},
     "output_type": "execute_result"
    }
   ],
   "source": [
    "n_nodes = 5\n",
    "dense = 0.5\n",
    "t = 10\n",
    "n_list = [800,1600,2400,3200,4000]\n",
    "cits = [kcit, kcit, rcit]\n",
    "p_ensembles = [p_alpha175, p_cauchy, p_cauchy]\n",
    "ks = [400,400,1]\n",
    "\n",
    "results = {}\n",
    "\n",
    "for k, cit, p_ensemble in zip(ks, cits, p_ensembles):\n",
    "\n",
    "    print(f'---k={k}---')\n",
    "\n",
    "    result = []\n",
    "\n",
    "    for n in n_list:\n",
    "        if cit != kcit or k!=1 or n<6000:\n",
    "            start_time = time.time()\n",
    "            res = []\n",
    "            resabs = []\n",
    "            for i in tqdm(range(t), desc=\"Processing\"):\n",
    "                np.random.seed(i)\n",
    "                data, tcg = generate_graph_samples(n,n_nodes,dense)\n",
    "                cg = epc(data, cit, p_ensemble, k if k < 100 else int(n/k), show_progress=False)\n",
    "                cg = cg.G.graph\n",
    "                resabs.append(compute_SHD(np.abs(cg), np.abs(tcg)))\n",
    "                res.append(compute_SHD(cg, tcg))\n",
    "            end_time = time.time()\n",
    "            result.append([np.mean(res), np.std(res), np.mean(resabs), np.std(resabs), end_time - start_time])\n",
    "\n",
    "    print('---')\n",
    "    \n",
    "    results[cit.__name__ + str(k) + p_ensemble.__name__] = np.array(result).T.tolist()\n",
    "\n",
    "results"
   ]
  },
  {
   "cell_type": "markdown",
   "metadata": {},
   "source": [
    "---"
   ]
  },
  {
   "cell_type": "code",
   "execution_count": 2,
   "metadata": {},
   "outputs": [
    {
     "name": "stdout",
     "output_type": "stream",
     "text": [
      "---k=400---\n"
     ]
    },
    {
     "name": "stderr",
     "output_type": "stream",
     "text": [
      "Processing: 100%|██████████| 100/100 [1:00:12<00:00, 36.13s/it]\n",
      "Processing: 100%|██████████| 100/100 [2:22:25<00:00, 85.45s/it]  \n",
      "Processing: 100%|██████████| 100/100 [3:40:34<00:00, 132.34s/it] \n",
      "Processing: 100%|██████████| 100/100 [5:14:38<00:00, 188.78s/it] \n",
      "Processing: 100%|██████████| 100/100 [7:00:25<00:00, 252.25s/it] \n"
     ]
    },
    {
     "name": "stdout",
     "output_type": "stream",
     "text": [
      "---\n",
      "---k=400---\n"
     ]
    },
    {
     "name": "stderr",
     "output_type": "stream",
     "text": [
      "Processing: 100%|██████████| 100/100 [48:08<00:00, 28.88s/it]\n",
      "Processing: 100%|██████████| 100/100 [1:53:35<00:00, 68.15s/it]  \n",
      "Processing: 100%|██████████| 100/100 [2:53:11<00:00, 103.91s/it] \n",
      "Processing: 100%|██████████| 100/100 [3:50:08<00:00, 138.08s/it] \n",
      "Processing: 100%|██████████| 100/100 [4:59:13<00:00, 179.53s/it] \n"
     ]
    },
    {
     "name": "stdout",
     "output_type": "stream",
     "text": [
      "---\n",
      "---k=1---\n"
     ]
    },
    {
     "name": "stderr",
     "output_type": "stream",
     "text": [
      "Processing: 100%|██████████| 100/100 [31:59<00:00, 19.19s/it]\n",
      "Processing: 100%|██████████| 100/100 [38:07<00:00, 22.87s/it]\n",
      "Processing: 100%|██████████| 100/100 [39:29<00:00, 23.70s/it]\n",
      "Processing: 100%|██████████| 100/100 [43:09<00:00, 25.89s/it]\n",
      "Processing: 100%|██████████| 100/100 [45:11<00:00, 27.11s/it]"
     ]
    },
    {
     "name": "stdout",
     "output_type": "stream",
     "text": [
      "---\n"
     ]
    },
    {
     "name": "stderr",
     "output_type": "stream",
     "text": [
      "\n"
     ]
    },
    {
     "data": {
      "text/plain": [
       "{'kcit400p_alpha175': [[8.93, 8.05, 8.48, 8.36, 8.04],\n",
       "  [2.3717293268836563,\n",
       "   2.342541355024496,\n",
       "   2.3301502097504363,\n",
       "   2.5279240494919932,\n",
       "   2.2668039174132373],\n",
       "  [4.67, 3.39, 3.36, 3.26, 3.21],\n",
       "  [2.657273038285678,\n",
       "   2.529407045139236,\n",
       "   2.16573313222105,\n",
       "   2.343586994331553,\n",
       "   2.1227105313725656],\n",
       "  [3612.6861279010773,\n",
       "   8545.384705781937,\n",
       "   13234.173408985138,\n",
       "   18878.104551315308,\n",
       "   25225.352694749832]],\n",
       " 'kcit400p_cauchy': [[9.1, 8.45, 8.92, 8.84, 8.59],\n",
       "  [2.224859546128699,\n",
       "   2.308137777516758,\n",
       "   2.0575713839378698,\n",
       "   2.377898231632296,\n",
       "   2.1775904114410496],\n",
       "  [4.88, 3.97, 4.27, 4.36, 4.32],\n",
       "  [2.5779061270729002,\n",
       "   2.6323183698025585,\n",
       "   2.5801356553483776,\n",
       "   2.655258932759666,\n",
       "   2.399499947905813],\n",
       "  [2888.42791390419,\n",
       "   6815.4987959861755,\n",
       "   10391.219268083572,\n",
       "   13808.051727294922,\n",
       "   17953.047189950943]],\n",
       " 'rcit1p_cauchy': [[9.18, 8.69, 9.13, 8.98, 8.73],\n",
       "  [2.070652071208488,\n",
       "   2.2746208475260223,\n",
       "   2.0864083972223657,\n",
       "   2.3451225980745654,\n",
       "   2.23094150528426],\n",
       "  [6.12, 5.18, 5.37, 5.2, 5.27],\n",
       "  [2.446548589339685,\n",
       "   2.459186857479521,\n",
       "   2.5125883069058483,\n",
       "   2.615339366124404,\n",
       "   2.3188574772935056],\n",
       "  [1919.4538249969482,\n",
       "   2287.3523540496826,\n",
       "   2369.7304940223694,\n",
       "   2589.380373954773,\n",
       "   2711.3216891288757]]}"
      ]
     },
     "execution_count": 2,
     "metadata": {},
     "output_type": "execute_result"
    }
   ],
   "source": [
    "n_nodes = 6\n",
    "dense = 0.5\n",
    "t = 100\n",
    "n_list = [800,1600,2400,3200,4000]\n",
    "cits = [kcit, kcit, rcit]\n",
    "p_ensembles = [p_alpha175, p_cauchy, p_cauchy]\n",
    "ks = [400,400,1]\n",
    "\n",
    "results = {}\n",
    "\n",
    "for k, cit, p_ensemble in zip(ks, cits, p_ensembles):\n",
    "\n",
    "    print(f'---k={k}---')\n",
    "\n",
    "    result = []\n",
    "\n",
    "    for n in n_list:\n",
    "        if cit != kcit or k!=1 or n<6000:\n",
    "            start_time = time.time()\n",
    "            res = []\n",
    "            resabs = []\n",
    "            for i in tqdm(range(t), desc=\"Processing\"):\n",
    "                np.random.seed(i)\n",
    "                data, tcg = generate_graph_samples(n,n_nodes,dense)\n",
    "                cg = epc(data, cit, p_ensemble, k if k < 100 else int(n/k), show_progress=False)\n",
    "                cg = cg.G.graph\n",
    "                resabs.append(compute_SHD(np.abs(cg), np.abs(tcg)))\n",
    "                res.append(compute_SHD(cg, tcg))\n",
    "            end_time = time.time()\n",
    "            result.append([np.mean(res), np.std(res), np.mean(resabs), np.std(resabs), end_time - start_time])\n",
    "\n",
    "    print('---')\n",
    "    \n",
    "    results[cit.__name__ + str(k) + p_ensemble.__name__] = np.array(result).T.tolist()\n",
    "\n",
    "results"
   ]
  },
  {
   "cell_type": "code",
   "execution_count": 3,
   "metadata": {},
   "outputs": [
    {
     "name": "stdout",
     "output_type": "stream",
     "text": [
      "---k=1---\n"
     ]
    },
    {
     "name": "stderr",
     "output_type": "stream",
     "text": [
      "Processing: 100%|██████████| 8/8 [08:04<00:00, 60.58s/it]\n",
      "Processing: 100%|██████████| 8/8 [45:07<00:00, 338.48s/it]\n",
      "Processing:   0%|          | 0/8 [28:08<?, ?it/s]\n"
     ]
    },
    {
     "ename": "KeyboardInterrupt",
     "evalue": "",
     "output_type": "error",
     "traceback": [
      "\u001b[0;31m---------------------------------------------------------------------------\u001b[0m",
      "\u001b[0;31mKeyboardInterrupt\u001b[0m                         Traceback (most recent call last)",
      "Cell \u001b[0;32mIn[3], line 25\u001b[0m\n\u001b[1;32m     23\u001b[0m np\u001b[38;5;241m.\u001b[39mrandom\u001b[38;5;241m.\u001b[39mseed(i)\n\u001b[1;32m     24\u001b[0m data, tcg \u001b[38;5;241m=\u001b[39m generate_graph_samples(n,n_nodes,dense)\n\u001b[0;32m---> 25\u001b[0m cg \u001b[38;5;241m=\u001b[39m \u001b[43mepc\u001b[49m\u001b[43m(\u001b[49m\u001b[43mdata\u001b[49m\u001b[43m,\u001b[49m\u001b[43m \u001b[49m\u001b[43mcit\u001b[49m\u001b[43m,\u001b[49m\u001b[43m \u001b[49m\u001b[43mp_ensemble\u001b[49m\u001b[43m,\u001b[49m\u001b[43m \u001b[49m\u001b[43mk\u001b[49m\u001b[43m \u001b[49m\u001b[38;5;28;43;01mif\u001b[39;49;00m\u001b[43m \u001b[49m\u001b[43mk\u001b[49m\u001b[43m \u001b[49m\u001b[38;5;241;43m<\u001b[39;49m\u001b[43m \u001b[49m\u001b[38;5;241;43m100\u001b[39;49m\u001b[43m \u001b[49m\u001b[38;5;28;43;01melse\u001b[39;49;00m\u001b[43m \u001b[49m\u001b[38;5;28;43mint\u001b[39;49m\u001b[43m(\u001b[49m\u001b[43mn\u001b[49m\u001b[38;5;241;43m/\u001b[39;49m\u001b[43mk\u001b[49m\u001b[43m)\u001b[49m\u001b[43m,\u001b[49m\u001b[43m \u001b[49m\u001b[43mshow_progress\u001b[49m\u001b[38;5;241;43m=\u001b[39;49m\u001b[38;5;28;43;01mFalse\u001b[39;49;00m\u001b[43m)\u001b[49m\n\u001b[1;32m     26\u001b[0m cg \u001b[38;5;241m=\u001b[39m cg\u001b[38;5;241m.\u001b[39mG\u001b[38;5;241m.\u001b[39mgraph\n\u001b[1;32m     27\u001b[0m resabs\u001b[38;5;241m.\u001b[39mappend(compute_SHD(np\u001b[38;5;241m.\u001b[39mabs(cg), np\u001b[38;5;241m.\u001b[39mabs(tcg)))\n",
      "File \u001b[0;32m~/Library/Mobile Documents/iCloud~md~obsidian/Documents/CD/_Project/ECIT/code/ecit/epc.py:100\u001b[0m, in \u001b[0;36mepc\u001b[0;34m(data, cit, ensemble, k, alpha, stable, uc_rule, uc_priority, background_knowledge, verbose, show_progress, node_names, **kwargs)\u001b[0m\n\u001b[1;32m     96\u001b[0m \u001b[38;5;28;01mif\u001b[39;00m data\u001b[38;5;241m.\u001b[39mshape[\u001b[38;5;241m0\u001b[39m] \u001b[38;5;241m<\u001b[39m data\u001b[38;5;241m.\u001b[39mshape[\u001b[38;5;241m1\u001b[39m]:\n\u001b[1;32m     97\u001b[0m     warnings\u001b[38;5;241m.\u001b[39mwarn(\u001b[38;5;124m\"\u001b[39m\u001b[38;5;124mThe number of features is much larger than the sample size!\u001b[39m\u001b[38;5;124m\"\u001b[39m)\n\u001b[0;32m--> 100\u001b[0m \u001b[38;5;28;01mreturn\u001b[39;00m \u001b[43mpc_alg\u001b[49m\u001b[43m(\u001b[49m\u001b[43mdata\u001b[49m\u001b[38;5;241;43m=\u001b[39;49m\u001b[43mdata\u001b[49m\u001b[43m,\u001b[49m\u001b[43m \u001b[49m\u001b[43mnode_names\u001b[49m\u001b[38;5;241;43m=\u001b[39;49m\u001b[43mnode_names\u001b[49m\u001b[43m,\u001b[49m\u001b[43m \u001b[49m\u001b[43mcit\u001b[49m\u001b[38;5;241;43m=\u001b[39;49m\u001b[43mcit\u001b[49m\u001b[43m,\u001b[49m\u001b[43m \u001b[49m\u001b[43mensemble\u001b[49m\u001b[38;5;241;43m=\u001b[39;49m\u001b[43mensemble\u001b[49m\u001b[43m,\u001b[49m\u001b[43m \u001b[49m\u001b[43malpha\u001b[49m\u001b[38;5;241;43m=\u001b[39;49m\u001b[43malpha\u001b[49m\u001b[43m,\u001b[49m\u001b[43m \u001b[49m\u001b[43mk\u001b[49m\u001b[38;5;241;43m=\u001b[39;49m\u001b[43mk\u001b[49m\u001b[43m,\u001b[49m\u001b[43m \u001b[49m\u001b[43mstable\u001b[49m\u001b[38;5;241;43m=\u001b[39;49m\u001b[43mstable\u001b[49m\u001b[43m,\u001b[49m\u001b[43m \u001b[49m\u001b[43muc_rule\u001b[49m\u001b[38;5;241;43m=\u001b[39;49m\u001b[43muc_rule\u001b[49m\u001b[43m,\u001b[49m\u001b[43m \u001b[49m\u001b[43muc_priority\u001b[49m\u001b[38;5;241;43m=\u001b[39;49m\u001b[43muc_priority\u001b[49m\u001b[43m,\u001b[49m\u001b[43m \u001b[49m\u001b[43mbackground_knowledge\u001b[49m\u001b[38;5;241;43m=\u001b[39;49m\u001b[43mbackground_knowledge\u001b[49m\u001b[43m,\u001b[49m\u001b[43m \u001b[49m\u001b[43mverbose\u001b[49m\u001b[38;5;241;43m=\u001b[39;49m\u001b[43mverbose\u001b[49m\u001b[43m,\u001b[49m\u001b[43m \u001b[49m\u001b[43mshow_progress\u001b[49m\u001b[38;5;241;43m=\u001b[39;49m\u001b[43mshow_progress\u001b[49m\u001b[43m,\u001b[49m\u001b[43m \u001b[49m\u001b[38;5;241;43m*\u001b[39;49m\u001b[38;5;241;43m*\u001b[39;49m\u001b[43mkwargs\u001b[49m\u001b[43m)\u001b[49m\n",
      "File \u001b[0;32m~/Library/Mobile Documents/iCloud~md~obsidian/Documents/CD/_Project/ECIT/code/ecit/epc.py:153\u001b[0m, in \u001b[0;36mpc_alg\u001b[0;34m(data, cit, ensemble, alpha, k, stable, uc_rule, uc_priority, node_names, background_knowledge, verbose, show_progress, **kwargs)\u001b[0m\n\u001b[1;32m    151\u001b[0m start \u001b[38;5;241m=\u001b[39m time\u001b[38;5;241m.\u001b[39mtime()\n\u001b[1;32m    152\u001b[0m indep_test \u001b[38;5;241m=\u001b[39m ECIT(data, cit, ensemble, k)\n\u001b[0;32m--> 153\u001b[0m cg_1 \u001b[38;5;241m=\u001b[39m \u001b[43mSkeletonDiscovery\u001b[49m\u001b[38;5;241;43m.\u001b[39;49m\u001b[43mskeleton_discovery\u001b[49m\u001b[43m(\u001b[49m\u001b[43mdata\u001b[49m\u001b[43m,\u001b[49m\u001b[43m \u001b[49m\u001b[43malpha\u001b[49m\u001b[43m,\u001b[49m\u001b[43m \u001b[49m\u001b[43mindep_test\u001b[49m\u001b[43m,\u001b[49m\u001b[43m \u001b[49m\u001b[43mstable\u001b[49m\u001b[43m,\u001b[49m\n\u001b[1;32m    154\u001b[0m \u001b[43m                                            \u001b[49m\u001b[43mbackground_knowledge\u001b[49m\u001b[38;5;241;43m=\u001b[39;49m\u001b[43mbackground_knowledge\u001b[49m\u001b[43m,\u001b[49m\u001b[43m \u001b[49m\u001b[43mverbose\u001b[49m\u001b[38;5;241;43m=\u001b[39;49m\u001b[43mverbose\u001b[49m\u001b[43m,\u001b[49m\n\u001b[1;32m    155\u001b[0m \u001b[43m                                            \u001b[49m\u001b[43mshow_progress\u001b[49m\u001b[38;5;241;43m=\u001b[39;49m\u001b[43mshow_progress\u001b[49m\u001b[43m,\u001b[49m\u001b[43m \u001b[49m\u001b[43mnode_names\u001b[49m\u001b[38;5;241;43m=\u001b[39;49m\u001b[43mnode_names\u001b[49m\u001b[43m)\u001b[49m\n\u001b[1;32m    157\u001b[0m \u001b[38;5;28;01mif\u001b[39;00m background_knowledge \u001b[38;5;129;01mis\u001b[39;00m \u001b[38;5;129;01mnot\u001b[39;00m \u001b[38;5;28;01mNone\u001b[39;00m:\n\u001b[1;32m    158\u001b[0m     orient_by_background_knowledge(cg_1, background_knowledge)\n",
      "File \u001b[0;32m~/anaconda3/envs/graph/lib/python3.10/site-packages/causallearn/utils/PCUtils/SkeletonDiscovery.py:101\u001b[0m, in \u001b[0;36mskeleton_discovery\u001b[0;34m(data, alpha, indep_test, stable, background_knowledge, verbose, show_progress, node_names)\u001b[0m\n\u001b[1;32m     99\u001b[0m Neigh_x_noy \u001b[38;5;241m=\u001b[39m np\u001b[38;5;241m.\u001b[39mdelete(Neigh_x, np\u001b[38;5;241m.\u001b[39mwhere(Neigh_x \u001b[38;5;241m==\u001b[39m y))\n\u001b[1;32m    100\u001b[0m \u001b[38;5;28;01mfor\u001b[39;00m S \u001b[38;5;129;01min\u001b[39;00m combinations(Neigh_x_noy, depth):\n\u001b[0;32m--> 101\u001b[0m     p \u001b[38;5;241m=\u001b[39m \u001b[43mcg\u001b[49m\u001b[38;5;241;43m.\u001b[39;49m\u001b[43mci_test\u001b[49m\u001b[43m(\u001b[49m\u001b[43mx\u001b[49m\u001b[43m,\u001b[49m\u001b[43m \u001b[49m\u001b[43my\u001b[49m\u001b[43m,\u001b[49m\u001b[43m \u001b[49m\u001b[43mS\u001b[49m\u001b[43m)\u001b[49m\n\u001b[1;32m    102\u001b[0m     \u001b[38;5;28;01mif\u001b[39;00m p \u001b[38;5;241m>\u001b[39m alpha:\n\u001b[1;32m    103\u001b[0m         \u001b[38;5;28;01mif\u001b[39;00m verbose:\n",
      "File \u001b[0;32m~/anaconda3/envs/graph/lib/python3.10/site-packages/causallearn/graph/GraphClass.py:58\u001b[0m, in \u001b[0;36mCausalGraph.ci_test\u001b[0;34m(self, i, j, S)\u001b[0m\n\u001b[1;32m     56\u001b[0m \u001b[38;5;66;03m# assert i != j and not i in S and not j in S\u001b[39;00m\n\u001b[1;32m     57\u001b[0m \u001b[38;5;28;01mif\u001b[39;00m \u001b[38;5;28mself\u001b[39m\u001b[38;5;241m.\u001b[39mtest\u001b[38;5;241m.\u001b[39mmethod \u001b[38;5;241m==\u001b[39m \u001b[38;5;124m'\u001b[39m\u001b[38;5;124mmc_fisherz\u001b[39m\u001b[38;5;124m'\u001b[39m: \u001b[38;5;28;01mreturn\u001b[39;00m \u001b[38;5;28mself\u001b[39m\u001b[38;5;241m.\u001b[39mtest(i, j, S, \u001b[38;5;28mself\u001b[39m\u001b[38;5;241m.\u001b[39mnx_skel, \u001b[38;5;28mself\u001b[39m\u001b[38;5;241m.\u001b[39mprt_m)\n\u001b[0;32m---> 58\u001b[0m \u001b[38;5;28;01mreturn\u001b[39;00m \u001b[38;5;28;43mself\u001b[39;49m\u001b[38;5;241;43m.\u001b[39;49m\u001b[43mtest\u001b[49m\u001b[43m(\u001b[49m\u001b[43mi\u001b[49m\u001b[43m,\u001b[49m\u001b[43m \u001b[49m\u001b[43mj\u001b[49m\u001b[43m,\u001b[49m\u001b[43m \u001b[49m\u001b[43mS\u001b[49m\u001b[43m)\u001b[49m\n",
      "File \u001b[0;32m~/Library/Mobile Documents/iCloud~md~obsidian/Documents/CD/_Project/ECIT/code/ecit/ecit.py:70\u001b[0m, in \u001b[0;36mECIT.__call__\u001b[0;34m(self, xi, yi, zi, return_p_list)\u001b[0m\n\u001b[1;32m     68\u001b[0m p_list \u001b[38;5;241m=\u001b[39m []\n\u001b[1;32m     69\u001b[0m \u001b[38;5;28;01mfor\u001b[39;00m sub_data \u001b[38;5;129;01min\u001b[39;00m np\u001b[38;5;241m.\u001b[39marray_split(shuffled_data, \u001b[38;5;28mself\u001b[39m\u001b[38;5;241m.\u001b[39mk):\n\u001b[0;32m---> 70\u001b[0m     p_value \u001b[38;5;241m=\u001b[39m \u001b[38;5;28;43mself\u001b[39;49m\u001b[38;5;241;43m.\u001b[39;49m\u001b[43mcit\u001b[49m\u001b[43m(\u001b[49m\u001b[43msub_data\u001b[49m\u001b[43m[\u001b[49m\u001b[43m:\u001b[49m\u001b[43m,\u001b[49m\u001b[43mxi\u001b[49m\u001b[43m]\u001b[49m\u001b[43m,\u001b[49m\n\u001b[1;32m     71\u001b[0m \u001b[43m                       \u001b[49m\u001b[43msub_data\u001b[49m\u001b[43m[\u001b[49m\u001b[43m:\u001b[49m\u001b[43m,\u001b[49m\u001b[43myi\u001b[49m\u001b[43m]\u001b[49m\u001b[43m,\u001b[49m\n\u001b[1;32m     72\u001b[0m \u001b[43m                       \u001b[49m\u001b[43msub_data\u001b[49m\u001b[43m[\u001b[49m\u001b[43m:\u001b[49m\u001b[43m,\u001b[49m\u001b[43mzi\u001b[49m\u001b[43m]\u001b[49m\u001b[43m)\u001b[49m\n\u001b[1;32m     73\u001b[0m     p_list\u001b[38;5;241m.\u001b[39mappend(p_value)\n\u001b[1;32m     75\u001b[0m \u001b[38;5;28;01mif\u001b[39;00m return_p_list:\n",
      "File \u001b[0;32m~/Library/Mobile Documents/iCloud~md~obsidian/Documents/CD/_Project/ECIT/code/ecit/cit/kcit.py:30\u001b[0m, in \u001b[0;36mkcit\u001b[0;34m(x, y, z)\u001b[0m\n\u001b[1;32m     27\u001b[0m z_indices \u001b[38;5;241m=\u001b[39m \u001b[38;5;28mlist\u001b[39m(\u001b[38;5;28mrange\u001b[39m(x\u001b[38;5;241m.\u001b[39mshape[\u001b[38;5;241m1\u001b[39m] \u001b[38;5;241m+\u001b[39m y\u001b[38;5;241m.\u001b[39mshape[\u001b[38;5;241m1\u001b[39m], data\u001b[38;5;241m.\u001b[39mshape[\u001b[38;5;241m1\u001b[39m])) \u001b[38;5;28;01mif\u001b[39;00m isz \u001b[38;5;28;01melse\u001b[39;00m []\n\u001b[1;32m     29\u001b[0m kci_obj \u001b[38;5;241m=\u001b[39m CIT(data, \u001b[38;5;124m\"\u001b[39m\u001b[38;5;124mkci\u001b[39m\u001b[38;5;124m\"\u001b[39m)\n\u001b[0;32m---> 30\u001b[0m p_value \u001b[38;5;241m=\u001b[39m \u001b[43mkci_obj\u001b[49m\u001b[43m(\u001b[49m\u001b[43mx_indices\u001b[49m\u001b[43m,\u001b[49m\u001b[43m \u001b[49m\u001b[43my_indices\u001b[49m\u001b[43m,\u001b[49m\u001b[43m \u001b[49m\u001b[43mz_indices\u001b[49m\u001b[43m)\u001b[49m\n\u001b[1;32m     32\u001b[0m \u001b[38;5;28;01mdel\u001b[39;00m kci_obj\n\u001b[1;32m     34\u001b[0m \u001b[38;5;28;01mreturn\u001b[39;00m p_value\n",
      "File \u001b[0;32m~/anaconda3/envs/graph/lib/python3.10/site-packages/causallearn/utils/cit.py:192\u001b[0m, in \u001b[0;36mKCI.__call__\u001b[0;34m(self, X, Y, condition_set)\u001b[0m\n\u001b[1;32m    189\u001b[0m Xs, Ys, condition_set, cache_key \u001b[38;5;241m=\u001b[39m \u001b[38;5;28mself\u001b[39m\u001b[38;5;241m.\u001b[39mget_formatted_XYZ_and_cachekey(X, Y, condition_set)\n\u001b[1;32m    190\u001b[0m \u001b[38;5;28;01mif\u001b[39;00m cache_key \u001b[38;5;129;01min\u001b[39;00m \u001b[38;5;28mself\u001b[39m\u001b[38;5;241m.\u001b[39mpvalue_cache: \u001b[38;5;28;01mreturn\u001b[39;00m \u001b[38;5;28mself\u001b[39m\u001b[38;5;241m.\u001b[39mpvalue_cache[cache_key]\n\u001b[1;32m    191\u001b[0m p \u001b[38;5;241m=\u001b[39m \u001b[38;5;28mself\u001b[39m\u001b[38;5;241m.\u001b[39mkci_ui\u001b[38;5;241m.\u001b[39mcompute_pvalue(\u001b[38;5;28mself\u001b[39m\u001b[38;5;241m.\u001b[39mdata[:, Xs], \u001b[38;5;28mself\u001b[39m\u001b[38;5;241m.\u001b[39mdata[:, Ys])[\u001b[38;5;241m0\u001b[39m] \u001b[38;5;28;01mif\u001b[39;00m \u001b[38;5;28mlen\u001b[39m(condition_set) \u001b[38;5;241m==\u001b[39m \u001b[38;5;241m0\u001b[39m \u001b[38;5;28;01melse\u001b[39;00m \\\n\u001b[0;32m--> 192\u001b[0m     \u001b[38;5;28;43mself\u001b[39;49m\u001b[38;5;241;43m.\u001b[39;49m\u001b[43mkci_ci\u001b[49m\u001b[38;5;241;43m.\u001b[39;49m\u001b[43mcompute_pvalue\u001b[49m\u001b[43m(\u001b[49m\u001b[38;5;28;43mself\u001b[39;49m\u001b[38;5;241;43m.\u001b[39;49m\u001b[43mdata\u001b[49m\u001b[43m[\u001b[49m\u001b[43m:\u001b[49m\u001b[43m,\u001b[49m\u001b[43m \u001b[49m\u001b[43mXs\u001b[49m\u001b[43m]\u001b[49m\u001b[43m,\u001b[49m\u001b[43m \u001b[49m\u001b[38;5;28;43mself\u001b[39;49m\u001b[38;5;241;43m.\u001b[39;49m\u001b[43mdata\u001b[49m\u001b[43m[\u001b[49m\u001b[43m:\u001b[49m\u001b[43m,\u001b[49m\u001b[43m \u001b[49m\u001b[43mYs\u001b[49m\u001b[43m]\u001b[49m\u001b[43m,\u001b[49m\u001b[43m \u001b[49m\u001b[38;5;28;43mself\u001b[39;49m\u001b[38;5;241;43m.\u001b[39;49m\u001b[43mdata\u001b[49m\u001b[43m[\u001b[49m\u001b[43m:\u001b[49m\u001b[43m,\u001b[49m\u001b[43m \u001b[49m\u001b[43mcondition_set\u001b[49m\u001b[43m]\u001b[49m\u001b[43m)\u001b[49m[\u001b[38;5;241m0\u001b[39m]\n\u001b[1;32m    193\u001b[0m \u001b[38;5;28mself\u001b[39m\u001b[38;5;241m.\u001b[39mpvalue_cache[cache_key] \u001b[38;5;241m=\u001b[39m p\n\u001b[1;32m    194\u001b[0m \u001b[38;5;28;01mreturn\u001b[39;00m p\n",
      "File \u001b[0;32m~/anaconda3/envs/graph/lib/python3.10/site-packages/causallearn/utils/KCI/KCI.py:303\u001b[0m, in \u001b[0;36mKCI_CInd.compute_pvalue\u001b[0;34m(self, data_x, data_y, data_z)\u001b[0m\n\u001b[1;32m    289\u001b[0m \u001b[38;5;250m\u001b[39m\u001b[38;5;124;03m\"\"\"\u001b[39;00m\n\u001b[1;32m    290\u001b[0m \u001b[38;5;124;03mMain function: compute the p value and return it together with the test statistic\u001b[39;00m\n\u001b[1;32m    291\u001b[0m \u001b[38;5;124;03mParameters\u001b[39;00m\n\u001b[0;32m   (...)\u001b[0m\n\u001b[1;32m    300\u001b[0m \u001b[38;5;124;03mtest_stat: test statistic\u001b[39;00m\n\u001b[1;32m    301\u001b[0m \u001b[38;5;124;03m\"\"\"\u001b[39;00m\n\u001b[1;32m    302\u001b[0m Kx, Ky, Kzx, Kzy \u001b[38;5;241m=\u001b[39m \u001b[38;5;28mself\u001b[39m\u001b[38;5;241m.\u001b[39mkernel_matrix(data_x, data_y, data_z)\n\u001b[0;32m--> 303\u001b[0m test_stat, KxR, KyR \u001b[38;5;241m=\u001b[39m \u001b[38;5;28;43mself\u001b[39;49m\u001b[38;5;241;43m.\u001b[39;49m\u001b[43mKCI_V_statistic\u001b[49m\u001b[43m(\u001b[49m\u001b[43mKx\u001b[49m\u001b[43m,\u001b[49m\u001b[43m \u001b[49m\u001b[43mKy\u001b[49m\u001b[43m,\u001b[49m\u001b[43m \u001b[49m\u001b[43mKzx\u001b[49m\u001b[43m,\u001b[49m\u001b[43m \u001b[49m\u001b[43mKzy\u001b[49m\u001b[43m)\u001b[49m\n\u001b[1;32m    304\u001b[0m uu_prod, size_u \u001b[38;5;241m=\u001b[39m \u001b[38;5;28mself\u001b[39m\u001b[38;5;241m.\u001b[39mget_uuprod(KxR, KyR)\n\u001b[1;32m    305\u001b[0m \u001b[38;5;28;01mif\u001b[39;00m \u001b[38;5;28mself\u001b[39m\u001b[38;5;241m.\u001b[39mapprox:\n",
      "File \u001b[0;32m~/anaconda3/envs/graph/lib/python3.10/site-packages/causallearn/utils/KCI/KCI.py:502\u001b[0m, in \u001b[0;36mKCI_CInd.KCI_V_statistic\u001b[0;34m(self, Kx, Ky, Kzx, Kzy)\u001b[0m\n\u001b[1;32m    476\u001b[0m \u001b[38;5;28;01mdef\u001b[39;00m \u001b[38;5;21mKCI_V_statistic\u001b[39m(\u001b[38;5;28mself\u001b[39m, Kx, Ky, Kzx, Kzy):\n\u001b[1;32m    477\u001b[0m \u001b[38;5;250m    \u001b[39m\u001b[38;5;124;03m\"\"\"\u001b[39;00m\n\u001b[1;32m    478\u001b[0m \u001b[38;5;124;03m    Compute V test statistic from kernel matrices Kx and Ky\u001b[39;00m\n\u001b[1;32m    479\u001b[0m \u001b[38;5;124;03m    Parameters\u001b[39;00m\n\u001b[0;32m   (...)\u001b[0m\n\u001b[1;32m    500\u001b[0m \u001b[38;5;124;03m       With this we could save one repeated calculation of pinv(Kzy+\\epsilonI), which consumes most time.\u001b[39;00m\n\u001b[1;32m    501\u001b[0m \u001b[38;5;124;03m    \"\"\"\u001b[39;00m\n\u001b[0;32m--> 502\u001b[0m     KxR, Rzx \u001b[38;5;241m=\u001b[39m \u001b[43mKernel\u001b[49m\u001b[38;5;241;43m.\u001b[39;49m\u001b[43mcenter_kernel_matrix_regression\u001b[49m\u001b[43m(\u001b[49m\u001b[43mKx\u001b[49m\u001b[43m,\u001b[49m\u001b[43m \u001b[49m\u001b[43mKzx\u001b[49m\u001b[43m,\u001b[49m\u001b[43m \u001b[49m\u001b[38;5;28;43mself\u001b[39;49m\u001b[38;5;241;43m.\u001b[39;49m\u001b[43mepsilon_x\u001b[49m\u001b[43m)\u001b[49m\n\u001b[1;32m    503\u001b[0m     \u001b[38;5;28;01mif\u001b[39;00m \u001b[38;5;28mself\u001b[39m\u001b[38;5;241m.\u001b[39mepsilon_x \u001b[38;5;241m!=\u001b[39m \u001b[38;5;28mself\u001b[39m\u001b[38;5;241m.\u001b[39mepsilon_y \u001b[38;5;129;01mor\u001b[39;00m (\u001b[38;5;28mself\u001b[39m\u001b[38;5;241m.\u001b[39mkernelZ \u001b[38;5;241m==\u001b[39m \u001b[38;5;124m'\u001b[39m\u001b[38;5;124mGaussian\u001b[39m\u001b[38;5;124m'\u001b[39m \u001b[38;5;129;01mand\u001b[39;00m \u001b[38;5;28mself\u001b[39m\u001b[38;5;241m.\u001b[39muse_gp):\n\u001b[1;32m    504\u001b[0m         KyR, _ \u001b[38;5;241m=\u001b[39m Kernel\u001b[38;5;241m.\u001b[39mcenter_kernel_matrix_regression(Ky, Kzy, \u001b[38;5;28mself\u001b[39m\u001b[38;5;241m.\u001b[39mepsilon_y)\n",
      "File \u001b[0;32m~/anaconda3/envs/graph/lib/python3.10/site-packages/causallearn/utils/KCI/Kernel.py:49\u001b[0m, in \u001b[0;36mKernel.center_kernel_matrix_regression\u001b[0;34m(K, Kz, epsilon)\u001b[0m\n\u001b[1;32m     47\u001b[0m n \u001b[38;5;241m=\u001b[39m shape(K)[\u001b[38;5;241m0\u001b[39m]\n\u001b[1;32m     48\u001b[0m Rz \u001b[38;5;241m=\u001b[39m epsilon \u001b[38;5;241m*\u001b[39m pinv(Kz \u001b[38;5;241m+\u001b[39m epsilon \u001b[38;5;241m*\u001b[39m eye(n))\n\u001b[0;32m---> 49\u001b[0m \u001b[38;5;28;01mreturn\u001b[39;00m Rz\u001b[38;5;241m.\u001b[39mdot(\u001b[43mK\u001b[49m\u001b[38;5;241;43m.\u001b[39;49m\u001b[43mdot\u001b[49m\u001b[43m(\u001b[49m\u001b[43mRz\u001b[49m\u001b[43m)\u001b[49m), Rz\n",
      "\u001b[0;31mKeyboardInterrupt\u001b[0m: "
     ]
    }
   ],
   "source": [
    "n_nodes = 6\n",
    "dense = 0.5\n",
    "t = 8\n",
    "n_list = [800,1600,2400,3200,4000]\n",
    "cits = [kcit]\n",
    "p_ensembles = [p_cauchy]\n",
    "ks = [1]\n",
    "\n",
    "results = {}\n",
    "\n",
    "for k, cit, p_ensemble in zip(ks, cits, p_ensembles):\n",
    "\n",
    "    print(f'---k={k}---')\n",
    "\n",
    "    result = []\n",
    "\n",
    "    for n in n_list:\n",
    "        if cit != kcit or k!=1 or n<6000:\n",
    "            start_time = time.time()\n",
    "            res = []\n",
    "            resabs = []\n",
    "            for i in tqdm(range(t), desc=\"Processing\"):\n",
    "                np.random.seed(i)\n",
    "                data, tcg = generate_graph_samples(n,n_nodes,dense)\n",
    "                cg = epc(data, cit, p_ensemble, k if k < 100 else int(n/k), show_progress=False)\n",
    "                cg = cg.G.graph\n",
    "                resabs.append(compute_SHD(np.abs(cg), np.abs(tcg)))\n",
    "                res.append(compute_SHD(cg, tcg))\n",
    "            end_time = time.time()\n",
    "            result.append([np.mean(res), np.std(res), np.mean(resabs), np.std(resabs), end_time - start_time])\n",
    "\n",
    "    print('---')\n",
    "    \n",
    "    results[cit.__name__ + str(k) + p_ensemble.__name__] = np.array(result).T.tolist()\n",
    "\n",
    "results"
   ]
  }
 ],
 "metadata": {
  "kernelspec": {
   "display_name": "graph",
   "language": "python",
   "name": "python3"
  },
  "language_info": {
   "codemirror_mode": {
    "name": "ipython",
    "version": 3
   },
   "file_extension": ".py",
   "mimetype": "text/x-python",
   "name": "python",
   "nbconvert_exporter": "python",
   "pygments_lexer": "ipython3",
   "version": "3.10.14"
  }
 },
 "nbformat": 4,
 "nbformat_minor": 4
}
