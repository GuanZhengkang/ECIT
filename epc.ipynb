{
 "cells": [
  {
   "cell_type": "code",
   "execution_count": 52,
   "metadata": {},
   "outputs": [
    {
     "data": {
      "text/plain": [
       "array([[ 0,  0,  0,  0,  0],\n",
       "       [ 0,  0, -1,  0,  0],\n",
       "       [ 0,  1,  0,  0, -1],\n",
       "       [ 0,  0,  0,  0,  0],\n",
       "       [ 0,  0,  1,  0,  0]])"
      ]
     },
     "execution_count": 52,
     "metadata": {},
     "output_type": "execute_result"
    }
   ],
   "source": [
    "import numpy as np\n",
    "from tqdm import tqdm\n",
    "import time\n",
    "import matplotlib.pyplot as plt\n",
    "from ecit import *\n",
    "\n",
    "n = 1000\n",
    "n_nodes = 5\n",
    "dense = 0.7\n",
    "data, tcg = generate_graph_samples(1000, 5, 0.3)\n",
    "tcg"
   ]
  },
  {
   "cell_type": "code",
   "execution_count": 53,
   "metadata": {},
   "outputs": [
    {
     "name": "stderr",
     "output_type": "stream",
     "text": [
      "Depth=1, working on node 4: 100%|██████████| 5/5 [00:07<00:00,  1.47s/it]\n"
     ]
    },
    {
     "data": {
      "text/plain": [
       "2"
      ]
     },
     "execution_count": 53,
     "metadata": {},
     "output_type": "execute_result"
    }
   ],
   "source": [
    "cg = epc(data,kcit,p_cauchy,1)\n",
    "compute_SHD(tcg,cg.G.graph)"
   ]
  },
  {
   "cell_type": "code",
   "execution_count": 54,
   "metadata": {},
   "outputs": [
    {
     "name": "stderr",
     "output_type": "stream",
     "text": [
      "Depth=1, working on node 4: 100%|██████████| 5/5 [00:01<00:00,  3.50it/s]\n"
     ]
    },
    {
     "data": {
      "text/plain": [
       "2"
      ]
     },
     "execution_count": 54,
     "metadata": {},
     "output_type": "execute_result"
    }
   ],
   "source": [
    "cg = epc(data,rcit,p_cauchy,1)\n",
    "compute_SHD(tcg,cg.G.graph)"
   ]
  },
  {
   "cell_type": "code",
   "execution_count": 55,
   "metadata": {},
   "outputs": [
    {
     "name": "stderr",
     "output_type": "stream",
     "text": [
      "Depth=1, working on node 4: 100%|██████████| 5/5 [00:03<00:00,  1.35it/s]\n"
     ]
    },
    {
     "data": {
      "text/plain": [
       "2"
      ]
     },
     "execution_count": 55,
     "metadata": {},
     "output_type": "execute_result"
    }
   ],
   "source": [
    "cg = epc(data,kcit,p_cauchy,2)\n",
    "compute_SHD(tcg,cg.G.graph)"
   ]
  },
  {
   "cell_type": "code",
   "execution_count": 56,
   "metadata": {},
   "outputs": [
    {
     "name": "stderr",
     "output_type": "stream",
     "text": [
      "Depth=1, working on node 4: 100%|██████████| 5/5 [00:01<00:00,  2.87it/s]\n"
     ]
    },
    {
     "data": {
      "text/plain": [
       "2"
      ]
     },
     "execution_count": 56,
     "metadata": {},
     "output_type": "execute_result"
    }
   ],
   "source": [
    "cg = epc(data,kcit,p_cauchy,4)\n",
    "compute_SHD(tcg,cg.G.graph)"
   ]
  },
  {
   "cell_type": "markdown",
   "metadata": {},
   "source": [
    "- 5 nodes Dense\n",
    "\n",
    "- 5 nodes Sparse\n",
    "\n",
    "    - kcit (baseline)\n",
    "    - ensemble kcit,cmiknn,nnscit\n",
    "      - k\n",
    "      - n \n",
    "    - rcit "
   ]
  },
  {
   "cell_type": "code",
   "execution_count": null,
   "metadata": {},
   "outputs": [],
   "source": [
    "n = 1000\n",
    "n_nodes = 5\n",
    "dense = 0.7\n",
    "\n",
    "t = 100\n",
    "n_list = [100,500,1000,2000,4000,6000,8000]\n",
    "\n",
    "cit = kcit\n",
    "p_ensemble = p_cauchy\n",
    "k = 4\n",
    "results = []\n",
    "\n",
    "for n in n_list:\n",
    "    start_time = time.time()\n",
    "    res = []\n",
    "    for i in tqdm(range(t), desc=\"Processing\"):\n",
    "        np.random.seed(i)\n",
    "        data, tcg = generate_graph_samples(n,n_nodes,dense)\n",
    "        cg = epc(data, cit, p_ensemble, k, show_progress=False)\n",
    "        cg = np.abs(cg.G.graph)\n",
    "        res.append(compute_SHD(cg, tcg))\n",
    "    end_time = time.time()\n",
    "    results.append([np.mean(res), np.std(res), end_time - start_time])\n",
    "np.array(results).T"
   ]
  }
 ],
 "metadata": {
  "kernelspec": {
   "display_name": "graph",
   "language": "python",
   "name": "python3"
  },
  "language_info": {
   "codemirror_mode": {
    "name": "ipython",
    "version": 3
   },
   "file_extension": ".py",
   "mimetype": "text/x-python",
   "name": "python",
   "nbconvert_exporter": "python",
   "pygments_lexer": "ipython3",
   "version": "3.10.14"
  }
 },
 "nbformat": 4,
 "nbformat_minor": 2
}
