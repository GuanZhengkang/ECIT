{
 "cells": [
  {
   "cell_type": "markdown",
   "metadata": {},
   "source": [
    "| **method**  | $\\alpha$           |  $n$     |\n",
    "|-------------|--------------------|----------| \n",
    "|   KCIT/RCIT |         2          | 400      |\n",
    "|   CMIknn    |         1.25       | 1000     | \n",
    "|   CCIT      |         1.75       | 1000,2000|  "
   ]
  },
  {
   "cell_type": "markdown",
   "metadata": {},
   "source": [
    "__Significant level = 0.05__"
   ]
  },
  {
   "cell_type": "markdown",
   "metadata": {},
   "source": [
    "## KCIT:\n",
    "\n",
    "- indp: 'N'\n",
    "\n",
    "- dz: 1\n",
    "\n",
    "- z_dis: 'gaussian', 'uniform'\n",
    "\n",
    "- noise_dis: 'gaussian', 't', 'cauchy'\n",
    "\n",
    "- noise_std: 1\n",
    "\n"
   ]
  },
  {
   "cell_type": "markdown",
   "metadata": {},
   "source": [
    "|gaussian | **noise_dis** | **gaussian** | | | **t** | | | **cauchy** | | |\n",
    "|---|---|---|---|---|---|---|---|---|---|---|\n",
    "| **N** | | **Type I** | **Type II** | **Overall** | **Type I** | **Type II** | **Overall** | **Type I** | **Type II** | **Overall** |\n",
    "| 800 | KCIT         | 0.056 | 0.026 | 0.082 | 0.040 | 0.171 | 0.211 | 0.019 | 0.697 | 0.716 |\n",
    "| | Ensemble (n=400) | 0.064 | 0.030 | 0.094 | 0.036 | 0.135 | 0.171 | 0.021 | 0.687 | 0.708 |\n",
    "| 1200 | KCIT        | 0.054 | 0.000 | 0.054 | 0.057 | 0.157 | 0.214 | 0.026 | 0.680 | 0.706 |\n",
    "| | Ensemble (n=400) | 0.052 | 0.026 | 0.078 | 0.041 | 0.102 | 0.143 | 0.028 | 0.642 | 0.670 |\n",
    "| 2000 | KCIT        | 0.061 | 0.000 | 0.061 | 0.040 | 0.146 | 0.186 | 0.018 | 0.696 | 0.714 |\n",
    "| | Ensemble (n=400) | 0.059 | 0.007 | 0.066 | 0.052 | 0.066 | 0.118 | 0.018 | 0.607 | 0.625 |"
   ]
  },
  {
   "cell_type": "markdown",
   "metadata": {},
   "source": [
    "|uniform | **noise_dis** | **gaussian** | | | **t** | | | **cauchy** | | |\n",
    "|---|---|---|---|---|---|---|---|---|---|---|\n",
    "| **N** | | **Type I** | **Type II** | **Overall** | **Type I** | **Type II** | **Overall** | **Type I** | **Type II** | **Overall** |\n",
    "| 800 | KCIT         | 0.053 | 0.001 | 0.054 | 0.050 | 0.165 | 0.215 | 0.010 | 0.691 | 0.701 |\n",
    "| | Ensemble (n=400) | 0.046 | 0.000 | 0.046 | 0.046 | 0.137 | 0.183 | 0.011 | 0.674 | 0.685 |\n",
    "| 1200 | KCIT        | 0.057 | 0.000 | 0.057 | 0.052 | 0.152 | 0.204 | 0.014 | 0.687 | 0.701 |\n",
    "| | Ensemble (n=400) | 0.043 | 0.000 | 0.043 | 0.051 | 0.090 | 0.141 | 0.015 | 0.650 | 0.665 |\n",
    "| 2000 | KCIT        | 0.058 | 0.000 | 0.058 | 0.038 | 0.139 | 0.177 | 0.024 | 0.693 | 0.717 |\n",
    "| | Ensemble (n=400) | 0.055 | 0.000 | 0.055 | 0.041 | 0.050 | 0.091 | 0.021 | 0.618 | 0.639 |"
   ]
  },
  {
   "cell_type": "markdown",
   "metadata": {},
   "source": [
    "- indp: 'N'\n",
    "\n",
    "- dz: 2,3,4,5,10\n",
    "\n",
    "- z_dis: 'gaussian'\n",
    "\n",
    "- noise_dis: 't'\n",
    "\n",
    "- noise_std: 1"
   ]
  },
  {
   "cell_type": "markdown",
   "metadata": {},
   "source": [
    "## CCIT:\n",
    "\n",
    "- indp: 'N'\n",
    "\n",
    "- dz: 2, 5, 10, 20\n",
    "\n",
    "- z_dis: 'gaussian'\n",
    "\n",
    "- noise_dis: 't'\n",
    "\n",
    "- noise_std: 1\n",
    "\n"
   ]
  },
  {
   "cell_type": "markdown",
   "metadata": {},
   "source": [
    "## CMIknn:\n",
    "\n",
    "- indp: 'N'\n",
    "\n",
    "- dz: 2, 5, 10\n",
    "\n",
    "- z_dis: 'gaussian'\n",
    "\n",
    "- noise_dis: 't'\n",
    "\n",
    "- noise_std: 1\n",
    "\n"
   ]
  }
 ],
 "metadata": {
  "kernelspec": {
   "display_name": "graph",
   "language": "python",
   "name": "python3"
  },
  "language_info": {
   "codemirror_mode": {
    "name": "ipython",
    "version": 3
   },
   "file_extension": ".py",
   "mimetype": "text/x-python",
   "name": "python",
   "nbconvert_exporter": "python",
   "pygments_lexer": "ipython3",
   "version": "3.10.14"
  }
 },
 "nbformat": 4,
 "nbformat_minor": 2
}
