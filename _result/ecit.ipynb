{
 "cells": [
  {
   "cell_type": "markdown",
   "metadata": {},
   "source": [
    "| **method** | $\\alpha$           |  $n$     |\n",
    "|------------|--------------------|----------| \n",
    "|   KCIT     |         2          | 400 |\n",
    "|   CMIknn   |         1.25       | ?500, ?1000| \n",
    "|   CCIT     |         1.75       | ?500, ?1000     |  "
   ]
  },
  {
   "cell_type": "markdown",
   "metadata": {},
   "source": [
    "## KCIT:\n",
    "\n",
    "- indp: 'N'\n",
    "\n",
    "- dz: 1\n",
    "\n",
    "- z_dis: 'gaussian', 'uniform'\n",
    "\n",
    "- noise_dis: 'gaussian', 't', 'cauchy'\n",
    "\n",
    "- noise_std: 1\n",
    "\n"
   ]
  },
  {
   "cell_type": "markdown",
   "metadata": {},
   "source": [
    "|z_dis: gaussian| **noise_dis**        | **gaussian**           |             |             | **t**           |             |             | **cauchy**           |             |             |\n",
    "|--------|---------------------|--------------------|-------------|-------------|--------------------|-------------|-------------|--------------------|-------------|-------------|\n",
    "|  **N**   |                     | **Type I**         | **Type II** | **Overall** | **Type I**         | **Type II** | **Overall** | **Type I**         | **Type II** | **Overall** |\n",
    "| 800    |  KCIT                |                    |             |             |                    |             |             |                    |             |             |\n",
    "|        | Ensemble (n=400)    |                    |             |             |                    |             |             |                    |             |             |\n",
    "| 1200    | KCIT                |                    |             |             |                    |             |             |                    |             |             |\n",
    "|        | Ensemble (n=400)    |                    |             |             |                    |             |             |                    |             |             |\n",
    "| 2000   | KCIT                |                    |             |             |                    |             |             |                    |             |             |\n",
    "|        | Ensemble (n=400)    |                    |             |             |                    |             |             |                    |             |             |\n"
   ]
  },
  {
   "cell_type": "markdown",
   "metadata": {},
   "source": [
    "|z_dis: uniform| **noise_dis**        | **gaussian**           |             |             | **t**           |             |             | **cauchy**           |             |             |\n",
    "|--------|---------------------|--------------------|-------------|-------------|--------------------|-------------|-------------|--------------------|-------------|-------------|\n",
    "|  **N**   |                     | **Type I**         | **Type II** | **Overall** | **Type I**         | **Type II** | **Overall** | **Type I**         | **Type II** | **Overall** |\n",
    "| 800    |  KCIT                |                    |             |             |                    |             |             |                    |             |             |\n",
    "|        | Ensemble (n=400)    |                    |             |             |                    |             |             |                    |             |             |\n",
    "| 1200    | KCIT                |                    |             |             |                    |             |             |                    |             |             |\n",
    "|        | Ensemble (n=400)    |                    |             |             |                    |             |             |                    |             |             |\n",
    "| 2000   | KCIT                |                    |             |             |                    |             |             |                    |             |             |\n",
    "|        | Ensemble (n=400)    |                    |             |             |                    |             |             |                    |             |             |\n"
   ]
  },
  {
   "cell_type": "markdown",
   "metadata": {},
   "source": [
    "## CMIknn:\n",
    "\n",
    "- indp: 'N'\n",
    "\n",
    "- dz: 1\n",
    "\n",
    "- z_dis: 'gaussian', 'uniform'\n",
    "\n",
    "- noise_dis: 'gaussian', 't', 'cauchy'\n",
    "\n",
    "- noise_std: 1\n",
    "\n"
   ]
  }
 ],
 "metadata": {
  "kernelspec": {
   "display_name": "graph",
   "language": "python",
   "name": "python3"
  },
  "language_info": {
   "codemirror_mode": {
    "name": "ipython",
    "version": 3
   },
   "file_extension": ".py",
   "mimetype": "text/x-python",
   "name": "python",
   "nbconvert_exporter": "python",
   "pygments_lexer": "ipython3",
   "version": "3.10.14"
  }
 },
 "nbformat": 4,
 "nbformat_minor": 2
}
