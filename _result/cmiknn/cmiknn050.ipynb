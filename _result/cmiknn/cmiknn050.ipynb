{
 "cells": [
  {
   "cell_type": "code",
   "execution_count": 1,
   "metadata": {
    "execution": {
     "iopub.execute_input": "2025-01-13T06:23:10.780987Z",
     "iopub.status.busy": "2025-01-13T06:23:10.780461Z",
     "iopub.status.idle": "2025-01-13T06:23:14.153407Z",
     "shell.execute_reply": "2025-01-13T06:23:14.152724Z"
    }
   },
   "outputs": [
    {
     "name": "stderr",
     "output_type": "stream",
     "text": [
      "/opt/anaconda3/envs/graph/lib/python3.10/site-packages/tqdm/auto.py:21: TqdmWarning: IProgress not found. Please update jupyter and ipywidgets. See https://ipywidgets.readthedocs.io/en/stable/user_install.html\n",
      "  from .autonotebook import tqdm as notebook_tqdm\n"
     ]
    }
   ],
   "source": [
    "import numpy as np\n",
    "from tqdm import tqdm\n",
    "from ecit import *"
   ]
  },
  {
   "cell_type": "code",
   "execution_count": 2,
   "metadata": {},
   "outputs": [
    {
     "name": "stderr",
     "output_type": "stream",
     "text": [
      "  800, gaussian, 400,  p_alpha05: 100%|██████████| 4/4 [18:10:18<00:00, 16354.55s/it]  \n",
      " 1200, gaussian, 400,  p_alpha05:   0%|          | 0/4 [00:00<?, ?it/s]/opt/anaconda3/envs/graph/lib/python3.10/site-packages/numpy/_core/_methods.py:127: RuntimeWarning: invalid value encountered in reduce\n",
      "  ret = umr_sum(arr, axis, dtype, out, keepdims, where=where)\n",
      " 1200, gaussian, 400,  p_alpha05:  25%|██▌       | 1/4 [6:47:56<20:23:48, 24476.08s/it]/opt/anaconda3/envs/graph/lib/python3.10/site-packages/numpy/_core/_methods.py:127: RuntimeWarning: invalid value encountered in reduce\n",
      "  ret = umr_sum(arr, axis, dtype, out, keepdims, where=where)\n",
      " 1200, gaussian, 400,  p_alpha05:  50%|█████     | 2/4 [13:36:05<13:36:07, 24483.96s/it]/opt/anaconda3/envs/graph/lib/python3.10/site-packages/numpy/_core/_methods.py:127: RuntimeWarning: invalid value encountered in reduce\n",
      "  ret = umr_sum(arr, axis, dtype, out, keepdims, where=where)\n",
      "/opt/anaconda3/envs/graph/lib/python3.10/site-packages/numpy/_core/_methods.py:127: RuntimeWarning: invalid value encountered in reduce\n",
      "  ret = umr_sum(arr, axis, dtype, out, keepdims, where=where)\n",
      " 1200, gaussian, 400,  p_alpha05:  75%|███████▌  | 3/4 [20:24:54<6:48:24, 24504.55s/it] /opt/anaconda3/envs/graph/lib/python3.10/site-packages/numpy/_core/_methods.py:127: RuntimeWarning: invalid value encountered in reduce\n",
      "  ret = umr_sum(arr, axis, dtype, out, keepdims, where=where)\n",
      " 1200, gaussian, 400,  p_alpha05: 100%|██████████| 4/4 [27:12:57<00:00, 24494.31s/it]  \n",
      " 1600, gaussian, 400,  p_alpha05:   0%|          | 0/4 [00:00<?, ?it/s]/opt/anaconda3/envs/graph/lib/python3.10/site-packages/numpy/_core/_methods.py:127: RuntimeWarning: invalid value encountered in reduce\n",
      "  ret = umr_sum(arr, axis, dtype, out, keepdims, where=where)\n",
      "/opt/anaconda3/envs/graph/lib/python3.10/site-packages/numpy/_core/_methods.py:127: RuntimeWarning: invalid value encountered in reduce\n",
      "  ret = umr_sum(arr, axis, dtype, out, keepdims, where=where)\n",
      "/opt/anaconda3/envs/graph/lib/python3.10/site-packages/numpy/_core/_methods.py:127: RuntimeWarning: invalid value encountered in reduce\n",
      "  ret = umr_sum(arr, axis, dtype, out, keepdims, where=where)\n",
      "/opt/anaconda3/envs/graph/lib/python3.10/site-packages/numpy/_core/_methods.py:127: RuntimeWarning: invalid value encountered in reduce\n",
      "  ret = umr_sum(arr, axis, dtype, out, keepdims, where=where)\n",
      " 1600, gaussian, 400,  p_alpha05:  25%|██▌       | 1/4 [9:04:18<27:12:54, 32658.24s/it]/opt/anaconda3/envs/graph/lib/python3.10/site-packages/numpy/_core/_methods.py:127: RuntimeWarning: invalid value encountered in reduce\n",
      "  ret = umr_sum(arr, axis, dtype, out, keepdims, where=where)\n",
      " 1600, gaussian, 400,  p_alpha05:  50%|█████     | 2/4 [18:10:00<18:10:14, 32707.46s/it]/opt/anaconda3/envs/graph/lib/python3.10/site-packages/numpy/_core/_methods.py:127: RuntimeWarning: invalid value encountered in reduce\n",
      "  ret = umr_sum(arr, axis, dtype, out, keepdims, where=where)\n",
      "/opt/anaconda3/envs/graph/lib/python3.10/site-packages/numpy/_core/_methods.py:127: RuntimeWarning: invalid value encountered in reduce\n",
      "  ret = umr_sum(arr, axis, dtype, out, keepdims, where=where)\n",
      " 1600, gaussian, 400,  p_alpha05:  75%|███████▌  | 3/4 [27:16:46<9:05:52, 32752.57s/it] /opt/anaconda3/envs/graph/lib/python3.10/site-packages/numpy/_core/_methods.py:127: RuntimeWarning: invalid value encountered in reduce\n",
      "  ret = umr_sum(arr, axis, dtype, out, keepdims, where=where)\n",
      "/opt/anaconda3/envs/graph/lib/python3.10/site-packages/numpy/_core/_methods.py:127: RuntimeWarning: invalid value encountered in reduce\n",
      "  ret = umr_sum(arr, axis, dtype, out, keepdims, where=where)\n",
      " 1600, gaussian, 400,  p_alpha05: 100%|██████████| 4/4 [36:15:41<00:00, 32635.47s/it]  \n"
     ]
    },
    {
     "data": {
      "text/plain": [
       "[[800,\n",
       "  'Gaussian',\n",
       "  'cmiknn400p_alpha05',\n",
       "  0.134,\n",
       "  0.966,\n",
       "  0.125,\n",
       "  0.969,\n",
       "  0.123,\n",
       "  0.952,\n",
       "  0.137,\n",
       "  0.916],\n",
       " [1200,\n",
       "  'Gaussian',\n",
       "  'cmiknn400p_alpha05',\n",
       "  0.133,\n",
       "  0.988,\n",
       "  0.159,\n",
       "  0.983,\n",
       "  0.141,\n",
       "  0.973,\n",
       "  0.135,\n",
       "  0.951],\n",
       " [1600,\n",
       "  'Gaussian',\n",
       "  'cmiknn400p_alpha05',\n",
       "  0.172,\n",
       "  0.992,\n",
       "  0.176,\n",
       "  0.986,\n",
       "  0.153,\n",
       "  0.986,\n",
       "  0.137,\n",
       "  0.968]]"
      ]
     },
     "execution_count": 2,
     "metadata": {},
     "output_type": "execute_result"
    }
   ],
   "source": [
    "np.random.seed(1)\n",
    "random.seed(1)\n",
    "\n",
    "t = 1000\n",
    "n_list = [800, 1200, 1600]\n",
    "ensCIT = [(cmiknn, 400, p_alpha05)]\n",
    "zDiss = ['gaussian'] \n",
    "noiseDiss = ['t4','t3','t2','t1'] \n",
    "\n",
    "results_table = []\n",
    "\n",
    "for n in n_list:\n",
    "    for zDis in zDiss:\n",
    "        for cit, k, p_ensemble in ensCIT:\n",
    "            row = [n, zDis.capitalize(), cit.__name__ + str(k) + p_ensemble.__name__]\n",
    "\n",
    "            for noiseDis in tqdm(noiseDiss, desc=f\"{n:>5}, {zDis:>8}, {k:>3},{p_ensemble.__name__:>11}\"):\n",
    "                eI = 0\n",
    "                eII = 0\n",
    "                for i in range(t):\n",
    "                    retries = 0\n",
    "                    while retries < 5:\n",
    "                        try:\n",
    "                            dataI = np.hstack((generate_samples(n=n,indp='C',z_dis=zDis, noise_dis=noiseDis,noise_std=1)))\n",
    "                            dataII = np.hstack((generate_samples(n=n,indp='N',z_dis=zDis, noise_dis=noiseDis,noise_std=1)))\n",
    "                            obj_ECIT = ECIT(dataI, cit, p_ensemble, k if k<100 else int(n/k))\n",
    "                            pI = obj_ECIT([0], [1], [2])\n",
    "                            obj_ECIT = ECIT(dataII, cit, p_ensemble, k if k<100 else int(n/k))\n",
    "                            pII = obj_ECIT([0], [1], [2])\n",
    "                            break\n",
    "                        except Exception as e:\n",
    "                            retries += 1\n",
    "                            print(f\"Retry times {retries}: {e}\")\n",
    "                            if retries > 5: raise e\n",
    "                    if pI<0.05:\n",
    "                        eI += 1\n",
    "                    if pII>0.05:\n",
    "                        eII += 1\n",
    "                eI = eI/t\n",
    "                power = (t - eII)/t\n",
    "                row.append(eI)\n",
    "                row.append(power)\n",
    "            results_table.append(row)\n",
    "\n",
    "results_table"
   ]
  },
  {
   "cell_type": "code",
   "execution_count": 3,
   "metadata": {},
   "outputs": [
    {
     "name": "stdout",
     "output_type": "stream",
     "text": [
      "800    Gaussian     cmiknn400p_alpha05 0.134  0.966  0.125  0.969  0.123  0.952 \n",
      "1200   Gaussian     cmiknn400p_alpha05 0.133  0.988  0.159  0.983  0.141  0.973 \n",
      "1600   Gaussian     cmiknn400p_alpha05 0.172  0.992  0.176  0.986  0.153  0.986 \n"
     ]
    }
   ],
   "source": [
    "data = results_table\n",
    "\n",
    "data = [\n",
    "    [round(item, 3) if isinstance(item, float) else item for item in sublist]\n",
    "    for sublist in data\n",
    "]\n",
    "for row in data:\n",
    "    print(\"{:<6} {:<12} {:<18} {:<6.3f} {:<6.3f} {:<6.3f} {:<6.3f} {:<6.3f} {:<6.3f}\".format(*row))"
   ]
  }
 ],
 "metadata": {
  "kernelspec": {
   "display_name": "graph",
   "language": "python",
   "name": "python3"
  },
  "language_info": {
   "codemirror_mode": {
    "name": "ipython",
    "version": 3
   },
   "file_extension": ".py",
   "mimetype": "text/x-python",
   "name": "python",
   "nbconvert_exporter": "python",
   "pygments_lexer": "ipython3",
   "version": "3.10.13"
  },
  "share": {
   "datetime": "2025-01-16T05:48:24.740Z",
   "image": {
    "name": "modelscope:1.18.0-pytorch2.3.0-cpu-py310-ubuntu22.04",
    "url": "dsw-registry-vpc.cn-hangzhou.cr.aliyuncs.com/pai/modelscope:1.18.0-pytorch2.3.0-cpu-py310-ubuntu22.04"
   },
   "instance": "dsw-03a689ba3735b16d",
   "spec": {
    "id": "ecs.g6.xlarge",
    "type": "CPU"
   },
   "uid": "1260733139507565"
  }
 },
 "nbformat": 4,
 "nbformat_minor": 4
}
