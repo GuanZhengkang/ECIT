{
 "cells": [
  {
   "cell_type": "code",
   "execution_count": 18,
   "metadata": {},
   "outputs": [],
   "source": [
    "import numpy as np\n",
    "from tqdm import tqdm\n",
    "import time\n",
    "import matplotlib.pyplot as plt\n",
    "from ecit import *\n",
    "import seaborn as sns\n",
    "\n",
    "def plotPIS(pIs,title):\n",
    "    sns.set_style(\"whitegrid\")\n",
    "    sns.set_context(\"paper\", font_scale=1.6)\n",
    "    plt.rcParams['axes.linewidth'] = 1.2\n",
    "\n",
    "\n",
    "    plt.figure(figsize=(7, 4), dpi=500)\n",
    "    plt.grid(axis='both', linestyle='--', alpha=0.3)\n",
    "    plt.hist(pIs, bins=20, weights=np.ones(len(pIs)) / len(pIs), color='royalblue', alpha=0.75)\n",
    "\n",
    "    plt.xlabel('p-values')\n",
    "    plt.ylabel('Frequency')\n",
    "    plt.title(title)\n",
    "\n",
    "    plt.ylim(0, 0.21)\n",
    "    plt.yticks(np.arange(0.05, 0.2, 0.05)) \n",
    "\n",
    "    plt.xlim(0, 1)\n",
    "\n",
    "    plt.show()"
   ]
  },
  {
   "cell_type": "code",
   "execution_count": null,
   "metadata": {},
   "outputs": [],
   "source": [
    "pIs = []\n",
    "t = 10\n",
    "for i in tqdm(range(t), leave=True, dynamic_ncols=True):\n",
    "\n",
    "    dataI = np.hstack((generate_samples(n=400,indp='C',z_dis='gaussian',noise_dis='gaussian',noise_std=1)))\n",
    "\n",
    "    obj_ECIT = ECIT(dataI, kcit, p_alpha1, 1)\n",
    "    pI = obj_ECIT([0], [1], [2])\n",
    "    pIs.append(pI)\n",
    "\n",
    "plotPIS(pIs, \"\")"
   ]
  },
  {
   "cell_type": "code",
   "execution_count": null,
   "metadata": {},
   "outputs": [],
   "source": [
    "pIs = []\n",
    "t = 1000\n",
    "for i in tqdm(range(t), leave=True, dynamic_ncols=True):\n",
    "\n",
    "    dataI = np.hstack((generate_samples(n=400,indp='C',z_dis='gaussian',noise_dis='t',noise_std=1)))\n",
    "\n",
    "    obj_ECIT = ECIT(dataI, kcit, p_alpha1, 1)\n",
    "    pI = obj_ECIT([0], [1], [2])\n",
    "    pIs.append(pI)\n",
    "\n",
    "plotPIS(pIs, \"\")"
   ]
  },
  {
   "cell_type": "code",
   "execution_count": null,
   "metadata": {},
   "outputs": [],
   "source": [
    "pIs = []\n",
    "t = 1000\n",
    "for i in tqdm(range(t), leave=True, dynamic_ncols=True):\n",
    "\n",
    "    dataI = np.hstack((generate_samples(n=400,indp='C',z_dis='gaussian',noise_dis='cauchy',noise_std=1)))\n",
    "\n",
    "    obj_ECIT = ECIT(dataI, kcit, p_alpha1, 1)\n",
    "    pI = obj_ECIT([0], [1], [2])\n",
    "    pIs.append(pI)\n",
    "\n",
    "plotPIS(pIs, \"\")"
   ]
  },
  {
   "cell_type": "code",
   "execution_count": null,
   "metadata": {},
   "outputs": [],
   "source": [
    "pIs = []\n",
    "t = 1000\n",
    "for i in tqdm(range(t), leave=True, dynamic_ncols=True):\n",
    "\n",
    "    dataI = np.hstack((generate_samples(n=400,indp='C',z_dis='gaussian',noise_dis='gaussian',noise_std=1)))\n",
    "\n",
    "    obj_ECIT = ECIT(dataI, rcit, p_alpha1, 1)\n",
    "    pI = obj_ECIT([0], [1], [2])\n",
    "    pIs.append(pI)\n",
    "\n",
    "plotPIS(pIs, \"\")"
   ]
  },
  {
   "cell_type": "code",
   "execution_count": null,
   "metadata": {},
   "outputs": [],
   "source": [
    "pIs = []\n",
    "t = 1000\n",
    "for i in tqdm(range(t), leave=True, dynamic_ncols=True):\n",
    "\n",
    "    dataI = np.hstack((generate_samples(n=400,indp='C',z_dis='gaussian',noise_dis='t',noise_std=1)))\n",
    "\n",
    "    obj_ECIT = ECIT(dataI, rcit, p_alpha1, 1)\n",
    "    pI = obj_ECIT([0], [1], [2])\n",
    "    pIs.append(pI)\n",
    "\n",
    "plotPIS(pIs, \"\")"
   ]
  },
  {
   "cell_type": "code",
   "execution_count": null,
   "metadata": {},
   "outputs": [],
   "source": [
    "pIs = []\n",
    "t = 1000\n",
    "for i in tqdm(range(t), leave=True, dynamic_ncols=True):\n",
    "\n",
    "    dataI = np.hstack((generate_samples(n=400,indp='C',z_dis='gaussian',noise_dis='cauchy',noise_std=1)))\n",
    "\n",
    "    obj_ECIT = ECIT(dataI, rcit, p_alpha1, 1)\n",
    "    pI = obj_ECIT([0], [1], [2])\n",
    "    pIs.append(pI)\n",
    "\n",
    "plotPIS(pIs, \"\")"
   ]
  }
 ],
 "metadata": {
  "kernelspec": {
   "display_name": "graph",
   "language": "python",
   "name": "python3"
  },
  "language_info": {
   "codemirror_mode": {
    "name": "ipython",
    "version": 3
   },
   "file_extension": ".py",
   "mimetype": "text/x-python",
   "name": "python",
   "nbconvert_exporter": "python",
   "pygments_lexer": "ipython3",
   "version": "3.10.14"
  }
 },
 "nbformat": 4,
 "nbformat_minor": 2
}
