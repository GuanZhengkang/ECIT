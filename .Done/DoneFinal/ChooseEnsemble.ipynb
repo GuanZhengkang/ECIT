{
 "cells": [
  {
   "cell_type": "code",
   "execution_count": 1,
   "metadata": {},
   "outputs": [
    {
     "name": "stderr",
     "output_type": "stream",
     "text": [
      "/Users/gzk/anaconda3/envs/graph/lib/python3.10/site-packages/tqdm/auto.py:21: TqdmWarning: IProgress not found. Please update jupyter and ipywidgets. See https://ipywidgets.readthedocs.io/en/stable/user_install.html\n",
      "  from .autonotebook import tqdm as notebook_tqdm\n"
     ]
    }
   ],
   "source": [
    "import numpy as np\n",
    "from tqdm import tqdm\n",
    "import time\n",
    "import matplotlib.pyplot as plt\n",
    "import matplotlib.cm as cm\n",
    "from ecit import *\n",
    "\n",
    "\n",
    "def ecit_simu_alpha(n_list=[2000, 4000],\n",
    "              t = 1000,\n",
    "              cit = kcit,\n",
    "              k = 10,\n",
    "              alphas=[0.5, 0.75, 1, 1.25, 1.5, 1.75, 2],\n",
    "              show_progress=True):\n",
    "    \n",
    "    results = []\n",
    "\n",
    "    for n in n_list:\n",
    "\n",
    "        eI = [0] * len(alphas)\n",
    "        eII = [0] * len(alphas)\n",
    "        tim = 0\n",
    "        start_time = time.time()\n",
    "        iteration_loop = tqdm(range(t), desc=f\"n={n}\", leave=True, dynamic_ncols=True) if show_progress else range(t)\n",
    "\n",
    "        for sed in iteration_loop:\n",
    "            #np.random.seed(sed)\n",
    "            #random.seed(sed)\n",
    "            dataI = np.hstack((generate_samples(n=n,indp='C',z_dis='gaussian',noise_dis='laplace',noise_std=0.3)))\n",
    "            dataII = np.hstack((generate_samples(n=n,indp='N',z_dis='gaussian',noise_dis='laplace',noise_std=0.3)))\n",
    "\n",
    "            obj_ECIT = ECIT(dataI, cit, p_stable, k)\n",
    "            _, pI_list = obj_ECIT([0], [1], [2], return_p_list=True)\n",
    "            obj_ECIT = ECIT(dataII, cit, p_stable, k)\n",
    "            _, pII_list = obj_ECIT([0], [1], [2], return_p_list=True)\n",
    "\n",
    "            for j, alpha in enumerate(alphas):\n",
    "                ensfunc = lambda p_list: p_stable(p_list, alpha=alpha)\n",
    "                pI = ensfunc(pI_list)\n",
    "                pII = ensfunc(pII_list)\n",
    "                if pI<0.05:\n",
    "                    eI[j] += 1\n",
    "                if pII>0.05:\n",
    "                    eII[j] += 1\n",
    "    \n",
    "\n",
    "        end_time = time.time()\n",
    "        tim = end_time - start_time\n",
    "        eI = [count / t for count in eI]\n",
    "        eII = [count / t for count in eII]\n",
    "\n",
    "        results.append({\n",
    "            'n': n,\n",
    "            'eI': eI,\n",
    "            'eII': eII,\n",
    "            'tim': tim\n",
    "        })\n",
    "\n",
    "    return results\n",
    "\n",
    "\n",
    "\n",
    "\n",
    "def show_results_choose(results, alphas):\n",
    "    \n",
    "    fig, axes = plt.subplots(1, 3, figsize=(16, 4), dpi=500, sharex=True)\n",
    "\n",
    "    ax_eI, ax_eII, ax_eSum = axes\n",
    "\n",
    "    colors = cm.viridis(np.linspace(0.25, 0.85, len(results)))\n",
    "\n",
    "    for res_dir, color in zip(results, colors):\n",
    "        \n",
    "        label = f\"N = {res_dir['n']}\"\n",
    "\n",
    "        eI = np.array(res_dir['eI'])\n",
    "        eII = np.array(res_dir['eII'])\n",
    "        eSum = eI + eII\n",
    "\n",
    "        ax_eI.plot(alphas, eI, label=label, color=color)\n",
    "        ax_eII.plot(alphas, eII, color=color)\n",
    "        ax_eSum.plot(alphas, eSum, color=color)\n",
    "\n",
    "    ax_eI.set_ylim(0, 1)\n",
    "    ax_eII.set_ylim(0, 1)\n",
    "    ax_eSum.set_ylim(0, 1)\n",
    "    \n",
    "    ax_eI.set_ylabel(\"Error Rate\")\n",
    "    ax_eI.set_title(\"Type I Error\")\n",
    "    #ax_eI.set_xlabel(\"Sample Size (n)\")\n",
    "    \n",
    "    ax_eII.set_title(\"Type II Error\")\n",
    "    #ax_eII.set_xlabel(\"Sample Size (n)\")\n",
    "\n",
    "    ax_eSum.set_title(\"Total Error Rate\")\n",
    "    #ax_eSum.set_xlabel(\"Sample Size (n)\")\n",
    "\n",
    "    fig.supxlabel(\"alpha\", fontsize=11)\n",
    "    fig.legend(loc='upper center', bbox_to_anchor=(0.51, -0.05), ncol=2, fontsize=12)\n",
    "\n",
    "    ax_eI.set_xticks(alphas)\n",
    "    ax_eII.set_xticks(alphas)\n",
    "    ax_eSum.set_xticks(alphas)\n",
    "\n",
    "    plt.tight_layout()\n",
    "    plt.show()"
   ]
  },
  {
   "cell_type": "code",
   "execution_count": 37,
   "metadata": {},
   "outputs": [],
   "source": [
    "n_list=[2000, 4000]\n",
    "alphas=[0.5, 0.75, 1, 1.25, 1.5, 1.75, 2]\n",
    "t = 100\n",
    "k = 10"
   ]
  },
  {
   "cell_type": "code",
   "execution_count": null,
   "metadata": {},
   "outputs": [],
   "source": [
    "cit = kcit\n",
    "results = ecit_simu_alpha(n_list=n_list, t=t, cit=cit, k=k, alphas=alphas)\n",
    "show_results_choose(results, alphas)\n",
    "results"
   ]
  },
  {
   "cell_type": "code",
   "execution_count": null,
   "metadata": {},
   "outputs": [],
   "source": [
    "cit = cmiknn\n",
    "results = ecit_simu_alpha(n_list=n_list, t=t, cit=cit, k=k, alphas=alphas)\n",
    "show_results_choose(results, alphas)\n",
    "results"
   ]
  },
  {
   "cell_type": "code",
   "execution_count": null,
   "metadata": {},
   "outputs": [],
   "source": [
    "cit = ccit\n",
    "results = ecit_simu_alpha(n_list=n_list, t=t, cit=cit, k=k, alphas=alphas)\n",
    "show_results_choose(results, alphas)\n",
    "results"
   ]
  }
 ],
 "metadata": {
  "kernelspec": {
   "display_name": "graph",
   "language": "python",
   "name": "python3"
  },
  "language_info": {
   "codemirror_mode": {
    "name": "ipython",
    "version": 3
   },
   "file_extension": ".py",
   "mimetype": "text/x-python",
   "name": "python",
   "nbconvert_exporter": "python",
   "pygments_lexer": "ipython3",
   "version": "3.10.14"
  }
 },
 "nbformat": 4,
 "nbformat_minor": 2
}
