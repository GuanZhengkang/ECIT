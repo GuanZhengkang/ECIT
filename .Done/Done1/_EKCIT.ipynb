{
 "cells": [
  {
   "cell_type": "code",
   "execution_count": 2,
   "metadata": {},
   "outputs": [],
   "source": [
    "from simu import simu, simus\n",
    "import time\n",
    "import pandas as pd\n",
    "import numpy as np\n",
    "import matplotlib.pyplot as plt"
   ]
  },
  {
   "cell_type": "markdown",
   "metadata": {},
   "source": [
    "---\n",
    "\n",
    "## Error控制"
   ]
  },
  {
   "cell_type": "code",
   "execution_count": 9,
   "metadata": {},
   "outputs": [
    {
     "name": "stderr",
     "output_type": "stream",
     "text": [
      "Processing: 100%|██████████| 1000/1000 [00:31<00:00, 31.81it/s]\n"
     ]
    },
    {
     "data": {
      "text/html": [
       "<div>\n",
       "<style scoped>\n",
       "    .dataframe tbody tr th:only-of-type {\n",
       "        vertical-align: middle;\n",
       "    }\n",
       "\n",
       "    .dataframe tbody tr th {\n",
       "        vertical-align: top;\n",
       "    }\n",
       "\n",
       "    .dataframe thead th {\n",
       "        text-align: right;\n",
       "    }\n",
       "</style>\n",
       "<table border=\"1\" class=\"dataframe\">\n",
       "  <thead>\n",
       "    <tr style=\"text-align: right;\">\n",
       "      <th></th>\n",
       "      <th>None</th>\n",
       "    </tr>\n",
       "  </thead>\n",
       "  <tbody>\n",
       "    <tr>\n",
       "      <th>Type I</th>\n",
       "      <td>0.028</td>\n",
       "    </tr>\n",
       "    <tr>\n",
       "      <th>Type II</th>\n",
       "      <td>0.377</td>\n",
       "    </tr>\n",
       "  </tbody>\n",
       "</table>\n",
       "</div>"
      ],
      "text/plain": [
       "          None\n",
       "Type I   0.028\n",
       "Type II  0.377"
      ]
     },
     "execution_count": 9,
     "metadata": {},
     "output_type": "execute_result"
    }
   ],
   "source": [
    "n = 100\n",
    "t = 1000\n",
    "k = 1\n",
    "test_types=[None]\n",
    "simus(n,t,k=k,test_types=test_types)"
   ]
  },
  {
   "cell_type": "code",
   "execution_count": 4,
   "metadata": {},
   "outputs": [
    {
     "name": "stderr",
     "output_type": "stream",
     "text": [
      "Processing: 100%|██████████| 1000/1000 [1:09:26<00:00,  4.17s/it]\n"
     ]
    },
    {
     "data": {
      "text/html": [
       "<div>\n",
       "<style scoped>\n",
       "    .dataframe tbody tr th:only-of-type {\n",
       "        vertical-align: middle;\n",
       "    }\n",
       "\n",
       "    .dataframe tbody tr th {\n",
       "        vertical-align: top;\n",
       "    }\n",
       "\n",
       "    .dataframe thead th {\n",
       "        text-align: right;\n",
       "    }\n",
       "</style>\n",
       "<table border=\"1\" class=\"dataframe\">\n",
       "  <thead>\n",
       "    <tr style=\"text-align: right;\">\n",
       "      <th></th>\n",
       "      <th>None</th>\n",
       "      <th>a</th>\n",
       "      <th>c</th>\n",
       "      <th>ACAT</th>\n",
       "      <th>xACAT</th>\n",
       "      <th>oACAT</th>\n",
       "      <th>bACAT</th>\n",
       "      <th>N</th>\n",
       "      <th>Gamma</th>\n",
       "    </tr>\n",
       "  </thead>\n",
       "  <tbody>\n",
       "    <tr>\n",
       "      <th>Type I</th>\n",
       "      <td>0.084</td>\n",
       "      <td>0.000</td>\n",
       "      <td>0.006</td>\n",
       "      <td>0.048</td>\n",
       "      <td>0.124</td>\n",
       "      <td>0.04</td>\n",
       "      <td>0.077</td>\n",
       "      <td>0.004</td>\n",
       "      <td>0.114</td>\n",
       "    </tr>\n",
       "    <tr>\n",
       "      <th>Type II</th>\n",
       "      <td>0.194</td>\n",
       "      <td>0.397</td>\n",
       "      <td>0.371</td>\n",
       "      <td>0.286</td>\n",
       "      <td>0.202</td>\n",
       "      <td>0.31</td>\n",
       "      <td>0.261</td>\n",
       "      <td>0.355</td>\n",
       "      <td>0.199</td>\n",
       "    </tr>\n",
       "    <tr>\n",
       "      <th>SUM</th>\n",
       "      <td>0.278</td>\n",
       "      <td>0.397</td>\n",
       "      <td>0.377</td>\n",
       "      <td>0.334</td>\n",
       "      <td>0.326</td>\n",
       "      <td>0.35</td>\n",
       "      <td>0.338</td>\n",
       "      <td>0.359</td>\n",
       "      <td>0.313</td>\n",
       "    </tr>\n",
       "  </tbody>\n",
       "</table>\n",
       "</div>"
      ],
      "text/plain": [
       "          None      a      c   ACAT  xACAT  oACAT  bACAT      N  Gamma\n",
       "Type I   0.084  0.000  0.006  0.048  0.124   0.04  0.077  0.004  0.114\n",
       "Type II  0.194  0.397  0.371  0.286  0.202   0.31  0.261  0.355  0.199\n",
       "SUM      0.278  0.397  0.377  0.334  0.326   0.35  0.338  0.359  0.313"
      ]
     },
     "execution_count": 4,
     "metadata": {},
     "output_type": "execute_result"
    }
   ],
   "source": [
    "n = 800\n",
    "t = 1000\n",
    "k = 8\n",
    "test_types=[None,\"a\",\"c\",\"ACAT\",\"xACAT\",\"oACAT\",\"bACAT\",\"N\",\"Gamma\"]\n",
    "re = simus(n,t,k=k,test_types=test_types)\n",
    "df = re.copy()\n",
    "new_row = df.sum(axis=0)\n",
    "df.loc[len(df)] = new_row\n",
    "df.index = df.index[:-1].tolist() + ['SUM'] \n",
    "df"
   ]
  },
  {
   "cell_type": "code",
   "execution_count": 5,
   "metadata": {},
   "outputs": [
    {
     "name": "stderr",
     "output_type": "stream",
     "text": [
      "Processing: 100%|██████████| 100/100 [22:29<00:00, 13.50s/it]\n"
     ]
    },
    {
     "data": {
      "text/html": [
       "<div>\n",
       "<style scoped>\n",
       "    .dataframe tbody tr th:only-of-type {\n",
       "        vertical-align: middle;\n",
       "    }\n",
       "\n",
       "    .dataframe tbody tr th {\n",
       "        vertical-align: top;\n",
       "    }\n",
       "\n",
       "    .dataframe thead th {\n",
       "        text-align: right;\n",
       "    }\n",
       "</style>\n",
       "<table border=\"1\" class=\"dataframe\">\n",
       "  <thead>\n",
       "    <tr style=\"text-align: right;\">\n",
       "      <th></th>\n",
       "      <th>None</th>\n",
       "      <th>ACAT</th>\n",
       "    </tr>\n",
       "  </thead>\n",
       "  <tbody>\n",
       "    <tr>\n",
       "      <th>Type I</th>\n",
       "      <td>0.05</td>\n",
       "      <td>0.07</td>\n",
       "    </tr>\n",
       "    <tr>\n",
       "      <th>Type II</th>\n",
       "      <td>0.16</td>\n",
       "      <td>0.19</td>\n",
       "    </tr>\n",
       "    <tr>\n",
       "      <th>SUM</th>\n",
       "      <td>0.21</td>\n",
       "      <td>0.26</td>\n",
       "    </tr>\n",
       "  </tbody>\n",
       "</table>\n",
       "</div>"
      ],
      "text/plain": [
       "         None  ACAT\n",
       "Type I   0.05  0.07\n",
       "Type II  0.16  0.19\n",
       "SUM      0.21  0.26"
      ]
     },
     "execution_count": 5,
     "metadata": {},
     "output_type": "execute_result"
    }
   ],
   "source": [
    "n = 2000\n",
    "t = 100\n",
    "k = 2\n",
    "test_types=[None, \"ACAT\"]\n",
    "re = simus(n,t,k=k,test_types=test_types)\n",
    "df = re.copy()\n",
    "new_row = df.sum(axis=0)\n",
    "df.loc[len(df)] = new_row\n",
    "df.index = df.index[:-1].tolist() + ['SUM'] \n",
    "df"
   ]
  },
  {
   "cell_type": "code",
   "execution_count": 10,
   "metadata": {},
   "outputs": [
    {
     "name": "stderr",
     "output_type": "stream",
     "text": [
      "Processing: 100%|██████████| 100/100 [2:30:41<00:00, 90.42s/it] \n"
     ]
    },
    {
     "data": {
      "text/html": [
       "<div>\n",
       "<style scoped>\n",
       "    .dataframe tbody tr th:only-of-type {\n",
       "        vertical-align: middle;\n",
       "    }\n",
       "\n",
       "    .dataframe tbody tr th {\n",
       "        vertical-align: top;\n",
       "    }\n",
       "\n",
       "    .dataframe thead th {\n",
       "        text-align: right;\n",
       "    }\n",
       "</style>\n",
       "<table border=\"1\" class=\"dataframe\">\n",
       "  <thead>\n",
       "    <tr style=\"text-align: right;\">\n",
       "      <th></th>\n",
       "      <th>None</th>\n",
       "      <th>ACAT</th>\n",
       "    </tr>\n",
       "  </thead>\n",
       "  <tbody>\n",
       "    <tr>\n",
       "      <th>Type I</th>\n",
       "      <td>0.06</td>\n",
       "      <td>0.06</td>\n",
       "    </tr>\n",
       "    <tr>\n",
       "      <th>Type II</th>\n",
       "      <td>0.10</td>\n",
       "      <td>0.10</td>\n",
       "    </tr>\n",
       "    <tr>\n",
       "      <th>SUM</th>\n",
       "      <td>0.16</td>\n",
       "      <td>0.16</td>\n",
       "    </tr>\n",
       "  </tbody>\n",
       "</table>\n",
       "</div>"
      ],
      "text/plain": [
       "         None  ACAT\n",
       "Type I   0.06  0.06\n",
       "Type II  0.10  0.10\n",
       "SUM      0.16  0.16"
      ]
     },
     "execution_count": 10,
     "metadata": {},
     "output_type": "execute_result"
    }
   ],
   "source": [
    "n = 4000\n",
    "t = 100\n",
    "k = 2\n",
    "test_types=[None, \"ACAT\"]\n",
    "re = simus(n,t,k=k,test_types=test_types)\n",
    "df = re.copy()\n",
    "new_row = df.sum(axis=0)\n",
    "df.loc[len(df)] = new_row\n",
    "df.index = df.index[:-1].tolist() + ['SUM'] \n",
    "df"
   ]
  },
  {
   "cell_type": "markdown",
   "metadata": {},
   "source": [
    "---"
   ]
  },
  {
   "cell_type": "code",
   "execution_count": 12,
   "metadata": {},
   "outputs": [
    {
     "name": "stderr",
     "output_type": "stream",
     "text": [
      "Processing: 100%|██████████| 1000/1000 [01:28<00:00, 11.34it/s]\n"
     ]
    },
    {
     "data": {
      "text/html": [
       "<div>\n",
       "<style scoped>\n",
       "    .dataframe tbody tr th:only-of-type {\n",
       "        vertical-align: middle;\n",
       "    }\n",
       "\n",
       "    .dataframe tbody tr th {\n",
       "        vertical-align: top;\n",
       "    }\n",
       "\n",
       "    .dataframe thead th {\n",
       "        text-align: right;\n",
       "    }\n",
       "</style>\n",
       "<table border=\"1\" class=\"dataframe\">\n",
       "  <thead>\n",
       "    <tr style=\"text-align: right;\">\n",
       "      <th></th>\n",
       "      <th>None</th>\n",
       "    </tr>\n",
       "  </thead>\n",
       "  <tbody>\n",
       "    <tr>\n",
       "      <th>Type I</th>\n",
       "      <td>0.039</td>\n",
       "    </tr>\n",
       "    <tr>\n",
       "      <th>Type II</th>\n",
       "      <td>0.309</td>\n",
       "    </tr>\n",
       "  </tbody>\n",
       "</table>\n",
       "</div>"
      ],
      "text/plain": [
       "          None\n",
       "Type I   0.039\n",
       "Type II  0.309"
      ]
     },
     "execution_count": 12,
     "metadata": {},
     "output_type": "execute_result"
    }
   ],
   "source": [
    "n = 200\n",
    "t = 1000\n",
    "k = 1\n",
    "test_types=[None]\n",
    "simus(n,t,k=k,test_types=test_types)"
   ]
  },
  {
   "cell_type": "code",
   "execution_count": 2,
   "metadata": {},
   "outputs": [
    {
     "name": "stderr",
     "output_type": "stream",
     "text": [
      "Processing: 100%|██████████| 1000/1000 [2:02:13<00:00,  7.33s/it] \n"
     ]
    },
    {
     "data": {
      "text/html": [
       "<div>\n",
       "<style scoped>\n",
       "    .dataframe tbody tr th:only-of-type {\n",
       "        vertical-align: middle;\n",
       "    }\n",
       "\n",
       "    .dataframe tbody tr th {\n",
       "        vertical-align: top;\n",
       "    }\n",
       "\n",
       "    .dataframe thead th {\n",
       "        text-align: right;\n",
       "    }\n",
       "</style>\n",
       "<table border=\"1\" class=\"dataframe\">\n",
       "  <thead>\n",
       "    <tr style=\"text-align: right;\">\n",
       "      <th></th>\n",
       "      <th>None</th>\n",
       "      <th>a</th>\n",
       "      <th>c</th>\n",
       "      <th>ACAT</th>\n",
       "      <th>xACAT</th>\n",
       "      <th>oACAT</th>\n",
       "      <th>bACAT</th>\n",
       "      <th>N</th>\n",
       "      <th>Gamma</th>\n",
       "    </tr>\n",
       "  </thead>\n",
       "  <tbody>\n",
       "    <tr>\n",
       "      <th>Type I</th>\n",
       "      <td>0.084</td>\n",
       "      <td>0.005</td>\n",
       "      <td>0.016</td>\n",
       "      <td>0.068</td>\n",
       "      <td>0.109</td>\n",
       "      <td>0.046</td>\n",
       "      <td>0.096</td>\n",
       "      <td>0.030</td>\n",
       "      <td>0.093</td>\n",
       "    </tr>\n",
       "    <tr>\n",
       "      <th>Type II</th>\n",
       "      <td>0.194</td>\n",
       "      <td>0.321</td>\n",
       "      <td>0.316</td>\n",
       "      <td>0.245</td>\n",
       "      <td>0.192</td>\n",
       "      <td>0.267</td>\n",
       "      <td>0.215</td>\n",
       "      <td>0.292</td>\n",
       "      <td>0.189</td>\n",
       "    </tr>\n",
       "  </tbody>\n",
       "</table>\n",
       "</div>"
      ],
      "text/plain": [
       "          None      a      c   ACAT  xACAT  oACAT  bACAT      N  Gamma\n",
       "Type I   0.084  0.005  0.016  0.068  0.109  0.046  0.096  0.030  0.093\n",
       "Type II  0.194  0.321  0.316  0.245  0.192  0.267  0.215  0.292  0.189"
      ]
     },
     "execution_count": 2,
     "metadata": {},
     "output_type": "execute_result"
    }
   ],
   "source": [
    "n = 800\n",
    "t = 1000\n",
    "k = 4\n",
    "test_types=[None,\"a\",\"c\",\"ACAT\",\"xACAT\",\"oACAT\",\"bACAT\",\"N\",\"Gamma\"]\n",
    "re200 = simus(n,t,k=k,test_types=test_types)\n",
    "re200"
   ]
  },
  {
   "cell_type": "code",
   "execution_count": null,
   "metadata": {},
   "outputs": [
    {
     "data": {
      "text/html": [
       "<div>\n",
       "<style scoped>\n",
       "    .dataframe tbody tr th:only-of-type {\n",
       "        vertical-align: middle;\n",
       "    }\n",
       "\n",
       "    .dataframe tbody tr th {\n",
       "        vertical-align: top;\n",
       "    }\n",
       "\n",
       "    .dataframe thead th {\n",
       "        text-align: right;\n",
       "    }\n",
       "</style>\n",
       "<table border=\"1\" class=\"dataframe\">\n",
       "  <thead>\n",
       "    <tr style=\"text-align: right;\">\n",
       "      <th></th>\n",
       "      <th>None</th>\n",
       "      <th>a</th>\n",
       "      <th>c</th>\n",
       "      <th>ACAT</th>\n",
       "      <th>xACAT</th>\n",
       "      <th>oACAT</th>\n",
       "      <th>bACAT</th>\n",
       "      <th>N</th>\n",
       "      <th>Gamma</th>\n",
       "    </tr>\n",
       "  </thead>\n",
       "  <tbody>\n",
       "    <tr>\n",
       "      <th>Type I</th>\n",
       "      <td>0.084</td>\n",
       "      <td>0.005</td>\n",
       "      <td>0.016</td>\n",
       "      <td>0.068</td>\n",
       "      <td>0.109</td>\n",
       "      <td>0.046</td>\n",
       "      <td>0.096</td>\n",
       "      <td>0.030</td>\n",
       "      <td>0.093</td>\n",
       "    </tr>\n",
       "    <tr>\n",
       "      <th>Type II</th>\n",
       "      <td>0.194</td>\n",
       "      <td>0.321</td>\n",
       "      <td>0.316</td>\n",
       "      <td>0.245</td>\n",
       "      <td>0.192</td>\n",
       "      <td>0.267</td>\n",
       "      <td>0.215</td>\n",
       "      <td>0.292</td>\n",
       "      <td>0.189</td>\n",
       "    </tr>\n",
       "    <tr>\n",
       "      <th>SUM</th>\n",
       "      <td>0.278</td>\n",
       "      <td>0.326</td>\n",
       "      <td>0.332</td>\n",
       "      <td>0.313</td>\n",
       "      <td>0.301</td>\n",
       "      <td>0.313</td>\n",
       "      <td>0.311</td>\n",
       "      <td>0.322</td>\n",
       "      <td>0.282</td>\n",
       "    </tr>\n",
       "  </tbody>\n",
       "</table>\n",
       "</div>"
      ],
      "text/plain": [
       "          None      a      c   ACAT  xACAT  oACAT  bACAT      N  Gamma\n",
       "Type I   0.084  0.005  0.016  0.068  0.109  0.046  0.096  0.030  0.093\n",
       "Type II  0.194  0.321  0.316  0.245  0.192  0.267  0.215  0.292  0.189\n",
       "SUM      0.278  0.326  0.332  0.313  0.301  0.313  0.311  0.322  0.282"
      ]
     },
     "execution_count": 15,
     "metadata": {},
     "output_type": "execute_result"
    }
   ],
   "source": [
    "df = re200.copy()\n",
    "new_row = df.sum(axis=0)\n",
    "df.loc[len(df)] = new_row\n",
    "df.index = df.index[:-1].tolist() + ['SUM']\n",
    "df"
   ]
  },
  {
   "cell_type": "markdown",
   "metadata": {},
   "source": [
    "---\n",
    "\n",
    "### 原始方法 Sample size"
   ]
  },
  {
   "cell_type": "code",
   "execution_count": null,
   "metadata": {},
   "outputs": [
    {
     "name": "stdout",
     "output_type": "stream",
     "text": [
      "n: 50\n",
      " -Type I Error: 0.02  - 3.79s\n",
      " -Type II Error: 0.57  - 3.61s\n",
      "n: 100\n",
      " -Type I Error: 0.03  - 14.36s\n",
      " -Type II Error: 0.38  - 14.50s\n",
      "n: 200\n",
      " -Type I Error: 0.04  - 43.19s\n",
      " -Type II Error: 0.31  - 43.39s\n",
      "n: 300\n",
      " -Type I Error: 0.06  - 99.27s\n",
      " -Type II Error: 0.26  - 102.73s\n",
      "n: 400\n",
      " -Type I Error: 0.07  - 182.89s\n",
      " -Type II Error: 0.27  - 171.39s\n",
      "n: 500\n",
      " -Type I Error: 0.10  - 270.41s\n",
      " -Type II Error: 0.23  - 272.16s\n"
     ]
    }
   ],
   "source": [
    "t = 100\n",
    "for n in [100,200,400,600,800,1000,1200,1500,2000,5000]:\n",
    "    print(\"n:\", n)\n",
    "    for error_type in ['I', 'II']:\n",
    "        start_time = time.time()\n",
    "        print(f\" -Type {error_type} Error: {simu(n, t, None, 1, error_type):.2f}\", end=\" \")\n",
    "        end_time = time.time()\n",
    "        elapsed_time = end_time - start_time\n",
    "        print(f\" - {elapsed_time:.2f}s\")"
   ]
  },
  {
   "cell_type": "markdown",
   "metadata": {},
   "source": [
    "---\n",
    "\n",
    "## 时间比较"
   ]
  },
  {
   "cell_type": "code",
   "execution_count": null,
   "metadata": {},
   "outputs": [
    {
     "data": {
      "text/html": [
       "<div>\n",
       "<style scoped>\n",
       "    .dataframe tbody tr th:only-of-type {\n",
       "        vertical-align: middle;\n",
       "    }\n",
       "\n",
       "    .dataframe tbody tr th {\n",
       "        vertical-align: top;\n",
       "    }\n",
       "\n",
       "    .dataframe thead th {\n",
       "        text-align: right;\n",
       "    }\n",
       "</style>\n",
       "<table border=\"1\" class=\"dataframe\">\n",
       "  <thead>\n",
       "    <tr style=\"text-align: right;\">\n",
       "      <th></th>\n",
       "      <th>None</th>\n",
       "      <th>Gamma</th>\n",
       "    </tr>\n",
       "  </thead>\n",
       "  <tbody>\n",
       "    <tr>\n",
       "      <th>100</th>\n",
       "      <td>0.161859</td>\n",
       "      <td>0.146563</td>\n",
       "    </tr>\n",
       "    <tr>\n",
       "      <th>200</th>\n",
       "      <td>0.476536</td>\n",
       "      <td>0.347045</td>\n",
       "    </tr>\n",
       "    <tr>\n",
       "      <th>400</th>\n",
       "      <td>2.044265</td>\n",
       "      <td>0.575414</td>\n",
       "    </tr>\n",
       "    <tr>\n",
       "      <th>600</th>\n",
       "      <td>5.154236</td>\n",
       "      <td>0.952157</td>\n",
       "    </tr>\n",
       "    <tr>\n",
       "      <th>800</th>\n",
       "      <td>6.765841</td>\n",
       "      <td>1.226501</td>\n",
       "    </tr>\n",
       "    <tr>\n",
       "      <th>1000</th>\n",
       "      <td>9.932638</td>\n",
       "      <td>1.781575</td>\n",
       "    </tr>\n",
       "    <tr>\n",
       "      <th>1200</th>\n",
       "      <td>14.692047</td>\n",
       "      <td>1.781321</td>\n",
       "    </tr>\n",
       "    <tr>\n",
       "      <th>1500</th>\n",
       "      <td>60.863685</td>\n",
       "      <td>4.719642</td>\n",
       "    </tr>\n",
       "    <tr>\n",
       "      <th>2000</th>\n",
       "      <td>190.534204</td>\n",
       "      <td>6.331496</td>\n",
       "    </tr>\n",
       "  </tbody>\n",
       "</table>\n",
       "</div>"
      ],
      "text/plain": [
       "            None     Gamma\n",
       "100     0.161859  0.146563\n",
       "200     0.476536  0.347045\n",
       "400     2.044265  0.575414\n",
       "600     5.154236  0.952157\n",
       "800     6.765841  1.226501\n",
       "1000    9.932638  1.781575\n",
       "1200   14.692047  1.781321\n",
       "1500   60.863685  4.719642\n",
       "2000  190.534204  6.331496"
      ]
     },
     "execution_count": 4,
     "metadata": {},
     "output_type": "execute_result"
    }
   ],
   "source": [
    "t = 10\n",
    "ns = [100,200,400,600,800,1000,1200,1500,2000]\n",
    "dic = {None:[], \"Gamma\":[]}\n",
    "for n in ns:\n",
    "    for test_type in [None, \"Gamma\"]:\n",
    "        error_type='I'\n",
    "        start_time = time.time()\n",
    "        _ = simu(n, t, test_type, int(n/100), error_type)\n",
    "        end_time = time.time()\n",
    "        elapsed_time = end_time - start_time\n",
    "\n",
    "        dic[test_type].append(elapsed_time)\n",
    "\n",
    "result = pd.DataFrame(dic,index=ns)\n",
    "result"
   ]
  },
  {
   "cell_type": "code",
   "execution_count": 5,
   "metadata": {},
   "outputs": [
    {
     "data": {
      "image/png": "[encoded data removed]",
      "text/plain": [
       "<Figure size 2000x1200 with 1 Axes>"
      ]
     },
     "metadata": {},
     "output_type": "display_data"
    }
   ],
   "source": [
    "plt.figure(figsize=(10, 6),dpi=200)\n",
    "plt.plot(result.index, result[None], label=\"default\", marker=\"o\")\n",
    "plt.plot(result.index, result[\"Gamma\"], label=\"ensemble\", marker=\"s\")\n",
    "plt.title(\"n-T\", fontsize=16)\n",
    "plt.xlabel(\"Sample size\", fontsize=12)\n",
    "plt.ylabel(\"Time\", fontsize=12)\n",
    "plt.legend(fontsize=12)\n",
    "plt.grid()\n",
    "plt.show()"
   ]
  },
  {
   "cell_type": "code",
   "execution_count": 50,
   "metadata": {},
   "outputs": [
    {
     "name": "stdout",
     "output_type": "stream",
     "text": [
      "Method: a\n",
      " -Type I Error: 0.00  - 39.51s\n",
      " -Type II Error: 0.41  - 38.92s\n",
      "Method: c\n",
      " -Type I Error: 0.00  - 40.49s\n",
      " -Type II Error: 0.39  - 42.13s\n",
      "Method: c=\n",
      " -Type I Error: 0.02  - 40.77s\n",
      " -Type II Error: 0.36  - 40.61s\n",
      "Method: cx\n",
      " -Type I Error: 0.00  - 40.42s\n",
      " -Type II Error: 0.39  - 44.89s\n",
      "Method: ACAT\n",
      " -Type I Error: 0.04  - 40.76s\n",
      " -Type II Error: 0.33  - 43.34s\n"
     ]
    }
   ],
   "source": [
    "n = 400\n",
    "t = 500\n",
    "k = 4\n",
    "for test_type in [\"a\",\"c\",\"c=\",\"cx\",\"ACAT\"]:\n",
    "    print(\"Method:\", test_type)\n",
    "    for error_type in ['I', 'II']:\n",
    "        start_time = time.time()\n",
    "        print(f\" -Type {error_type} Error: {simu(n, t, test_type, k, error_type):.2f}\", end=\" \")\n",
    "        end_time = time.time()\n",
    "        elapsed_time = end_time - start_time\n",
    "        print(f\" - {elapsed_time:.2f}s\")"
   ]
  }
 ],
 "metadata": {
  "kernelspec": {
   "display_name": "graph",
   "language": "python",
   "name": "python3"
  },
  "language_info": {
   "codemirror_mode": {
    "name": "ipython",
    "version": 3
   },
   "file_extension": ".py",
   "mimetype": "text/x-python",
   "name": "python",
   "nbconvert_exporter": "python",
   "pygments_lexer": "ipython3",
   "version": "3.12.3"
  }
 },
 "nbformat": 4,
 "nbformat_minor": 2
}
