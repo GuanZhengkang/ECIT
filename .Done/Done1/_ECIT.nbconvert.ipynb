{
 "cells": [
  {
   "cell_type": "code",
   "execution_count": 1,
   "metadata": {
    "execution": {
     "iopub.execute_input": "2024-12-09T08:01:30.071046Z",
     "iopub.status.busy": "2024-12-09T08:01:30.070831Z",
     "iopub.status.idle": "2024-12-09T08:01:31.374033Z",
     "shell.execute_reply": "2024-12-09T08:01:31.373492Z"
    },
    "tags": []
   },
   "outputs": [],
   "source": [
    "from simu import simu, simus\n",
    "import time\n",
    "import pandas as pd\n",
    "import numpy as np\n",
    "import matplotlib.pyplot as plt"
   ]
  },
  {
   "cell_type": "code",
   "execution_count": 2,
   "metadata": {
    "ExecutionIndicator": {
     "show": false
    },
    "execution": {
     "iopub.execute_input": "2024-12-09T08:01:31.376702Z",
     "iopub.status.busy": "2024-12-09T08:01:31.376284Z",
     "iopub.status.idle": "2024-12-10T01:49:00.911926Z",
     "shell.execute_reply": "2024-12-10T01:49:00.911341Z"
    },
    "tags": []
   },
   "outputs": [
    {
     "name": "stderr",
     "output_type": "stream",
     "text": [
      "\r",
      "Processing:   0%|                                                                                                     | 0/100 [00:00<?, ?it/s]"
     ]
    },
    {
     "name": "stderr",
     "output_type": "stream",
     "text": [
      "\r",
      "Processing:   1%|▉                                                                                            | 1/100 [00:00<00:13,  7.26it/s]"
     ]
    },
    {
     "name": "stderr",
     "output_type": "stream",
     "text": [
      "\r",
      "Processing:   2%|█▊                                                                                           | 2/100 [00:00<00:11,  8.33it/s]"
     ]
    },
    {
     "name": "stderr",
     "output_type": "stream",
     "text": [
      "\r",
      "Processing:   3%|██▊                                                                                          | 3/100 [00:00<00:11,  8.77it/s]"
     ]
    },
    {
     "name": "stderr",
     "output_type": "stream",
     "text": [
      "\r",
      "Processing:   4%|███▋                                                                                         | 4/100 [00:00<00:11,  8.48it/s]"
     ]
    },
    {
     "name": "stderr",
     "output_type": "stream",
     "text": [
      "\r",
      "Processing:   5%|████▋                                                                                        | 5/100 [00:00<00:10,  8.90it/s]"
     ]
    },
    {
     "name": "stderr",
     "output_type": "stream",
     "text": [
      "\r",
      "Processing:   6%|█████▌                                                                                       | 6/100 [00:00<00:10,  8.91it/s]"
     ]
    },
    {
     "name": "stderr",
     "output_type": "stream",
     "text": [
      "\r",
      "Processing:   7%|██████▌                                                                                      | 7/100 [00:00<00:10,  8.69it/s]"
     ]
    },
    {
     "name": "stderr",
     "output_type": "stream",
     "text": [
      "\r",
      "Processing:   8%|███████▍                                                                                     | 8/100 [00:00<00:12,  7.32it/s]"
     ]
    },
    {
     "name": "stderr",
     "output_type": "stream",
     "text": [
      "\r",
      "Processing:   9%|████████▎                                                                                    | 9/100 [00:01<00:13,  6.63it/s]"
     ]
    },
    {
     "name": "stderr",
     "output_type": "stream",
     "text": [
      "\r",
      "Processing:  10%|█████████▏                                                                                  | 10/100 [00:01<00:14,  6.32it/s]"
     ]
    },
    {
     "name": "stderr",
     "output_type": "stream",
     "text": [
      "\r",
      "Processing:  11%|██████████                                                                                  | 11/100 [00:01<00:14,  6.16it/s]"
     ]
    },
    {
     "name": "stderr",
     "output_type": "stream",
     "text": [
      "\r",
      "Processing:  12%|███████████                                                                                 | 12/100 [00:01<00:14,  5.91it/s]"
     ]
    },
    {
     "name": "stderr",
     "output_type": "stream",
     "text": [
      "\r",
      "Processing:  13%|███████████▉                                                                                | 13/100 [00:01<00:14,  6.04it/s]"
     ]
    },
    {
     "name": "stderr",
     "output_type": "stream",
     "text": [
      "\r",
      "Processing:  14%|████████████▉                                                                               | 14/100 [00:02<00:14,  5.89it/s]"
     ]
    },
    {
     "name": "stderr",
     "output_type": "stream",
     "text": [
      "\r",
      "Processing:  15%|█████████████▊                                                                              | 15/100 [00:02<00:14,  5.84it/s]"
     ]
    },
    {
     "name": "stderr",
     "output_type": "stream",
     "text": [
      "\r",
      "Processing:  16%|██████████████▋                                                                             | 16/100 [00:02<00:14,  5.64it/s]"
     ]
    },
    {
     "name": "stderr",
     "output_type": "stream",
     "text": [
      "\r",
      "Processing:  17%|███████████████▋                                                                            | 17/100 [00:02<00:14,  5.68it/s]"
     ]
    },
    {
     "name": "stderr",
     "output_type": "stream",
     "text": [
      "\r",
      "Processing:  18%|████████████████▌                                                                           | 18/100 [00:02<00:14,  5.70it/s]"
     ]
    },
    {
     "name": "stderr",
     "output_type": "stream",
     "text": [
      "\r",
      "Processing:  19%|█████████████████▍                                                                          | 19/100 [00:02<00:14,  5.71it/s]"
     ]
    },
    {
     "name": "stderr",
     "output_type": "stream",
     "text": [
      "\r",
      "Processing:  21%|███████████████████▎                                                                        | 21/100 [00:03<00:11,  7.04it/s]"
     ]
    },
    {
     "name": "stderr",
     "output_type": "stream",
     "text": [
      "\r",
      "Processing:  22%|████████████████████▏                                                                       | 22/100 [00:03<00:10,  7.60it/s]"
     ]
    },
    {
     "name": "stderr",
     "output_type": "stream",
     "text": [
      "\r",
      "Processing:  23%|█████████████████████▏                                                                      | 23/100 [00:03<00:09,  8.10it/s]"
     ]
    },
    {
     "name": "stderr",
     "output_type": "stream",
     "text": [
      "\r",
      "Processing:  25%|███████████████████████                                                                     | 25/100 [00:03<00:08,  8.76it/s]"
     ]
    },
    {
     "name": "stderr",
     "output_type": "stream",
     "text": [
      "\r",
      "Processing:  26%|███████████████████████▉                                                                    | 26/100 [00:03<00:08,  8.93it/s]"
     ]
    },
    {
     "name": "stderr",
     "output_type": "stream",
     "text": [
      "\r",
      "Processing:  27%|████████████████████████▊                                                                   | 27/100 [00:03<00:07,  9.15it/s]"
     ]
    },
    {
     "name": "stderr",
     "output_type": "stream",
     "text": [
      "\r",
      "Processing:  28%|█████████████████████████▊                                                                  | 28/100 [00:03<00:07,  9.31it/s]"
     ]
    },
    {
     "name": "stderr",
     "output_type": "stream",
     "text": [
      "\r",
      "Processing:  29%|██████████████████████████▋                                                                 | 29/100 [00:03<00:07,  9.48it/s]"
     ]
    },
    {
     "name": "stderr",
     "output_type": "stream",
     "text": [
      "\r",
      "Processing:  30%|███████████████████████████▌                                                                | 30/100 [00:04<00:07,  9.56it/s]"
     ]
    },
    {
     "name": "stderr",
     "output_type": "stream",
     "text": [
      "\r",
      "Processing:  31%|████████████████████████████▌                                                               | 31/100 [00:04<00:07,  9.52it/s]"
     ]
    },
    {
     "name": "stderr",
     "output_type": "stream",
     "text": [
      "\r",
      "Processing:  33%|██████████████████████████████▎                                                             | 33/100 [00:04<00:06, 10.07it/s]"
     ]
    },
    {
     "name": "stderr",
     "output_type": "stream",
     "text": [
      "\r",
      "Processing:  35%|████████████████████████████████▏                                                           | 35/100 [00:04<00:06, 10.27it/s]"
     ]
    },
    {
     "name": "stderr",
     "output_type": "stream",
     "text": [
      "\r",
      "Processing:  37%|██████████████████████████████████                                                          | 37/100 [00:04<00:06, 10.42it/s]"
     ]
    },
    {
     "name": "stderr",
     "output_type": "stream",
     "text": [
      "\r",
      "Processing:  39%|███████████████████████████████████▉                                                        | 39/100 [00:04<00:05, 10.51it/s]"
     ]
    },
    {
     "name": "stderr",
     "output_type": "stream",
     "text": [
      "\r",
      "Processing:  41%|█████████████████████████████████████▋                                                      | 41/100 [00:05<00:05, 10.58it/s]"
     ]
    },
    {
     "name": "stderr",
     "output_type": "stream",
     "text": [
      "\r",
      "Processing:  43%|███████████████████████████████████████▌                                                    | 43/100 [00:05<00:05, 10.63it/s]"
     ]
    },
    {
     "name": "stderr",
     "output_type": "stream",
     "text": [
      "\r",
      "Processing:  45%|█████████████████████████████████████████▍                                                  | 45/100 [00:05<00:05, 10.66it/s]"
     ]
    },
    {
     "name": "stderr",
     "output_type": "stream",
     "text": [
      "\r",
      "Processing:  47%|███████████████████████████████████████████▏                                                | 47/100 [00:05<00:04, 10.73it/s]"
     ]
    },
    {
     "name": "stderr",
     "output_type": "stream",
     "text": [
      "\r",
      "Processing:  49%|█████████████████████████████████████████████                                               | 49/100 [00:05<00:04, 10.72it/s]"
     ]
    },
    {
     "name": "stderr",
     "output_type": "stream",
     "text": [
      "\r",
      "Processing:  51%|██████████████████████████████████████████████▉                                             | 51/100 [00:06<00:04, 10.64it/s]"
     ]
    },
    {
     "name": "stderr",
     "output_type": "stream",
     "text": [
      "\r",
      "Processing:  53%|████████████████████████████████████████████████▊                                           | 53/100 [00:06<00:04, 10.49it/s]"
     ]
    },
    {
     "name": "stderr",
     "output_type": "stream",
     "text": [
      "\r",
      "Processing:  55%|██████████████████████████████████████████████████▌                                         | 55/100 [00:06<00:04, 10.40it/s]"
     ]
    },
    {
     "name": "stderr",
     "output_type": "stream",
     "text": [
      "\r",
      "Processing:  57%|████████████████████████████████████████████████████▍                                       | 57/100 [00:06<00:04, 10.43it/s]"
     ]
    },
    {
     "name": "stderr",
     "output_type": "stream",
     "text": [
      "\r",
      "Processing:  59%|██████████████████████████████████████████████████████▎                                     | 59/100 [00:06<00:03, 10.43it/s]"
     ]
    },
    {
     "name": "stderr",
     "output_type": "stream",
     "text": [
      "\r",
      "Processing:  61%|████████████████████████████████████████████████████████                                    | 61/100 [00:06<00:03, 10.48it/s]"
     ]
    },
    {
     "name": "stderr",
     "output_type": "stream",
     "text": [
      "\r",
      "Processing:  63%|█████████████████████████████████████████████████████████▉                                  | 63/100 [00:07<00:03, 10.27it/s]"
     ]
    },
    {
     "name": "stderr",
     "output_type": "stream",
     "text": [
      "\r",
      "Processing:  65%|███████████████████████████████████████████████████████████▊                                | 65/100 [00:07<00:03, 10.48it/s]"
     ]
    },
    {
     "name": "stderr",
     "output_type": "stream",
     "text": [
      "\r",
      "Processing:  67%|█████████████████████████████████████████████████████████████▋                              | 67/100 [00:07<00:03, 10.43it/s]"
     ]
    },
    {
     "name": "stderr",
     "output_type": "stream",
     "text": [
      "\r",
      "Processing:  69%|███████████████████████████████████████████████████████████████▍                            | 69/100 [00:07<00:02, 10.49it/s]"
     ]
    },
    {
     "name": "stderr",
     "output_type": "stream",
     "text": [
      "\r",
      "Processing:  71%|█████████████████████████████████████████████████████████████████▎                          | 71/100 [00:07<00:02, 10.63it/s]"
     ]
    },
    {
     "name": "stderr",
     "output_type": "stream",
     "text": [
      "\r",
      "Processing:  73%|███████████████████████████████████████████████████████████████████▏                        | 73/100 [00:08<00:02, 10.54it/s]"
     ]
    },
    {
     "name": "stderr",
     "output_type": "stream",
     "text": [
      "\r",
      "Processing:  75%|█████████████████████████████████████████████████████████████████████                       | 75/100 [00:08<00:02, 10.45it/s]"
     ]
    },
    {
     "name": "stderr",
     "output_type": "stream",
     "text": [
      "\r",
      "Processing:  77%|██████████████████████████████████████████████████████████████████████▊                     | 77/100 [00:08<00:02, 10.45it/s]"
     ]
    },
    {
     "name": "stderr",
     "output_type": "stream",
     "text": [
      "\r",
      "Processing:  79%|████████████████████████████████████████████████████████████████████████▋                   | 79/100 [00:08<00:01, 10.60it/s]"
     ]
    },
    {
     "name": "stderr",
     "output_type": "stream",
     "text": [
      "\r",
      "Processing:  81%|██████████████████████████████████████████████████████████████████████████▌                 | 81/100 [00:08<00:01, 10.65it/s]"
     ]
    },
    {
     "name": "stderr",
     "output_type": "stream",
     "text": [
      "\r",
      "Processing:  83%|████████████████████████████████████████████████████████████████████████████▎               | 83/100 [00:09<00:01, 10.59it/s]"
     ]
    },
    {
     "name": "stderr",
     "output_type": "stream",
     "text": [
      "\r",
      "Processing:  85%|██████████████████████████████████████████████████████████████████████████████▏             | 85/100 [00:09<00:01, 10.62it/s]"
     ]
    },
    {
     "name": "stderr",
     "output_type": "stream",
     "text": [
      "\r",
      "Processing:  87%|████████████████████████████████████████████████████████████████████████████████            | 87/100 [00:09<00:01, 10.67it/s]"
     ]
    },
    {
     "name": "stderr",
     "output_type": "stream",
     "text": [
      "\r",
      "Processing:  89%|█████████████████████████████████████████████████████████████████████████████████▉          | 89/100 [00:09<00:01, 10.60it/s]"
     ]
    },
    {
     "name": "stderr",
     "output_type": "stream",
     "text": [
      "\r",
      "Processing:  91%|███████████████████████████████████████████████████████████████████████████████████▋        | 91/100 [00:09<00:00, 10.51it/s]"
     ]
    },
    {
     "name": "stderr",
     "output_type": "stream",
     "text": [
      "\r",
      "Processing:  93%|█████████████████████████████████████████████████████████████████████████████████████▌      | 93/100 [00:10<00:00, 10.36it/s]"
     ]
    },
    {
     "name": "stderr",
     "output_type": "stream",
     "text": [
      "\r",
      "Processing:  95%|███████████████████████████████████████████████████████████████████████████████████████▍    | 95/100 [00:10<00:00, 10.32it/s]"
     ]
    },
    {
     "name": "stderr",
     "output_type": "stream",
     "text": [
      "\r",
      "Processing:  97%|█████████████████████████████████████████████████████████████████████████████████████████▏  | 97/100 [00:10<00:00, 10.39it/s]"
     ]
    },
    {
     "name": "stderr",
     "output_type": "stream",
     "text": [
      "\r",
      "Processing:  99%|███████████████████████████████████████████████████████████████████████████████████████████ | 99/100 [00:10<00:00, 10.44it/s]"
     ]
    },
    {
     "name": "stderr",
     "output_type": "stream",
     "text": [
      "\r",
      "Processing: 100%|███████████████████████████████████████████████████████████████████████████████████████████| 100/100 [00:10<00:00,  9.34it/s]"
     ]
    },
    {
     "name": "stderr",
     "output_type": "stream",
     "text": [
      "\n"
     ]
    },
    {
     "name": "stderr",
     "output_type": "stream",
     "text": [
      "\r",
      "Processing:   0%|                                                                                                     | 0/100 [00:00<?, ?it/s]"
     ]
    },
    {
     "name": "stderr",
     "output_type": "stream",
     "text": [
      "\r",
      "Processing:   1%|▉                                                                                            | 1/100 [00:00<00:28,  3.47it/s]"
     ]
    },
    {
     "name": "stderr",
     "output_type": "stream",
     "text": [
      "\r",
      "Processing:   2%|█▊                                                                                           | 2/100 [00:00<00:27,  3.55it/s]"
     ]
    },
    {
     "name": "stderr",
     "output_type": "stream",
     "text": [
      "\r",
      "Processing:   3%|██▊                                                                                          | 3/100 [00:00<00:28,  3.45it/s]"
     ]
    },
    {
     "name": "stderr",
     "output_type": "stream",
     "text": [
      "\r",
      "Processing:   4%|███▋                                                                                         | 4/100 [00:01<00:28,  3.40it/s]"
     ]
    },
    {
     "name": "stderr",
     "output_type": "stream",
     "text": [
      "\r",
      "Processing:   5%|████▋                                                                                        | 5/100 [00:01<00:28,  3.37it/s]"
     ]
    },
    {
     "name": "stderr",
     "output_type": "stream",
     "text": [
      "\r",
      "Processing:   6%|█████▌                                                                                       | 6/100 [00:01<00:26,  3.50it/s]"
     ]
    },
    {
     "name": "stderr",
     "output_type": "stream",
     "text": [
      "\r",
      "Processing:   7%|██████▌                                                                                      | 7/100 [00:02<00:26,  3.52it/s]"
     ]
    },
    {
     "name": "stderr",
     "output_type": "stream",
     "text": [
      "\r",
      "Processing:   8%|███████▍                                                                                     | 8/100 [00:02<00:26,  3.46it/s]"
     ]
    },
    {
     "name": "stderr",
     "output_type": "stream",
     "text": [
      "\r",
      "Processing:   9%|████████▎                                                                                    | 9/100 [00:02<00:26,  3.49it/s]"
     ]
    },
    {
     "name": "stderr",
     "output_type": "stream",
     "text": [
      "\r",
      "Processing:  10%|█████████▏                                                                                  | 10/100 [00:02<00:25,  3.50it/s]"
     ]
    },
    {
     "name": "stderr",
     "output_type": "stream",
     "text": [
      "\r",
      "Processing:  11%|██████████                                                                                  | 11/100 [00:03<00:25,  3.45it/s]"
     ]
    },
    {
     "name": "stderr",
     "output_type": "stream",
     "text": [
      "\r",
      "Processing:  12%|███████████                                                                                 | 12/100 [00:03<00:25,  3.48it/s]"
     ]
    },
    {
     "name": "stderr",
     "output_type": "stream",
     "text": [
      "\r",
      "Processing:  13%|███████████▉                                                                                | 13/100 [00:03<00:24,  3.53it/s]"
     ]
    },
    {
     "name": "stderr",
     "output_type": "stream",
     "text": [
      "\r",
      "Processing:  14%|████████████▉                                                                               | 14/100 [00:04<00:24,  3.47it/s]"
     ]
    },
    {
     "name": "stderr",
     "output_type": "stream",
     "text": [
      "\r",
      "Processing:  15%|█████████████▊                                                                              | 15/100 [00:04<00:24,  3.44it/s]"
     ]
    },
    {
     "name": "stderr",
     "output_type": "stream",
     "text": [
      "\r",
      "Processing:  16%|██████████████▋                                                                             | 16/100 [00:04<00:24,  3.50it/s]"
     ]
    },
    {
     "name": "stderr",
     "output_type": "stream",
     "text": [
      "\r",
      "Processing:  17%|███████████████▋                                                                            | 17/100 [00:04<00:23,  3.47it/s]"
     ]
    },
    {
     "name": "stderr",
     "output_type": "stream",
     "text": [
      "\r",
      "Processing:  18%|████████████████▌                                                                           | 18/100 [00:05<00:25,  3.18it/s]"
     ]
    },
    {
     "name": "stderr",
     "output_type": "stream",
     "text": [
      "\r",
      "Processing:  19%|█████████████████▍                                                                          | 19/100 [00:05<00:23,  3.39it/s]"
     ]
    },
    {
     "name": "stderr",
     "output_type": "stream",
     "text": [
      "\r",
      "Processing:  20%|██████████████████▍                                                                         | 20/100 [00:05<00:22,  3.54it/s]"
     ]
    },
    {
     "name": "stderr",
     "output_type": "stream",
     "text": [
      "\r",
      "Processing:  21%|███████████████████▎                                                                        | 21/100 [00:06<00:21,  3.63it/s]"
     ]
    },
    {
     "name": "stderr",
     "output_type": "stream",
     "text": [
      "\r",
      "Processing:  22%|████████████████████▏                                                                       | 22/100 [00:06<00:21,  3.70it/s]"
     ]
    },
    {
     "name": "stderr",
     "output_type": "stream",
     "text": [
      "\r",
      "Processing:  23%|█████████████████████▏                                                                      | 23/100 [00:06<00:20,  3.74it/s]"
     ]
    },
    {
     "name": "stderr",
     "output_type": "stream",
     "text": [
      "\r",
      "Processing:  24%|██████████████████████                                                                      | 24/100 [00:06<00:20,  3.77it/s]"
     ]
    },
    {
     "name": "stderr",
     "output_type": "stream",
     "text": [
      "\r",
      "Processing:  25%|███████████████████████                                                                     | 25/100 [00:07<00:19,  3.76it/s]"
     ]
    },
    {
     "name": "stderr",
     "output_type": "stream",
     "text": [
      "\r",
      "Processing:  26%|███████████████████████▉                                                                    | 26/100 [00:07<00:19,  3.80it/s]"
     ]
    },
    {
     "name": "stderr",
     "output_type": "stream",
     "text": [
      "\r",
      "Processing:  27%|████████████████████████▊                                                                   | 27/100 [00:07<00:18,  3.88it/s]"
     ]
    },
    {
     "name": "stderr",
     "output_type": "stream",
     "text": [
      "\r",
      "Processing:  28%|█████████████████████████▊                                                                  | 28/100 [00:07<00:18,  3.89it/s]"
     ]
    },
    {
     "name": "stderr",
     "output_type": "stream",
     "text": [
      "\r",
      "Processing:  29%|██████████████████████████▋                                                                 | 29/100 [00:08<00:18,  3.92it/s]"
     ]
    },
    {
     "name": "stderr",
     "output_type": "stream",
     "text": [
      "\r",
      "Processing:  30%|███████████████████████████▌                                                                | 30/100 [00:08<00:17,  3.98it/s]"
     ]
    },
    {
     "name": "stderr",
     "output_type": "stream",
     "text": [
      "\r",
      "Processing:  31%|████████████████████████████▌                                                               | 31/100 [00:08<00:17,  4.01it/s]"
     ]
    },
    {
     "name": "stderr",
     "output_type": "stream",
     "text": [
      "\r",
      "Processing:  32%|█████████████████████████████▍                                                              | 32/100 [00:08<00:17,  3.97it/s]"
     ]
    },
    {
     "name": "stderr",
     "output_type": "stream",
     "text": [
      "\r",
      "Processing:  33%|██████████████████████████████▎                                                             | 33/100 [00:09<00:17,  3.90it/s]"
     ]
    },
    {
     "name": "stderr",
     "output_type": "stream",
     "text": [
      "\r",
      "Processing:  34%|███████████████████████████████▎                                                            | 34/100 [00:09<00:16,  3.89it/s]"
     ]
    },
    {
     "name": "stderr",
     "output_type": "stream",
     "text": [
      "\r",
      "Processing:  35%|████████████████████████████████▏                                                           | 35/100 [00:09<00:16,  3.85it/s]"
     ]
    },
    {
     "name": "stderr",
     "output_type": "stream",
     "text": [
      "\r",
      "Processing:  36%|█████████████████████████████████                                                           | 36/100 [00:09<00:16,  3.83it/s]"
     ]
    },
    {
     "name": "stderr",
     "output_type": "stream",
     "text": [
      "\r",
      "Processing:  37%|██████████████████████████████████                                                          | 37/100 [00:10<00:16,  3.77it/s]"
     ]
    },
    {
     "name": "stderr",
     "output_type": "stream",
     "text": [
      "\r",
      "Processing:  38%|██████████████████████████████████▉                                                         | 38/100 [00:10<00:16,  3.74it/s]"
     ]
    },
    {
     "name": "stderr",
     "output_type": "stream",
     "text": [
      "\r",
      "Processing:  39%|███████████████████████████████████▉                                                        | 39/100 [00:10<00:15,  3.84it/s]"
     ]
    },
    {
     "name": "stderr",
     "output_type": "stream",
     "text": [
      "\r",
      "Processing:  40%|████████████████████████████████████▊                                                       | 40/100 [00:10<00:16,  3.69it/s]"
     ]
    },
    {
     "name": "stderr",
     "output_type": "stream",
     "text": [
      "\r",
      "Processing:  41%|█████████████████████████████████████▋                                                      | 41/100 [00:11<00:15,  3.71it/s]"
     ]
    },
    {
     "name": "stderr",
     "output_type": "stream",
     "text": [
      "\r",
      "Processing:  42%|██████████████████████████████████████▋                                                     | 42/100 [00:11<00:15,  3.63it/s]"
     ]
    },
    {
     "name": "stderr",
     "output_type": "stream",
     "text": [
      "\r",
      "Processing:  43%|███████████████████████████████████████▌                                                    | 43/100 [00:11<00:15,  3.59it/s]"
     ]
    },
    {
     "name": "stderr",
     "output_type": "stream",
     "text": [
      "\r",
      "Processing:  44%|████████████████████████████████████████▍                                                   | 44/100 [00:12<00:15,  3.60it/s]"
     ]
    },
    {
     "name": "stderr",
     "output_type": "stream",
     "text": [
      "\r",
      "Processing:  45%|█████████████████████████████████████████▍                                                  | 45/100 [00:12<00:15,  3.60it/s]"
     ]
    },
    {
     "name": "stderr",
     "output_type": "stream",
     "text": [
      "\r",
      "Processing:  46%|██████████████████████████████████████████▎                                                 | 46/100 [00:12<00:15,  3.60it/s]"
     ]
    },
    {
     "name": "stderr",
     "output_type": "stream",
     "text": [
      "\r",
      "Processing:  47%|███████████████████████████████████████████▏                                                | 47/100 [00:12<00:14,  3.58it/s]"
     ]
    },
    {
     "name": "stderr",
     "output_type": "stream",
     "text": [
      "\r",
      "Processing:  48%|████████████████████████████████████████████▏                                               | 48/100 [00:13<00:14,  3.62it/s]"
     ]
    },
    {
     "name": "stderr",
     "output_type": "stream",
     "text": [
      "\r",
      "Processing:  49%|█████████████████████████████████████████████                                               | 49/100 [00:13<00:14,  3.61it/s]"
     ]
    },
    {
     "name": "stderr",
     "output_type": "stream",
     "text": [
      "\r",
      "Processing:  50%|██████████████████████████████████████████████                                              | 50/100 [00:13<00:13,  3.58it/s]"
     ]
    },
    {
     "name": "stderr",
     "output_type": "stream",
     "text": [
      "\r",
      "Processing:  51%|██████████████████████████████████████████████▉                                             | 51/100 [00:14<00:13,  3.58it/s]"
     ]
    },
    {
     "name": "stderr",
     "output_type": "stream",
     "text": [
      "\r",
      "Processing:  52%|███████████████████████████████████████████████▊                                            | 52/100 [00:14<00:13,  3.61it/s]"
     ]
    },
    {
     "name": "stderr",
     "output_type": "stream",
     "text": [
      "\r",
      "Processing:  53%|████████████████████████████████████████████████▊                                           | 53/100 [00:14<00:13,  3.57it/s]"
     ]
    },
    {
     "name": "stderr",
     "output_type": "stream",
     "text": [
      "\r",
      "Processing:  54%|█████████████████████████████████████████████████▋                                          | 54/100 [00:14<00:12,  3.57it/s]"
     ]
    },
    {
     "name": "stderr",
     "output_type": "stream",
     "text": [
      "\r",
      "Processing:  55%|██████████████████████████████████████████████████▌                                         | 55/100 [00:15<00:12,  3.47it/s]"
     ]
    },
    {
     "name": "stderr",
     "output_type": "stream",
     "text": [
      "\r",
      "Processing:  56%|███████████████████████████████████████████████████▌                                        | 56/100 [00:15<00:12,  3.48it/s]"
     ]
    },
    {
     "name": "stderr",
     "output_type": "stream",
     "text": [
      "\r",
      "Processing:  57%|████████████████████████████████████████████████████▍                                       | 57/100 [00:15<00:12,  3.55it/s]"
     ]
    },
    {
     "name": "stderr",
     "output_type": "stream",
     "text": [
      "\r",
      "Processing:  58%|█████████████████████████████████████████████████████▎                                      | 58/100 [00:16<00:11,  3.53it/s]"
     ]
    },
    {
     "name": "stderr",
     "output_type": "stream",
     "text": [
      "\r",
      "Processing:  59%|██████████████████████████████████████████████████████▎                                     | 59/100 [00:16<00:11,  3.47it/s]"
     ]
    },
    {
     "name": "stderr",
     "output_type": "stream",
     "text": [
      "\r",
      "Processing:  60%|███████████████████████████████████████████████████████▏                                    | 60/100 [00:16<00:11,  3.48it/s]"
     ]
    },
    {
     "name": "stderr",
     "output_type": "stream",
     "text": [
      "\r",
      "Processing:  61%|████████████████████████████████████████████████████████                                    | 61/100 [00:16<00:11,  3.42it/s]"
     ]
    },
    {
     "name": "stderr",
     "output_type": "stream",
     "text": [
      "\r",
      "Processing:  62%|█████████████████████████████████████████████████████████                                   | 62/100 [00:17<00:10,  3.48it/s]"
     ]
    },
    {
     "name": "stderr",
     "output_type": "stream",
     "text": [
      "\r",
      "Processing:  63%|█████████████████████████████████████████████████████████▉                                  | 63/100 [00:17<00:10,  3.47it/s]"
     ]
    },
    {
     "name": "stderr",
     "output_type": "stream",
     "text": [
      "\r",
      "Processing:  64%|██████████████████████████████████████████████████████████▉                                 | 64/100 [00:17<00:10,  3.49it/s]"
     ]
    },
    {
     "name": "stderr",
     "output_type": "stream",
     "text": [
      "\r",
      "Processing:  65%|███████████████████████████████████████████████████████████▊                                | 65/100 [00:18<00:10,  3.48it/s]"
     ]
    },
    {
     "name": "stderr",
     "output_type": "stream",
     "text": [
      "\r",
      "Processing:  66%|████████████████████████████████████████████████████████████▋                               | 66/100 [00:18<00:09,  3.46it/s]"
     ]
    },
    {
     "name": "stderr",
     "output_type": "stream",
     "text": [
      "\r",
      "Processing:  67%|█████████████████████████████████████████████████████████████▋                              | 67/100 [00:18<00:09,  3.51it/s]"
     ]
    },
    {
     "name": "stderr",
     "output_type": "stream",
     "text": [
      "\r",
      "Processing:  68%|██████████████████████████████████████████████████████████████▌                             | 68/100 [00:18<00:09,  3.47it/s]"
     ]
    },
    {
     "name": "stderr",
     "output_type": "stream",
     "text": [
      "\r",
      "Processing:  69%|███████████████████████████████████████████████████████████████▍                            | 69/100 [00:19<00:09,  3.43it/s]"
     ]
    },
    {
     "name": "stderr",
     "output_type": "stream",
     "text": [
      "\r",
      "Processing:  70%|████████████████████████████████████████████████████████████████▍                           | 70/100 [00:19<00:08,  3.52it/s]"
     ]
    },
    {
     "name": "stderr",
     "output_type": "stream",
     "text": [
      "\r",
      "Processing:  71%|█████████████████████████████████████████████████████████████████▎                          | 71/100 [00:19<00:08,  3.56it/s]"
     ]
    },
    {
     "name": "stderr",
     "output_type": "stream",
     "text": [
      "\r",
      "Processing:  72%|██████████████████████████████████████████████████████████████████▏                         | 72/100 [00:20<00:07,  3.61it/s]"
     ]
    },
    {
     "name": "stderr",
     "output_type": "stream",
     "text": [
      "\r",
      "Processing:  73%|███████████████████████████████████████████████████████████████████▏                        | 73/100 [00:20<00:07,  3.69it/s]"
     ]
    },
    {
     "name": "stderr",
     "output_type": "stream",
     "text": [
      "\r",
      "Processing:  74%|████████████████████████████████████████████████████████████████████                        | 74/100 [00:20<00:06,  3.74it/s]"
     ]
    },
    {
     "name": "stderr",
     "output_type": "stream",
     "text": [
      "\r",
      "Processing:  75%|█████████████████████████████████████████████████████████████████████                       | 75/100 [00:20<00:06,  3.79it/s]"
     ]
    },
    {
     "name": "stderr",
     "output_type": "stream",
     "text": [
      "\r",
      "Processing:  76%|█████████████████████████████████████████████████████████████████████▉                      | 76/100 [00:21<00:07,  3.37it/s]"
     ]
    },
    {
     "name": "stderr",
     "output_type": "stream",
     "text": [
      "\r",
      "Processing:  77%|██████████████████████████████████████████████████████████████████████▊                     | 77/100 [00:21<00:06,  3.42it/s]"
     ]
    },
    {
     "name": "stderr",
     "output_type": "stream",
     "text": [
      "\r",
      "Processing:  78%|███████████████████████████████████████████████████████████████████████▊                    | 78/100 [00:21<00:06,  3.52it/s]"
     ]
    },
    {
     "name": "stderr",
     "output_type": "stream",
     "text": [
      "\r",
      "Processing:  79%|████████████████████████████████████████████████████████████████████████▋                   | 79/100 [00:21<00:05,  3.63it/s]"
     ]
    },
    {
     "name": "stderr",
     "output_type": "stream",
     "text": [
      "\r",
      "Processing:  80%|█████████████████████████████████████████████████████████████████████████▌                  | 80/100 [00:22<00:05,  3.66it/s]"
     ]
    },
    {
     "name": "stderr",
     "output_type": "stream",
     "text": [
      "\r",
      "Processing:  81%|██████████████████████████████████████████████████████████████████████████▌                 | 81/100 [00:22<00:05,  3.67it/s]"
     ]
    },
    {
     "name": "stderr",
     "output_type": "stream",
     "text": [
      "\r",
      "Processing:  82%|███████████████████████████████████████████████████████████████████████████▍                | 82/100 [00:22<00:04,  3.70it/s]"
     ]
    },
    {
     "name": "stderr",
     "output_type": "stream",
     "text": [
      "\r",
      "Processing:  83%|████████████████████████████████████████████████████████████████████████████▎               | 83/100 [00:23<00:04,  3.80it/s]"
     ]
    },
    {
     "name": "stderr",
     "output_type": "stream",
     "text": [
      "\r",
      "Processing:  84%|█████████████████████████████████████████████████████████████████████████████▎              | 84/100 [00:23<00:04,  3.83it/s]"
     ]
    },
    {
     "name": "stderr",
     "output_type": "stream",
     "text": [
      "\r",
      "Processing:  85%|██████████████████████████████████████████████████████████████████████████████▏             | 85/100 [00:23<00:03,  3.88it/s]"
     ]
    },
    {
     "name": "stderr",
     "output_type": "stream",
     "text": [
      "\r",
      "Processing:  86%|███████████████████████████████████████████████████████████████████████████████             | 86/100 [00:23<00:03,  3.87it/s]"
     ]
    },
    {
     "name": "stderr",
     "output_type": "stream",
     "text": [
      "\r",
      "Processing:  87%|████████████████████████████████████████████████████████████████████████████████            | 87/100 [00:24<00:03,  3.83it/s]"
     ]
    },
    {
     "name": "stderr",
     "output_type": "stream",
     "text": [
      "\r",
      "Processing:  88%|████████████████████████████████████████████████████████████████████████████████▉           | 88/100 [00:24<00:03,  3.86it/s]"
     ]
    },
    {
     "name": "stderr",
     "output_type": "stream",
     "text": [
      "\r",
      "Processing:  89%|█████████████████████████████████████████████████████████████████████████████████▉          | 89/100 [00:24<00:02,  3.89it/s]"
     ]
    },
    {
     "name": "stderr",
     "output_type": "stream",
     "text": [
      "\r",
      "Processing:  90%|██████████████████████████████████████████████████████████████████████████████████▊         | 90/100 [00:24<00:02,  3.94it/s]"
     ]
    },
    {
     "name": "stderr",
     "output_type": "stream",
     "text": [
      "\r",
      "Processing:  91%|███████████████████████████████████████████████████████████████████████████████████▋        | 91/100 [00:25<00:02,  3.92it/s]"
     ]
    },
    {
     "name": "stderr",
     "output_type": "stream",
     "text": [
      "\r",
      "Processing:  92%|████████████████████████████████████████████████████████████████████████████████████▋       | 92/100 [00:25<00:02,  3.64it/s]"
     ]
    },
    {
     "name": "stderr",
     "output_type": "stream",
     "text": [
      "\r",
      "Processing:  93%|█████████████████████████████████████████████████████████████████████████████████████▌      | 93/100 [00:25<00:01,  3.67it/s]"
     ]
    },
    {
     "name": "stderr",
     "output_type": "stream",
     "text": [
      "\r",
      "Processing:  94%|██████████████████████████████████████████████████████████████████████████████████████▍     | 94/100 [00:25<00:01,  3.69it/s]"
     ]
    },
    {
     "name": "stderr",
     "output_type": "stream",
     "text": [
      "\r",
      "Processing:  95%|███████████████████████████████████████████████████████████████████████████████████████▍    | 95/100 [00:26<00:01,  3.74it/s]"
     ]
    },
    {
     "name": "stderr",
     "output_type": "stream",
     "text": [
      "\r",
      "Processing:  96%|████████████████████████████████████████████████████████████████████████████████████████▎   | 96/100 [00:26<00:01,  3.73it/s]"
     ]
    },
    {
     "name": "stderr",
     "output_type": "stream",
     "text": [
      "\r",
      "Processing:  97%|█████████████████████████████████████████████████████████████████████████████████████████▏  | 97/100 [00:26<00:00,  3.78it/s]"
     ]
    },
    {
     "name": "stderr",
     "output_type": "stream",
     "text": [
      "\r",
      "Processing:  98%|██████████████████████████████████████████████████████████████████████████████████████████▏ | 98/100 [00:26<00:00,  3.80it/s]"
     ]
    },
    {
     "name": "stderr",
     "output_type": "stream",
     "text": [
      "\r",
      "Processing:  99%|███████████████████████████████████████████████████████████████████████████████████████████ | 99/100 [00:27<00:00,  3.84it/s]"
     ]
    },
    {
     "name": "stderr",
     "output_type": "stream",
     "text": [
      "\r",
      "Processing: 100%|███████████████████████████████████████████████████████████████████████████████████████████| 100/100 [00:27<00:00,  3.83it/s]"
     ]
    },
    {
     "name": "stderr",
     "output_type": "stream",
     "text": [
      "\r",
      "Processing: 100%|███████████████████████████████████████████████████████████████████████████████████████████| 100/100 [00:27<00:00,  3.64it/s]"
     ]
    },
    {
     "name": "stderr",
     "output_type": "stream",
     "text": [
      "\n"
     ]
    },
    {
     "name": "stderr",
     "output_type": "stream",
     "text": [
      "\r",
      "Processing:   0%|                                                                                                     | 0/100 [00:00<?, ?it/s]"
     ]
    },
    {
     "name": "stderr",
     "output_type": "stream",
     "text": [
      "\r",
      "Processing:   1%|▉                                                                                            | 1/100 [00:01<01:45,  1.07s/it]"
     ]
    },
    {
     "name": "stderr",
     "output_type": "stream",
     "text": [
      "\r",
      "Processing:   2%|█▊                                                                                           | 2/100 [00:02<01:45,  1.08s/it]"
     ]
    },
    {
     "name": "stderr",
     "output_type": "stream",
     "text": [
      "\r",
      "Processing:   3%|██▊                                                                                          | 3/100 [00:03<01:44,  1.08s/it]"
     ]
    },
    {
     "name": "stderr",
     "output_type": "stream",
     "text": [
      "\r",
      "Processing:   4%|███▋                                                                                         | 4/100 [00:04<01:43,  1.08s/it]"
     ]
    },
    {
     "name": "stderr",
     "output_type": "stream",
     "text": [
      "\r",
      "Processing:   5%|████▋                                                                                        | 5/100 [00:05<01:41,  1.07s/it]"
     ]
    },
    {
     "name": "stderr",
     "output_type": "stream",
     "text": [
      "\r",
      "Processing:   6%|█████▌                                                                                       | 6/100 [00:06<01:40,  1.07s/it]"
     ]
    },
    {
     "name": "stderr",
     "output_type": "stream",
     "text": [
      "\r",
      "Processing:   7%|██████▌                                                                                      | 7/100 [00:07<01:38,  1.06s/it]"
     ]
    },
    {
     "name": "stderr",
     "output_type": "stream",
     "text": [
      "\r",
      "Processing:   8%|███████▍                                                                                     | 8/100 [00:08<01:43,  1.12s/it]"
     ]
    },
    {
     "name": "stderr",
     "output_type": "stream",
     "text": [
      "\r",
      "Processing:   9%|████████▎                                                                                    | 9/100 [00:10<01:46,  1.17s/it]"
     ]
    },
    {
     "name": "stderr",
     "output_type": "stream",
     "text": [
      "\r",
      "Processing:  10%|█████████▏                                                                                  | 10/100 [00:11<01:46,  1.18s/it]"
     ]
    },
    {
     "name": "stderr",
     "output_type": "stream",
     "text": [
      "\r",
      "Processing:  11%|██████████                                                                                  | 11/100 [00:12<01:46,  1.20s/it]"
     ]
    },
    {
     "name": "stderr",
     "output_type": "stream",
     "text": [
      "\r",
      "Processing:  12%|███████████                                                                                 | 12/100 [00:13<01:46,  1.21s/it]"
     ]
    },
    {
     "name": "stderr",
     "output_type": "stream",
     "text": [
      "\r",
      "Processing:  13%|███████████▉                                                                                | 13/100 [00:14<01:42,  1.18s/it]"
     ]
    },
    {
     "name": "stderr",
     "output_type": "stream",
     "text": [
      "\r",
      "Processing:  14%|████████████▉                                                                               | 14/100 [00:15<01:39,  1.16s/it]"
     ]
    },
    {
     "name": "stderr",
     "output_type": "stream",
     "text": [
      "\r",
      "Processing:  15%|█████████████▊                                                                              | 15/100 [00:16<01:35,  1.12s/it]"
     ]
    },
    {
     "name": "stderr",
     "output_type": "stream",
     "text": [
      "\r",
      "Processing:  16%|██████████████▋                                                                             | 16/100 [00:18<01:33,  1.12s/it]"
     ]
    },
    {
     "name": "stderr",
     "output_type": "stream",
     "text": [
      "\r",
      "Processing:  17%|███████████████▋                                                                            | 17/100 [00:19<01:33,  1.13s/it]"
     ]
    },
    {
     "name": "stderr",
     "output_type": "stream",
     "text": [
      "\r",
      "Processing:  18%|████████████████▌                                                                           | 18/100 [00:20<01:32,  1.13s/it]"
     ]
    },
    {
     "name": "stderr",
     "output_type": "stream",
     "text": [
      "\r",
      "Processing:  19%|█████████████████▍                                                                          | 19/100 [00:21<01:30,  1.11s/it]"
     ]
    },
    {
     "name": "stderr",
     "output_type": "stream",
     "text": [
      "\r",
      "Processing:  20%|██████████████████▍                                                                         | 20/100 [00:22<01:28,  1.11s/it]"
     ]
    },
    {
     "name": "stderr",
     "output_type": "stream",
     "text": [
      "\r",
      "Processing:  21%|███████████████████▎                                                                        | 21/100 [00:23<01:26,  1.09s/it]"
     ]
    },
    {
     "name": "stderr",
     "output_type": "stream",
     "text": [
      "\r",
      "Processing:  22%|████████████████████▏                                                                       | 22/100 [00:25<01:37,  1.25s/it]"
     ]
    },
    {
     "name": "stderr",
     "output_type": "stream",
     "text": [
      "\r",
      "Processing:  23%|█████████████████████▏                                                                      | 23/100 [00:26<01:35,  1.24s/it]"
     ]
    },
    {
     "name": "stderr",
     "output_type": "stream",
     "text": [
      "\r",
      "Processing:  24%|██████████████████████                                                                      | 24/100 [00:27<01:34,  1.24s/it]"
     ]
    },
    {
     "name": "stderr",
     "output_type": "stream",
     "text": [
      "\r",
      "Processing:  25%|███████████████████████                                                                     | 25/100 [00:29<01:41,  1.35s/it]"
     ]
    },
    {
     "name": "stderr",
     "output_type": "stream",
     "text": [
      "\r",
      "Processing:  26%|███████████████████████▉                                                                    | 26/100 [00:30<01:39,  1.35s/it]"
     ]
    },
    {
     "name": "stderr",
     "output_type": "stream",
     "text": [
      "\r",
      "Processing:  27%|████████████████████████▊                                                                   | 27/100 [00:31<01:33,  1.28s/it]"
     ]
    },
    {
     "name": "stderr",
     "output_type": "stream",
     "text": [
      "\r",
      "Processing:  28%|█████████████████████████▊                                                                  | 28/100 [00:32<01:30,  1.26s/it]"
     ]
    },
    {
     "name": "stderr",
     "output_type": "stream",
     "text": [
      "\r",
      "Processing:  29%|██████████████████████████▋                                                                 | 29/100 [00:34<01:28,  1.25s/it]"
     ]
    },
    {
     "name": "stderr",
     "output_type": "stream",
     "text": [
      "\r",
      "Processing:  30%|███████████████████████████▌                                                                | 30/100 [00:35<01:29,  1.27s/it]"
     ]
    },
    {
     "name": "stderr",
     "output_type": "stream",
     "text": [
      "\r",
      "Processing:  31%|████████████████████████████▌                                                               | 31/100 [00:37<01:40,  1.46s/it]"
     ]
    },
    {
     "name": "stderr",
     "output_type": "stream",
     "text": [
      "\r",
      "Processing:  32%|█████████████████████████████▍                                                              | 32/100 [00:39<01:43,  1.52s/it]"
     ]
    },
    {
     "name": "stderr",
     "output_type": "stream",
     "text": [
      "\r",
      "Processing:  33%|██████████████████████████████▎                                                             | 33/100 [00:40<01:33,  1.40s/it]"
     ]
    },
    {
     "name": "stderr",
     "output_type": "stream",
     "text": [
      "\r",
      "Processing:  34%|███████████████████████████████▎                                                            | 34/100 [00:41<01:25,  1.29s/it]"
     ]
    },
    {
     "name": "stderr",
     "output_type": "stream",
     "text": [
      "\r",
      "Processing:  35%|████████████████████████████████▏                                                           | 35/100 [00:42<01:21,  1.25s/it]"
     ]
    },
    {
     "name": "stderr",
     "output_type": "stream",
     "text": [
      "\r",
      "Processing:  36%|█████████████████████████████████                                                           | 36/100 [00:43<01:16,  1.19s/it]"
     ]
    },
    {
     "name": "stderr",
     "output_type": "stream",
     "text": [
      "\r",
      "Processing:  37%|██████████████████████████████████                                                          | 37/100 [00:44<01:14,  1.18s/it]"
     ]
    },
    {
     "name": "stderr",
     "output_type": "stream",
     "text": [
      "\r",
      "Processing:  38%|██████████████████████████████████▉                                                         | 38/100 [00:45<01:12,  1.17s/it]"
     ]
    },
    {
     "name": "stderr",
     "output_type": "stream",
     "text": [
      "\r",
      "Processing:  39%|███████████████████████████████████▉                                                        | 39/100 [00:46<01:09,  1.14s/it]"
     ]
    },
    {
     "name": "stderr",
     "output_type": "stream",
     "text": [
      "\r",
      "Processing:  40%|████████████████████████████████████▊                                                       | 40/100 [00:47<01:07,  1.12s/it]"
     ]
    },
    {
     "name": "stderr",
     "output_type": "stream",
     "text": [
      "\r",
      "Processing:  41%|█████████████████████████████████████▋                                                      | 41/100 [00:48<01:06,  1.12s/it]"
     ]
    },
    {
     "name": "stderr",
     "output_type": "stream",
     "text": [
      "\r",
      "Processing:  42%|██████████████████████████████████████▋                                                     | 42/100 [00:50<01:05,  1.12s/it]"
     ]
    },
    {
     "name": "stderr",
     "output_type": "stream",
     "text": [
      "\r",
      "Processing:  43%|███████████████████████████████████████▌                                                    | 43/100 [00:51<01:02,  1.10s/it]"
     ]
    },
    {
     "name": "stderr",
     "output_type": "stream",
     "text": [
      "\r",
      "Processing:  44%|████████████████████████████████████████▍                                                   | 44/100 [00:52<01:02,  1.12s/it]"
     ]
    },
    {
     "name": "stderr",
     "output_type": "stream",
     "text": [
      "\r",
      "Processing:  45%|█████████████████████████████████████████▍                                                  | 45/100 [00:53<01:00,  1.10s/it]"
     ]
    },
    {
     "name": "stderr",
     "output_type": "stream",
     "text": [
      "\r",
      "Processing:  46%|██████████████████████████████████████████▎                                                 | 46/100 [00:54<01:00,  1.11s/it]"
     ]
    },
    {
     "name": "stderr",
     "output_type": "stream",
     "text": [
      "\r",
      "Processing:  47%|███████████████████████████████████████████▏                                                | 47/100 [00:55<00:58,  1.10s/it]"
     ]
    },
    {
     "name": "stderr",
     "output_type": "stream",
     "text": [
      "\r",
      "Processing:  48%|████████████████████████████████████████████▏                                               | 48/100 [00:56<00:56,  1.09s/it]"
     ]
    },
    {
     "name": "stderr",
     "output_type": "stream",
     "text": [
      "\r",
      "Processing:  49%|█████████████████████████████████████████████                                               | 49/100 [00:57<00:56,  1.10s/it]"
     ]
    },
    {
     "name": "stderr",
     "output_type": "stream",
     "text": [
      "\r",
      "Processing:  50%|██████████████████████████████████████████████                                              | 50/100 [00:58<00:54,  1.10s/it]"
     ]
    },
    {
     "name": "stderr",
     "output_type": "stream",
     "text": [
      "\r",
      "Processing:  51%|██████████████████████████████████████████████▉                                             | 51/100 [01:00<00:57,  1.18s/it]"
     ]
    },
    {
     "name": "stderr",
     "output_type": "stream",
     "text": [
      "\r",
      "Processing:  52%|███████████████████████████████████████████████▊                                            | 52/100 [01:01<00:57,  1.21s/it]"
     ]
    },
    {
     "name": "stderr",
     "output_type": "stream",
     "text": [
      "\r",
      "Processing:  53%|████████████████████████████████████████████████▊                                           | 53/100 [01:02<00:56,  1.20s/it]"
     ]
    },
    {
     "name": "stderr",
     "output_type": "stream",
     "text": [
      "\r",
      "Processing:  54%|█████████████████████████████████████████████████▋                                          | 54/100 [01:03<00:53,  1.16s/it]"
     ]
    },
    {
     "name": "stderr",
     "output_type": "stream",
     "text": [
      "\r",
      "Processing:  55%|██████████████████████████████████████████████████▌                                         | 55/100 [01:05<00:54,  1.22s/it]"
     ]
    },
    {
     "name": "stderr",
     "output_type": "stream",
     "text": [
      "\r",
      "Processing:  56%|███████████████████████████████████████████████████▌                                        | 56/100 [01:06<00:52,  1.19s/it]"
     ]
    },
    {
     "name": "stderr",
     "output_type": "stream",
     "text": [
      "\r",
      "Processing:  57%|████████████████████████████████████████████████████▍                                       | 57/100 [01:07<00:49,  1.15s/it]"
     ]
    },
    {
     "name": "stderr",
     "output_type": "stream",
     "text": [
      "\r",
      "Processing:  58%|█████████████████████████████████████████████████████▎                                      | 58/100 [01:08<00:47,  1.13s/it]"
     ]
    },
    {
     "name": "stderr",
     "output_type": "stream",
     "text": [
      "\r",
      "Processing:  59%|██████████████████████████████████████████████████████▎                                     | 59/100 [01:09<00:45,  1.10s/it]"
     ]
    },
    {
     "name": "stderr",
     "output_type": "stream",
     "text": [
      "\r",
      "Processing:  60%|███████████████████████████████████████████████████████▏                                    | 60/100 [01:10<00:43,  1.09s/it]"
     ]
    },
    {
     "name": "stderr",
     "output_type": "stream",
     "text": [
      "\r",
      "Processing:  61%|████████████████████████████████████████████████████████                                    | 61/100 [01:11<00:42,  1.10s/it]"
     ]
    },
    {
     "name": "stderr",
     "output_type": "stream",
     "text": [
      "\r",
      "Processing:  62%|█████████████████████████████████████████████████████████                                   | 62/100 [01:12<00:41,  1.09s/it]"
     ]
    },
    {
     "name": "stderr",
     "output_type": "stream",
     "text": [
      "\r",
      "Processing:  63%|█████████████████████████████████████████████████████████▉                                  | 63/100 [01:13<00:40,  1.09s/it]"
     ]
    },
    {
     "name": "stderr",
     "output_type": "stream",
     "text": [
      "\r",
      "Processing:  64%|██████████████████████████████████████████████████████████▉                                 | 64/100 [01:14<00:38,  1.08s/it]"
     ]
    },
    {
     "name": "stderr",
     "output_type": "stream",
     "text": [
      "\r",
      "Processing:  65%|███████████████████████████████████████████████████████████▊                                | 65/100 [01:15<00:38,  1.09s/it]"
     ]
    },
    {
     "name": "stderr",
     "output_type": "stream",
     "text": [
      "\r",
      "Processing:  66%|████████████████████████████████████████████████████████████▋                               | 66/100 [01:16<00:36,  1.08s/it]"
     ]
    },
    {
     "name": "stderr",
     "output_type": "stream",
     "text": [
      "\r",
      "Processing:  67%|█████████████████████████████████████████████████████████████▋                              | 67/100 [01:18<00:36,  1.11s/it]"
     ]
    },
    {
     "name": "stderr",
     "output_type": "stream",
     "text": [
      "\r",
      "Processing:  68%|██████████████████████████████████████████████████████████████▌                             | 68/100 [01:19<00:37,  1.16s/it]"
     ]
    },
    {
     "name": "stderr",
     "output_type": "stream",
     "text": [
      "\r",
      "Processing:  69%|███████████████████████████████████████████████████████████████▍                            | 69/100 [01:20<00:37,  1.20s/it]"
     ]
    },
    {
     "name": "stderr",
     "output_type": "stream",
     "text": [
      "\r",
      "Processing:  70%|████████████████████████████████████████████████████████████████▍                           | 70/100 [01:21<00:36,  1.21s/it]"
     ]
    },
    {
     "name": "stderr",
     "output_type": "stream",
     "text": [
      "\r",
      "Processing:  71%|█████████████████████████████████████████████████████████████████▎                          | 71/100 [01:23<00:35,  1.24s/it]"
     ]
    },
    {
     "name": "stderr",
     "output_type": "stream",
     "text": [
      "\r",
      "Processing:  72%|██████████████████████████████████████████████████████████████████▏                         | 72/100 [01:24<00:35,  1.26s/it]"
     ]
    },
    {
     "name": "stderr",
     "output_type": "stream",
     "text": [
      "\r",
      "Processing:  73%|███████████████████████████████████████████████████████████████████▏                        | 73/100 [01:25<00:33,  1.24s/it]"
     ]
    },
    {
     "name": "stderr",
     "output_type": "stream",
     "text": [
      "\r",
      "Processing:  74%|████████████████████████████████████████████████████████████████████                        | 74/100 [01:27<00:34,  1.32s/it]"
     ]
    },
    {
     "name": "stderr",
     "output_type": "stream",
     "text": [
      "\r",
      "Processing:  75%|█████████████████████████████████████████████████████████████████████                       | 75/100 [01:28<00:32,  1.29s/it]"
     ]
    },
    {
     "name": "stderr",
     "output_type": "stream",
     "text": [
      "\r",
      "Processing:  76%|█████████████████████████████████████████████████████████████████████▉                      | 76/100 [01:29<00:31,  1.31s/it]"
     ]
    },
    {
     "name": "stderr",
     "output_type": "stream",
     "text": [
      "\r",
      "Processing:  77%|██████████████████████████████████████████████████████████████████████▊                     | 77/100 [01:31<00:30,  1.32s/it]"
     ]
    },
    {
     "name": "stderr",
     "output_type": "stream",
     "text": [
      "\r",
      "Processing:  78%|███████████████████████████████████████████████████████████████████████▊                    | 78/100 [01:32<00:30,  1.37s/it]"
     ]
    },
    {
     "name": "stderr",
     "output_type": "stream",
     "text": [
      "\r",
      "Processing:  79%|████████████████████████████████████████████████████████████████████████▋                   | 79/100 [01:34<00:28,  1.38s/it]"
     ]
    },
    {
     "name": "stderr",
     "output_type": "stream",
     "text": [
      "\r",
      "Processing:  80%|█████████████████████████████████████████████████████████████████████████▌                  | 80/100 [01:35<00:26,  1.34s/it]"
     ]
    },
    {
     "name": "stderr",
     "output_type": "stream",
     "text": [
      "\r",
      "Processing:  81%|██████████████████████████████████████████████████████████████████████████▌                 | 81/100 [01:36<00:26,  1.37s/it]"
     ]
    },
    {
     "name": "stderr",
     "output_type": "stream",
     "text": [
      "\r",
      "Processing:  82%|███████████████████████████████████████████████████████████████████████████▍                | 82/100 [01:38<00:25,  1.40s/it]"
     ]
    },
    {
     "name": "stderr",
     "output_type": "stream",
     "text": [
      "\r",
      "Processing:  83%|████████████████████████████████████████████████████████████████████████████▎               | 83/100 [01:39<00:25,  1.50s/it]"
     ]
    },
    {
     "name": "stderr",
     "output_type": "stream",
     "text": [
      "\r",
      "Processing:  84%|█████████████████████████████████████████████████████████████████████████████▎              | 84/100 [01:41<00:26,  1.64s/it]"
     ]
    },
    {
     "name": "stderr",
     "output_type": "stream",
     "text": [
      "\r",
      "Processing:  85%|██████████████████████████████████████████████████████████████████████████████▏             | 85/100 [01:43<00:25,  1.73s/it]"
     ]
    },
    {
     "name": "stderr",
     "output_type": "stream",
     "text": [
      "\r",
      "Processing:  86%|███████████████████████████████████████████████████████████████████████████████             | 86/100 [01:45<00:22,  1.59s/it]"
     ]
    },
    {
     "name": "stderr",
     "output_type": "stream",
     "text": [
      "\r",
      "Processing:  87%|████████████████████████████████████████████████████████████████████████████████            | 87/100 [01:46<00:19,  1.48s/it]"
     ]
    },
    {
     "name": "stderr",
     "output_type": "stream",
     "text": [
      "\r",
      "Processing:  88%|████████████████████████████████████████████████████████████████████████████████▉           | 88/100 [01:47<00:17,  1.46s/it]"
     ]
    },
    {
     "name": "stderr",
     "output_type": "stream",
     "text": [
      "\r",
      "Processing:  89%|█████████████████████████████████████████████████████████████████████████████████▉          | 89/100 [01:49<00:15,  1.39s/it]"
     ]
    },
    {
     "name": "stderr",
     "output_type": "stream",
     "text": [
      "\r",
      "Processing:  90%|██████████████████████████████████████████████████████████████████████████████████▊         | 90/100 [01:50<00:14,  1.40s/it]"
     ]
    },
    {
     "name": "stderr",
     "output_type": "stream",
     "text": [
      "\r",
      "Processing:  91%|███████████████████████████████████████████████████████████████████████████████████▋        | 91/100 [01:51<00:12,  1.39s/it]"
     ]
    },
    {
     "name": "stderr",
     "output_type": "stream",
     "text": [
      "\r",
      "Processing:  92%|████████████████████████████████████████████████████████████████████████████████████▋       | 92/100 [01:53<00:10,  1.33s/it]"
     ]
    },
    {
     "name": "stderr",
     "output_type": "stream",
     "text": [
      "\r",
      "Processing:  93%|█████████████████████████████████████████████████████████████████████████████████████▌      | 93/100 [01:54<00:09,  1.30s/it]"
     ]
    },
    {
     "name": "stderr",
     "output_type": "stream",
     "text": [
      "\r",
      "Processing:  94%|██████████████████████████████████████████████████████████████████████████████████████▍     | 94/100 [01:55<00:07,  1.27s/it]"
     ]
    },
    {
     "name": "stderr",
     "output_type": "stream",
     "text": [
      "\r",
      "Processing:  95%|███████████████████████████████████████████████████████████████████████████████████████▍    | 95/100 [01:56<00:06,  1.26s/it]"
     ]
    },
    {
     "name": "stderr",
     "output_type": "stream",
     "text": [
      "\r",
      "Processing:  96%|████████████████████████████████████████████████████████████████████████████████████████▎   | 96/100 [01:58<00:05,  1.38s/it]"
     ]
    },
    {
     "name": "stderr",
     "output_type": "stream",
     "text": [
      "\r",
      "Processing:  97%|█████████████████████████████████████████████████████████████████████████████████████████▏  | 97/100 [01:59<00:03,  1.32s/it]"
     ]
    },
    {
     "name": "stderr",
     "output_type": "stream",
     "text": [
      "\r",
      "Processing:  98%|██████████████████████████████████████████████████████████████████████████████████████████▏ | 98/100 [02:00<00:02,  1.25s/it]"
     ]
    },
    {
     "name": "stderr",
     "output_type": "stream",
     "text": [
      "\r",
      "Processing:  99%|███████████████████████████████████████████████████████████████████████████████████████████ | 99/100 [02:01<00:01,  1.20s/it]"
     ]
    },
    {
     "name": "stderr",
     "output_type": "stream",
     "text": [
      "\r",
      "Processing: 100%|███████████████████████████████████████████████████████████████████████████████████████████| 100/100 [02:02<00:00,  1.17s/it]"
     ]
    },
    {
     "name": "stderr",
     "output_type": "stream",
     "text": [
      "\r",
      "Processing: 100%|███████████████████████████████████████████████████████████████████████████████████████████| 100/100 [02:02<00:00,  1.23s/it]"
     ]
    },
    {
     "name": "stderr",
     "output_type": "stream",
     "text": [
      "\n"
     ]
    },
    {
     "name": "stderr",
     "output_type": "stream",
     "text": [
      "\r",
      "Processing:   0%|                                                                                                     | 0/100 [00:00<?, ?it/s]"
     ]
    },
    {
     "name": "stderr",
     "output_type": "stream",
     "text": [
      "\r",
      "Processing:   1%|▉                                                                                            | 1/100 [00:08<13:42,  8.31s/it]"
     ]
    },
    {
     "name": "stderr",
     "output_type": "stream",
     "text": [
      "\r",
      "Processing:   2%|█▊                                                                                           | 2/100 [00:15<12:02,  7.37s/it]"
     ]
    },
    {
     "name": "stderr",
     "output_type": "stream",
     "text": [
      "\r",
      "Processing:   3%|██▊                                                                                          | 3/100 [00:22<11:42,  7.24s/it]"
     ]
    },
    {
     "name": "stderr",
     "output_type": "stream",
     "text": [
      "\r",
      "Processing:   4%|███▋                                                                                         | 4/100 [00:28<11:08,  6.96s/it]"
     ]
    },
    {
     "name": "stderr",
     "output_type": "stream",
     "text": [
      "\r",
      "Processing:   5%|████▋                                                                                        | 5/100 [00:34<10:32,  6.66s/it]"
     ]
    },
    {
     "name": "stderr",
     "output_type": "stream",
     "text": [
      "\r",
      "Processing:   6%|█████▌                                                                                       | 6/100 [00:42<11:11,  7.14s/it]"
     ]
    },
    {
     "name": "stderr",
     "output_type": "stream",
     "text": [
      "\r",
      "Processing:   7%|██████▌                                                                                      | 7/100 [00:49<10:59,  7.09s/it]"
     ]
    },
    {
     "name": "stderr",
     "output_type": "stream",
     "text": [
      "\r",
      "Processing:   8%|███████▍                                                                                     | 8/100 [00:57<11:03,  7.21s/it]"
     ]
    },
    {
     "name": "stderr",
     "output_type": "stream",
     "text": [
      "\r",
      "Processing:   9%|████████▎                                                                                    | 9/100 [01:03<10:40,  7.04s/it]"
     ]
    },
    {
     "name": "stderr",
     "output_type": "stream",
     "text": [
      "\r",
      "Processing:  10%|█████████▏                                                                                  | 10/100 [01:10<10:31,  7.01s/it]"
     ]
    },
    {
     "name": "stderr",
     "output_type": "stream",
     "text": [
      "\r",
      "Processing:  11%|██████████                                                                                  | 11/100 [01:17<10:25,  7.02s/it]"
     ]
    },
    {
     "name": "stderr",
     "output_type": "stream",
     "text": [
      "\r",
      "Processing:  12%|███████████                                                                                 | 12/100 [01:24<10:09,  6.93s/it]"
     ]
    },
    {
     "name": "stderr",
     "output_type": "stream",
     "text": [
      "\r",
      "Processing:  13%|███████████▉                                                                                | 13/100 [01:32<10:28,  7.22s/it]"
     ]
    },
    {
     "name": "stderr",
     "output_type": "stream",
     "text": [
      "\r",
      "Processing:  14%|████████████▉                                                                               | 14/100 [01:40<10:37,  7.41s/it]"
     ]
    },
    {
     "name": "stderr",
     "output_type": "stream",
     "text": [
      "\r",
      "Processing:  15%|█████████████▊                                                                              | 15/100 [01:47<10:11,  7.19s/it]"
     ]
    },
    {
     "name": "stderr",
     "output_type": "stream",
     "text": [
      "\r",
      "Processing:  16%|██████████████▋                                                                             | 16/100 [01:54<10:14,  7.32s/it]"
     ]
    },
    {
     "name": "stderr",
     "output_type": "stream",
     "text": [
      "\r",
      "Processing:  17%|███████████████▋                                                                            | 17/100 [02:01<10:03,  7.28s/it]"
     ]
    },
    {
     "name": "stderr",
     "output_type": "stream",
     "text": [
      "\r",
      "Processing:  18%|████████████████▌                                                                           | 18/100 [02:09<10:06,  7.39s/it]"
     ]
    },
    {
     "name": "stderr",
     "output_type": "stream",
     "text": [
      "\r",
      "Processing:  19%|█████████████████▍                                                                          | 19/100 [02:16<09:45,  7.23s/it]"
     ]
    },
    {
     "name": "stderr",
     "output_type": "stream",
     "text": [
      "\r",
      "Processing:  20%|██████████████████▍                                                                         | 20/100 [02:22<09:22,  7.03s/it]"
     ]
    },
    {
     "name": "stderr",
     "output_type": "stream",
     "text": [
      "\r",
      "Processing:  21%|███████████████████▎                                                                        | 21/100 [02:30<09:17,  7.05s/it]"
     ]
    },
    {
     "name": "stderr",
     "output_type": "stream",
     "text": [
      "\r",
      "Processing:  22%|████████████████████▏                                                                       | 22/100 [02:37<09:28,  7.29s/it]"
     ]
    },
    {
     "name": "stderr",
     "output_type": "stream",
     "text": [
      "\r",
      "Processing:  23%|█████████████████████▏                                                                      | 23/100 [02:45<09:37,  7.50s/it]"
     ]
    },
    {
     "name": "stderr",
     "output_type": "stream",
     "text": [
      "\r",
      "Processing:  24%|██████████████████████                                                                      | 24/100 [02:52<09:00,  7.11s/it]"
     ]
    },
    {
     "name": "stderr",
     "output_type": "stream",
     "text": [
      "\r",
      "Processing:  25%|███████████████████████                                                                     | 25/100 [02:59<09:00,  7.21s/it]"
     ]
    },
    {
     "name": "stderr",
     "output_type": "stream",
     "text": [
      "\r",
      "Processing:  26%|███████████████████████▉                                                                    | 26/100 [03:07<09:04,  7.36s/it]"
     ]
    },
    {
     "name": "stderr",
     "output_type": "stream",
     "text": [
      "\r",
      "Processing:  27%|████████████████████████▊                                                                   | 27/100 [03:14<09:00,  7.40s/it]"
     ]
    },
    {
     "name": "stderr",
     "output_type": "stream",
     "text": [
      "\r",
      "Processing:  28%|█████████████████████████▊                                                                  | 28/100 [03:21<08:35,  7.15s/it]"
     ]
    },
    {
     "name": "stderr",
     "output_type": "stream",
     "text": [
      "\r",
      "Processing:  29%|██████████████████████████▋                                                                 | 29/100 [03:27<08:07,  6.87s/it]"
     ]
    },
    {
     "name": "stderr",
     "output_type": "stream",
     "text": [
      "\r",
      "Processing:  30%|███████████████████████████▌                                                                | 30/100 [03:34<07:56,  6.80s/it]"
     ]
    },
    {
     "name": "stderr",
     "output_type": "stream",
     "text": [
      "\r",
      "Processing:  31%|████████████████████████████▌                                                               | 31/100 [03:40<07:44,  6.73s/it]"
     ]
    },
    {
     "name": "stderr",
     "output_type": "stream",
     "text": [
      "\r",
      "Processing:  32%|█████████████████████████████▍                                                              | 32/100 [03:47<07:41,  6.79s/it]"
     ]
    },
    {
     "name": "stderr",
     "output_type": "stream",
     "text": [
      "\r",
      "Processing:  33%|██████████████████████████████▎                                                             | 33/100 [03:56<08:14,  7.38s/it]"
     ]
    },
    {
     "name": "stderr",
     "output_type": "stream",
     "text": [
      "\r",
      "Processing:  34%|███████████████████████████████▎                                                            | 34/100 [04:02<07:43,  7.02s/it]"
     ]
    },
    {
     "name": "stderr",
     "output_type": "stream",
     "text": [
      "\r",
      "Processing:  35%|████████████████████████████████▏                                                           | 35/100 [04:10<07:46,  7.17s/it]"
     ]
    },
    {
     "name": "stderr",
     "output_type": "stream",
     "text": [
      "\r",
      "Processing:  36%|█████████████████████████████████                                                           | 36/100 [04:17<07:48,  7.32s/it]"
     ]
    },
    {
     "name": "stderr",
     "output_type": "stream",
     "text": [
      "\r",
      "Processing:  37%|██████████████████████████████████                                                          | 37/100 [04:24<07:21,  7.01s/it]"
     ]
    },
    {
     "name": "stderr",
     "output_type": "stream",
     "text": [
      "\r",
      "Processing:  38%|██████████████████████████████████▉                                                         | 38/100 [04:30<07:06,  6.88s/it]"
     ]
    },
    {
     "name": "stderr",
     "output_type": "stream",
     "text": [
      "\r",
      "Processing:  39%|███████████████████████████████████▉                                                        | 39/100 [04:37<07:05,  6.98s/it]"
     ]
    },
    {
     "name": "stderr",
     "output_type": "stream",
     "text": [
      "\r",
      "Processing:  40%|████████████████████████████████████▊                                                       | 40/100 [04:44<06:56,  6.94s/it]"
     ]
    },
    {
     "name": "stderr",
     "output_type": "stream",
     "text": [
      "\r",
      "Processing:  41%|█████████████████████████████████████▋                                                      | 41/100 [04:52<07:00,  7.12s/it]"
     ]
    },
    {
     "name": "stderr",
     "output_type": "stream",
     "text": [
      "\r",
      "Processing:  42%|██████████████████████████████████████▋                                                     | 42/100 [04:59<06:49,  7.06s/it]"
     ]
    },
    {
     "name": "stderr",
     "output_type": "stream",
     "text": [
      "\r",
      "Processing:  43%|███████████████████████████████████████▌                                                    | 43/100 [05:06<06:50,  7.19s/it]"
     ]
    },
    {
     "name": "stderr",
     "output_type": "stream",
     "text": [
      "\r",
      "Processing:  44%|████████████████████████████████████████▍                                                   | 44/100 [05:14<06:50,  7.33s/it]"
     ]
    },
    {
     "name": "stderr",
     "output_type": "stream",
     "text": [
      "\r",
      "Processing:  45%|█████████████████████████████████████████▍                                                  | 45/100 [05:22<06:56,  7.57s/it]"
     ]
    },
    {
     "name": "stderr",
     "output_type": "stream",
     "text": [
      "\r",
      "Processing:  46%|██████████████████████████████████████████▎                                                 | 46/100 [05:30<06:50,  7.61s/it]"
     ]
    },
    {
     "name": "stderr",
     "output_type": "stream",
     "text": [
      "\r",
      "Processing:  47%|███████████████████████████████████████████▏                                                | 47/100 [05:37<06:44,  7.62s/it]"
     ]
    },
    {
     "name": "stderr",
     "output_type": "stream",
     "text": [
      "\r",
      "Processing:  48%|████████████████████████████████████████████▏                                               | 48/100 [05:45<06:33,  7.56s/it]"
     ]
    },
    {
     "name": "stderr",
     "output_type": "stream",
     "text": [
      "\r",
      "Processing:  49%|█████████████████████████████████████████████                                               | 49/100 [05:52<06:19,  7.45s/it]"
     ]
    },
    {
     "name": "stderr",
     "output_type": "stream",
     "text": [
      "\r",
      "Processing:  50%|██████████████████████████████████████████████                                              | 50/100 [05:58<05:55,  7.12s/it]"
     ]
    },
    {
     "name": "stderr",
     "output_type": "stream",
     "text": [
      "\r",
      "Processing:  51%|██████████████████████████████████████████████▉                                             | 51/100 [06:05<05:47,  7.09s/it]"
     ]
    },
    {
     "name": "stderr",
     "output_type": "stream",
     "text": [
      "\r",
      "Processing:  52%|███████████████████████████████████████████████▊                                            | 52/100 [06:12<05:38,  7.06s/it]"
     ]
    },
    {
     "name": "stderr",
     "output_type": "stream",
     "text": [
      "\r",
      "Processing:  53%|████████████████████████████████████████████████▊                                           | 53/100 [06:19<05:30,  7.03s/it]"
     ]
    },
    {
     "name": "stderr",
     "output_type": "stream",
     "text": [
      "\r",
      "Processing:  54%|█████████████████████████████████████████████████▋                                          | 54/100 [06:26<05:16,  6.87s/it]"
     ]
    },
    {
     "name": "stderr",
     "output_type": "stream",
     "text": [
      "\r",
      "Processing:  55%|██████████████████████████████████████████████████▌                                         | 55/100 [06:33<05:08,  6.86s/it]"
     ]
    },
    {
     "name": "stderr",
     "output_type": "stream",
     "text": [
      "\r",
      "Processing:  56%|███████████████████████████████████████████████████▌                                        | 56/100 [06:40<05:03,  6.89s/it]"
     ]
    },
    {
     "name": "stderr",
     "output_type": "stream",
     "text": [
      "\r",
      "Processing:  57%|████████████████████████████████████████████████████▍                                       | 57/100 [06:47<05:04,  7.09s/it]"
     ]
    },
    {
     "name": "stderr",
     "output_type": "stream",
     "text": [
      "\r",
      "Processing:  58%|█████████████████████████████████████████████████████▎                                      | 58/100 [06:54<04:58,  7.10s/it]"
     ]
    },
    {
     "name": "stderr",
     "output_type": "stream",
     "text": [
      "\r",
      "Processing:  59%|██████████████████████████████████████████████████████▎                                     | 59/100 [07:00<04:40,  6.84s/it]"
     ]
    },
    {
     "name": "stderr",
     "output_type": "stream",
     "text": [
      "\r",
      "Processing:  60%|███████████████████████████████████████████████████████▏                                    | 60/100 [07:07<04:30,  6.75s/it]"
     ]
    },
    {
     "name": "stderr",
     "output_type": "stream",
     "text": [
      "\r",
      "Processing:  61%|████████████████████████████████████████████████████████                                    | 61/100 [07:15<04:31,  6.97s/it]"
     ]
    },
    {
     "name": "stderr",
     "output_type": "stream",
     "text": [
      "\r",
      "Processing:  62%|█████████████████████████████████████████████████████████                                   | 62/100 [07:21<04:21,  6.88s/it]"
     ]
    },
    {
     "name": "stderr",
     "output_type": "stream",
     "text": [
      "\r",
      "Processing:  63%|█████████████████████████████████████████████████████████▉                                  | 63/100 [07:28<04:12,  6.83s/it]"
     ]
    },
    {
     "name": "stderr",
     "output_type": "stream",
     "text": [
      "\r",
      "Processing:  64%|██████████████████████████████████████████████████████████▉                                 | 64/100 [07:34<03:59,  6.66s/it]"
     ]
    },
    {
     "name": "stderr",
     "output_type": "stream",
     "text": [
      "\r",
      "Processing:  65%|███████████████████████████████████████████████████████████▊                                | 65/100 [07:42<04:03,  6.96s/it]"
     ]
    },
    {
     "name": "stderr",
     "output_type": "stream",
     "text": [
      "\r",
      "Processing:  66%|████████████████████████████████████████████████████████████▋                               | 66/100 [07:49<03:58,  7.00s/it]"
     ]
    },
    {
     "name": "stderr",
     "output_type": "stream",
     "text": [
      "\r",
      "Processing:  67%|█████████████████████████████████████████████████████████████▋                              | 67/100 [07:57<04:01,  7.31s/it]"
     ]
    },
    {
     "name": "stderr",
     "output_type": "stream",
     "text": [
      "\r",
      "Processing:  68%|██████████████████████████████████████████████████████████████▌                             | 68/100 [08:04<03:53,  7.30s/it]"
     ]
    },
    {
     "name": "stderr",
     "output_type": "stream",
     "text": [
      "\r",
      "Processing:  69%|███████████████████████████████████████████████████████████████▍                            | 69/100 [08:12<03:50,  7.45s/it]"
     ]
    },
    {
     "name": "stderr",
     "output_type": "stream",
     "text": [
      "\r",
      "Processing:  70%|████████████████████████████████████████████████████████████████▍                           | 70/100 [08:20<03:48,  7.62s/it]"
     ]
    },
    {
     "name": "stderr",
     "output_type": "stream",
     "text": [
      "\r",
      "Processing:  71%|█████████████████████████████████████████████████████████████████▎                          | 71/100 [08:27<03:35,  7.43s/it]"
     ]
    },
    {
     "name": "stderr",
     "output_type": "stream",
     "text": [
      "\r",
      "Processing:  72%|██████████████████████████████████████████████████████████████████▏                         | 72/100 [08:35<03:33,  7.61s/it]"
     ]
    },
    {
     "name": "stderr",
     "output_type": "stream",
     "text": [
      "\r",
      "Processing:  73%|███████████████████████████████████████████████████████████████████▏                        | 73/100 [08:42<03:22,  7.49s/it]"
     ]
    },
    {
     "name": "stderr",
     "output_type": "stream",
     "text": [
      "\r",
      "Processing:  74%|████████████████████████████████████████████████████████████████████                        | 74/100 [08:50<03:18,  7.62s/it]"
     ]
    },
    {
     "name": "stderr",
     "output_type": "stream",
     "text": [
      "\r",
      "Processing:  75%|█████████████████████████████████████████████████████████████████████                       | 75/100 [08:58<03:09,  7.56s/it]"
     ]
    },
    {
     "name": "stderr",
     "output_type": "stream",
     "text": [
      "\r",
      "Processing:  76%|█████████████████████████████████████████████████████████████████████▉                      | 76/100 [09:05<03:02,  7.62s/it]"
     ]
    },
    {
     "name": "stderr",
     "output_type": "stream",
     "text": [
      "\r",
      "Processing:  77%|██████████████████████████████████████████████████████████████████████▊                     | 77/100 [09:12<02:48,  7.32s/it]"
     ]
    },
    {
     "name": "stderr",
     "output_type": "stream",
     "text": [
      "\r",
      "Processing:  78%|███████████████████████████████████████████████████████████████████████▊                    | 78/100 [09:20<02:46,  7.58s/it]"
     ]
    },
    {
     "name": "stderr",
     "output_type": "stream",
     "text": [
      "\r",
      "Processing:  79%|████████████████████████████████████████████████████████████████████████▋                   | 79/100 [09:28<02:42,  7.74s/it]"
     ]
    },
    {
     "name": "stderr",
     "output_type": "stream",
     "text": [
      "\r",
      "Processing:  80%|█████████████████████████████████████████████████████████████████████████▌                  | 80/100 [09:35<02:27,  7.39s/it]"
     ]
    },
    {
     "name": "stderr",
     "output_type": "stream",
     "text": [
      "\r",
      "Processing:  81%|██████████████████████████████████████████████████████████████████████████▌                 | 81/100 [09:42<02:18,  7.27s/it]"
     ]
    },
    {
     "name": "stderr",
     "output_type": "stream",
     "text": [
      "\r",
      "Processing:  82%|███████████████████████████████████████████████████████████████████████████▍                | 82/100 [09:48<02:06,  7.05s/it]"
     ]
    },
    {
     "name": "stderr",
     "output_type": "stream",
     "text": [
      "\r",
      "Processing:  83%|████████████████████████████████████████████████████████████████████████████▎               | 83/100 [09:56<02:01,  7.17s/it]"
     ]
    },
    {
     "name": "stderr",
     "output_type": "stream",
     "text": [
      "\r",
      "Processing:  84%|█████████████████████████████████████████████████████████████████████████████▎              | 84/100 [10:04<02:01,  7.59s/it]"
     ]
    },
    {
     "name": "stderr",
     "output_type": "stream",
     "text": [
      "\r",
      "Processing:  85%|██████████████████████████████████████████████████████████████████████████████▏             | 85/100 [10:11<01:49,  7.30s/it]"
     ]
    },
    {
     "name": "stderr",
     "output_type": "stream",
     "text": [
      "\r",
      "Processing:  86%|███████████████████████████████████████████████████████████████████████████████             | 86/100 [10:19<01:43,  7.43s/it]"
     ]
    },
    {
     "name": "stderr",
     "output_type": "stream",
     "text": [
      "\r",
      "Processing:  87%|████████████████████████████████████████████████████████████████████████████████            | 87/100 [10:26<01:34,  7.27s/it]"
     ]
    },
    {
     "name": "stderr",
     "output_type": "stream",
     "text": [
      "\r",
      "Processing:  88%|████████████████████████████████████████████████████████████████████████████████▉           | 88/100 [10:34<01:29,  7.48s/it]"
     ]
    },
    {
     "name": "stderr",
     "output_type": "stream",
     "text": [
      "\r",
      "Processing:  89%|█████████████████████████████████████████████████████████████████████████████████▉          | 89/100 [10:41<01:23,  7.57s/it]"
     ]
    },
    {
     "name": "stderr",
     "output_type": "stream",
     "text": [
      "\r",
      "Processing:  90%|██████████████████████████████████████████████████████████████████████████████████▊         | 90/100 [10:49<01:15,  7.56s/it]"
     ]
    },
    {
     "name": "stderr",
     "output_type": "stream",
     "text": [
      "\r",
      "Processing:  91%|███████████████████████████████████████████████████████████████████████████████████▋        | 91/100 [10:56<01:07,  7.46s/it]"
     ]
    },
    {
     "name": "stderr",
     "output_type": "stream",
     "text": [
      "\r",
      "Processing:  92%|████████████████████████████████████████████████████████████████████████████████████▋       | 92/100 [11:02<00:56,  7.11s/it]"
     ]
    },
    {
     "name": "stderr",
     "output_type": "stream",
     "text": [
      "\r",
      "Processing:  93%|█████████████████████████████████████████████████████████████████████████████████████▌      | 93/100 [11:10<00:50,  7.28s/it]"
     ]
    },
    {
     "name": "stderr",
     "output_type": "stream",
     "text": [
      "\r",
      "Processing:  94%|██████████████████████████████████████████████████████████████████████████████████████▍     | 94/100 [11:18<00:44,  7.47s/it]"
     ]
    },
    {
     "name": "stderr",
     "output_type": "stream",
     "text": [
      "\r",
      "Processing:  95%|███████████████████████████████████████████████████████████████████████████████████████▍    | 95/100 [11:24<00:35,  7.07s/it]"
     ]
    },
    {
     "name": "stderr",
     "output_type": "stream",
     "text": [
      "\r",
      "Processing:  96%|████████████████████████████████████████████████████████████████████████████████████████▎   | 96/100 [11:32<00:29,  7.34s/it]"
     ]
    },
    {
     "name": "stderr",
     "output_type": "stream",
     "text": [
      "\r",
      "Processing:  97%|█████████████████████████████████████████████████████████████████████████████████████████▏  | 97/100 [11:39<00:21,  7.12s/it]"
     ]
    },
    {
     "name": "stderr",
     "output_type": "stream",
     "text": [
      "\r",
      "Processing:  98%|██████████████████████████████████████████████████████████████████████████████████████████▏ | 98/100 [11:46<00:14,  7.14s/it]"
     ]
    },
    {
     "name": "stderr",
     "output_type": "stream",
     "text": [
      "\r",
      "Processing:  99%|███████████████████████████████████████████████████████████████████████████████████████████ | 99/100 [11:53<00:07,  7.15s/it]"
     ]
    },
    {
     "name": "stderr",
     "output_type": "stream",
     "text": [
      "\r",
      "Processing: 100%|███████████████████████████████████████████████████████████████████████████████████████████| 100/100 [12:01<00:00,  7.41s/it]"
     ]
    },
    {
     "name": "stderr",
     "output_type": "stream",
     "text": [
      "\r",
      "Processing: 100%|███████████████████████████████████████████████████████████████████████████████████████████| 100/100 [12:01<00:00,  7.22s/it]"
     ]
    },
    {
     "name": "stderr",
     "output_type": "stream",
     "text": [
      "\n"
     ]
    },
    {
     "name": "stderr",
     "output_type": "stream",
     "text": [
      "\r",
      "Processing:   0%|                                                                                                     | 0/100 [00:00<?, ?it/s]"
     ]
    },
    {
     "name": "stderr",
     "output_type": "stream",
     "text": [
      "\r",
      "Processing:   1%|▉                                                                                            | 1/100 [00:21<34:47, 21.08s/it]"
     ]
    },
    {
     "name": "stderr",
     "output_type": "stream",
     "text": [
      "\r",
      "Processing:   2%|█▊                                                                                           | 2/100 [00:45<37:18, 22.84s/it]"
     ]
    },
    {
     "name": "stderr",
     "output_type": "stream",
     "text": [
      "\r",
      "Processing:   3%|██▊                                                                                          | 3/100 [01:06<35:35, 22.02s/it]"
     ]
    },
    {
     "name": "stderr",
     "output_type": "stream",
     "text": [
      "\r",
      "Processing:   4%|███▋                                                                                         | 4/100 [01:27<34:42, 21.69s/it]"
     ]
    },
    {
     "name": "stderr",
     "output_type": "stream",
     "text": [
      "\r",
      "Processing:   5%|████▋                                                                                        | 5/100 [01:49<34:42, 21.92s/it]"
     ]
    },
    {
     "name": "stderr",
     "output_type": "stream",
     "text": [
      "\r",
      "Processing:   6%|█████▌                                                                                       | 6/100 [02:12<34:48, 22.22s/it]"
     ]
    },
    {
     "name": "stderr",
     "output_type": "stream",
     "text": [
      "\r",
      "Processing:   7%|██████▌                                                                                      | 7/100 [02:33<33:53, 21.86s/it]"
     ]
    },
    {
     "name": "stderr",
     "output_type": "stream",
     "text": [
      "\r",
      "Processing:   8%|███████▍                                                                                     | 8/100 [02:55<33:23, 21.78s/it]"
     ]
    },
    {
     "name": "stderr",
     "output_type": "stream",
     "text": [
      "\r",
      "Processing:   9%|████████▎                                                                                    | 9/100 [03:18<33:37, 22.17s/it]"
     ]
    },
    {
     "name": "stderr",
     "output_type": "stream",
     "text": [
      "\r",
      "Processing:  10%|█████████▏                                                                                  | 10/100 [03:40<33:14, 22.16s/it]"
     ]
    },
    {
     "name": "stderr",
     "output_type": "stream",
     "text": [
      "\r",
      "Processing:  11%|██████████                                                                                  | 11/100 [04:03<33:11, 22.37s/it]"
     ]
    },
    {
     "name": "stderr",
     "output_type": "stream",
     "text": [
      "\r",
      "Processing:  12%|███████████                                                                                 | 12/100 [04:25<32:52, 22.42s/it]"
     ]
    },
    {
     "name": "stderr",
     "output_type": "stream",
     "text": [
      "\r",
      "Processing:  13%|███████████▉                                                                                | 13/100 [04:49<32:59, 22.75s/it]"
     ]
    },
    {
     "name": "stderr",
     "output_type": "stream",
     "text": [
      "\r",
      "Processing:  14%|████████████▉                                                                               | 14/100 [05:13<33:11, 23.16s/it]"
     ]
    },
    {
     "name": "stderr",
     "output_type": "stream",
     "text": [
      "\r",
      "Processing:  15%|█████████████▊                                                                              | 15/100 [05:34<31:53, 22.51s/it]"
     ]
    },
    {
     "name": "stderr",
     "output_type": "stream",
     "text": [
      "\r",
      "Processing:  16%|██████████████▋                                                                             | 16/100 [05:59<32:37, 23.30s/it]"
     ]
    },
    {
     "name": "stderr",
     "output_type": "stream",
     "text": [
      "\r",
      "Processing:  17%|███████████████▋                                                                            | 17/100 [06:21<31:37, 22.86s/it]"
     ]
    },
    {
     "name": "stderr",
     "output_type": "stream",
     "text": [
      "\r",
      "Processing:  18%|████████████████▌                                                                           | 18/100 [06:43<31:02, 22.72s/it]"
     ]
    },
    {
     "name": "stderr",
     "output_type": "stream",
     "text": [
      "\r",
      "Processing:  19%|█████████████████▍                                                                          | 19/100 [07:05<30:21, 22.49s/it]"
     ]
    },
    {
     "name": "stderr",
     "output_type": "stream",
     "text": [
      "\r",
      "Processing:  20%|██████████████████▍                                                                         | 20/100 [07:28<30:17, 22.72s/it]"
     ]
    },
    {
     "name": "stderr",
     "output_type": "stream",
     "text": [
      "\r",
      "Processing:  21%|███████████████████▎                                                                        | 21/100 [07:50<29:22, 22.31s/it]"
     ]
    },
    {
     "name": "stderr",
     "output_type": "stream",
     "text": [
      "\r",
      "Processing:  22%|████████████████████▏                                                                       | 22/100 [08:11<28:25, 21.86s/it]"
     ]
    },
    {
     "name": "stderr",
     "output_type": "stream",
     "text": [
      "\r",
      "Processing:  23%|█████████████████████▏                                                                      | 23/100 [08:34<28:32, 22.24s/it]"
     ]
    },
    {
     "name": "stderr",
     "output_type": "stream",
     "text": [
      "\r",
      "Processing:  24%|██████████████████████                                                                      | 24/100 [08:57<28:26, 22.46s/it]"
     ]
    },
    {
     "name": "stderr",
     "output_type": "stream",
     "text": [
      "\r",
      "Processing:  25%|███████████████████████                                                                     | 25/100 [09:20<28:13, 22.58s/it]"
     ]
    },
    {
     "name": "stderr",
     "output_type": "stream",
     "text": [
      "\r",
      "Processing:  26%|███████████████████████▉                                                                    | 26/100 [09:40<27:13, 22.07s/it]"
     ]
    },
    {
     "name": "stderr",
     "output_type": "stream",
     "text": [
      "\r",
      "Processing:  27%|████████████████████████▊                                                                   | 27/100 [10:04<27:32, 22.63s/it]"
     ]
    },
    {
     "name": "stderr",
     "output_type": "stream",
     "text": [
      "\r",
      "Processing:  28%|█████████████████████████▊                                                                  | 28/100 [10:26<26:37, 22.19s/it]"
     ]
    },
    {
     "name": "stderr",
     "output_type": "stream",
     "text": [
      "\r",
      "Processing:  29%|██████████████████████████▋                                                                 | 29/100 [10:48<26:16, 22.20s/it]"
     ]
    },
    {
     "name": "stderr",
     "output_type": "stream",
     "text": [
      "\r",
      "Processing:  30%|███████████████████████████▌                                                                | 30/100 [11:11<26:06, 22.38s/it]"
     ]
    },
    {
     "name": "stderr",
     "output_type": "stream",
     "text": [
      "\r",
      "Processing:  31%|████████████████████████████▌                                                               | 31/100 [11:35<26:30, 23.05s/it]"
     ]
    },
    {
     "name": "stderr",
     "output_type": "stream",
     "text": [
      "\r",
      "Processing:  32%|█████████████████████████████▍                                                              | 32/100 [11:57<25:51, 22.82s/it]"
     ]
    },
    {
     "name": "stderr",
     "output_type": "stream",
     "text": [
      "\r",
      "Processing:  33%|██████████████████████████████▎                                                             | 33/100 [12:19<25:01, 22.41s/it]"
     ]
    },
    {
     "name": "stderr",
     "output_type": "stream",
     "text": [
      "\r",
      "Processing:  34%|███████████████████████████████▎                                                            | 34/100 [12:42<24:55, 22.66s/it]"
     ]
    },
    {
     "name": "stderr",
     "output_type": "stream",
     "text": [
      "\r",
      "Processing:  35%|████████████████████████████████▏                                                           | 35/100 [13:07<25:21, 23.41s/it]"
     ]
    },
    {
     "name": "stderr",
     "output_type": "stream",
     "text": [
      "\r",
      "Processing:  36%|█████████████████████████████████                                                           | 36/100 [13:31<25:02, 23.48s/it]"
     ]
    },
    {
     "name": "stderr",
     "output_type": "stream",
     "text": [
      "\r",
      "Processing:  37%|██████████████████████████████████                                                          | 37/100 [13:53<24:04, 22.93s/it]"
     ]
    },
    {
     "name": "stderr",
     "output_type": "stream",
     "text": [
      "\r",
      "Processing:  38%|██████████████████████████████████▉                                                         | 38/100 [14:14<23:05, 22.35s/it]"
     ]
    },
    {
     "name": "stderr",
     "output_type": "stream",
     "text": [
      "\r",
      "Processing:  39%|███████████████████████████████████▉                                                        | 39/100 [14:36<22:36, 22.23s/it]"
     ]
    },
    {
     "name": "stderr",
     "output_type": "stream",
     "text": [
      "\r",
      "Processing:  40%|████████████████████████████████████▊                                                       | 40/100 [14:57<22:03, 22.06s/it]"
     ]
    },
    {
     "name": "stderr",
     "output_type": "stream",
     "text": [
      "\r",
      "Processing:  41%|█████████████████████████████████████▋                                                      | 41/100 [15:21<22:03, 22.43s/it]"
     ]
    },
    {
     "name": "stderr",
     "output_type": "stream",
     "text": [
      "\r",
      "Processing:  42%|██████████████████████████████████████▋                                                     | 42/100 [15:45<22:12, 22.98s/it]"
     ]
    },
    {
     "name": "stderr",
     "output_type": "stream",
     "text": [
      "\r",
      "Processing:  43%|███████████████████████████████████████▌                                                    | 43/100 [16:07<21:28, 22.61s/it]"
     ]
    },
    {
     "name": "stderr",
     "output_type": "stream",
     "text": [
      "\r",
      "Processing:  44%|████████████████████████████████████████▍                                                   | 44/100 [16:27<20:30, 21.97s/it]"
     ]
    },
    {
     "name": "stderr",
     "output_type": "stream",
     "text": [
      "\r",
      "Processing:  45%|█████████████████████████████████████████▍                                                  | 45/100 [16:48<19:45, 21.56s/it]"
     ]
    },
    {
     "name": "stderr",
     "output_type": "stream",
     "text": [
      "\r",
      "Processing:  46%|██████████████████████████████████████████▎                                                 | 46/100 [17:09<19:23, 21.55s/it]"
     ]
    },
    {
     "name": "stderr",
     "output_type": "stream",
     "text": [
      "\r",
      "Processing:  47%|███████████████████████████████████████████▏                                                | 47/100 [17:32<19:24, 21.97s/it]"
     ]
    },
    {
     "name": "stderr",
     "output_type": "stream",
     "text": [
      "\r",
      "Processing:  48%|████████████████████████████████████████████▏                                               | 48/100 [17:55<19:11, 22.14s/it]"
     ]
    },
    {
     "name": "stderr",
     "output_type": "stream",
     "text": [
      "\r",
      "Processing:  49%|█████████████████████████████████████████████                                               | 49/100 [18:16<18:38, 21.93s/it]"
     ]
    },
    {
     "name": "stderr",
     "output_type": "stream",
     "text": [
      "\r",
      "Processing:  50%|██████████████████████████████████████████████                                              | 50/100 [18:37<17:57, 21.55s/it]"
     ]
    },
    {
     "name": "stderr",
     "output_type": "stream",
     "text": [
      "\r",
      "Processing:  51%|██████████████████████████████████████████████▉                                             | 51/100 [19:00<18:05, 22.15s/it]"
     ]
    },
    {
     "name": "stderr",
     "output_type": "stream",
     "text": [
      "\r",
      "Processing:  52%|███████████████████████████████████████████████▊                                            | 52/100 [19:23<17:44, 22.18s/it]"
     ]
    },
    {
     "name": "stderr",
     "output_type": "stream",
     "text": [
      "\r",
      "Processing:  53%|████████████████████████████████████████████████▊                                           | 53/100 [19:44<17:05, 21.81s/it]"
     ]
    },
    {
     "name": "stderr",
     "output_type": "stream",
     "text": [
      "\r",
      "Processing:  54%|█████████████████████████████████████████████████▋                                          | 54/100 [20:07<17:07, 22.35s/it]"
     ]
    },
    {
     "name": "stderr",
     "output_type": "stream",
     "text": [
      "\r",
      "Processing:  55%|██████████████████████████████████████████████████▌                                         | 55/100 [20:29<16:40, 22.23s/it]"
     ]
    },
    {
     "name": "stderr",
     "output_type": "stream",
     "text": [
      "\r",
      "Processing:  56%|███████████████████████████████████████████████████▌                                        | 56/100 [20:51<16:16, 22.19s/it]"
     ]
    },
    {
     "name": "stderr",
     "output_type": "stream",
     "text": [
      "\r",
      "Processing:  57%|████████████████████████████████████████████████████▍                                       | 57/100 [21:13<15:54, 22.19s/it]"
     ]
    },
    {
     "name": "stderr",
     "output_type": "stream",
     "text": [
      "\r",
      "Processing:  58%|█████████████████████████████████████████████████████▎                                      | 58/100 [21:34<15:06, 21.59s/it]"
     ]
    },
    {
     "name": "stderr",
     "output_type": "stream",
     "text": [
      "\r",
      "Processing:  59%|██████████████████████████████████████████████████████▎                                     | 59/100 [21:57<15:10, 22.20s/it]"
     ]
    },
    {
     "name": "stderr",
     "output_type": "stream",
     "text": [
      "\r",
      "Processing:  60%|███████████████████████████████████████████████████████▏                                    | 60/100 [22:20<14:51, 22.28s/it]"
     ]
    },
    {
     "name": "stderr",
     "output_type": "stream",
     "text": [
      "\r",
      "Processing:  61%|████████████████████████████████████████████████████████                                    | 61/100 [22:40<14:06, 21.70s/it]"
     ]
    },
    {
     "name": "stderr",
     "output_type": "stream",
     "text": [
      "\r",
      "Processing:  62%|█████████████████████████████████████████████████████████                                   | 62/100 [23:03<13:57, 22.05s/it]"
     ]
    },
    {
     "name": "stderr",
     "output_type": "stream",
     "text": [
      "\r",
      "Processing:  63%|█████████████████████████████████████████████████████████▉                                  | 63/100 [23:25<13:33, 21.98s/it]"
     ]
    },
    {
     "name": "stderr",
     "output_type": "stream",
     "text": [
      "\r",
      "Processing:  64%|██████████████████████████████████████████████████████████▉                                 | 64/100 [23:46<13:01, 21.70s/it]"
     ]
    },
    {
     "name": "stderr",
     "output_type": "stream",
     "text": [
      "\r",
      "Processing:  65%|███████████████████████████████████████████████████████████▊                                | 65/100 [24:08<12:44, 21.85s/it]"
     ]
    },
    {
     "name": "stderr",
     "output_type": "stream",
     "text": [
      "\r",
      "Processing:  66%|████████████████████████████████████████████████████████████▋                               | 66/100 [24:29<12:19, 21.75s/it]"
     ]
    },
    {
     "name": "stderr",
     "output_type": "stream",
     "text": [
      "\r",
      "Processing:  67%|█████████████████████████████████████████████████████████████▋                              | 67/100 [24:50<11:48, 21.48s/it]"
     ]
    },
    {
     "name": "stderr",
     "output_type": "stream",
     "text": [
      "\r",
      "Processing:  68%|██████████████████████████████████████████████████████████████▌                             | 68/100 [25:14<11:46, 22.09s/it]"
     ]
    },
    {
     "name": "stderr",
     "output_type": "stream",
     "text": [
      "\r",
      "Processing:  69%|███████████████████████████████████████████████████████████████▍                            | 69/100 [25:35<11:17, 21.84s/it]"
     ]
    },
    {
     "name": "stderr",
     "output_type": "stream",
     "text": [
      "\r",
      "Processing:  70%|████████████████████████████████████████████████████████████████▍                           | 70/100 [25:59<11:12, 22.42s/it]"
     ]
    },
    {
     "name": "stderr",
     "output_type": "stream",
     "text": [
      "\r",
      "Processing:  71%|█████████████████████████████████████████████████████████████████▎                          | 71/100 [26:19<10:30, 21.74s/it]"
     ]
    },
    {
     "name": "stderr",
     "output_type": "stream",
     "text": [
      "\r",
      "Processing:  72%|██████████████████████████████████████████████████████████████████▏                         | 72/100 [26:42<10:16, 22.03s/it]"
     ]
    },
    {
     "name": "stderr",
     "output_type": "stream",
     "text": [
      "\r",
      "Processing:  73%|███████████████████████████████████████████████████████████████████▏                        | 73/100 [27:06<10:09, 22.56s/it]"
     ]
    },
    {
     "name": "stderr",
     "output_type": "stream",
     "text": [
      "\r",
      "Processing:  74%|████████████████████████████████████████████████████████████████████                        | 74/100 [27:27<09:39, 22.29s/it]"
     ]
    },
    {
     "name": "stderr",
     "output_type": "stream",
     "text": [
      "\r",
      "Processing:  75%|█████████████████████████████████████████████████████████████████████                       | 75/100 [27:48<09:05, 21.82s/it]"
     ]
    },
    {
     "name": "stderr",
     "output_type": "stream",
     "text": [
      "\r",
      "Processing:  76%|█████████████████████████████████████████████████████████████████████▉                      | 76/100 [28:12<08:56, 22.37s/it]"
     ]
    },
    {
     "name": "stderr",
     "output_type": "stream",
     "text": [
      "\r",
      "Processing:  77%|██████████████████████████████████████████████████████████████████████▊                     | 77/100 [28:34<08:33, 22.35s/it]"
     ]
    },
    {
     "name": "stderr",
     "output_type": "stream",
     "text": [
      "\r",
      "Processing:  78%|███████████████████████████████████████████████████████████████████████▊                    | 78/100 [28:58<08:24, 22.93s/it]"
     ]
    },
    {
     "name": "stderr",
     "output_type": "stream",
     "text": [
      "\r",
      "Processing:  79%|████████████████████████████████████████████████████████████████████████▋                   | 79/100 [29:20<07:57, 22.76s/it]"
     ]
    },
    {
     "name": "stderr",
     "output_type": "stream",
     "text": [
      "\r",
      "Processing:  80%|█████████████████████████████████████████████████████████████████████████▌                  | 80/100 [29:43<07:35, 22.78s/it]"
     ]
    },
    {
     "name": "stderr",
     "output_type": "stream",
     "text": [
      "\r",
      "Processing:  81%|██████████████████████████████████████████████████████████████████████████▌                 | 81/100 [30:06<07:10, 22.66s/it]"
     ]
    },
    {
     "name": "stderr",
     "output_type": "stream",
     "text": [
      "\r",
      "Processing:  82%|███████████████████████████████████████████████████████████████████████████▍                | 82/100 [30:28<06:44, 22.46s/it]"
     ]
    },
    {
     "name": "stderr",
     "output_type": "stream",
     "text": [
      "\r",
      "Processing:  83%|████████████████████████████████████████████████████████████████████████████▎               | 83/100 [30:51<06:25, 22.67s/it]"
     ]
    },
    {
     "name": "stderr",
     "output_type": "stream",
     "text": [
      "\r",
      "Processing:  84%|█████████████████████████████████████████████████████████████████████████████▎              | 84/100 [31:14<06:03, 22.71s/it]"
     ]
    },
    {
     "name": "stderr",
     "output_type": "stream",
     "text": [
      "\r",
      "Processing:  85%|██████████████████████████████████████████████████████████████████████████████▏             | 85/100 [31:35<05:36, 22.45s/it]"
     ]
    },
    {
     "name": "stderr",
     "output_type": "stream",
     "text": [
      "\r",
      "Processing:  86%|███████████████████████████████████████████████████████████████████████████████             | 86/100 [31:57<05:12, 22.30s/it]"
     ]
    },
    {
     "name": "stderr",
     "output_type": "stream",
     "text": [
      "\r",
      "Processing:  87%|████████████████████████████████████████████████████████████████████████████████            | 87/100 [32:20<04:52, 22.52s/it]"
     ]
    },
    {
     "name": "stderr",
     "output_type": "stream",
     "text": [
      "\r",
      "Processing:  88%|████████████████████████████████████████████████████████████████████████████████▉           | 88/100 [32:42<04:26, 22.17s/it]"
     ]
    },
    {
     "name": "stderr",
     "output_type": "stream",
     "text": [
      "\r",
      "Processing:  89%|█████████████████████████████████████████████████████████████████████████████████▉          | 89/100 [33:06<04:10, 22.74s/it]"
     ]
    },
    {
     "name": "stderr",
     "output_type": "stream",
     "text": [
      "\r",
      "Processing:  90%|██████████████████████████████████████████████████████████████████████████████████▊         | 90/100 [33:26<03:40, 22.02s/it]"
     ]
    },
    {
     "name": "stderr",
     "output_type": "stream",
     "text": [
      "\r",
      "Processing:  91%|███████████████████████████████████████████████████████████████████████████████████▋        | 91/100 [33:50<03:22, 22.52s/it]"
     ]
    },
    {
     "name": "stderr",
     "output_type": "stream",
     "text": [
      "\r",
      "Processing:  92%|████████████████████████████████████████████████████████████████████████████████████▋       | 92/100 [34:12<02:59, 22.38s/it]"
     ]
    },
    {
     "name": "stderr",
     "output_type": "stream",
     "text": [
      "\r",
      "Processing:  93%|█████████████████████████████████████████████████████████████████████████████████████▌      | 93/100 [34:34<02:36, 22.29s/it]"
     ]
    },
    {
     "name": "stderr",
     "output_type": "stream",
     "text": [
      "\r",
      "Processing:  94%|██████████████████████████████████████████████████████████████████████████████████████▍     | 94/100 [34:57<02:15, 22.51s/it]"
     ]
    },
    {
     "name": "stderr",
     "output_type": "stream",
     "text": [
      "\r",
      "Processing:  95%|███████████████████████████████████████████████████████████████████████████████████████▍    | 95/100 [35:20<01:52, 22.59s/it]"
     ]
    },
    {
     "name": "stderr",
     "output_type": "stream",
     "text": [
      "\r",
      "Processing:  96%|████████████████████████████████████████████████████████████████████████████████████████▎   | 96/100 [35:42<01:29, 22.45s/it]"
     ]
    },
    {
     "name": "stderr",
     "output_type": "stream",
     "text": [
      "\r",
      "Processing:  97%|█████████████████████████████████████████████████████████████████████████████████████████▏  | 97/100 [36:05<01:08, 22.67s/it]"
     ]
    },
    {
     "name": "stderr",
     "output_type": "stream",
     "text": [
      "\r",
      "Processing:  98%|██████████████████████████████████████████████████████████████████████████████████████████▏ | 98/100 [36:27<00:44, 22.40s/it]"
     ]
    },
    {
     "name": "stderr",
     "output_type": "stream",
     "text": [
      "\r",
      "Processing:  99%|███████████████████████████████████████████████████████████████████████████████████████████ | 99/100 [36:49<00:22, 22.41s/it]"
     ]
    },
    {
     "name": "stderr",
     "output_type": "stream",
     "text": [
      "\r",
      "Processing: 100%|███████████████████████████████████████████████████████████████████████████████████████████| 100/100 [37:11<00:00, 22.14s/it]"
     ]
    },
    {
     "name": "stderr",
     "output_type": "stream",
     "text": [
      "\r",
      "Processing: 100%|███████████████████████████████████████████████████████████████████████████████████████████| 100/100 [37:11<00:00, 22.31s/it]"
     ]
    },
    {
     "name": "stderr",
     "output_type": "stream",
     "text": [
      "\n"
     ]
    },
    {
     "name": "stderr",
     "output_type": "stream",
     "text": [
      "\r",
      "Processing:   0%|                                                                                                     | 0/100 [00:00<?, ?it/s]"
     ]
    },
    {
     "name": "stderr",
     "output_type": "stream",
     "text": [
      "\r",
      "Processing:   1%|▉                                                                                          | 1/100 [00:51<1:25:41, 51.93s/it]"
     ]
    },
    {
     "name": "stderr",
     "output_type": "stream",
     "text": [
      "\r",
      "Processing:   2%|█▊                                                                                         | 2/100 [01:42<1:23:55, 51.38s/it]"
     ]
    },
    {
     "name": "stderr",
     "output_type": "stream",
     "text": [
      "\r",
      "Processing:   3%|██▋                                                                                        | 3/100 [02:35<1:23:35, 51.70s/it]"
     ]
    },
    {
     "name": "stderr",
     "output_type": "stream",
     "text": [
      "\r",
      "Processing:   4%|███▋                                                                                       | 4/100 [03:27<1:23:15, 52.04s/it]"
     ]
    },
    {
     "name": "stderr",
     "output_type": "stream",
     "text": [
      "\r",
      "Processing:   5%|████▌                                                                                      | 5/100 [04:21<1:23:39, 52.84s/it]"
     ]
    },
    {
     "name": "stderr",
     "output_type": "stream",
     "text": [
      "\r",
      "Processing:   6%|█████▍                                                                                     | 6/100 [05:12<1:21:38, 52.12s/it]"
     ]
    },
    {
     "name": "stderr",
     "output_type": "stream",
     "text": [
      "\r",
      "Processing:   7%|██████▎                                                                                    | 7/100 [06:06<1:21:49, 52.79s/it]"
     ]
    },
    {
     "name": "stderr",
     "output_type": "stream",
     "text": [
      "\r",
      "Processing:   8%|███████▎                                                                                   | 8/100 [07:00<1:21:19, 53.04s/it]"
     ]
    },
    {
     "name": "stderr",
     "output_type": "stream",
     "text": [
      "\r",
      "Processing:   9%|████████▏                                                                                  | 9/100 [07:51<1:19:27, 52.39s/it]"
     ]
    },
    {
     "name": "stderr",
     "output_type": "stream",
     "text": [
      "\r",
      "Processing:  10%|█████████                                                                                 | 10/100 [08:42<1:18:08, 52.09s/it]"
     ]
    },
    {
     "name": "stderr",
     "output_type": "stream",
     "text": [
      "\r",
      "Processing:  11%|█████████▉                                                                                | 11/100 [09:33<1:16:38, 51.67s/it]"
     ]
    },
    {
     "name": "stderr",
     "output_type": "stream",
     "text": [
      "\r",
      "Processing:  12%|██████████▊                                                                               | 12/100 [10:27<1:16:55, 52.45s/it]"
     ]
    },
    {
     "name": "stderr",
     "output_type": "stream",
     "text": [
      "\r",
      "Processing:  13%|███████████▋                                                                              | 13/100 [11:21<1:16:31, 52.78s/it]"
     ]
    },
    {
     "name": "stderr",
     "output_type": "stream",
     "text": [
      "\r",
      "Processing:  14%|████████████▌                                                                             | 14/100 [12:18<1:17:25, 54.01s/it]"
     ]
    },
    {
     "name": "stderr",
     "output_type": "stream",
     "text": [
      "\r",
      "Processing:  15%|█████████████▌                                                                            | 15/100 [13:07<1:14:39, 52.70s/it]"
     ]
    },
    {
     "name": "stderr",
     "output_type": "stream",
     "text": [
      "\r",
      "Processing:  16%|██████████████▍                                                                           | 16/100 [14:03<1:14:59, 53.57s/it]"
     ]
    },
    {
     "name": "stderr",
     "output_type": "stream",
     "text": [
      "\r",
      "Processing:  17%|███████████████▎                                                                          | 17/100 [14:59<1:15:16, 54.41s/it]"
     ]
    },
    {
     "name": "stderr",
     "output_type": "stream",
     "text": [
      "\r",
      "Processing:  18%|████████████████▏                                                                         | 18/100 [15:51<1:13:08, 53.52s/it]"
     ]
    },
    {
     "name": "stderr",
     "output_type": "stream",
     "text": [
      "\r",
      "Processing:  19%|█████████████████                                                                         | 19/100 [16:41<1:10:56, 52.55s/it]"
     ]
    },
    {
     "name": "stderr",
     "output_type": "stream",
     "text": [
      "\r",
      "Processing:  20%|██████████████████                                                                        | 20/100 [17:35<1:10:49, 53.12s/it]"
     ]
    },
    {
     "name": "stderr",
     "output_type": "stream",
     "text": [
      "\r",
      "Processing:  21%|██████████████████▉                                                                       | 21/100 [18:26<1:08:56, 52.36s/it]"
     ]
    },
    {
     "name": "stderr",
     "output_type": "stream",
     "text": [
      "\r",
      "Processing:  22%|███████████████████▊                                                                      | 22/100 [19:17<1:07:41, 52.07s/it]"
     ]
    },
    {
     "name": "stderr",
     "output_type": "stream",
     "text": [
      "\r",
      "Processing:  23%|████████████████████▋                                                                     | 23/100 [20:10<1:07:00, 52.21s/it]"
     ]
    },
    {
     "name": "stderr",
     "output_type": "stream",
     "text": [
      "\r",
      "Processing:  24%|█████████████████████▌                                                                    | 24/100 [21:04<1:06:42, 52.67s/it]"
     ]
    },
    {
     "name": "stderr",
     "output_type": "stream",
     "text": [
      "\r",
      "Processing:  25%|██████████████████████▌                                                                   | 25/100 [21:54<1:04:56, 51.96s/it]"
     ]
    },
    {
     "name": "stderr",
     "output_type": "stream",
     "text": [
      "\r",
      "Processing:  26%|███████████████████████▍                                                                  | 26/100 [22:43<1:03:01, 51.10s/it]"
     ]
    },
    {
     "name": "stderr",
     "output_type": "stream",
     "text": [
      "\r",
      "Processing:  27%|████████████████████████▎                                                                 | 27/100 [23:38<1:03:41, 52.35s/it]"
     ]
    },
    {
     "name": "stderr",
     "output_type": "stream",
     "text": [
      "\r",
      "Processing:  28%|█████████████████████████▏                                                                | 28/100 [24:29<1:02:25, 52.02s/it]"
     ]
    },
    {
     "name": "stderr",
     "output_type": "stream",
     "text": [
      "\r",
      "Processing:  29%|██████████████████████████                                                                | 29/100 [25:20<1:01:03, 51.59s/it]"
     ]
    },
    {
     "name": "stderr",
     "output_type": "stream",
     "text": [
      "\r",
      "Processing:  30%|███████████████████████████                                                               | 30/100 [26:16<1:01:46, 52.95s/it]"
     ]
    },
    {
     "name": "stderr",
     "output_type": "stream",
     "text": [
      "\r",
      "Processing:  31%|███████████████████████████▉                                                              | 31/100 [27:11<1:01:25, 53.41s/it]"
     ]
    },
    {
     "name": "stderr",
     "output_type": "stream",
     "text": [
      "\r",
      "Processing:  32%|████████████████████████████▊                                                             | 32/100 [28:05<1:00:44, 53.59s/it]"
     ]
    },
    {
     "name": "stderr",
     "output_type": "stream",
     "text": [
      "\r",
      "Processing:  33%|██████████████████████████████▎                                                             | 33/100 [28:56<59:11, 53.01s/it]"
     ]
    },
    {
     "name": "stderr",
     "output_type": "stream",
     "text": [
      "\r",
      "Processing:  34%|███████████████████████████████▎                                                            | 34/100 [29:47<57:32, 52.30s/it]"
     ]
    },
    {
     "name": "stderr",
     "output_type": "stream",
     "text": [
      "\r",
      "Processing:  35%|████████████████████████████████▏                                                           | 35/100 [30:39<56:35, 52.24s/it]"
     ]
    },
    {
     "name": "stderr",
     "output_type": "stream",
     "text": [
      "\r",
      "Processing:  36%|█████████████████████████████████                                                           | 36/100 [31:34<56:35, 53.05s/it]"
     ]
    },
    {
     "name": "stderr",
     "output_type": "stream",
     "text": [
      "\r",
      "Processing:  37%|██████████████████████████████████                                                          | 37/100 [32:25<55:06, 52.48s/it]"
     ]
    },
    {
     "name": "stderr",
     "output_type": "stream",
     "text": [
      "\r",
      "Processing:  38%|██████████████████████████████████▉                                                         | 38/100 [33:16<53:48, 52.08s/it]"
     ]
    },
    {
     "name": "stderr",
     "output_type": "stream",
     "text": [
      "\r",
      "Processing:  39%|███████████████████████████████████▉                                                        | 39/100 [34:10<53:25, 52.55s/it]"
     ]
    },
    {
     "name": "stderr",
     "output_type": "stream",
     "text": [
      "\r",
      "Processing:  40%|████████████████████████████████████▊                                                       | 40/100 [35:03<52:40, 52.68s/it]"
     ]
    },
    {
     "name": "stderr",
     "output_type": "stream",
     "text": [
      "\r",
      "Processing:  41%|█████████████████████████████████████▋                                                      | 41/100 [35:56<52:03, 52.94s/it]"
     ]
    },
    {
     "name": "stderr",
     "output_type": "stream",
     "text": [
      "\r",
      "Processing:  42%|██████████████████████████████████████▋                                                     | 42/100 [36:46<50:18, 52.05s/it]"
     ]
    },
    {
     "name": "stderr",
     "output_type": "stream",
     "text": [
      "\r",
      "Processing:  43%|███████████████████████████████████████▌                                                    | 43/100 [37:39<49:42, 52.32s/it]"
     ]
    },
    {
     "name": "stderr",
     "output_type": "stream",
     "text": [
      "\r",
      "Processing:  44%|████████████████████████████████████████▍                                                   | 44/100 [38:32<48:56, 52.43s/it]"
     ]
    },
    {
     "name": "stderr",
     "output_type": "stream",
     "text": [
      "\r",
      "Processing:  45%|█████████████████████████████████████████▍                                                  | 45/100 [39:25<48:10, 52.55s/it]"
     ]
    },
    {
     "name": "stderr",
     "output_type": "stream",
     "text": [
      "\r",
      "Processing:  46%|██████████████████████████████████████████▎                                                 | 46/100 [40:20<48:06, 53.45s/it]"
     ]
    },
    {
     "name": "stderr",
     "output_type": "stream",
     "text": [
      "\r",
      "Processing:  47%|███████████████████████████████████████████▏                                                | 47/100 [41:13<46:57, 53.16s/it]"
     ]
    },
    {
     "name": "stderr",
     "output_type": "stream",
     "text": [
      "\r",
      "Processing:  48%|████████████████████████████████████████████▏                                               | 48/100 [42:04<45:33, 52.58s/it]"
     ]
    },
    {
     "name": "stderr",
     "output_type": "stream",
     "text": [
      "\r",
      "Processing:  49%|█████████████████████████████████████████████                                               | 49/100 [43:00<45:27, 53.48s/it]"
     ]
    },
    {
     "name": "stderr",
     "output_type": "stream",
     "text": [
      "\r",
      "Processing:  50%|██████████████████████████████████████████████                                              | 50/100 [43:52<44:20, 53.21s/it]"
     ]
    },
    {
     "name": "stderr",
     "output_type": "stream",
     "text": [
      "\r",
      "Processing:  51%|██████████████████████████████████████████████▉                                             | 51/100 [44:48<44:05, 53.99s/it]"
     ]
    },
    {
     "name": "stderr",
     "output_type": "stream",
     "text": [
      "\r",
      "Processing:  52%|███████████████████████████████████████████████▊                                            | 52/100 [45:41<42:58, 53.72s/it]"
     ]
    },
    {
     "name": "stderr",
     "output_type": "stream",
     "text": [
      "\r",
      "Processing:  53%|████████████████████████████████████████████████▊                                           | 53/100 [46:38<42:47, 54.63s/it]"
     ]
    },
    {
     "name": "stderr",
     "output_type": "stream",
     "text": [
      "\r",
      "Processing:  54%|█████████████████████████████████████████████████▋                                          | 54/100 [47:30<41:20, 53.92s/it]"
     ]
    },
    {
     "name": "stderr",
     "output_type": "stream",
     "text": [
      "\r",
      "Processing:  55%|██████████████████████████████████████████████████▌                                         | 55/100 [48:21<39:45, 53.01s/it]"
     ]
    },
    {
     "name": "stderr",
     "output_type": "stream",
     "text": [
      "\r",
      "Processing:  56%|███████████████████████████████████████████████████▌                                        | 56/100 [49:13<38:33, 52.58s/it]"
     ]
    },
    {
     "name": "stderr",
     "output_type": "stream",
     "text": [
      "\r",
      "Processing:  57%|████████████████████████████████████████████████████▍                                       | 57/100 [50:08<38:14, 53.36s/it]"
     ]
    },
    {
     "name": "stderr",
     "output_type": "stream",
     "text": [
      "\r",
      "Processing:  58%|█████████████████████████████████████████████████████▎                                      | 58/100 [50:57<36:32, 52.21s/it]"
     ]
    },
    {
     "name": "stderr",
     "output_type": "stream",
     "text": [
      "\r",
      "Processing:  59%|██████████████████████████████████████████████████████▎                                     | 59/100 [51:47<35:12, 51.52s/it]"
     ]
    },
    {
     "name": "stderr",
     "output_type": "stream",
     "text": [
      "\r",
      "Processing:  60%|███████████████████████████████████████████████████████▏                                    | 60/100 [52:46<35:50, 53.77s/it]"
     ]
    },
    {
     "name": "stderr",
     "output_type": "stream",
     "text": [
      "\r",
      "Processing:  61%|████████████████████████████████████████████████████████                                    | 61/100 [53:37<34:17, 52.76s/it]"
     ]
    },
    {
     "name": "stderr",
     "output_type": "stream",
     "text": [
      "\r",
      "Processing:  62%|█████████████████████████████████████████████████████████                                   | 62/100 [54:29<33:23, 52.71s/it]"
     ]
    },
    {
     "name": "stderr",
     "output_type": "stream",
     "text": [
      "\r",
      "Processing:  63%|█████████████████████████████████████████████████████████▉                                  | 63/100 [55:21<32:16, 52.34s/it]"
     ]
    },
    {
     "name": "stderr",
     "output_type": "stream",
     "text": [
      "\r",
      "Processing:  64%|██████████████████████████████████████████████████████████▉                                 | 64/100 [56:15<31:40, 52.78s/it]"
     ]
    },
    {
     "name": "stderr",
     "output_type": "stream",
     "text": [
      "\r",
      "Processing:  65%|███████████████████████████████████████████████████████████▊                                | 65/100 [57:06<30:30, 52.30s/it]"
     ]
    },
    {
     "name": "stderr",
     "output_type": "stream",
     "text": [
      "\r",
      "Processing:  66%|████████████████████████████████████████████████████████████▋                               | 66/100 [57:58<29:33, 52.17s/it]"
     ]
    },
    {
     "name": "stderr",
     "output_type": "stream",
     "text": [
      "\r",
      "Processing:  67%|█████████████████████████████████████████████████████████████▋                              | 67/100 [58:49<28:33, 51.94s/it]"
     ]
    },
    {
     "name": "stderr",
     "output_type": "stream",
     "text": [
      "\r",
      "Processing:  68%|██████████████████████████████████████████████████████████████▌                             | 68/100 [59:45<28:16, 53.03s/it]"
     ]
    },
    {
     "name": "stderr",
     "output_type": "stream",
     "text": [
      "\r",
      "Processing:  69%|██████████████████████████████████████████████████████████████                            | 69/100 [1:00:34<26:47, 51.86s/it]"
     ]
    },
    {
     "name": "stderr",
     "output_type": "stream",
     "text": [
      "\r",
      "Processing:  70%|██████████████████████████████████████████████████████████████▉                           | 70/100 [1:01:26<25:54, 51.82s/it]"
     ]
    },
    {
     "name": "stderr",
     "output_type": "stream",
     "text": [
      "\r",
      "Processing:  71%|███████████████████████████████████████████████████████████████▉                          | 71/100 [1:02:18<25:09, 52.04s/it]"
     ]
    },
    {
     "name": "stderr",
     "output_type": "stream",
     "text": [
      "\r",
      "Processing:  72%|████████████████████████████████████████████████████████████████▊                         | 72/100 [1:03:14<24:50, 53.25s/it]"
     ]
    },
    {
     "name": "stderr",
     "output_type": "stream",
     "text": [
      "\r",
      "Processing:  73%|█████████████████████████████████████████████████████████████████▋                        | 73/100 [1:04:11<24:29, 54.42s/it]"
     ]
    },
    {
     "name": "stderr",
     "output_type": "stream",
     "text": [
      "\r",
      "Processing:  74%|██████████████████████████████████████████████████████████████████▌                       | 74/100 [1:05:02<23:08, 53.41s/it]"
     ]
    },
    {
     "name": "stderr",
     "output_type": "stream",
     "text": [
      "\r",
      "Processing:  75%|███████████████████████████████████████████████████████████████████▌                      | 75/100 [1:05:57<22:23, 53.74s/it]"
     ]
    },
    {
     "name": "stderr",
     "output_type": "stream",
     "text": [
      "\r",
      "Processing:  76%|████████████████████████████████████████████████████████████████████▍                     | 76/100 [1:06:48<21:08, 52.84s/it]"
     ]
    },
    {
     "name": "stderr",
     "output_type": "stream",
     "text": [
      "\r",
      "Processing:  77%|█████████████████████████████████████████████████████████████████████▎                    | 77/100 [1:07:44<20:38, 53.85s/it]"
     ]
    },
    {
     "name": "stderr",
     "output_type": "stream",
     "text": [
      "\r",
      "Processing:  78%|██████████████████████████████████████████████████████████████████████▏                   | 78/100 [1:08:40<19:58, 54.46s/it]"
     ]
    },
    {
     "name": "stderr",
     "output_type": "stream",
     "text": [
      "\r",
      "Processing:  79%|███████████████████████████████████████████████████████████████████████                   | 79/100 [1:09:31<18:44, 53.54s/it]"
     ]
    },
    {
     "name": "stderr",
     "output_type": "stream",
     "text": [
      "\r",
      "Processing:  80%|████████████████████████████████████████████████████████████████████████                  | 80/100 [1:10:22<17:32, 52.65s/it]"
     ]
    },
    {
     "name": "stderr",
     "output_type": "stream",
     "text": [
      "\r",
      "Processing:  81%|████████████████████████████████████████████████████████████████████████▉                 | 81/100 [1:11:14<16:39, 52.60s/it]"
     ]
    },
    {
     "name": "stderr",
     "output_type": "stream",
     "text": [
      "\r",
      "Processing:  82%|█████████████████████████████████████████████████████████████████████████▊                | 82/100 [1:12:07<15:50, 52.80s/it]"
     ]
    },
    {
     "name": "stderr",
     "output_type": "stream",
     "text": [
      "\r",
      "Processing:  83%|██████████████████████████████████████████████████████████████████████████▋               | 83/100 [1:13:00<14:57, 52.77s/it]"
     ]
    },
    {
     "name": "stderr",
     "output_type": "stream",
     "text": [
      "\r",
      "Processing:  84%|███████████████████████████████████████████████████████████████████████████▌              | 84/100 [1:13:54<14:11, 53.19s/it]"
     ]
    },
    {
     "name": "stderr",
     "output_type": "stream",
     "text": [
      "\r",
      "Processing:  85%|████████████████████████████████████████████████████████████████████████████▌             | 85/100 [1:14:48<13:19, 53.28s/it]"
     ]
    },
    {
     "name": "stderr",
     "output_type": "stream",
     "text": [
      "\r",
      "Processing:  86%|█████████████████████████████████████████████████████████████████████████████▍            | 86/100 [1:15:37<12:09, 52.08s/it]"
     ]
    },
    {
     "name": "stderr",
     "output_type": "stream",
     "text": [
      "\r",
      "Processing:  87%|██████████████████████████████████████████████████████████████████████████████▎           | 87/100 [1:16:27<11:08, 51.46s/it]"
     ]
    },
    {
     "name": "stderr",
     "output_type": "stream",
     "text": [
      "\r",
      "Processing:  88%|███████████████████████████████████████████████████████████████████████████████▏          | 88/100 [1:17:22<10:30, 52.53s/it]"
     ]
    },
    {
     "name": "stderr",
     "output_type": "stream",
     "text": [
      "\r",
      "Processing:  89%|████████████████████████████████████████████████████████████████████████████████          | 89/100 [1:18:15<09:38, 52.56s/it]"
     ]
    },
    {
     "name": "stderr",
     "output_type": "stream",
     "text": [
      "\r",
      "Processing:  90%|█████████████████████████████████████████████████████████████████████████████████         | 90/100 [1:19:05<08:38, 51.85s/it]"
     ]
    },
    {
     "name": "stderr",
     "output_type": "stream",
     "text": [
      "\r",
      "Processing:  91%|█████████████████████████████████████████████████████████████████████████████████▉        | 91/100 [1:19:59<07:53, 52.65s/it]"
     ]
    },
    {
     "name": "stderr",
     "output_type": "stream",
     "text": [
      "\r",
      "Processing:  92%|██████████████████████████████████████████████████████████████████████████████████▊       | 92/100 [1:20:53<07:02, 52.85s/it]"
     ]
    },
    {
     "name": "stderr",
     "output_type": "stream",
     "text": [
      "\r",
      "Processing:  93%|███████████████████████████████████████████████████████████████████████████████████▋      | 93/100 [1:21:45<06:08, 52.67s/it]"
     ]
    },
    {
     "name": "stderr",
     "output_type": "stream",
     "text": [
      "\r",
      "Processing:  94%|████████████████████████████████████████████████████████████████████████████████████▌     | 94/100 [1:22:36<05:12, 52.08s/it]"
     ]
    },
    {
     "name": "stderr",
     "output_type": "stream",
     "text": [
      "\r",
      "Processing:  95%|█████████████████████████████████████████████████████████████████████████████████████▌    | 95/100 [1:23:33<04:28, 53.63s/it]"
     ]
    },
    {
     "name": "stderr",
     "output_type": "stream",
     "text": [
      "\r",
      "Processing:  96%|██████████████████████████████████████████████████████████████████████████████████████▍   | 96/100 [1:24:27<03:34, 53.69s/it]"
     ]
    },
    {
     "name": "stderr",
     "output_type": "stream",
     "text": [
      "\r",
      "Processing:  97%|███████████████████████████████████████████████████████████████████████████████████████▎  | 97/100 [1:25:17<02:37, 52.54s/it]"
     ]
    },
    {
     "name": "stderr",
     "output_type": "stream",
     "text": [
      "\r",
      "Processing:  98%|████████████████████████████████████████████████████████████████████████████████████████▏ | 98/100 [1:26:06<01:43, 51.71s/it]"
     ]
    },
    {
     "name": "stderr",
     "output_type": "stream",
     "text": [
      "\r",
      "Processing:  99%|█████████████████████████████████████████████████████████████████████████████████████████ | 99/100 [1:27:01<00:52, 52.44s/it]"
     ]
    },
    {
     "name": "stderr",
     "output_type": "stream",
     "text": [
      "\r",
      "Processing: 100%|█████████████████████████████████████████████████████████████████████████████████████████| 100/100 [1:27:56<00:00, 53.41s/it]"
     ]
    },
    {
     "name": "stderr",
     "output_type": "stream",
     "text": [
      "\r",
      "Processing: 100%|█████████████████████████████████████████████████████████████████████████████████████████| 100/100 [1:27:56<00:00, 52.77s/it]"
     ]
    },
    {
     "name": "stderr",
     "output_type": "stream",
     "text": [
      "\n"
     ]
    },
    {
     "name": "stderr",
     "output_type": "stream",
     "text": [
      "\r",
      "Processing:   0%|                                                                                                     | 0/100 [00:00<?, ?it/s]"
     ]
    },
    {
     "name": "stderr",
     "output_type": "stream",
     "text": [
      "\r",
      "Processing:   1%|▉                                                                                         | 1/100 [01:45<2:53:53, 105.39s/it]"
     ]
    },
    {
     "name": "stderr",
     "output_type": "stream",
     "text": [
      "\r",
      "Processing:   2%|█▊                                                                                        | 2/100 [03:27<2:48:56, 103.44s/it]"
     ]
    },
    {
     "name": "stderr",
     "output_type": "stream",
     "text": [
      "\r",
      "Processing:   3%|██▋                                                                                       | 3/100 [05:16<2:51:28, 106.07s/it]"
     ]
    },
    {
     "name": "stderr",
     "output_type": "stream",
     "text": [
      "\r",
      "Processing:   4%|███▌                                                                                      | 4/100 [07:04<2:50:36, 106.63s/it]"
     ]
    },
    {
     "name": "stderr",
     "output_type": "stream",
     "text": [
      "\r",
      "Processing:   5%|████▌                                                                                     | 5/100 [08:52<2:49:51, 107.28s/it]"
     ]
    },
    {
     "name": "stderr",
     "output_type": "stream",
     "text": [
      "\r",
      "Processing:   6%|█████▍                                                                                    | 6/100 [10:35<2:45:39, 105.74s/it]"
     ]
    },
    {
     "name": "stderr",
     "output_type": "stream",
     "text": [
      "\r",
      "Processing:   7%|██████▎                                                                                   | 7/100 [12:13<2:40:03, 103.27s/it]"
     ]
    },
    {
     "name": "stderr",
     "output_type": "stream",
     "text": [
      "\r",
      "Processing:   8%|███████▏                                                                                  | 8/100 [13:57<2:38:34, 103.42s/it]"
     ]
    },
    {
     "name": "stderr",
     "output_type": "stream",
     "text": [
      "\r",
      "Processing:   9%|████████                                                                                  | 9/100 [15:40<2:36:37, 103.27s/it]"
     ]
    },
    {
     "name": "stderr",
     "output_type": "stream",
     "text": [
      "\r",
      "Processing:  10%|████████▉                                                                                | 10/100 [17:22<2:34:30, 103.01s/it]"
     ]
    },
    {
     "name": "stderr",
     "output_type": "stream",
     "text": [
      "\r",
      "Processing:  11%|█████████▊                                                                               | 11/100 [19:02<2:31:13, 101.95s/it]"
     ]
    },
    {
     "name": "stderr",
     "output_type": "stream",
     "text": [
      "\r",
      "Processing:  12%|██████████▋                                                                              | 12/100 [20:42<2:28:45, 101.43s/it]"
     ]
    },
    {
     "name": "stderr",
     "output_type": "stream",
     "text": [
      "\r",
      "Processing:  13%|███████████▌                                                                             | 13/100 [22:24<2:27:16, 101.57s/it]"
     ]
    },
    {
     "name": "stderr",
     "output_type": "stream",
     "text": [
      "\r",
      "Processing:  14%|████████████▍                                                                            | 14/100 [24:09<2:27:06, 102.64s/it]"
     ]
    },
    {
     "name": "stderr",
     "output_type": "stream",
     "text": [
      "\r",
      "Processing:  15%|█████████████▎                                                                           | 15/100 [25:47<2:23:18, 101.16s/it]"
     ]
    },
    {
     "name": "stderr",
     "output_type": "stream",
     "text": [
      "\r",
      "Processing:  16%|██████████████▏                                                                          | 16/100 [27:28<2:21:40, 101.19s/it]"
     ]
    },
    {
     "name": "stderr",
     "output_type": "stream",
     "text": [
      "\r",
      "Processing:  17%|███████████████▎                                                                          | 17/100 [29:04<2:18:02, 99.78s/it]"
     ]
    },
    {
     "name": "stderr",
     "output_type": "stream",
     "text": [
      "\r",
      "Processing:  18%|████████████████                                                                         | 18/100 [30:49<2:18:14, 101.15s/it]"
     ]
    },
    {
     "name": "stderr",
     "output_type": "stream",
     "text": [
      "\r",
      "Processing:  19%|████████████████▉                                                                        | 19/100 [32:29<2:16:13, 100.91s/it]"
     ]
    },
    {
     "name": "stderr",
     "output_type": "stream",
     "text": [
      "\r",
      "Processing:  20%|██████████████████                                                                        | 20/100 [34:06<2:12:54, 99.68s/it]"
     ]
    },
    {
     "name": "stderr",
     "output_type": "stream",
     "text": [
      "\r",
      "Processing:  21%|██████████████████▉                                                                       | 21/100 [35:45<2:11:05, 99.56s/it]"
     ]
    },
    {
     "name": "stderr",
     "output_type": "stream",
     "text": [
      "\r",
      "Processing:  22%|███████████████████▌                                                                     | 22/100 [37:29<2:10:59, 100.76s/it]"
     ]
    },
    {
     "name": "stderr",
     "output_type": "stream",
     "text": [
      "\r",
      "Processing:  23%|████████████████████▍                                                                    | 23/100 [39:12<2:10:19, 101.56s/it]"
     ]
    },
    {
     "name": "stderr",
     "output_type": "stream",
     "text": [
      "\r",
      "Processing:  24%|█████████████████████▎                                                                   | 24/100 [41:00<2:11:02, 103.45s/it]"
     ]
    },
    {
     "name": "stderr",
     "output_type": "stream",
     "text": [
      "\r",
      "Processing:  25%|██████████████████████▎                                                                  | 25/100 [42:47<2:10:44, 104.59s/it]"
     ]
    },
    {
     "name": "stderr",
     "output_type": "stream",
     "text": [
      "\r",
      "Processing:  26%|███████████████████████▏                                                                 | 26/100 [44:30<2:08:18, 104.03s/it]"
     ]
    },
    {
     "name": "stderr",
     "output_type": "stream",
     "text": [
      "\r",
      "Processing:  27%|████████████████████████                                                                 | 27/100 [46:12<2:05:46, 103.38s/it]"
     ]
    },
    {
     "name": "stderr",
     "output_type": "stream",
     "text": [
      "\r",
      "Processing:  28%|████████████████████████▉                                                                | 28/100 [47:53<2:03:08, 102.62s/it]"
     ]
    },
    {
     "name": "stderr",
     "output_type": "stream",
     "text": [
      "\r",
      "Processing:  29%|█████████████████████████▊                                                               | 29/100 [49:34<2:01:04, 102.31s/it]"
     ]
    },
    {
     "name": "stderr",
     "output_type": "stream",
     "text": [
      "\r",
      "Processing:  30%|██████████████████████████▋                                                              | 30/100 [51:13<1:57:58, 101.13s/it]"
     ]
    },
    {
     "name": "stderr",
     "output_type": "stream",
     "text": [
      "\r",
      "Processing:  31%|███████████████████████████▌                                                             | 31/100 [52:54<1:56:31, 101.33s/it]"
     ]
    },
    {
     "name": "stderr",
     "output_type": "stream",
     "text": [
      "\r",
      "Processing:  32%|████████████████████████████▍                                                            | 32/100 [54:37<1:55:23, 101.82s/it]"
     ]
    },
    {
     "name": "stderr",
     "output_type": "stream",
     "text": [
      "\r",
      "Processing:  33%|█████████████████████████████▎                                                           | 33/100 [56:28<1:56:41, 104.50s/it]"
     ]
    },
    {
     "name": "stderr",
     "output_type": "stream",
     "text": [
      "\r",
      "Processing:  34%|██████████████████████████████▎                                                          | 34/100 [58:07<1:53:03, 102.77s/it]"
     ]
    },
    {
     "name": "stderr",
     "output_type": "stream",
     "text": [
      "\r",
      "Processing:  35%|███████████████████████████████▏                                                         | 35/100 [59:48<1:50:54, 102.37s/it]"
     ]
    },
    {
     "name": "stderr",
     "output_type": "stream",
     "text": [
      "\r",
      "Processing:  36%|███████████████████████████████▎                                                       | 36/100 [1:01:27<1:48:01, 101.28s/it]"
     ]
    },
    {
     "name": "stderr",
     "output_type": "stream",
     "text": [
      "\r",
      "Processing:  37%|████████████████████████████████▏                                                      | 37/100 [1:03:07<1:45:46, 100.75s/it]"
     ]
    },
    {
     "name": "stderr",
     "output_type": "stream",
     "text": [
      "\r",
      "Processing:  38%|█████████████████████████████████                                                      | 38/100 [1:04:56<1:46:56, 103.49s/it]"
     ]
    },
    {
     "name": "stderr",
     "output_type": "stream",
     "text": [
      "\r",
      "Processing:  39%|█████████████████████████████████▉                                                     | 39/100 [1:06:44<1:46:17, 104.56s/it]"
     ]
    },
    {
     "name": "stderr",
     "output_type": "stream",
     "text": [
      "\r",
      "Processing:  40%|██████████████████████████████████▊                                                    | 40/100 [1:08:25<1:43:32, 103.54s/it]"
     ]
    },
    {
     "name": "stderr",
     "output_type": "stream",
     "text": [
      "\r",
      "Processing:  41%|███████████████████████████████████▋                                                   | 41/100 [1:10:09<1:42:10, 103.90s/it]"
     ]
    },
    {
     "name": "stderr",
     "output_type": "stream",
     "text": [
      "\r",
      "Processing:  42%|████████████████████████████████████▌                                                  | 42/100 [1:11:54<1:40:43, 104.20s/it]"
     ]
    },
    {
     "name": "stderr",
     "output_type": "stream",
     "text": [
      "\r",
      "Processing:  43%|█████████████████████████████████████▍                                                 | 43/100 [1:13:45<1:40:45, 106.06s/it]"
     ]
    },
    {
     "name": "stderr",
     "output_type": "stream",
     "text": [
      "\r",
      "Processing:  44%|██████████████████████████████████████▎                                                | 44/100 [1:15:24<1:37:03, 104.00s/it]"
     ]
    },
    {
     "name": "stderr",
     "output_type": "stream",
     "text": [
      "\r",
      "Processing:  45%|███████████████████████████████████████▏                                               | 45/100 [1:17:03<1:33:54, 102.44s/it]"
     ]
    },
    {
     "name": "stderr",
     "output_type": "stream",
     "text": [
      "\r",
      "Processing:  46%|████████████████████████████████████████                                               | 46/100 [1:18:49<1:33:12, 103.56s/it]"
     ]
    },
    {
     "name": "stderr",
     "output_type": "stream",
     "text": [
      "\r",
      "Processing:  47%|████████████████████████████████████████▉                                              | 47/100 [1:20:34<1:31:45, 103.88s/it]"
     ]
    },
    {
     "name": "stderr",
     "output_type": "stream",
     "text": [
      "\r",
      "Processing:  48%|█████████████████████████████████████████▊                                             | 48/100 [1:22:18<1:30:18, 104.20s/it]"
     ]
    },
    {
     "name": "stderr",
     "output_type": "stream",
     "text": [
      "\r",
      "Processing:  49%|██████████████████████████████████████████▋                                            | 49/100 [1:23:59<1:27:43, 103.20s/it]"
     ]
    },
    {
     "name": "stderr",
     "output_type": "stream",
     "text": [
      "\r",
      "Processing:  50%|███████████████████████████████████████████▌                                           | 50/100 [1:25:36<1:24:23, 101.27s/it]"
     ]
    },
    {
     "name": "stderr",
     "output_type": "stream",
     "text": [
      "\r",
      "Processing:  51%|████████████████████████████████████████████▎                                          | 51/100 [1:27:17<1:22:34, 101.10s/it]"
     ]
    },
    {
     "name": "stderr",
     "output_type": "stream",
     "text": [
      "\r",
      "Processing:  52%|█████████████████████████████████████████████▏                                         | 52/100 [1:29:04<1:22:19, 102.91s/it]"
     ]
    },
    {
     "name": "stderr",
     "output_type": "stream",
     "text": [
      "\r",
      "Processing:  53%|██████████████████████████████████████████████                                         | 53/100 [1:30:42<1:19:27, 101.44s/it]"
     ]
    },
    {
     "name": "stderr",
     "output_type": "stream",
     "text": [
      "\r",
      "Processing:  54%|██████████████████████████████████████████████▉                                        | 54/100 [1:32:30<1:19:18, 103.44s/it]"
     ]
    },
    {
     "name": "stderr",
     "output_type": "stream",
     "text": [
      "\r",
      "Processing:  55%|███████████████████████████████████████████████▊                                       | 55/100 [1:34:09<1:16:39, 102.21s/it]"
     ]
    },
    {
     "name": "stderr",
     "output_type": "stream",
     "text": [
      "\r",
      "Processing:  56%|████████████████████████████████████████████████▋                                      | 56/100 [1:35:52<1:15:02, 102.32s/it]"
     ]
    },
    {
     "name": "stderr",
     "output_type": "stream",
     "text": [
      "\r",
      "Processing:  57%|█████████████████████████████████████████████████▌                                     | 57/100 [1:37:33<1:13:08, 102.06s/it]"
     ]
    },
    {
     "name": "stderr",
     "output_type": "stream",
     "text": [
      "\r",
      "Processing:  58%|██████████████████████████████████████████████████▍                                    | 58/100 [1:39:16<1:11:29, 102.14s/it]"
     ]
    },
    {
     "name": "stderr",
     "output_type": "stream",
     "text": [
      "\r",
      "Processing:  59%|███████████████████████████████████████████████████▎                                   | 59/100 [1:40:56<1:09:24, 101.58s/it]"
     ]
    },
    {
     "name": "stderr",
     "output_type": "stream",
     "text": [
      "\r",
      "Processing:  60%|████████████████████████████████████████████████████▏                                  | 60/100 [1:42:41<1:08:17, 102.45s/it]"
     ]
    },
    {
     "name": "stderr",
     "output_type": "stream",
     "text": [
      "\r",
      "Processing:  61%|█████████████████████████████████████████████████████                                  | 61/100 [1:44:23<1:06:37, 102.49s/it]"
     ]
    },
    {
     "name": "stderr",
     "output_type": "stream",
     "text": [
      "\r",
      "Processing:  62%|█████████████████████████████████████████████████████▉                                 | 62/100 [1:46:08<1:05:23, 103.24s/it]"
     ]
    },
    {
     "name": "stderr",
     "output_type": "stream",
     "text": [
      "\r",
      "Processing:  63%|██████████████████████████████████████████████████████▊                                | 63/100 [1:47:51<1:03:38, 103.19s/it]"
     ]
    },
    {
     "name": "stderr",
     "output_type": "stream",
     "text": [
      "\r",
      "Processing:  64%|███████████████████████████████████████████████████████▋                               | 64/100 [1:49:37<1:02:27, 104.09s/it]"
     ]
    },
    {
     "name": "stderr",
     "output_type": "stream",
     "text": [
      "\r",
      "Processing:  65%|████████████████████████████████████████████████████████▌                              | 65/100 [1:51:23<1:00:58, 104.52s/it]"
     ]
    },
    {
     "name": "stderr",
     "output_type": "stream",
     "text": [
      "\r",
      "Processing:  66%|██████████████████████████████████████████████████████████▋                              | 66/100 [1:53:04<58:36, 103.43s/it]"
     ]
    },
    {
     "name": "stderr",
     "output_type": "stream",
     "text": [
      "\r",
      "Processing:  67%|███████████████████████████████████████████████████████████▋                             | 67/100 [1:54:46<56:41, 103.08s/it]"
     ]
    },
    {
     "name": "stderr",
     "output_type": "stream",
     "text": [
      "\r",
      "Processing:  68%|████████████████████████████████████████████████████████████▌                            | 68/100 [1:56:33<55:31, 104.12s/it]"
     ]
    },
    {
     "name": "stderr",
     "output_type": "stream",
     "text": [
      "\r",
      "Processing:  69%|█████████████████████████████████████████████████████████████▍                           | 69/100 [1:58:21<54:30, 105.51s/it]"
     ]
    },
    {
     "name": "stderr",
     "output_type": "stream",
     "text": [
      "\r",
      "Processing:  70%|██████████████████████████████████████████████████████████████▎                          | 70/100 [2:00:06<52:33, 105.13s/it]"
     ]
    },
    {
     "name": "stderr",
     "output_type": "stream",
     "text": [
      "\r",
      "Processing:  71%|███████████████████████████████████████████████████████████████▏                         | 71/100 [2:01:46<50:07, 103.71s/it]"
     ]
    },
    {
     "name": "stderr",
     "output_type": "stream",
     "text": [
      "\r",
      "Processing:  72%|████████████████████████████████████████████████████████████████                         | 72/100 [2:03:31<48:38, 104.23s/it]"
     ]
    },
    {
     "name": "stderr",
     "output_type": "stream",
     "text": [
      "\r",
      "Processing:  73%|████████████████████████████████████████████████████████████████▉                        | 73/100 [2:05:15<46:49, 104.06s/it]"
     ]
    },
    {
     "name": "stderr",
     "output_type": "stream",
     "text": [
      "\r",
      "Processing:  74%|█████████████████████████████████████████████████████████████████▊                       | 74/100 [2:06:52<44:09, 101.92s/it]"
     ]
    },
    {
     "name": "stderr",
     "output_type": "stream",
     "text": [
      "\r",
      "Processing:  75%|██████████████████████████████████████████████████████████████████▊                      | 75/100 [2:08:32<42:15, 101.44s/it]"
     ]
    },
    {
     "name": "stderr",
     "output_type": "stream",
     "text": [
      "\r",
      "Processing:  76%|███████████████████████████████████████████████████████████████████▋                     | 76/100 [2:10:13<40:27, 101.15s/it]"
     ]
    },
    {
     "name": "stderr",
     "output_type": "stream",
     "text": [
      "\r",
      "Processing:  77%|████████████████████████████████████████████████████████████████████▌                    | 77/100 [2:11:52<38:30, 100.44s/it]"
     ]
    },
    {
     "name": "stderr",
     "output_type": "stream",
     "text": [
      "\r",
      "Processing:  78%|█████████████████████████████████████████████████████████████████████▍                   | 78/100 [2:13:38<37:26, 102.11s/it]"
     ]
    },
    {
     "name": "stderr",
     "output_type": "stream",
     "text": [
      "\r",
      "Processing:  79%|██████████████████████████████████████████████████████████████████████▎                  | 79/100 [2:15:23<36:02, 102.96s/it]"
     ]
    },
    {
     "name": "stderr",
     "output_type": "stream",
     "text": [
      "\r",
      "Processing:  80%|███████████████████████████████████████████████████████████████████████▏                 | 80/100 [2:17:08<34:32, 103.65s/it]"
     ]
    },
    {
     "name": "stderr",
     "output_type": "stream",
     "text": [
      "\r",
      "Processing:  81%|████████████████████████████████████████████████████████████████████████                 | 81/100 [2:18:54<33:01, 104.30s/it]"
     ]
    },
    {
     "name": "stderr",
     "output_type": "stream",
     "text": [
      "\r",
      "Processing:  82%|████████████████████████████████████████████████████████████████████████▉                | 82/100 [2:20:35<31:02, 103.45s/it]"
     ]
    },
    {
     "name": "stderr",
     "output_type": "stream",
     "text": [
      "\r",
      "Processing:  83%|█████████████████████████████████████████████████████████████████████████▊               | 83/100 [2:22:13<28:51, 101.86s/it]"
     ]
    },
    {
     "name": "stderr",
     "output_type": "stream",
     "text": [
      "\r",
      "Processing:  84%|██████████████████████████████████████████████████████████████████████████▊              | 84/100 [2:23:53<26:58, 101.14s/it]"
     ]
    },
    {
     "name": "stderr",
     "output_type": "stream",
     "text": [
      "\r",
      "Processing:  85%|███████████████████████████████████████████████████████████████████████████▋             | 85/100 [2:25:40<25:43, 102.93s/it]"
     ]
    },
    {
     "name": "stderr",
     "output_type": "stream",
     "text": [
      "\r",
      "Processing:  86%|████████████████████████████████████████████████████████████████████████████▌            | 86/100 [2:27:27<24:16, 104.06s/it]"
     ]
    },
    {
     "name": "stderr",
     "output_type": "stream",
     "text": [
      "\r",
      "Processing:  87%|█████████████████████████████████████████████████████████████████████████████▍           | 87/100 [2:29:09<22:26, 103.60s/it]"
     ]
    },
    {
     "name": "stderr",
     "output_type": "stream",
     "text": [
      "\r",
      "Processing:  88%|██████████████████████████████████████████████████████████████████████████████▎          | 88/100 [2:30:51<20:36, 103.03s/it]"
     ]
    },
    {
     "name": "stderr",
     "output_type": "stream",
     "text": [
      "\r",
      "Processing:  89%|███████████████████████████████████████████████████████████████████████████████▏         | 89/100 [2:32:30<18:40, 101.91s/it]"
     ]
    },
    {
     "name": "stderr",
     "output_type": "stream",
     "text": [
      "\r",
      "Processing:  90%|████████████████████████████████████████████████████████████████████████████████         | 90/100 [2:34:17<17:15, 103.52s/it]"
     ]
    },
    {
     "name": "stderr",
     "output_type": "stream",
     "text": [
      "\r",
      "Processing:  91%|████████████████████████████████████████████████████████████████████████████████▉        | 91/100 [2:35:57<15:21, 102.44s/it]"
     ]
    },
    {
     "name": "stderr",
     "output_type": "stream",
     "text": [
      "\r",
      "Processing:  92%|█████████████████████████████████████████████████████████████████████████████████▉       | 92/100 [2:37:37<13:32, 101.57s/it]"
     ]
    },
    {
     "name": "stderr",
     "output_type": "stream",
     "text": [
      "\r",
      "Processing:  93%|██████████████████████████████████████████████████████████████████████████████████▊      | 93/100 [2:39:18<11:50, 101.45s/it]"
     ]
    },
    {
     "name": "stderr",
     "output_type": "stream",
     "text": [
      "\r",
      "Processing:  94%|███████████████████████████████████████████████████████████████████████████████████▋     | 94/100 [2:41:09<10:25, 104.28s/it]"
     ]
    },
    {
     "name": "stderr",
     "output_type": "stream",
     "text": [
      "\r",
      "Processing:  95%|████████████████████████████████████████████████████████████████████████████████████▌    | 95/100 [2:42:51<08:38, 103.77s/it]"
     ]
    },
    {
     "name": "stderr",
     "output_type": "stream",
     "text": [
      "\r",
      "Processing:  96%|█████████████████████████████████████████████████████████████████████████████████████▍   | 96/100 [2:44:36<06:55, 103.89s/it]"
     ]
    },
    {
     "name": "stderr",
     "output_type": "stream",
     "text": [
      "\r",
      "Processing:  97%|██████████████████████████████████████████████████████████████████████████████████████▎  | 97/100 [2:46:20<05:11, 103.96s/it]"
     ]
    },
    {
     "name": "stderr",
     "output_type": "stream",
     "text": [
      "\r",
      "Processing:  98%|███████████████████████████████████████████████████████████████████████████████████████▏ | 98/100 [2:48:08<03:30, 105.36s/it]"
     ]
    },
    {
     "name": "stderr",
     "output_type": "stream",
     "text": [
      "\r",
      "Processing:  99%|████████████████████████████████████████████████████████████████████████████████████████ | 99/100 [2:49:56<01:45, 105.93s/it]"
     ]
    },
    {
     "name": "stderr",
     "output_type": "stream",
     "text": [
      "\r",
      "Processing: 100%|████████████████████████████████████████████████████████████████████████████████████████| 100/100 [2:51:35<00:00, 103.83s/it]"
     ]
    },
    {
     "name": "stderr",
     "output_type": "stream",
     "text": [
      "\r",
      "Processing: 100%|████████████████████████████████████████████████████████████████████████████████████████| 100/100 [2:51:35<00:00, 102.95s/it]"
     ]
    },
    {
     "name": "stderr",
     "output_type": "stream",
     "text": [
      "\n"
     ]
    },
    {
     "name": "stderr",
     "output_type": "stream",
     "text": [
      "\r",
      "Processing:   0%|                                                                                                     | 0/100 [00:00<?, ?it/s]"
     ]
    },
    {
     "name": "stderr",
     "output_type": "stream",
     "text": [
      "\r",
      "Processing:   1%|▉                                                                                         | 1/100 [02:53<4:45:46, 173.20s/it]"
     ]
    },
    {
     "name": "stderr",
     "output_type": "stream",
     "text": [
      "\r",
      "Processing:   2%|█▊                                                                                        | 2/100 [05:48<4:44:51, 174.41s/it]"
     ]
    },
    {
     "name": "stderr",
     "output_type": "stream",
     "text": [
      "\r",
      "Processing:   3%|██▋                                                                                       | 3/100 [08:49<4:46:40, 177.33s/it]"
     ]
    },
    {
     "name": "stderr",
     "output_type": "stream",
     "text": [
      "\r",
      "Processing:   4%|███▌                                                                                      | 4/100 [11:48<4:45:05, 178.18s/it]"
     ]
    },
    {
     "name": "stderr",
     "output_type": "stream",
     "text": [
      "\r",
      "Processing:   5%|████▌                                                                                     | 5/100 [14:43<4:40:03, 176.88s/it]"
     ]
    },
    {
     "name": "stderr",
     "output_type": "stream",
     "text": [
      "\r",
      "Processing:   6%|█████▍                                                                                    | 6/100 [17:38<4:36:11, 176.29s/it]"
     ]
    },
    {
     "name": "stderr",
     "output_type": "stream",
     "text": [
      "\r",
      "Processing:   7%|██████▎                                                                                   | 7/100 [20:36<4:33:56, 176.74s/it]"
     ]
    },
    {
     "name": "stderr",
     "output_type": "stream",
     "text": [
      "\r",
      "Processing:   8%|███████▏                                                                                  | 8/100 [23:34<4:31:56, 177.35s/it]"
     ]
    },
    {
     "name": "stderr",
     "output_type": "stream",
     "text": [
      "\r",
      "Processing:   9%|████████                                                                                  | 9/100 [26:48<4:36:35, 182.37s/it]"
     ]
    },
    {
     "name": "stderr",
     "output_type": "stream",
     "text": [
      "\r",
      "Processing:  10%|████████▉                                                                                | 10/100 [29:57<4:36:47, 184.53s/it]"
     ]
    },
    {
     "name": "stderr",
     "output_type": "stream",
     "text": [
      "\r",
      "Processing:  11%|█████████▊                                                                               | 11/100 [32:56<4:31:02, 182.72s/it]"
     ]
    },
    {
     "name": "stderr",
     "output_type": "stream",
     "text": [
      "\r",
      "Processing:  12%|██████████▋                                                                              | 12/100 [35:53<4:25:40, 181.14s/it]"
     ]
    },
    {
     "name": "stderr",
     "output_type": "stream",
     "text": [
      "\r",
      "Processing:  13%|███████████▌                                                                             | 13/100 [38:46<4:19:08, 178.72s/it]"
     ]
    },
    {
     "name": "stderr",
     "output_type": "stream",
     "text": [
      "\r",
      "Processing:  14%|████████████▍                                                                            | 14/100 [41:50<4:18:15, 180.18s/it]"
     ]
    },
    {
     "name": "stderr",
     "output_type": "stream",
     "text": [
      "\r",
      "Processing:  15%|█████████████▎                                                                           | 15/100 [44:49<4:14:58, 179.98s/it]"
     ]
    },
    {
     "name": "stderr",
     "output_type": "stream",
     "text": [
      "\r",
      "Processing:  16%|██████████████▏                                                                          | 16/100 [47:37<4:06:40, 176.20s/it]"
     ]
    },
    {
     "name": "stderr",
     "output_type": "stream",
     "text": [
      "\r",
      "Processing:  17%|███████████████▏                                                                         | 17/100 [50:34<4:04:07, 176.48s/it]"
     ]
    },
    {
     "name": "stderr",
     "output_type": "stream",
     "text": [
      "\r",
      "Processing:  18%|████████████████                                                                         | 18/100 [53:26<3:59:23, 175.16s/it]"
     ]
    },
    {
     "name": "stderr",
     "output_type": "stream",
     "text": [
      "\r",
      "Processing:  19%|████████████████▉                                                                        | 19/100 [56:31<4:00:15, 177.96s/it]"
     ]
    },
    {
     "name": "stderr",
     "output_type": "stream",
     "text": [
      "\r",
      "Processing:  20%|█████████████████▊                                                                       | 20/100 [59:28<3:56:53, 177.67s/it]"
     ]
    },
    {
     "name": "stderr",
     "output_type": "stream",
     "text": [
      "\r",
      "Processing:  21%|██████████████████▎                                                                    | 21/100 [1:02:18<3:51:15, 175.64s/it]"
     ]
    },
    {
     "name": "stderr",
     "output_type": "stream",
     "text": [
      "\r",
      "Processing:  22%|███████████████████▏                                                                   | 22/100 [1:05:14<3:48:14, 175.57s/it]"
     ]
    },
    {
     "name": "stderr",
     "output_type": "stream",
     "text": [
      "\r",
      "Processing:  23%|████████████████████                                                                   | 23/100 [1:08:10<3:45:41, 175.86s/it]"
     ]
    },
    {
     "name": "stderr",
     "output_type": "stream",
     "text": [
      "\r",
      "Processing:  24%|████████████████████▉                                                                  | 24/100 [1:11:08<3:43:18, 176.29s/it]"
     ]
    },
    {
     "name": "stderr",
     "output_type": "stream",
     "text": [
      "\r",
      "Processing:  25%|█████████████████████▊                                                                 | 25/100 [1:14:01<3:39:22, 175.50s/it]"
     ]
    },
    {
     "name": "stderr",
     "output_type": "stream",
     "text": [
      "\r",
      "Processing:  26%|██████████████████████▌                                                                | 26/100 [1:16:49<3:33:32, 173.14s/it]"
     ]
    },
    {
     "name": "stderr",
     "output_type": "stream",
     "text": [
      "\r",
      "Processing:  27%|███████████████████████▍                                                               | 27/100 [1:19:44<3:31:12, 173.59s/it]"
     ]
    },
    {
     "name": "stderr",
     "output_type": "stream",
     "text": [
      "\r",
      "Processing:  28%|████████████████████████▎                                                              | 28/100 [1:22:36<3:27:56, 173.29s/it]"
     ]
    },
    {
     "name": "stderr",
     "output_type": "stream",
     "text": [
      "\r",
      "Processing:  29%|█████████████████████████▏                                                             | 29/100 [1:25:29<3:24:59, 173.24s/it]"
     ]
    },
    {
     "name": "stderr",
     "output_type": "stream",
     "text": [
      "\r",
      "Processing:  30%|██████████████████████████                                                             | 30/100 [1:28:30<3:24:48, 175.55s/it]"
     ]
    },
    {
     "name": "stderr",
     "output_type": "stream",
     "text": [
      "\r",
      "Processing:  31%|██████████████████████████▉                                                            | 31/100 [1:31:23<3:20:49, 174.64s/it]"
     ]
    },
    {
     "name": "stderr",
     "output_type": "stream",
     "text": [
      "\r",
      "Processing:  32%|███████████████████████████▊                                                           | 32/100 [1:34:17<3:17:43, 174.46s/it]"
     ]
    },
    {
     "name": "stderr",
     "output_type": "stream",
     "text": [
      "\r",
      "Processing:  33%|████████████████████████████▋                                                          | 33/100 [1:37:08<3:13:46, 173.53s/it]"
     ]
    },
    {
     "name": "stderr",
     "output_type": "stream",
     "text": [
      "\r",
      "Processing:  34%|█████████████████████████████▌                                                         | 34/100 [1:40:08<3:12:47, 175.27s/it]"
     ]
    },
    {
     "name": "stderr",
     "output_type": "stream",
     "text": [
      "\r",
      "Processing:  35%|██████████████████████████████▍                                                        | 35/100 [1:43:17<3:14:33, 179.59s/it]"
     ]
    },
    {
     "name": "stderr",
     "output_type": "stream",
     "text": [
      "\r",
      "Processing:  36%|███████████████████████████████▎                                                       | 36/100 [1:46:15<3:10:50, 178.91s/it]"
     ]
    },
    {
     "name": "stderr",
     "output_type": "stream",
     "text": [
      "\r",
      "Processing:  37%|████████████████████████████████▏                                                      | 37/100 [1:49:13<3:07:44, 178.80s/it]"
     ]
    },
    {
     "name": "stderr",
     "output_type": "stream",
     "text": [
      "\r",
      "Processing:  38%|█████████████████████████████████                                                      | 38/100 [1:52:14<3:05:20, 179.37s/it]"
     ]
    },
    {
     "name": "stderr",
     "output_type": "stream",
     "text": [
      "\r",
      "Processing:  39%|█████████████████████████████████▉                                                     | 39/100 [1:55:09<3:01:02, 178.07s/it]"
     ]
    },
    {
     "name": "stderr",
     "output_type": "stream",
     "text": [
      "\r",
      "Processing:  40%|██████████████████████████████████▊                                                    | 40/100 [1:57:57<2:55:08, 175.14s/it]"
     ]
    },
    {
     "name": "stderr",
     "output_type": "stream",
     "text": [
      "\r",
      "Processing:  41%|███████████████████████████████████▋                                                   | 41/100 [2:00:51<2:51:45, 174.68s/it]"
     ]
    },
    {
     "name": "stderr",
     "output_type": "stream",
     "text": [
      "\r",
      "Processing:  42%|████████████████████████████████████▌                                                  | 42/100 [2:03:55<2:51:38, 177.56s/it]"
     ]
    },
    {
     "name": "stderr",
     "output_type": "stream",
     "text": [
      "\r",
      "Processing:  43%|█████████████████████████████████████▍                                                 | 43/100 [2:06:48<2:47:30, 176.32s/it]"
     ]
    },
    {
     "name": "stderr",
     "output_type": "stream",
     "text": [
      "\r",
      "Processing:  44%|██████████████████████████████████████▎                                                | 44/100 [2:09:45<2:44:44, 176.52s/it]"
     ]
    },
    {
     "name": "stderr",
     "output_type": "stream",
     "text": [
      "\r",
      "Processing:  45%|███████████████████████████████████████▏                                               | 45/100 [2:12:46<2:42:56, 177.75s/it]"
     ]
    },
    {
     "name": "stderr",
     "output_type": "stream",
     "text": [
      "\r",
      "Processing:  46%|████████████████████████████████████████                                               | 46/100 [2:15:43<2:39:48, 177.56s/it]"
     ]
    },
    {
     "name": "stderr",
     "output_type": "stream",
     "text": [
      "\r",
      "Processing:  47%|████████████████████████████████████████▉                                              | 47/100 [2:18:38<2:36:06, 176.72s/it]"
     ]
    },
    {
     "name": "stderr",
     "output_type": "stream",
     "text": [
      "\r",
      "Processing:  48%|█████████████████████████████████████████▊                                             | 48/100 [2:21:34<2:33:05, 176.65s/it]"
     ]
    },
    {
     "name": "stderr",
     "output_type": "stream",
     "text": [
      "\r",
      "Processing:  49%|██████████████████████████████████████████▋                                            | 49/100 [2:24:29<2:29:41, 176.11s/it]"
     ]
    },
    {
     "name": "stderr",
     "output_type": "stream",
     "text": [
      "\r",
      "Processing:  50%|███████████████████████████████████████████▌                                           | 50/100 [2:27:28<2:27:28, 176.96s/it]"
     ]
    },
    {
     "name": "stderr",
     "output_type": "stream",
     "text": [
      "\r",
      "Processing:  51%|████████████████████████████████████████████▎                                          | 51/100 [2:30:22<2:23:38, 175.89s/it]"
     ]
    },
    {
     "name": "stderr",
     "output_type": "stream",
     "text": [
      "\r",
      "Processing:  52%|█████████████████████████████████████████████▏                                         | 52/100 [2:33:22<2:21:54, 177.38s/it]"
     ]
    },
    {
     "name": "stderr",
     "output_type": "stream",
     "text": [
      "\r",
      "Processing:  53%|██████████████████████████████████████████████                                         | 53/100 [2:36:14<2:17:34, 175.63s/it]"
     ]
    },
    {
     "name": "stderr",
     "output_type": "stream",
     "text": [
      "\r",
      "Processing:  54%|██████████████████████████████████████████████▉                                        | 54/100 [2:39:09<2:14:34, 175.54s/it]"
     ]
    },
    {
     "name": "stderr",
     "output_type": "stream",
     "text": [
      "\r",
      "Processing:  55%|███████████████████████████████████████████████▊                                       | 55/100 [2:42:02<2:11:06, 174.81s/it]"
     ]
    },
    {
     "name": "stderr",
     "output_type": "stream",
     "text": [
      "\r",
      "Processing:  56%|████████████████████████████████████████████████▋                                      | 56/100 [2:44:57<2:08:06, 174.68s/it]"
     ]
    },
    {
     "name": "stderr",
     "output_type": "stream",
     "text": [
      "\r",
      "Processing:  57%|█████████████████████████████████████████████████▌                                     | 57/100 [2:47:48<2:04:30, 173.74s/it]"
     ]
    },
    {
     "name": "stderr",
     "output_type": "stream",
     "text": [
      "\r",
      "Processing:  58%|██████████████████████████████████████████████████▍                                    | 58/100 [2:50:51<2:03:27, 176.36s/it]"
     ]
    },
    {
     "name": "stderr",
     "output_type": "stream",
     "text": [
      "\r",
      "Processing:  59%|███████████████████████████████████████████████████▎                                   | 59/100 [2:54:05<2:04:05, 181.60s/it]"
     ]
    },
    {
     "name": "stderr",
     "output_type": "stream",
     "text": [
      "\r",
      "Processing:  60%|████████████████████████████████████████████████████▏                                  | 60/100 [2:57:04<2:00:32, 180.81s/it]"
     ]
    },
    {
     "name": "stderr",
     "output_type": "stream",
     "text": [
      "\r",
      "Processing:  61%|█████████████████████████████████████████████████████                                  | 61/100 [3:00:03<1:57:18, 180.47s/it]"
     ]
    },
    {
     "name": "stderr",
     "output_type": "stream",
     "text": [
      "\r",
      "Processing:  62%|█████████████████████████████████████████████████████▉                                 | 62/100 [3:02:58<1:53:11, 178.71s/it]"
     ]
    },
    {
     "name": "stderr",
     "output_type": "stream",
     "text": [
      "\r",
      "Processing:  63%|██████████████████████████████████████████████████████▊                                | 63/100 [3:05:51<1:49:10, 177.04s/it]"
     ]
    },
    {
     "name": "stderr",
     "output_type": "stream",
     "text": [
      "\r",
      "Processing:  64%|███████████████████████████████████████████████████████▋                               | 64/100 [3:08:47<1:45:57, 176.61s/it]"
     ]
    },
    {
     "name": "stderr",
     "output_type": "stream",
     "text": [
      "\r",
      "Processing:  65%|████████████████████████████████████████████████████████▌                              | 65/100 [3:11:41<1:42:35, 175.87s/it]"
     ]
    },
    {
     "name": "stderr",
     "output_type": "stream",
     "text": [
      "\r",
      "Processing:  66%|█████████████████████████████████████████████████████████▍                             | 66/100 [3:14:36<1:39:34, 175.73s/it]"
     ]
    },
    {
     "name": "stderr",
     "output_type": "stream",
     "text": [
      "\r",
      "Processing:  67%|██████████████████████████████████████████████████████████▎                            | 67/100 [3:17:28<1:36:01, 174.60s/it]"
     ]
    },
    {
     "name": "stderr",
     "output_type": "stream",
     "text": [
      "\r",
      "Processing:  68%|███████████████████████████████████████████████████████████▏                           | 68/100 [3:20:19<1:32:27, 173.37s/it]"
     ]
    },
    {
     "name": "stderr",
     "output_type": "stream",
     "text": [
      "\r",
      "Processing:  69%|████████████████████████████████████████████████████████████                           | 69/100 [3:23:13<1:29:46, 173.76s/it]"
     ]
    },
    {
     "name": "stderr",
     "output_type": "stream",
     "text": [
      "\r",
      "Processing:  70%|████████████████████████████████████████████████████████████▉                          | 70/100 [3:26:09<1:27:08, 174.30s/it]"
     ]
    },
    {
     "name": "stderr",
     "output_type": "stream",
     "text": [
      "\r",
      "Processing:  71%|█████████████████████████████████████████████████████████████▊                         | 71/100 [3:29:05<1:24:35, 175.00s/it]"
     ]
    },
    {
     "name": "stderr",
     "output_type": "stream",
     "text": [
      "\r",
      "Processing:  72%|██████████████████████████████████████████████████████████████▋                        | 72/100 [3:31:56<1:21:00, 173.60s/it]"
     ]
    },
    {
     "name": "stderr",
     "output_type": "stream",
     "text": [
      "\r",
      "Processing:  73%|███████████████████████████████████████████████████████████████▌                       | 73/100 [3:34:46<1:17:38, 172.55s/it]"
     ]
    },
    {
     "name": "stderr",
     "output_type": "stream",
     "text": [
      "\r",
      "Processing:  74%|████████████████████████████████████████████████████████████████▍                      | 74/100 [3:37:38<1:14:39, 172.29s/it]"
     ]
    },
    {
     "name": "stderr",
     "output_type": "stream",
     "text": [
      "\r",
      "Processing:  75%|█████████████████████████████████████████████████████████████████▎                     | 75/100 [3:40:29<1:11:38, 171.96s/it]"
     ]
    },
    {
     "name": "stderr",
     "output_type": "stream",
     "text": [
      "\r",
      "Processing:  76%|██████████████████████████████████████████████████████████████████                     | 76/100 [3:43:21<1:08:47, 171.98s/it]"
     ]
    },
    {
     "name": "stderr",
     "output_type": "stream",
     "text": [
      "\r",
      "Processing:  77%|██████████████████████████████████████████████████████████████████▉                    | 77/100 [3:46:10<1:05:37, 171.19s/it]"
     ]
    },
    {
     "name": "stderr",
     "output_type": "stream",
     "text": [
      "\r",
      "Processing:  78%|███████████████████████████████████████████████████████████████████▊                   | 78/100 [3:49:01<1:02:46, 171.21s/it]"
     ]
    },
    {
     "name": "stderr",
     "output_type": "stream",
     "text": [
      "\r",
      "Processing:  79%|████████████████████████████████████████████████████████████████████▋                  | 79/100 [3:51:59<1:00:35, 173.10s/it]"
     ]
    },
    {
     "name": "stderr",
     "output_type": "stream",
     "text": [
      "\r",
      "Processing:  80%|███████████████████████████████████████████████████████████████████████▏                 | 80/100 [3:54:57<58:14, 174.71s/it]"
     ]
    },
    {
     "name": "stderr",
     "output_type": "stream",
     "text": [
      "\r",
      "Processing:  81%|████████████████████████████████████████████████████████████████████████                 | 81/100 [3:57:48<54:53, 173.36s/it]"
     ]
    },
    {
     "name": "stderr",
     "output_type": "stream",
     "text": [
      "\r",
      "Processing:  82%|████████████████████████████████████████████████████████████████████████▉                | 82/100 [4:00:48<52:35, 175.33s/it]"
     ]
    },
    {
     "name": "stderr",
     "output_type": "stream",
     "text": [
      "\r",
      "Processing:  83%|█████████████████████████████████████████████████████████████████████████▊               | 83/100 [4:03:52<50:27, 178.08s/it]"
     ]
    },
    {
     "name": "stderr",
     "output_type": "stream",
     "text": [
      "\r",
      "Processing:  84%|██████████████████████████████████████████████████████████████████████████▊              | 84/100 [4:06:42<46:49, 175.59s/it]"
     ]
    },
    {
     "name": "stderr",
     "output_type": "stream",
     "text": [
      "\r",
      "Processing:  85%|███████████████████████████████████████████████████████████████████████████▋             | 85/100 [4:09:47<44:34, 178.33s/it]"
     ]
    },
    {
     "name": "stderr",
     "output_type": "stream",
     "text": [
      "\r",
      "Processing:  86%|████████████████████████████████████████████████████████████████████████████▌            | 86/100 [4:12:51<42:04, 180.32s/it]"
     ]
    },
    {
     "name": "stderr",
     "output_type": "stream",
     "text": [
      "\r",
      "Processing:  87%|█████████████████████████████████████████████████████████████████████████████▍           | 87/100 [4:15:47<38:45, 178.88s/it]"
     ]
    },
    {
     "name": "stderr",
     "output_type": "stream",
     "text": [
      "\r",
      "Processing:  88%|██████████████████████████████████████████████████████████████████████████████▎          | 88/100 [4:18:43<35:34, 177.90s/it]"
     ]
    },
    {
     "name": "stderr",
     "output_type": "stream",
     "text": [
      "\r",
      "Processing:  89%|███████████████████████████████████████████████████████████████████████████████▏         | 89/100 [4:21:47<32:57, 179.80s/it]"
     ]
    },
    {
     "name": "stderr",
     "output_type": "stream",
     "text": [
      "\r",
      "Processing:  90%|████████████████████████████████████████████████████████████████████████████████         | 90/100 [4:24:52<30:15, 181.52s/it]"
     ]
    },
    {
     "name": "stderr",
     "output_type": "stream",
     "text": [
      "\r",
      "Processing:  91%|████████████████████████████████████████████████████████████████████████████████▉        | 91/100 [4:27:46<26:52, 179.18s/it]"
     ]
    },
    {
     "name": "stderr",
     "output_type": "stream",
     "text": [
      "\r",
      "Processing:  92%|█████████████████████████████████████████████████████████████████████████████████▉       | 92/100 [4:30:39<23:39, 177.42s/it]"
     ]
    },
    {
     "name": "stderr",
     "output_type": "stream",
     "text": [
      "\r",
      "Processing:  93%|██████████████████████████████████████████████████████████████████████████████████▊      | 93/100 [4:33:33<20:33, 176.24s/it]"
     ]
    },
    {
     "name": "stderr",
     "output_type": "stream",
     "text": [
      "\r",
      "Processing:  94%|███████████████████████████████████████████████████████████████████████████████████▋     | 94/100 [4:36:31<17:40, 176.83s/it]"
     ]
    },
    {
     "name": "stderr",
     "output_type": "stream",
     "text": [
      "\r",
      "Processing:  95%|████████████████████████████████████████████████████████████████████████████████████▌    | 95/100 [4:39:29<14:46, 177.20s/it]"
     ]
    },
    {
     "name": "stderr",
     "output_type": "stream",
     "text": [
      "\r",
      "Processing:  96%|█████████████████████████████████████████████████████████████████████████████████████▍   | 96/100 [4:42:30<11:52, 178.21s/it]"
     ]
    },
    {
     "name": "stderr",
     "output_type": "stream",
     "text": [
      "\r",
      "Processing:  97%|██████████████████████████████████████████████████████████████████████████████████████▎  | 97/100 [4:45:27<08:53, 177.97s/it]"
     ]
    },
    {
     "name": "stderr",
     "output_type": "stream",
     "text": [
      "\r",
      "Processing:  98%|███████████████████████████████████████████████████████████████████████████████████████▏ | 98/100 [4:48:16<05:50, 175.33s/it]"
     ]
    },
    {
     "name": "stderr",
     "output_type": "stream",
     "text": [
      "\r",
      "Processing:  99%|████████████████████████████████████████████████████████████████████████████████████████ | 99/100 [4:51:08<02:54, 174.36s/it]"
     ]
    },
    {
     "name": "stderr",
     "output_type": "stream",
     "text": [
      "\r",
      "Processing: 100%|████████████████████████████████████████████████████████████████████████████████████████| 100/100 [4:54:17<00:00, 178.65s/it]"
     ]
    },
    {
     "name": "stderr",
     "output_type": "stream",
     "text": [
      "\r",
      "Processing: 100%|████████████████████████████████████████████████████████████████████████████████████████| 100/100 [4:54:17<00:00, 176.58s/it]"
     ]
    },
    {
     "name": "stderr",
     "output_type": "stream",
     "text": [
      "\n"
     ]
    },
    {
     "name": "stderr",
     "output_type": "stream",
     "text": [
      "\r",
      "Processing:   0%|                                                                                                     | 0/100 [00:00<?, ?it/s]"
     ]
    },
    {
     "name": "stderr",
     "output_type": "stream",
     "text": [
      "\r",
      "Processing:   1%|▉                                                                                         | 1/100 [04:28<7:23:32, 268.82s/it]"
     ]
    },
    {
     "name": "stderr",
     "output_type": "stream",
     "text": [
      "\r",
      "Processing:   2%|█▊                                                                                        | 2/100 [09:08<7:29:17, 275.08s/it]"
     ]
    },
    {
     "name": "stderr",
     "output_type": "stream",
     "text": [
      "\r",
      "Processing:   3%|██▋                                                                                       | 3/100 [13:45<7:26:34, 276.23s/it]"
     ]
    },
    {
     "name": "stderr",
     "output_type": "stream",
     "text": [
      "\r",
      "Processing:   4%|███▌                                                                                      | 4/100 [18:18<7:19:41, 274.81s/it]"
     ]
    },
    {
     "name": "stderr",
     "output_type": "stream",
     "text": [
      "\r",
      "Processing:   5%|████▌                                                                                     | 5/100 [22:52<7:14:22, 274.34s/it]"
     ]
    },
    {
     "name": "stderr",
     "output_type": "stream",
     "text": [
      "\r",
      "Processing:   6%|█████▍                                                                                    | 6/100 [27:38<7:16:22, 278.54s/it]"
     ]
    },
    {
     "name": "stderr",
     "output_type": "stream",
     "text": [
      "\r",
      "Processing:   7%|██████▎                                                                                   | 7/100 [32:06<7:06:31, 275.17s/it]"
     ]
    },
    {
     "name": "stderr",
     "output_type": "stream",
     "text": [
      "\r",
      "Processing:   8%|███████▏                                                                                  | 8/100 [36:39<7:00:31, 274.25s/it]"
     ]
    },
    {
     "name": "stderr",
     "output_type": "stream",
     "text": [
      "\r",
      "Processing:   9%|████████                                                                                  | 9/100 [41:14<6:56:29, 274.61s/it]"
     ]
    },
    {
     "name": "stderr",
     "output_type": "stream",
     "text": [
      "\r",
      "Processing:  10%|████████▉                                                                                | 10/100 [45:56<6:55:15, 276.84s/it]"
     ]
    },
    {
     "name": "stderr",
     "output_type": "stream",
     "text": [
      "\r",
      "Processing:  11%|█████████▊                                                                               | 11/100 [50:28<6:48:30, 275.39s/it]"
     ]
    },
    {
     "name": "stderr",
     "output_type": "stream",
     "text": [
      "\r",
      "Processing:  12%|██████████▋                                                                              | 12/100 [55:00<6:42:33, 274.47s/it]"
     ]
    },
    {
     "name": "stderr",
     "output_type": "stream",
     "text": [
      "\r",
      "Processing:  13%|███████████▌                                                                             | 13/100 [59:43<6:41:19, 276.77s/it]"
     ]
    },
    {
     "name": "stderr",
     "output_type": "stream",
     "text": [
      "\r",
      "Processing:  14%|████████████▏                                                                          | 14/100 [1:04:15<6:34:45, 275.41s/it]"
     ]
    },
    {
     "name": "stderr",
     "output_type": "stream",
     "text": [
      "\r",
      "Processing:  15%|█████████████                                                                          | 15/100 [1:08:46<6:28:22, 274.15s/it]"
     ]
    },
    {
     "name": "stderr",
     "output_type": "stream",
     "text": [
      "\r",
      "Processing:  16%|█████████████▉                                                                         | 16/100 [1:13:22<6:24:28, 274.63s/it]"
     ]
    },
    {
     "name": "stderr",
     "output_type": "stream",
     "text": [
      "\r",
      "Processing:  17%|██████████████▊                                                                        | 17/100 [1:18:08<6:24:43, 278.11s/it]"
     ]
    },
    {
     "name": "stderr",
     "output_type": "stream",
     "text": [
      "\r",
      "Processing:  18%|███████████████▋                                                                       | 18/100 [1:22:39<6:17:03, 275.90s/it]"
     ]
    },
    {
     "name": "stderr",
     "output_type": "stream",
     "text": [
      "\r",
      "Processing:  19%|████████████████▌                                                                      | 19/100 [1:27:18<6:13:42, 276.82s/it]"
     ]
    },
    {
     "name": "stderr",
     "output_type": "stream",
     "text": [
      "\r",
      "Processing:  20%|█████████████████▍                                                                     | 20/100 [1:31:49<6:06:42, 275.03s/it]"
     ]
    },
    {
     "name": "stderr",
     "output_type": "stream",
     "text": [
      "\r",
      "Processing:  21%|██████████████████▎                                                                    | 21/100 [1:36:38<6:07:43, 279.29s/it]"
     ]
    },
    {
     "name": "stderr",
     "output_type": "stream",
     "text": [
      "\r",
      "Processing:  22%|███████████████████▏                                                                   | 22/100 [1:41:14<6:01:46, 278.29s/it]"
     ]
    },
    {
     "name": "stderr",
     "output_type": "stream",
     "text": [
      "\r",
      "Processing:  23%|████████████████████                                                                   | 23/100 [1:46:02<6:00:49, 281.17s/it]"
     ]
    },
    {
     "name": "stderr",
     "output_type": "stream",
     "text": [
      "\r",
      "Processing:  24%|████████████████████▉                                                                  | 24/100 [1:50:47<5:57:34, 282.30s/it]"
     ]
    },
    {
     "name": "stderr",
     "output_type": "stream",
     "text": [
      "\r",
      "Processing:  25%|█████████████████████▊                                                                 | 25/100 [1:55:19<5:49:08, 279.32s/it]"
     ]
    },
    {
     "name": "stderr",
     "output_type": "stream",
     "text": [
      "\r",
      "Processing:  26%|██████████████████████▌                                                                | 26/100 [1:59:57<5:43:53, 278.83s/it]"
     ]
    },
    {
     "name": "stderr",
     "output_type": "stream",
     "text": [
      "\r",
      "Processing:  27%|███████████████████████▍                                                               | 27/100 [2:04:29<5:36:52, 276.88s/it]"
     ]
    },
    {
     "name": "stderr",
     "output_type": "stream",
     "text": [
      "\r",
      "Processing:  28%|████████████████████████▎                                                              | 28/100 [2:09:00<5:30:11, 275.16s/it]"
     ]
    },
    {
     "name": "stderr",
     "output_type": "stream",
     "text": [
      "\r",
      "Processing:  29%|█████████████████████████▏                                                             | 29/100 [2:13:37<5:26:04, 275.55s/it]"
     ]
    },
    {
     "name": "stderr",
     "output_type": "stream",
     "text": [
      "\r",
      "Processing:  30%|██████████████████████████                                                             | 30/100 [2:18:06<5:19:24, 273.77s/it]"
     ]
    },
    {
     "name": "stderr",
     "output_type": "stream",
     "text": [
      "\r",
      "Processing:  31%|██████████████████████████▉                                                            | 31/100 [2:22:44<5:16:11, 274.95s/it]"
     ]
    },
    {
     "name": "stderr",
     "output_type": "stream",
     "text": [
      "\r",
      "Processing:  32%|███████████████████████████▊                                                           | 32/100 [2:27:22<5:12:51, 276.05s/it]"
     ]
    },
    {
     "name": "stderr",
     "output_type": "stream",
     "text": [
      "\r",
      "Processing:  33%|████████████████████████████▋                                                          | 33/100 [2:31:49<5:05:10, 273.29s/it]"
     ]
    },
    {
     "name": "stderr",
     "output_type": "stream",
     "text": [
      "\r",
      "Processing:  34%|█████████████████████████████▌                                                         | 34/100 [2:36:23<5:00:46, 273.44s/it]"
     ]
    },
    {
     "name": "stderr",
     "output_type": "stream",
     "text": [
      "\r",
      "Processing:  35%|██████████████████████████████▍                                                        | 35/100 [2:40:59<4:56:57, 274.12s/it]"
     ]
    },
    {
     "name": "stderr",
     "output_type": "stream",
     "text": [
      "\r",
      "Processing:  36%|███████████████████████████████▎                                                       | 36/100 [2:45:34<4:52:48, 274.51s/it]"
     ]
    },
    {
     "name": "stderr",
     "output_type": "stream",
     "text": [
      "\r",
      "Processing:  37%|████████████████████████████████▏                                                      | 37/100 [2:50:19<4:51:26, 277.57s/it]"
     ]
    },
    {
     "name": "stderr",
     "output_type": "stream",
     "text": [
      "\r",
      "Processing:  38%|█████████████████████████████████                                                      | 38/100 [2:55:04<4:49:15, 279.93s/it]"
     ]
    },
    {
     "name": "stderr",
     "output_type": "stream",
     "text": [
      "\r",
      "Processing:  39%|█████████████████████████████████▉                                                     | 39/100 [2:59:47<4:45:28, 280.80s/it]"
     ]
    },
    {
     "name": "stderr",
     "output_type": "stream",
     "text": [
      "\r",
      "Processing:  40%|██████████████████████████████████▊                                                    | 40/100 [3:04:18<4:37:55, 277.92s/it]"
     ]
    },
    {
     "name": "stderr",
     "output_type": "stream",
     "text": [
      "\r",
      "Processing:  41%|███████████████████████████████████▋                                                   | 41/100 [3:08:59<4:33:59, 278.63s/it]"
     ]
    },
    {
     "name": "stderr",
     "output_type": "stream",
     "text": [
      "\r",
      "Processing:  42%|████████████████████████████████████▌                                                  | 42/100 [3:13:30<4:27:12, 276.41s/it]"
     ]
    },
    {
     "name": "stderr",
     "output_type": "stream",
     "text": [
      "\r",
      "Processing:  43%|█████████████████████████████████████▍                                                 | 43/100 [3:18:10<4:23:30, 277.38s/it]"
     ]
    },
    {
     "name": "stderr",
     "output_type": "stream",
     "text": [
      "\r",
      "Processing:  44%|██████████████████████████████████████▎                                                | 44/100 [3:22:49<4:19:33, 278.09s/it]"
     ]
    },
    {
     "name": "stderr",
     "output_type": "stream",
     "text": [
      "\r",
      "Processing:  45%|███████████████████████████████████████▏                                               | 45/100 [3:27:26<4:14:38, 277.79s/it]"
     ]
    },
    {
     "name": "stderr",
     "output_type": "stream",
     "text": [
      "\r",
      "Processing:  46%|████████████████████████████████████████                                               | 46/100 [3:31:58<4:08:21, 275.95s/it]"
     ]
    },
    {
     "name": "stderr",
     "output_type": "stream",
     "text": [
      "\r",
      "Processing:  47%|████████████████████████████████████████▉                                              | 47/100 [3:36:45<4:06:35, 279.15s/it]"
     ]
    },
    {
     "name": "stderr",
     "output_type": "stream",
     "text": [
      "\r",
      "Processing:  48%|█████████████████████████████████████████▊                                             | 48/100 [3:41:21<4:01:04, 278.17s/it]"
     ]
    },
    {
     "name": "stderr",
     "output_type": "stream",
     "text": [
      "\r",
      "Processing:  49%|██████████████████████████████████████████▋                                            | 49/100 [3:45:52<3:54:41, 276.11s/it]"
     ]
    },
    {
     "name": "stderr",
     "output_type": "stream",
     "text": [
      "\r",
      "Processing:  50%|███████████████████████████████████████████▌                                           | 50/100 [3:50:18<3:47:29, 272.99s/it]"
     ]
    },
    {
     "name": "stderr",
     "output_type": "stream",
     "text": [
      "\r",
      "Processing:  51%|████████████████████████████████████████████▎                                          | 51/100 [3:54:50<3:42:55, 272.97s/it]"
     ]
    },
    {
     "name": "stderr",
     "output_type": "stream",
     "text": [
      "\r",
      "Processing:  52%|█████████████████████████████████████████████▏                                         | 52/100 [3:59:37<3:41:33, 276.95s/it]"
     ]
    },
    {
     "name": "stderr",
     "output_type": "stream",
     "text": [
      "\r",
      "Processing:  53%|██████████████████████████████████████████████                                         | 53/100 [4:04:12<3:36:34, 276.48s/it]"
     ]
    },
    {
     "name": "stderr",
     "output_type": "stream",
     "text": [
      "\r",
      "Processing:  54%|██████████████████████████████████████████████▉                                        | 54/100 [4:09:06<3:36:01, 281.77s/it]"
     ]
    },
    {
     "name": "stderr",
     "output_type": "stream",
     "text": [
      "\r",
      "Processing:  55%|███████████████████████████████████████████████▊                                       | 55/100 [4:13:48<3:31:13, 281.63s/it]"
     ]
    },
    {
     "name": "stderr",
     "output_type": "stream",
     "text": [
      "\r",
      "Processing:  56%|████████████████████████████████████████████████▋                                      | 56/100 [4:18:30<3:26:44, 281.92s/it]"
     ]
    },
    {
     "name": "stderr",
     "output_type": "stream",
     "text": [
      "\r",
      "Processing:  57%|█████████████████████████████████████████████████▌                                     | 57/100 [4:23:05<3:20:33, 279.86s/it]"
     ]
    },
    {
     "name": "stderr",
     "output_type": "stream",
     "text": [
      "\r",
      "Processing:  58%|██████████████████████████████████████████████████▍                                    | 58/100 [4:27:35<3:13:49, 276.88s/it]"
     ]
    },
    {
     "name": "stderr",
     "output_type": "stream",
     "text": [
      "\r",
      "Processing:  59%|███████████████████████████████████████████████████▎                                   | 59/100 [4:32:09<3:08:39, 276.09s/it]"
     ]
    },
    {
     "name": "stderr",
     "output_type": "stream",
     "text": [
      "\r",
      "Processing:  60%|████████████████████████████████████████████████████▏                                  | 60/100 [4:36:33<3:01:29, 272.23s/it]"
     ]
    },
    {
     "name": "stderr",
     "output_type": "stream",
     "text": [
      "\r",
      "Processing:  61%|█████████████████████████████████████████████████████                                  | 61/100 [4:41:04<2:56:47, 271.99s/it]"
     ]
    },
    {
     "name": "stderr",
     "output_type": "stream",
     "text": [
      "\r",
      "Processing:  62%|█████████████████████████████████████████████████████▉                                 | 62/100 [4:45:38<2:52:43, 272.72s/it]"
     ]
    },
    {
     "name": "stderr",
     "output_type": "stream",
     "text": [
      "\r",
      "Processing:  63%|██████████████████████████████████████████████████████▊                                | 63/100 [4:50:17<2:49:15, 274.46s/it]"
     ]
    },
    {
     "name": "stderr",
     "output_type": "stream",
     "text": [
      "\r",
      "Processing:  64%|███████████████████████████████████████████████████████▋                               | 64/100 [4:54:55<2:45:17, 275.48s/it]"
     ]
    },
    {
     "name": "stderr",
     "output_type": "stream",
     "text": [
      "\r",
      "Processing:  65%|████████████████████████████████████████████████████████▌                              | 65/100 [4:59:32<2:41:04, 276.12s/it]"
     ]
    },
    {
     "name": "stderr",
     "output_type": "stream",
     "text": [
      "\r",
      "Processing:  66%|█████████████████████████████████████████████████████████▍                             | 66/100 [5:04:01<2:35:07, 273.74s/it]"
     ]
    },
    {
     "name": "stderr",
     "output_type": "stream",
     "text": [
      "\r",
      "Processing:  67%|██████████████████████████████████████████████████████████▎                            | 67/100 [5:08:32<2:30:06, 272.93s/it]"
     ]
    },
    {
     "name": "stderr",
     "output_type": "stream",
     "text": [
      "\r",
      "Processing:  68%|███████████████████████████████████████████████████████████▏                           | 68/100 [5:13:07<2:25:55, 273.61s/it]"
     ]
    },
    {
     "name": "stderr",
     "output_type": "stream",
     "text": [
      "\r",
      "Processing:  69%|████████████████████████████████████████████████████████████                           | 69/100 [5:17:45<2:22:03, 274.94s/it]"
     ]
    },
    {
     "name": "stderr",
     "output_type": "stream",
     "text": [
      "\r",
      "Processing:  70%|████████████████████████████████████████████████████████████▉                          | 70/100 [5:22:23<2:18:01, 276.04s/it]"
     ]
    },
    {
     "name": "stderr",
     "output_type": "stream",
     "text": [
      "\r",
      "Processing:  71%|█████████████████████████████████████████████████████████████▊                         | 71/100 [5:26:53<2:12:25, 273.98s/it]"
     ]
    },
    {
     "name": "stderr",
     "output_type": "stream",
     "text": [
      "\r",
      "Processing:  72%|██████████████████████████████████████████████████████████████▋                        | 72/100 [5:31:41<2:09:53, 278.32s/it]"
     ]
    },
    {
     "name": "stderr",
     "output_type": "stream",
     "text": [
      "\r",
      "Processing:  73%|███████████████████████████████████████████████████████████████▌                       | 73/100 [5:36:23<2:05:43, 279.38s/it]"
     ]
    },
    {
     "name": "stderr",
     "output_type": "stream",
     "text": [
      "\r",
      "Processing:  74%|████████████████████████████████████████████████████████████████▍                      | 74/100 [5:41:04<2:01:16, 279.86s/it]"
     ]
    },
    {
     "name": "stderr",
     "output_type": "stream",
     "text": [
      "\r",
      "Processing:  75%|█████████████████████████████████████████████████████████████████▎                     | 75/100 [5:45:39<1:56:03, 278.53s/it]"
     ]
    },
    {
     "name": "stderr",
     "output_type": "stream",
     "text": [
      "\r",
      "Processing:  76%|██████████████████████████████████████████████████████████████████                     | 76/100 [5:50:20<1:51:38, 279.11s/it]"
     ]
    },
    {
     "name": "stderr",
     "output_type": "stream",
     "text": [
      "\r",
      "Processing:  77%|██████████████████████████████████████████████████████████████████▉                    | 77/100 [5:55:01<1:47:11, 279.64s/it]"
     ]
    },
    {
     "name": "stderr",
     "output_type": "stream",
     "text": [
      "\r",
      "Processing:  78%|███████████████████████████████████████████████████████████████████▊                   | 78/100 [5:59:35<1:41:53, 277.91s/it]"
     ]
    },
    {
     "name": "stderr",
     "output_type": "stream",
     "text": [
      "\r",
      "Processing:  79%|████████████████████████████████████████████████████████████████████▋                  | 79/100 [6:04:24<1:38:27, 281.32s/it]"
     ]
    },
    {
     "name": "stderr",
     "output_type": "stream",
     "text": [
      "\r",
      "Processing:  80%|█████████████████████████████████████████████████████████████████████▌                 | 80/100 [6:09:01<1:33:20, 280.01s/it]"
     ]
    },
    {
     "name": "stderr",
     "output_type": "stream",
     "text": [
      "\r",
      "Processing:  81%|██████████████████████████████████████████████████████████████████████▍                | 81/100 [6:13:31<1:27:42, 276.97s/it]"
     ]
    },
    {
     "name": "stderr",
     "output_type": "stream",
     "text": [
      "\r",
      "Processing:  82%|███████████████████████████████████████████████████████████████████████▎               | 82/100 [6:18:06<1:22:57, 276.51s/it]"
     ]
    },
    {
     "name": "stderr",
     "output_type": "stream",
     "text": [
      "\r",
      "Processing:  83%|████████████████████████████████████████████████████████████████████████▏              | 83/100 [6:22:43<1:18:23, 276.69s/it]"
     ]
    },
    {
     "name": "stderr",
     "output_type": "stream",
     "text": [
      "\r",
      "Processing:  84%|█████████████████████████████████████████████████████████████████████████              | 84/100 [6:27:40<1:15:24, 282.77s/it]"
     ]
    },
    {
     "name": "stderr",
     "output_type": "stream",
     "text": [
      "\r",
      "Processing:  85%|█████████████████████████████████████████████████████████████████████████▉             | 85/100 [6:32:12<1:09:50, 279.34s/it]"
     ]
    },
    {
     "name": "stderr",
     "output_type": "stream",
     "text": [
      "\r",
      "Processing:  86%|██████████████████████████████████████████████████████████████████████████▊            | 86/100 [6:36:49<1:05:02, 278.74s/it]"
     ]
    },
    {
     "name": "stderr",
     "output_type": "stream",
     "text": [
      "\r",
      "Processing:  87%|███████████████████████████████████████████████████████████████████████████▋           | 87/100 [6:41:24<1:00:09, 277.67s/it]"
     ]
    },
    {
     "name": "stderr",
     "output_type": "stream",
     "text": [
      "\r",
      "Processing:  88%|██████████████████████████████████████████████████████████████████████████████▎          | 88/100 [6:46:00<55:24, 277.01s/it]"
     ]
    },
    {
     "name": "stderr",
     "output_type": "stream",
     "text": [
      "\r",
      "Processing:  89%|███████████████████████████████████████████████████████████████████████████████▏         | 89/100 [6:50:38<50:51, 277.37s/it]"
     ]
    },
    {
     "name": "stderr",
     "output_type": "stream",
     "text": [
      "\r",
      "Processing:  90%|████████████████████████████████████████████████████████████████████████████████         | 90/100 [6:55:21<46:31, 279.12s/it]"
     ]
    },
    {
     "name": "stderr",
     "output_type": "stream",
     "text": [
      "\r",
      "Processing:  91%|████████████████████████████████████████████████████████████████████████████████▉        | 91/100 [6:59:56<41:40, 277.80s/it]"
     ]
    },
    {
     "name": "stderr",
     "output_type": "stream",
     "text": [
      "\r",
      "Processing:  92%|█████████████████████████████████████████████████████████████████████████████████▉       | 92/100 [7:04:34<37:02, 277.84s/it]"
     ]
    },
    {
     "name": "stderr",
     "output_type": "stream",
     "text": [
      "\r",
      "Processing:  93%|██████████████████████████████████████████████████████████████████████████████████▊      | 93/100 [7:09:04<32:09, 275.63s/it]"
     ]
    },
    {
     "name": "stderr",
     "output_type": "stream",
     "text": [
      "\r",
      "Processing:  94%|███████████████████████████████████████████████████████████████████████████████████▋     | 94/100 [7:13:38<27:29, 275.00s/it]"
     ]
    },
    {
     "name": "stderr",
     "output_type": "stream",
     "text": [
      "\r",
      "Processing:  95%|████████████████████████████████████████████████████████████████████████████████████▌    | 95/100 [7:18:11<22:51, 274.40s/it]"
     ]
    },
    {
     "name": "stderr",
     "output_type": "stream",
     "text": [
      "\r",
      "Processing:  96%|█████████████████████████████████████████████████████████████████████████████████████▍   | 96/100 [7:22:46<18:18, 274.60s/it]"
     ]
    },
    {
     "name": "stderr",
     "output_type": "stream",
     "text": [
      "\r",
      "Processing:  97%|██████████████████████████████████████████████████████████████████████████████████████▎  | 97/100 [7:27:22<13:45, 275.11s/it]"
     ]
    },
    {
     "name": "stderr",
     "output_type": "stream",
     "text": [
      "\r",
      "Processing:  98%|███████████████████████████████████████████████████████████████████████████████████████▏ | 98/100 [7:32:00<09:11, 275.98s/it]"
     ]
    },
    {
     "name": "stderr",
     "output_type": "stream",
     "text": [
      "\r",
      "Processing:  99%|████████████████████████████████████████████████████████████████████████████████████████ | 99/100 [7:36:48<04:39, 279.48s/it]"
     ]
    },
    {
     "name": "stderr",
     "output_type": "stream",
     "text": [
      "\r",
      "Processing: 100%|████████████████████████████████████████████████████████████████████████████████████████| 100/100 [7:41:46<00:00, 285.04s/it]"
     ]
    },
    {
     "name": "stderr",
     "output_type": "stream",
     "text": [
      "\r",
      "Processing: 100%|████████████████████████████████████████████████████████████████████████████████████████| 100/100 [7:41:46<00:00, 277.06s/it]"
     ]
    },
    {
     "name": "stderr",
     "output_type": "stream",
     "text": [
      "\n"
     ]
    }
   ],
   "source": [
    "t = 100\n",
    "k = 4\n",
    "test_types=[None,\"ACAT\"]\n",
    "dfs = []\n",
    "for n in [200,400,800,1600,2400,3200,4000,4800,5600]:\n",
    "    re = simus(n,t,k=k,test_types=test_types)\n",
    "    df = re.copy()\n",
    "    new_row = df.sum(axis=0)\n",
    "    df.loc[len(df)] = new_row\n",
    "    df.index = df.index[:-1].tolist() + ['SUM'] \n",
    "    dfs.append(df)"
   ]
  },
  {
   "cell_type": "code",
   "execution_count": 3,
   "metadata": {
    "ExecutionIndicator": {
     "show": false
    },
    "execution": {
     "iopub.execute_input": "2024-12-10T01:49:00.914797Z",
     "iopub.status.busy": "2024-12-10T01:49:00.914204Z",
     "iopub.status.idle": "2024-12-10T01:49:01.106240Z",
     "shell.execute_reply": "2024-12-10T01:49:01.105092Z"
    },
    "tags": []
   },
   "outputs": [
    {
     "data": {
      "image/png": "[encoded data removed]",
      "text/plain": [
       "<Figure size 2000x600 with 1 Axes>"
      ]
     },
     "metadata": {},
     "output_type": "display_data"
    }
   ],
   "source": [
    "x = [200,400,800,1600,2400,3200,4000,4800,5600]\n",
    "col1_values = [df.iloc[-1, 0] for df in dfs]\n",
    "col2_values = [df.iloc[-1, 1] for df in dfs]\n",
    "\n",
    "plt.figure(figsize=(20, 6),dpi=100)\n",
    "plt.plot(x, col1_values, label=\"None\", marker=\"o\")  # 绘制col1数据\n",
    "plt.plot(x, col2_values, label=\"ACAT\", marker=\"s\")  # 绘制col2数据\n",
    "\n",
    "plt.legend()\n",
    "plt.grid(True)\n",
    "plt.show()"
   ]
  }
 ],
 "metadata": {
  "kernelspec": {
   "display_name": "Python 3 (ipykernel)",
   "language": "python",
   "name": "python3"
  },
  "language_info": {
   "codemirror_mode": {
    "name": "ipython",
    "version": 3
   },
   "file_extension": ".py",
   "mimetype": "text/x-python",
   "name": "python",
   "nbconvert_exporter": "python",
   "pygments_lexer": "ipython3",
   "version": "3.11.10"
  }
 },
 "nbformat": 4,
 "nbformat_minor": 4
}
