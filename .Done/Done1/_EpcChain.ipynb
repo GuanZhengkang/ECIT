{
 "cells": [
  {
   "cell_type": "code",
   "execution_count": 1,
   "metadata": {},
   "outputs": [],
   "source": [
    "import numpy as np\n",
    "import matplotlib.pyplot as plt\n",
    "from tqdm import tqdm\n",
    "from collections import Counter\n",
    "\n",
    "from causallearn.search.ConstraintBased.PC import pc\n",
    "from causallearn.utils.cit import kci\n",
    "\n",
    "from epc import epc"
   ]
  },
  {
   "cell_type": "code",
   "execution_count": 2,
   "metadata": {},
   "outputs": [],
   "source": [
    "def gdata(n):\n",
    "    \"\"\"\n",
    "    Generate data based on a causal chain: A -> B -> C -> D -> E.\n",
    "\n",
    "    Args:\n",
    "        n (int): Number of samples.\n",
    "\n",
    "    Returns:\n",
    "        np.ndarray: A dataset with columns [A, B, C, D, E].\n",
    "    \"\"\"\n",
    "    def random_nonlinear_function(x, function_type):\n",
    "        \"\"\"Applies a nonlinear transformation based on the specified type.\"\"\"\n",
    "        if function_type == \"linear\":\n",
    "            return x\n",
    "        elif function_type == \"cubic\":\n",
    "            return x ** 3\n",
    "        elif function_type == \"tanh\":\n",
    "            return np.tanh(x)\n",
    "        else:\n",
    "            raise ValueError(\"Unsupported function type\")\n",
    "\n",
    "    # Define random nonlinear transformation types for each causal relationship\n",
    "    F_type_A = np.random.choice([\"linear\", \"cubic\", \"tanh\"])\n",
    "    F_type_B = np.random.choice([\"linear\", \"cubic\", \"tanh\"])\n",
    "    F_type_C = np.random.choice([\"linear\", \"cubic\", \"tanh\"])\n",
    "    F_type_D = np.random.choice([\"linear\", \"cubic\", \"tanh\"])\n",
    "    F_type_E = np.random.choice([\"linear\", \"cubic\", \"tanh\"])\n",
    "\n",
    "    # Generate noise for each variable\n",
    "    E_A = np.random.normal(0, 1, n)\n",
    "    E_B = np.random.normal(0, 1, n)\n",
    "    E_C = np.random.normal(0, 1, n)\n",
    "    E_D = np.random.normal(0, 1, n)\n",
    "    E_E = np.random.normal(0, 1, n)\n",
    "\n",
    "    # Generate data for each variable in the causal chain\n",
    "    A = np.random.normal(0, 3, n)  # A is the root cause, no parents\n",
    "    B = random_nonlinear_function(A + E_B, F_type_B)\n",
    "    C = random_nonlinear_function(B + E_C, F_type_C)\n",
    "    D = random_nonlinear_function(C + E_D, F_type_D)\n",
    "    E = random_nonlinear_function(D + E_E, F_type_E)\n",
    "\n",
    "    # Standardize each variable\n",
    "    A = (A - np.mean(A)) / np.std(A)\n",
    "    B = (B - np.mean(B)) / np.std(B)\n",
    "    C = (C - np.mean(C)) / np.std(C)\n",
    "    D = (D - np.mean(D)) / np.std(D)\n",
    "    E = (E - np.mean(E)) / np.std(E)\n",
    "\n",
    "    # Combine data into a single array\n",
    "    data = np.array([A, B, C, D, E]).T\n",
    "\n",
    "    return data\n",
    "\n",
    "\n",
    "truSk = np.array([[ 0,  1,  0,  0,  0],  # A -> B\n",
    "                  [ 1,  0,  1,  0,  0],  # B -> C\n",
    "                  [ 0,  1,  0,  1,  0],  # C -> D\n",
    "                  [ 0,  0,  1,  0,  1],  # D -> E\n",
    "                  [ 0,  0,  0,  1,  0]]) # No outgoing edge from E"
   ]
  },
  {
   "cell_type": "code",
   "execution_count": 4,
   "metadata": {},
   "outputs": [
    {
     "name": "stderr",
     "output_type": "stream",
     "text": [
      "Processing: 100%|██████████| 500/500 [3:03:20<00:00, 22.00s/it]  \n"
     ]
    },
    {
     "data": {
      "text/plain": [
       "0.502"
      ]
     },
     "execution_count": 4,
     "metadata": {},
     "output_type": "execute_result"
    }
   ],
   "source": [
    "t = 500\n",
    "n = 800\n",
    "err = 0\n",
    "\n",
    "for i in tqdm(range(t), desc=\"Processing\"):\n",
    "    np.random.seed(i)\n",
    "    data = gdata(n)\n",
    "    cg = pc(data, 0.01, kci, show_progress=False)\n",
    "    sk = np.abs(cg.G.graph)\n",
    "    if not np.all(np.abs(sk) == truSk):\n",
    "        err += 1\n",
    "err/t"
   ]
  },
  {
   "cell_type": "code",
   "execution_count": null,
   "metadata": {},
   "outputs": [
    {
     "name": "stderr",
     "output_type": "stream",
     "text": [
      "Processing: 100%|██████████| 100/100 [20:06<00:00, 12.06s/it]\n"
     ]
    },
    {
     "data": {
      "text/plain": [
       "0.54"
      ]
     },
     "execution_count": 5,
     "metadata": {},
     "output_type": "execute_result"
    }
   ],
   "source": [
    "t = 100\n",
    "n = 800\n",
    "err_e = 0\n",
    "\n",
    "for i in tqdm(range(t), desc=\"Processing\"):\n",
    "    np.random.seed(i)\n",
    "    data = gdata(n)\n",
    "    ecg = epc(data, 0.01, \"Gamma\", 4, show_progress=False)\n",
    "    esk =np.abs(ecg.G.graph)\n",
    "    if not np.all(np.abs(esk) == truSk):\n",
    "        err_e += 1\n",
    "err_e/t"
   ]
  },
  {
   "cell_type": "code",
   "execution_count": 8,
   "metadata": {},
   "outputs": [
    {
     "name": "stderr",
     "output_type": "stream",
     "text": [
      "Processing: 100%|██████████| 100/100 [07:02<00:00,  4.22s/it]\n"
     ]
    },
    {
     "data": {
      "text/plain": [
       "0.56"
      ]
     },
     "execution_count": 8,
     "metadata": {},
     "output_type": "execute_result"
    }
   ],
   "source": [
    "t = 100\n",
    "n = 800\n",
    "err_e = 0\n",
    "\n",
    "for i in tqdm(range(t), desc=\"Processing\"):\n",
    "    np.random.seed(i)\n",
    "    data = gdata(n)\n",
    "    ecg = epc(data, 0.01, \"Gamma\", 16, show_progress=False)\n",
    "    esk =np.abs(ecg.G.graph)\n",
    "    if not np.all(np.abs(esk) == truSk):\n",
    "        err_e += 1\n",
    "err_e/t"
   ]
  },
  {
   "cell_type": "code",
   "execution_count": null,
   "metadata": {},
   "outputs": [],
   "source": [
    "t = 100\n",
    "n = 800\n",
    "err_e = 0\n",
    "\n",
    "for i in tqdm(range(t), desc=\"Processing\"):\n",
    "    np.random.seed(i)\n",
    "    data = gdata(n)\n",
    "    ecg = epc(data, 0.01, \"ACAT\", 4, show_progress=False)\n",
    "    esk =np.abs(ecg.G.graph)\n",
    "    if not np.all(np.abs(esk) == truSk):\n",
    "        err_e += 1\n",
    "err_e/t"
   ]
  }
 ],
 "metadata": {
  "kernelspec": {
   "display_name": "graph",
   "language": "python",
   "name": "python3"
  },
  "language_info": {
   "codemirror_mode": {
    "name": "ipython",
    "version": 3
   },
   "file_extension": ".py",
   "mimetype": "text/x-python",
   "name": "python",
   "nbconvert_exporter": "python",
   "pygments_lexer": "ipython3",
   "version": "3.12.3"
  }
 },
 "nbformat": 4,
 "nbformat_minor": 2
}
