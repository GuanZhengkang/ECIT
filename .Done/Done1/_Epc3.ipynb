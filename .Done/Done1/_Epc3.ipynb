{
 "cells": [
  {
   "cell_type": "code",
   "execution_count": null,
   "metadata": {},
   "outputs": [],
   "source": [
    "import numpy as np\n",
    "import matplotlib.pyplot as plt\n",
    "from tqdm import tqdm\n",
    "from collections import Counter\n",
    "\n",
    "from causallearn.search.ConstraintBased.PC import pc\n",
    "from causallearn.utils.cit import kci\n",
    "\n",
    "from epc import epc"
   ]
  },
  {
   "cell_type": "code",
   "execution_count": null,
   "metadata": {},
   "outputs": [],
   "source": [
    "import numpy as np\n",
    "\n",
    "def generate_causal_chain_data(n):\n",
    "    \"\"\"\n",
    "    Generate data based on a causal chain: A -> B -> C -> D -> E.\n",
    "\n",
    "    Args:\n",
    "        n (int): Number of samples.\n",
    "\n",
    "    Returns:\n",
    "        np.ndarray: A dataset with columns [A, B, C, D, E].\n",
    "    \"\"\"\n",
    "    def random_nonlinear_function(x, function_type):\n",
    "        \"\"\"Applies a nonlinear transformation based on the specified type.\"\"\"\n",
    "        if function_type == \"linear\":\n",
    "            return x\n",
    "        elif function_type == \"cubic\":\n",
    "            return x ** 3\n",
    "        elif function_type == \"tanh\":\n",
    "            return np.tanh(x)\n",
    "        else:\n",
    "            raise ValueError(\"Unsupported function type\")\n",
    "\n",
    "    # Define random nonlinear transformation types for each causal relationship\n",
    "    F_type_A = np.random.choice([\"linear\", \"cubic\", \"tanh\"])\n",
    "    F_type_B = np.random.choice([\"linear\", \"cubic\", \"tanh\"])\n",
    "    F_type_C = np.random.choice([\"linear\", \"cubic\", \"tanh\"])\n",
    "    F_type_D = np.random.choice([\"linear\", \"cubic\", \"tanh\"])\n",
    "    F_type_E = np.random.choice([\"linear\", \"cubic\", \"tanh\"])\n",
    "\n",
    "    # Generate noise for each variable\n",
    "    E_A = np.random.normal(0, 1, n)\n",
    "    E_B = np.random.normal(0, 1, n)\n",
    "    E_C = np.random.normal(0, 1, n)\n",
    "    E_D = np.random.normal(0, 1, n)\n",
    "    E_E = np.random.normal(0, 1, n)\n",
    "\n",
    "    # Generate data for each variable in the causal chain\n",
    "    A = np.random.normal(0, 3, n)  # A is the root cause, no parents\n",
    "    B = random_nonlinear_function(A + E_B, F_type_B)\n",
    "    C = random_nonlinear_function(B + E_C, F_type_C)\n",
    "    D = random_nonlinear_function(C + E_D, F_type_D)\n",
    "    E = random_nonlinear_function(D + E_E, F_type_E)\n",
    "\n",
    "    # Standardize each variable\n",
    "    A = (A - np.mean(A)) / np.std(A)\n",
    "    B = (B - np.mean(B)) / np.std(B)\n",
    "    C = (C - np.mean(C)) / np.std(C)\n",
    "    D = (D - np.mean(D)) / np.std(D)\n",
    "    E = (E - np.mean(E)) / np.std(E)\n",
    "\n",
    "    # Combine data into a single array\n",
    "    data = np.array([A, B, C, D, E]).T\n",
    "\n",
    "    return data\n",
    "\n",
    "\n",
    "truSk = np.array([[ 0,  1,  0,  0,  0],  # A -> B\n",
    "                  [-1,  0,  1,  0,  0],  # B -> C\n",
    "                  [ 0, -1,  0,  1,  0],  # C -> D\n",
    "                  [ 0,  0, -1,  0,  1],  # D -> E\n",
    "                  [ 0,  0,  0, -1,  0]]) # No outgoing edge from E"
   ]
  },
  {
   "cell_type": "code",
   "execution_count": null,
   "metadata": {},
   "outputs": [],
   "source": [
    "def gdata(n):\n",
    "    \n",
    "    Z = np.random.normal(0, 3, n)\n",
    "\n",
    "    def random_nonlinear_function(x, function_type):\n",
    "        if function_type == \"linear\":\n",
    "            return x\n",
    "        elif function_type == \"cubic\":\n",
    "            return x**3\n",
    "        elif function_type == \"tanh\":\n",
    "            return np.tanh(x)\n",
    "        else:\n",
    "            raise ValueError(\"Unsupported function type\")\n",
    "\n",
    "    F_type = np.random.choice([\"linear\", \"cubic\", \"tanh\"])\n",
    "    G_type = np.random.choice([\"linear\", \"cubic\", \"tanh\"])\n",
    "    F_prime_type = np.random.choice([\"linear\", \"cubic\", \"tanh\"])\n",
    "    G_prime_type = np.random.choice([\"linear\", \"cubic\", \"tanh\"])\n",
    "\n",
    "    E_X = np.random.normal(0, 1, n)\n",
    "    E_Y = np.random.normal(0, 1, n)\n",
    "\n",
    "    X = random_nonlinear_function(random_nonlinear_function(Z, F_type) + E_X, G_type)\n",
    "    meanX = np.mean(X)\n",
    "    stdX = np.std(X)\n",
    "    X = (X-meanX)/stdX\n",
    "\n",
    "    Y = random_nonlinear_function(random_nonlinear_function(Z, F_prime_type) + E_Y, G_prime_type)\n",
    "    meanY = np.mean(Y)\n",
    "    stdY = np.std(Y)\n",
    "    Y = (Y-meanY)/stdY\n",
    "\n",
    "    data = np.array([X,Y,Z]).T\n",
    "\n",
    "    return data\n",
    "    \"\"\"\n",
    "    Z->X,Z-Y\n",
    "\n",
    "\n",
    "    cg.G.graph[j,i]=1 and cg.G.graph[i,j]=-1 indicates  i --> j ,\n",
    "    cg.G.graph[i,j] = cg.G.graph[j,i] = -1 indicates i --- j,\n",
    "    cg.G.graph[i,j] = cg.G.graph[j,i] = 1 indicates i <-> j.\n",
    "    \"\"\"\n",
    "\n",
    "\n",
    "truSk = np.array([[0, 0, 1],\n",
    "                  [0, 0, 1],\n",
    "                  [1, 1, 0]])"
   ]
  },
  {
   "cell_type": "code",
   "execution_count": 36,
   "metadata": {},
   "outputs": [],
   "source": [
    "def tepc(data,k):\n",
    "    re = []\n",
    "    shuffled_data = data[np.random.permutation(len(data))]\n",
    "    for sub_data in np.array_split(shuffled_data, k):\n",
    "        cg = pc(sub_data, 0.01, kci, show_progress=False)\n",
    "        sk = np.abs(cg.G.graph)\n",
    "        re.append(sk)\n",
    "\n",
    "    array_as_tuples = [(arr.shape, tuple(arr.flatten())) for arr in re]\n",
    "    counter = Counter(array_as_tuples)\n",
    "    most_common_tuple, count = counter.most_common(1)[0]\n",
    "    most_common_array = np.array(most_common_tuple[1]).reshape(most_common_tuple[0])\n",
    "\n",
    "    return most_common_array"
   ]
  },
  {
   "cell_type": "code",
   "execution_count": 58,
   "metadata": {},
   "outputs": [
    {
     "data": {
      "application/vnd.jupyter.widget-view+json": {
       "model_id": "a2ca17ca444e4c16820a16777e119791",
       "version_major": 2,
       "version_minor": 0
      },
      "text/plain": [
       "  0%|          | 0/5 [00:00<?, ?it/s]"
      ]
     },
     "metadata": {},
     "output_type": "display_data"
    },
    {
     "data": {
      "text/plain": [
       "array([[0, 1, 0, 0, 0],\n",
       "       [1, 0, 1, 0, 0],\n",
       "       [0, 1, 0, 1, 0],\n",
       "       [0, 0, 1, 0, 1],\n",
       "       [0, 0, 0, 1, 0]])"
      ]
     },
     "execution_count": 58,
     "metadata": {},
     "output_type": "execute_result"
    }
   ],
   "source": [
    "t = 10\n",
    "n = 400\n",
    "err = 0\n",
    "\n",
    "\n",
    "data = generate_causal_chain_data(n)\n",
    "cg = pc(data, 0.01, kci)\n",
    "sk = np.abs(cg.G.graph)\n",
    "\n",
    "sk"
   ]
  },
  {
   "cell_type": "code",
   "execution_count": 54,
   "metadata": {},
   "outputs": [
    {
     "name": "stderr",
     "output_type": "stream",
     "text": [
      "Processing:   0%|          | 0/10 [00:04<?, ?it/s]\n"
     ]
    },
    {
     "ename": "ValueError",
     "evalue": "operands could not be broadcast together with shapes (5,5) (3,3) ",
     "output_type": "error",
     "traceback": [
      "\u001b[0;31m---------------------------------------------------------------------------\u001b[0m",
      "\u001b[0;31mValueError\u001b[0m                                Traceback (most recent call last)",
      "Cell \u001b[0;32mIn[54], line 10\u001b[0m\n\u001b[1;32m      8\u001b[0m     cg \u001b[38;5;241m=\u001b[39m pc(data, \u001b[38;5;241m0.01\u001b[39m, kci, show_progress\u001b[38;5;241m=\u001b[39m\u001b[38;5;28;01mFalse\u001b[39;00m)\n\u001b[1;32m      9\u001b[0m     sk \u001b[38;5;241m=\u001b[39m np\u001b[38;5;241m.\u001b[39mabs(cg\u001b[38;5;241m.\u001b[39mG\u001b[38;5;241m.\u001b[39mgraph)\n\u001b[0;32m---> 10\u001b[0m     \u001b[38;5;28;01mif\u001b[39;00m \u001b[38;5;129;01mnot\u001b[39;00m np\u001b[38;5;241m.\u001b[39mall(\u001b[43mnp\u001b[49m\u001b[38;5;241;43m.\u001b[39;49m\u001b[43mabs\u001b[49m\u001b[43m(\u001b[49m\u001b[43msk\u001b[49m\u001b[43m)\u001b[49m\u001b[43m \u001b[49m\u001b[38;5;241;43m==\u001b[39;49m\u001b[43m \u001b[49m\u001b[43mtruSk\u001b[49m):\n\u001b[1;32m     11\u001b[0m         err \u001b[38;5;241m+\u001b[39m\u001b[38;5;241m=\u001b[39m \u001b[38;5;241m1\u001b[39m\n\u001b[1;32m     12\u001b[0m err\u001b[38;5;241m/\u001b[39mt\n",
      "\u001b[0;31mValueError\u001b[0m: operands could not be broadcast together with shapes (5,5) (3,3) "
     ]
    }
   ],
   "source": [
    "t = 10\n",
    "n = 400\n",
    "err = 0\n",
    "\n",
    "for i in tqdm(range(t), desc=\"Processing\"):\n",
    "    np.random.seed(i)\n",
    "    data = generate_causal_chain_data(n)\n",
    "    cg = pc(data, 0.01, kci, show_progress=False)\n",
    "    sk = np.abs(cg.G.graph)\n",
    "    if not np.all(np.abs(sk) == truSk):\n",
    "        err += 1\n",
    "err/t"
   ]
  },
  {
   "cell_type": "code",
   "execution_count": 29,
   "metadata": {},
   "outputs": [
    {
     "name": "stderr",
     "output_type": "stream",
     "text": [
      "Processing: 100%|██████████| 100/100 [00:13<00:00,  7.16it/s]\n"
     ]
    },
    {
     "data": {
      "text/plain": [
       "0.25"
      ]
     },
     "execution_count": 29,
     "metadata": {},
     "output_type": "execute_result"
    }
   ],
   "source": [
    "t = 100\n",
    "n = 200\n",
    "err = 0\n",
    "\n",
    "for i in tqdm(range(t), desc=\"Processing\"):\n",
    "    np.random.seed(i)\n",
    "    data = gdata(n)\n",
    "    cg = pc(data, 0.01, kci, show_progress=False)\n",
    "    sk =np.abs(cg.G.graph)\n",
    "    if not np.all(np.abs(sk) == truSk):\n",
    "        err += 1\n",
    "err/t"
   ]
  },
  {
   "cell_type": "code",
   "execution_count": 33,
   "metadata": {},
   "outputs": [
    {
     "name": "stderr",
     "output_type": "stream",
     "text": [
      "Processing: 100%|██████████| 100/100 [03:12<00:00,  1.93s/it]\n"
     ]
    },
    {
     "data": {
      "text/plain": [
       "0.09"
      ]
     },
     "execution_count": 33,
     "metadata": {},
     "output_type": "execute_result"
    }
   ],
   "source": [
    "t = 100\n",
    "n = 800\n",
    "err = 0\n",
    "\n",
    "for i in tqdm(range(t), desc=\"Processing\"):\n",
    "    np.random.seed(i)\n",
    "    data = gdata(n)\n",
    "    cg = pc(data, 0.01, kci, show_progress=False)\n",
    "    sk =np.abs(cg.G.graph)\n",
    "    if not np.all(np.abs(sk) == truSk):\n",
    "        err += 1\n",
    "err/t"
   ]
  },
  {
   "cell_type": "code",
   "execution_count": 32,
   "metadata": {},
   "outputs": [
    {
     "name": "stderr",
     "output_type": "stream",
     "text": [
      "Processing: 100%|██████████| 100/100 [00:36<00:00,  2.73it/s]\n"
     ]
    },
    {
     "data": {
      "text/plain": [
       "0.28"
      ]
     },
     "execution_count": 32,
     "metadata": {},
     "output_type": "execute_result"
    }
   ],
   "source": [
    "t = 100\n",
    "n = 400\n",
    "err_e = 0\n",
    "\n",
    "for i in tqdm(range(t), desc=\"Processing\"):\n",
    "    np.random.seed(i)\n",
    "    data = gdata(n)\n",
    "    ecg = epc(data, 0.01, \"Gamma\", 4, show_progress=False)\n",
    "    esk =np.abs(ecg.G.graph)\n",
    "    if not np.all(np.abs(esk) == truSk):\n",
    "        err_e += 1\n",
    "err_e/t"
   ]
  },
  {
   "cell_type": "code",
   "execution_count": 41,
   "metadata": {},
   "outputs": [
    {
     "name": "stderr",
     "output_type": "stream",
     "text": [
      "Processing: 100%|██████████| 100/100 [07:14<00:00,  4.34s/it]\n"
     ]
    },
    {
     "data": {
      "text/plain": [
       "0.12"
      ]
     },
     "execution_count": 41,
     "metadata": {},
     "output_type": "execute_result"
    }
   ],
   "source": [
    "t = 100\n",
    "n = 1600\n",
    "err_e = 0\n",
    "\n",
    "for i in tqdm(range(t), desc=\"Processing\"):\n",
    "    np.random.seed(i)\n",
    "    data = gdata(n)\n",
    "    ecg = epc(data, 0.01, \"ACAT\", 4, show_progress=False)\n",
    "    esk =np.abs(ecg.G.graph)\n",
    "    if not np.all(np.abs(esk) == truSk):\n",
    "        err_e += 1\n",
    "err_e/t"
   ]
  },
  {
   "cell_type": "code",
   "execution_count": 40,
   "metadata": {},
   "outputs": [
    {
     "name": "stderr",
     "output_type": "stream",
     "text": [
      "Processing: 100%|██████████| 100/100 [03:36<00:00,  2.16s/it]\n"
     ]
    },
    {
     "data": {
      "text/plain": [
       "0.18"
      ]
     },
     "execution_count": 40,
     "metadata": {},
     "output_type": "execute_result"
    }
   ],
   "source": [
    "t = 100\n",
    "n = 1600\n",
    "err_e = 0\n",
    "\n",
    "for i in tqdm(range(t), desc=\"Processing\"):\n",
    "    np.random.seed(i)\n",
    "    data = gdata(n)\n",
    "    esk = tepc(data, 4)\n",
    "    if not np.all(np.abs(esk) == truSk):\n",
    "        err_e += 1\n",
    "err_e/t"
   ]
  },
  {
   "cell_type": "code",
   "execution_count": 42,
   "metadata": {},
   "outputs": [
    {
     "name": "stderr",
     "output_type": "stream",
     "text": [
      "Processing: 100%|██████████| 100/100 [15:27<00:00,  9.28s/it]\n"
     ]
    },
    {
     "data": {
      "text/plain": [
       "0.1"
      ]
     },
     "execution_count": 42,
     "metadata": {},
     "output_type": "execute_result"
    }
   ],
   "source": [
    "t = 100\n",
    "n = 1600\n",
    "err = 0\n",
    "\n",
    "for i in tqdm(range(t), desc=\"Processing\"):\n",
    "    np.random.seed(i)\n",
    "    data = gdata(n)\n",
    "    cg = pc(data, 0.01, kci, show_progress=False)\n",
    "    sk =np.abs(cg.G.graph)\n",
    "    if not np.all(np.abs(sk) == truSk):\n",
    "        err += 1\n",
    "err/t"
   ]
  },
  {
   "cell_type": "code",
   "execution_count": 43,
   "metadata": {},
   "outputs": [
    {
     "name": "stderr",
     "output_type": "stream",
     "text": [
      "Processing: 100%|██████████| 100/100 [03:27<00:00,  2.07s/it]\n"
     ]
    },
    {
     "data": {
      "text/plain": [
       "0.16"
      ]
     },
     "execution_count": 43,
     "metadata": {},
     "output_type": "execute_result"
    }
   ],
   "source": [
    "t = 100\n",
    "n = 1600\n",
    "err_e = 0\n",
    "\n",
    "for i in tqdm(range(t), desc=\"Processing\"):\n",
    "    np.random.seed(i)\n",
    "    data = gdata(n)\n",
    "    ecg = epc(data, 0.01, \"Gamma\", 8, show_progress=False)\n",
    "    esk =np.abs(ecg.G.graph)\n",
    "    if not np.all(np.abs(esk) == truSk):\n",
    "        err_e += 1\n",
    "err_e/t"
   ]
  },
  {
   "cell_type": "code",
   "execution_count": null,
   "metadata": {},
   "outputs": [
    {
     "name": "stderr",
     "output_type": "stream",
     "text": [
      "Processing: 100%|██████████| 100/100 [13:43<00:00,  8.23s/it]\n"
     ]
    },
    {
     "data": {
      "text/plain": [
       "0.16"
      ]
     },
     "execution_count": 23,
     "metadata": {},
     "output_type": "execute_result"
    }
   ],
   "source": [
    "t = 100\n",
    "n = 1600\n",
    "err_e = 0\n",
    "\n",
    "for i in tqdm(range(t), desc=\"Processing\"):\n",
    "    np.random.seed(i)\n",
    "    data = gdata(n)\n",
    "    ecg = epc(data, 0.01, \"ACAT\", 8, show_progress=False)\n",
    "    esk =np.abs(ecg.G.graph)\n",
    "    if not np.all(np.abs(esk) == truSk):\n",
    "        err_e += 1\n",
    "err_e/t"
   ]
  },
  {
   "cell_type": "code",
   "execution_count": 46,
   "metadata": {},
   "outputs": [
    {
     "name": "stderr",
     "output_type": "stream",
     "text": [
      "Processing:  24%|██▍       | 241/1000 [36:03<1:53:33,  8.98s/it]\n"
     ]
    },
    {
     "ename": "KeyboardInterrupt",
     "evalue": "",
     "output_type": "error",
     "traceback": [
      "\u001b[0;31m---------------------------------------------------------------------------\u001b[0m",
      "\u001b[0;31mKeyboardInterrupt\u001b[0m                         Traceback (most recent call last)",
      "Cell \u001b[0;32mIn[46], line 8\u001b[0m\n\u001b[1;32m      6\u001b[0m np\u001b[38;5;241m.\u001b[39mrandom\u001b[38;5;241m.\u001b[39mseed(i)\n\u001b[1;32m      7\u001b[0m data \u001b[38;5;241m=\u001b[39m gdata(n)\n\u001b[0;32m----> 8\u001b[0m ecg \u001b[38;5;241m=\u001b[39m \u001b[43mepc\u001b[49m\u001b[43m(\u001b[49m\u001b[43mdata\u001b[49m\u001b[43m,\u001b[49m\u001b[43m \u001b[49m\u001b[38;5;241;43m0.01\u001b[39;49m\u001b[43m,\u001b[49m\u001b[43m \u001b[49m\u001b[38;5;124;43m\"\u001b[39;49m\u001b[38;5;124;43mACAT\u001b[39;49m\u001b[38;5;124;43m\"\u001b[39;49m\u001b[43m,\u001b[49m\u001b[43m \u001b[49m\u001b[38;5;241;43m8\u001b[39;49m\u001b[43m,\u001b[49m\u001b[43m \u001b[49m\u001b[43mshow_progress\u001b[49m\u001b[38;5;241;43m=\u001b[39;49m\u001b[38;5;28;43;01mFalse\u001b[39;49;00m\u001b[43m)\u001b[49m\n\u001b[1;32m      9\u001b[0m esk \u001b[38;5;241m=\u001b[39mnp\u001b[38;5;241m.\u001b[39mabs(ecg\u001b[38;5;241m.\u001b[39mG\u001b[38;5;241m.\u001b[39mgraph)\n\u001b[1;32m     10\u001b[0m \u001b[38;5;28;01mif\u001b[39;00m \u001b[38;5;129;01mnot\u001b[39;00m np\u001b[38;5;241m.\u001b[39mall(np\u001b[38;5;241m.\u001b[39mabs(esk) \u001b[38;5;241m==\u001b[39m truSk):\n",
      "File \u001b[0;32m~/Library/Mobile Documents/iCloud~md~obsidian/Documents/CD/_Project/Ensemble KCIT/code/epc.py:51\u001b[0m, in \u001b[0;36mepc\u001b[0;34m(data, alpha, typ, k, indep_test, stable, uc_rule, uc_priority, mvpc, correction_name, background_knowledge, verbose, show_progress, node_names, **kwargs)\u001b[0m\n\u001b[1;32m     46\u001b[0m     \u001b[38;5;28;01mreturn\u001b[39;00m mvpc_alg(data\u001b[38;5;241m=\u001b[39mdata, node_names\u001b[38;5;241m=\u001b[39mnode_names, alpha\u001b[38;5;241m=\u001b[39malpha, indep_test\u001b[38;5;241m=\u001b[39mindep_test, correction_name\u001b[38;5;241m=\u001b[39mcorrection_name, stable\u001b[38;5;241m=\u001b[39mstable,\n\u001b[1;32m     47\u001b[0m                     uc_rule\u001b[38;5;241m=\u001b[39muc_rule, uc_priority\u001b[38;5;241m=\u001b[39muc_priority, background_knowledge\u001b[38;5;241m=\u001b[39mbackground_knowledge,\n\u001b[1;32m     48\u001b[0m                     verbose\u001b[38;5;241m=\u001b[39mverbose,\n\u001b[1;32m     49\u001b[0m                     show_progress\u001b[38;5;241m=\u001b[39mshow_progress, \u001b[38;5;241m*\u001b[39m\u001b[38;5;241m*\u001b[39mkwargs)\n\u001b[1;32m     50\u001b[0m \u001b[38;5;28;01melse\u001b[39;00m:\n\u001b[0;32m---> 51\u001b[0m     \u001b[38;5;28;01mreturn\u001b[39;00m \u001b[43mpc_alg\u001b[49m\u001b[43m(\u001b[49m\u001b[43mdata\u001b[49m\u001b[38;5;241;43m=\u001b[39;49m\u001b[43mdata\u001b[49m\u001b[43m,\u001b[49m\u001b[43m \u001b[49m\u001b[43mnode_names\u001b[49m\u001b[38;5;241;43m=\u001b[39;49m\u001b[43mnode_names\u001b[49m\u001b[43m,\u001b[49m\u001b[43m \u001b[49m\u001b[43malpha\u001b[49m\u001b[38;5;241;43m=\u001b[39;49m\u001b[43malpha\u001b[49m\u001b[43m,\u001b[49m\u001b[43m \u001b[49m\u001b[43mtyp\u001b[49m\u001b[38;5;241;43m=\u001b[39;49m\u001b[43mtyp\u001b[49m\u001b[43m,\u001b[49m\u001b[43m \u001b[49m\u001b[43mk\u001b[49m\u001b[38;5;241;43m=\u001b[39;49m\u001b[43mk\u001b[49m\u001b[43m,\u001b[49m\u001b[43m \u001b[49m\u001b[43mindep_test\u001b[49m\u001b[38;5;241;43m=\u001b[39;49m\u001b[43mindep_test\u001b[49m\u001b[43m,\u001b[49m\u001b[43m \u001b[49m\u001b[43mstable\u001b[49m\u001b[38;5;241;43m=\u001b[39;49m\u001b[43mstable\u001b[49m\u001b[43m,\u001b[49m\u001b[43m \u001b[49m\u001b[43muc_rule\u001b[49m\u001b[38;5;241;43m=\u001b[39;49m\u001b[43muc_rule\u001b[49m\u001b[43m,\u001b[49m\n\u001b[1;32m     52\u001b[0m \u001b[43m                  \u001b[49m\u001b[43muc_priority\u001b[49m\u001b[38;5;241;43m=\u001b[39;49m\u001b[43muc_priority\u001b[49m\u001b[43m,\u001b[49m\u001b[43m \u001b[49m\u001b[43mbackground_knowledge\u001b[49m\u001b[38;5;241;43m=\u001b[39;49m\u001b[43mbackground_knowledge\u001b[49m\u001b[43m,\u001b[49m\u001b[43m \u001b[49m\u001b[43mverbose\u001b[49m\u001b[38;5;241;43m=\u001b[39;49m\u001b[43mverbose\u001b[49m\u001b[43m,\u001b[49m\n\u001b[1;32m     53\u001b[0m \u001b[43m                  \u001b[49m\u001b[43mshow_progress\u001b[49m\u001b[38;5;241;43m=\u001b[39;49m\u001b[43mshow_progress\u001b[49m\u001b[43m,\u001b[49m\u001b[43m \u001b[49m\u001b[38;5;241;43m*\u001b[39;49m\u001b[38;5;241;43m*\u001b[39;49m\u001b[43mkwargs\u001b[49m\u001b[43m)\u001b[49m\n",
      "File \u001b[0;32m~/Library/Mobile Documents/iCloud~md~obsidian/Documents/CD/_Project/Ensemble KCIT/code/epc.py:111\u001b[0m, in \u001b[0;36mpc_alg\u001b[0;34m(data, node_names, alpha, typ, k, indep_test, stable, uc_rule, uc_priority, background_knowledge, verbose, show_progress, **kwargs)\u001b[0m\n\u001b[1;32m    109\u001b[0m start \u001b[38;5;241m=\u001b[39m time\u001b[38;5;241m.\u001b[39mtime()\n\u001b[1;32m    110\u001b[0m indep_test \u001b[38;5;241m=\u001b[39m ECIT(data, alpha, typ, k)\n\u001b[0;32m--> 111\u001b[0m cg_1 \u001b[38;5;241m=\u001b[39m \u001b[43mSkeletonDiscovery\u001b[49m\u001b[38;5;241;43m.\u001b[39;49m\u001b[43mskeleton_discovery\u001b[49m\u001b[43m(\u001b[49m\u001b[43mdata\u001b[49m\u001b[43m,\u001b[49m\u001b[43m \u001b[49m\u001b[43malpha\u001b[49m\u001b[43m,\u001b[49m\u001b[43m \u001b[49m\u001b[43mindep_test\u001b[49m\u001b[43m,\u001b[49m\u001b[43m \u001b[49m\u001b[43mstable\u001b[49m\u001b[43m,\u001b[49m\n\u001b[1;32m    112\u001b[0m \u001b[43m                                            \u001b[49m\u001b[43mbackground_knowledge\u001b[49m\u001b[38;5;241;43m=\u001b[39;49m\u001b[43mbackground_knowledge\u001b[49m\u001b[43m,\u001b[49m\u001b[43m \u001b[49m\u001b[43mverbose\u001b[49m\u001b[38;5;241;43m=\u001b[39;49m\u001b[43mverbose\u001b[49m\u001b[43m,\u001b[49m\n\u001b[1;32m    113\u001b[0m \u001b[43m                                            \u001b[49m\u001b[43mshow_progress\u001b[49m\u001b[38;5;241;43m=\u001b[39;49m\u001b[43mshow_progress\u001b[49m\u001b[43m,\u001b[49m\u001b[43m \u001b[49m\u001b[43mnode_names\u001b[49m\u001b[38;5;241;43m=\u001b[39;49m\u001b[43mnode_names\u001b[49m\u001b[43m)\u001b[49m\n\u001b[1;32m    115\u001b[0m \u001b[38;5;28;01mif\u001b[39;00m background_knowledge \u001b[38;5;129;01mis\u001b[39;00m \u001b[38;5;129;01mnot\u001b[39;00m \u001b[38;5;28;01mNone\u001b[39;00m:\n\u001b[1;32m    116\u001b[0m     orient_by_background_knowledge(cg_1, background_knowledge)\n",
      "File \u001b[0;32m~/anaconda3/envs/graph/lib/python3.12/site-packages/causallearn/utils/PCUtils/SkeletonDiscovery.py:101\u001b[0m, in \u001b[0;36mskeleton_discovery\u001b[0;34m(data, alpha, indep_test, stable, background_knowledge, verbose, show_progress, node_names)\u001b[0m\n\u001b[1;32m     99\u001b[0m Neigh_x_noy \u001b[38;5;241m=\u001b[39m np\u001b[38;5;241m.\u001b[39mdelete(Neigh_x, np\u001b[38;5;241m.\u001b[39mwhere(Neigh_x \u001b[38;5;241m==\u001b[39m y))\n\u001b[1;32m    100\u001b[0m \u001b[38;5;28;01mfor\u001b[39;00m S \u001b[38;5;129;01min\u001b[39;00m combinations(Neigh_x_noy, depth):\n\u001b[0;32m--> 101\u001b[0m     p \u001b[38;5;241m=\u001b[39m \u001b[43mcg\u001b[49m\u001b[38;5;241;43m.\u001b[39;49m\u001b[43mci_test\u001b[49m\u001b[43m(\u001b[49m\u001b[43mx\u001b[49m\u001b[43m,\u001b[49m\u001b[43m \u001b[49m\u001b[43my\u001b[49m\u001b[43m,\u001b[49m\u001b[43m \u001b[49m\u001b[43mS\u001b[49m\u001b[43m)\u001b[49m\n\u001b[1;32m    102\u001b[0m     \u001b[38;5;28;01mif\u001b[39;00m p \u001b[38;5;241m>\u001b[39m alpha:\n\u001b[1;32m    103\u001b[0m         \u001b[38;5;28;01mif\u001b[39;00m verbose:\n",
      "File \u001b[0;32m~/anaconda3/envs/graph/lib/python3.12/site-packages/causallearn/graph/GraphClass.py:58\u001b[0m, in \u001b[0;36mCausalGraph.ci_test\u001b[0;34m(self, i, j, S)\u001b[0m\n\u001b[1;32m     56\u001b[0m \u001b[38;5;66;03m# assert i != j and not i in S and not j in S\u001b[39;00m\n\u001b[1;32m     57\u001b[0m \u001b[38;5;28;01mif\u001b[39;00m \u001b[38;5;28mself\u001b[39m\u001b[38;5;241m.\u001b[39mtest\u001b[38;5;241m.\u001b[39mmethod \u001b[38;5;241m==\u001b[39m \u001b[38;5;124m'\u001b[39m\u001b[38;5;124mmc_fisherz\u001b[39m\u001b[38;5;124m'\u001b[39m: \u001b[38;5;28;01mreturn\u001b[39;00m \u001b[38;5;28mself\u001b[39m\u001b[38;5;241m.\u001b[39mtest(i, j, S, \u001b[38;5;28mself\u001b[39m\u001b[38;5;241m.\u001b[39mnx_skel, \u001b[38;5;28mself\u001b[39m\u001b[38;5;241m.\u001b[39mprt_m)\n\u001b[0;32m---> 58\u001b[0m \u001b[38;5;28;01mreturn\u001b[39;00m \u001b[38;5;28;43mself\u001b[39;49m\u001b[38;5;241;43m.\u001b[39;49m\u001b[43mtest\u001b[49m\u001b[43m(\u001b[49m\u001b[43mi\u001b[49m\u001b[43m,\u001b[49m\u001b[43m \u001b[49m\u001b[43mj\u001b[49m\u001b[43m,\u001b[49m\u001b[43m \u001b[49m\u001b[43mS\u001b[49m\u001b[43m)\u001b[49m\n",
      "File \u001b[0;32m~/Library/Mobile Documents/iCloud~md~obsidian/Documents/CD/_Project/Ensemble KCIT/code/ecit.py:67\u001b[0m, in \u001b[0;36mECIT.__call__\u001b[0;34m(self, X, Y, S, **kwargs)\u001b[0m\n\u001b[1;32m     65\u001b[0m \u001b[38;5;28;01mfor\u001b[39;00m sub_data \u001b[38;5;129;01min\u001b[39;00m np\u001b[38;5;241m.\u001b[39marray_split(shuffled_data, k):\n\u001b[1;32m     66\u001b[0m     kci_obj \u001b[38;5;241m=\u001b[39m CIT(sub_data, \u001b[38;5;124m\"\u001b[39m\u001b[38;5;124mkci\u001b[39m\u001b[38;5;124m\"\u001b[39m, \u001b[38;5;241m*\u001b[39m\u001b[38;5;241m*\u001b[39mkwargs)\n\u001b[0;32m---> 67\u001b[0m     pVal\u001b[38;5;241m.\u001b[39mappend(\u001b[43mkci_obj\u001b[49m\u001b[43m(\u001b[49m\u001b[43mX\u001b[49m\u001b[43m,\u001b[49m\u001b[43m \u001b[49m\u001b[43mY\u001b[49m\u001b[43m,\u001b[49m\u001b[43m \u001b[49m\u001b[43mS\u001b[49m\u001b[43m)\u001b[49m)\n\u001b[1;32m     68\u001b[0m \u001b[38;5;28;01mif\u001b[39;00m typ \u001b[38;5;241m==\u001b[39m \u001b[38;5;124m\"\u001b[39m\u001b[38;5;124ma\u001b[39m\u001b[38;5;124m\"\u001b[39m: \u001b[38;5;66;03m#平均\u001b[39;00m\n\u001b[1;32m     69\u001b[0m     \u001b[38;5;28;01mreturn\u001b[39;00m np\u001b[38;5;241m.\u001b[39mmean(pVal)\n",
      "File \u001b[0;32m~/anaconda3/envs/graph/lib/python3.12/site-packages/causallearn/utils/cit.py:192\u001b[0m, in \u001b[0;36mKCI.__call__\u001b[0;34m(self, X, Y, condition_set)\u001b[0m\n\u001b[1;32m    189\u001b[0m Xs, Ys, condition_set, cache_key \u001b[38;5;241m=\u001b[39m \u001b[38;5;28mself\u001b[39m\u001b[38;5;241m.\u001b[39mget_formatted_XYZ_and_cachekey(X, Y, condition_set)\n\u001b[1;32m    190\u001b[0m \u001b[38;5;28;01mif\u001b[39;00m cache_key \u001b[38;5;129;01min\u001b[39;00m \u001b[38;5;28mself\u001b[39m\u001b[38;5;241m.\u001b[39mpvalue_cache: \u001b[38;5;28;01mreturn\u001b[39;00m \u001b[38;5;28mself\u001b[39m\u001b[38;5;241m.\u001b[39mpvalue_cache[cache_key]\n\u001b[1;32m    191\u001b[0m p \u001b[38;5;241m=\u001b[39m \u001b[38;5;28mself\u001b[39m\u001b[38;5;241m.\u001b[39mkci_ui\u001b[38;5;241m.\u001b[39mcompute_pvalue(\u001b[38;5;28mself\u001b[39m\u001b[38;5;241m.\u001b[39mdata[:, Xs], \u001b[38;5;28mself\u001b[39m\u001b[38;5;241m.\u001b[39mdata[:, Ys])[\u001b[38;5;241m0\u001b[39m] \u001b[38;5;28;01mif\u001b[39;00m \u001b[38;5;28mlen\u001b[39m(condition_set) \u001b[38;5;241m==\u001b[39m \u001b[38;5;241m0\u001b[39m \u001b[38;5;28;01melse\u001b[39;00m \\\n\u001b[0;32m--> 192\u001b[0m     \u001b[38;5;28;43mself\u001b[39;49m\u001b[38;5;241;43m.\u001b[39;49m\u001b[43mkci_ci\u001b[49m\u001b[38;5;241;43m.\u001b[39;49m\u001b[43mcompute_pvalue\u001b[49m\u001b[43m(\u001b[49m\u001b[38;5;28;43mself\u001b[39;49m\u001b[38;5;241;43m.\u001b[39;49m\u001b[43mdata\u001b[49m\u001b[43m[\u001b[49m\u001b[43m:\u001b[49m\u001b[43m,\u001b[49m\u001b[43m \u001b[49m\u001b[43mXs\u001b[49m\u001b[43m]\u001b[49m\u001b[43m,\u001b[49m\u001b[43m \u001b[49m\u001b[38;5;28;43mself\u001b[39;49m\u001b[38;5;241;43m.\u001b[39;49m\u001b[43mdata\u001b[49m\u001b[43m[\u001b[49m\u001b[43m:\u001b[49m\u001b[43m,\u001b[49m\u001b[43m \u001b[49m\u001b[43mYs\u001b[49m\u001b[43m]\u001b[49m\u001b[43m,\u001b[49m\u001b[43m \u001b[49m\u001b[38;5;28;43mself\u001b[39;49m\u001b[38;5;241;43m.\u001b[39;49m\u001b[43mdata\u001b[49m\u001b[43m[\u001b[49m\u001b[43m:\u001b[49m\u001b[43m,\u001b[49m\u001b[43m \u001b[49m\u001b[43mcondition_set\u001b[49m\u001b[43m]\u001b[49m\u001b[43m)\u001b[49m[\u001b[38;5;241m0\u001b[39m]\n\u001b[1;32m    193\u001b[0m \u001b[38;5;28mself\u001b[39m\u001b[38;5;241m.\u001b[39mpvalue_cache[cache_key] \u001b[38;5;241m=\u001b[39m p\n\u001b[1;32m    194\u001b[0m \u001b[38;5;28;01mreturn\u001b[39;00m p\n",
      "File \u001b[0;32m~/anaconda3/envs/graph/lib/python3.12/site-packages/causallearn/utils/KCI/KCI.py:304\u001b[0m, in \u001b[0;36mKCI_CInd.compute_pvalue\u001b[0;34m(self, data_x, data_y, data_z)\u001b[0m\n\u001b[1;32m    302\u001b[0m Kx, Ky, Kzx, Kzy \u001b[38;5;241m=\u001b[39m \u001b[38;5;28mself\u001b[39m\u001b[38;5;241m.\u001b[39mkernel_matrix(data_x, data_y, data_z)\n\u001b[1;32m    303\u001b[0m test_stat, KxR, KyR \u001b[38;5;241m=\u001b[39m \u001b[38;5;28mself\u001b[39m\u001b[38;5;241m.\u001b[39mKCI_V_statistic(Kx, Ky, Kzx, Kzy)\n\u001b[0;32m--> 304\u001b[0m uu_prod, size_u \u001b[38;5;241m=\u001b[39m \u001b[38;5;28;43mself\u001b[39;49m\u001b[38;5;241;43m.\u001b[39;49m\u001b[43mget_uuprod\u001b[49m\u001b[43m(\u001b[49m\u001b[43mKxR\u001b[49m\u001b[43m,\u001b[49m\u001b[43m \u001b[49m\u001b[43mKyR\u001b[49m\u001b[43m)\u001b[49m\n\u001b[1;32m    305\u001b[0m \u001b[38;5;28;01mif\u001b[39;00m \u001b[38;5;28mself\u001b[39m\u001b[38;5;241m.\u001b[39mapprox:\n\u001b[1;32m    306\u001b[0m     k_appr, theta_appr \u001b[38;5;241m=\u001b[39m \u001b[38;5;28mself\u001b[39m\u001b[38;5;241m.\u001b[39mget_kappa(uu_prod)\n",
      "File \u001b[0;32m~/anaconda3/envs/graph/lib/python3.12/site-packages/causallearn/utils/KCI/KCI.py:527\u001b[0m, in \u001b[0;36mKCI_CInd.get_uuprod\u001b[0;34m(self, Kx, Ky)\u001b[0m\n\u001b[1;32m    512\u001b[0m \u001b[38;5;250m\u001b[39m\u001b[38;5;124;03m\"\"\"\u001b[39;00m\n\u001b[1;32m    513\u001b[0m \u001b[38;5;124;03mCompute eigenvalues for null distribution estimation\u001b[39;00m\n\u001b[1;32m    514\u001b[0m \n\u001b[0;32m   (...)\u001b[0m\n\u001b[1;32m    524\u001b[0m \n\u001b[1;32m    525\u001b[0m \u001b[38;5;124;03m\"\"\"\u001b[39;00m\n\u001b[1;32m    526\u001b[0m wx, vx \u001b[38;5;241m=\u001b[39m eigh(\u001b[38;5;241m0.5\u001b[39m \u001b[38;5;241m*\u001b[39m (Kx \u001b[38;5;241m+\u001b[39m Kx\u001b[38;5;241m.\u001b[39mT))\n\u001b[0;32m--> 527\u001b[0m wy, vy \u001b[38;5;241m=\u001b[39m \u001b[43meigh\u001b[49m\u001b[43m(\u001b[49m\u001b[38;5;241;43m0.5\u001b[39;49m\u001b[43m \u001b[49m\u001b[38;5;241;43m*\u001b[39;49m\u001b[43m \u001b[49m\u001b[43m(\u001b[49m\u001b[43mKy\u001b[49m\u001b[43m \u001b[49m\u001b[38;5;241;43m+\u001b[39;49m\u001b[43m \u001b[49m\u001b[43mKy\u001b[49m\u001b[38;5;241;43m.\u001b[39;49m\u001b[43mT\u001b[49m\u001b[43m)\u001b[49m\u001b[43m)\u001b[49m\n\u001b[1;32m    528\u001b[0m idx \u001b[38;5;241m=\u001b[39m np\u001b[38;5;241m.\u001b[39margsort(\u001b[38;5;241m-\u001b[39mwx)\n\u001b[1;32m    529\u001b[0m idy \u001b[38;5;241m=\u001b[39m np\u001b[38;5;241m.\u001b[39margsort(\u001b[38;5;241m-\u001b[39mwy)\n",
      "File \u001b[0;32m~/anaconda3/envs/graph/lib/python3.12/site-packages/numpy/linalg/linalg.py:1487\u001b[0m, in \u001b[0;36meigh\u001b[0;34m(a, UPLO)\u001b[0m\n\u001b[1;32m   1484\u001b[0m     gufunc \u001b[38;5;241m=\u001b[39m _umath_linalg\u001b[38;5;241m.\u001b[39meigh_up\n\u001b[1;32m   1486\u001b[0m signature \u001b[38;5;241m=\u001b[39m \u001b[38;5;124m'\u001b[39m\u001b[38;5;124mD->dD\u001b[39m\u001b[38;5;124m'\u001b[39m \u001b[38;5;28;01mif\u001b[39;00m isComplexType(t) \u001b[38;5;28;01melse\u001b[39;00m \u001b[38;5;124m'\u001b[39m\u001b[38;5;124md->dd\u001b[39m\u001b[38;5;124m'\u001b[39m\n\u001b[0;32m-> 1487\u001b[0m w, vt \u001b[38;5;241m=\u001b[39m \u001b[43mgufunc\u001b[49m\u001b[43m(\u001b[49m\u001b[43ma\u001b[49m\u001b[43m,\u001b[49m\u001b[43m \u001b[49m\u001b[43msignature\u001b[49m\u001b[38;5;241;43m=\u001b[39;49m\u001b[43msignature\u001b[49m\u001b[43m,\u001b[49m\u001b[43m \u001b[49m\u001b[43mextobj\u001b[49m\u001b[38;5;241;43m=\u001b[39;49m\u001b[43mextobj\u001b[49m\u001b[43m)\u001b[49m\n\u001b[1;32m   1488\u001b[0m w \u001b[38;5;241m=\u001b[39m w\u001b[38;5;241m.\u001b[39mastype(_realType(result_t), copy\u001b[38;5;241m=\u001b[39m\u001b[38;5;28;01mFalse\u001b[39;00m)\n\u001b[1;32m   1489\u001b[0m vt \u001b[38;5;241m=\u001b[39m vt\u001b[38;5;241m.\u001b[39mastype(result_t, copy\u001b[38;5;241m=\u001b[39m\u001b[38;5;28;01mFalse\u001b[39;00m)\n",
      "\u001b[0;31mKeyboardInterrupt\u001b[0m: "
     ]
    }
   ],
   "source": [
    "t = 1000\n",
    "n = 3200\n",
    "err_e = 0\n",
    "\n",
    "for i in tqdm(range(t), desc=\"Processing\"):\n",
    "    np.random.seed(i)\n",
    "    data = gdata(n)\n",
    "    ecg = epc(data, 0.01, \"ACAT\", 8, show_progress=False)\n",
    "    esk =np.abs(ecg.G.graph)\n",
    "    if not np.all(np.abs(esk) == truSk):\n",
    "        err_e += 1\n",
    "err_e/t"
   ]
  },
  {
   "cell_type": "code",
   "execution_count": 45,
   "metadata": {},
   "outputs": [
    {
     "name": "stderr",
     "output_type": "stream",
     "text": [
      "Processing: 100%|██████████| 100/100 [1:57:41<00:00, 70.62s/it]\n"
     ]
    },
    {
     "data": {
      "text/plain": [
       "0.12"
      ]
     },
     "execution_count": 45,
     "metadata": {},
     "output_type": "execute_result"
    }
   ],
   "source": [
    "t = 100\n",
    "n = 3200\n",
    "err = 0\n",
    "\n",
    "for i in tqdm(range(t), desc=\"Processing\"):\n",
    "    np.random.seed(i)\n",
    "    data = gdata(n)\n",
    "    cg = pc(data, 0.01, kci, show_progress=False)\n",
    "    sk =np.abs(cg.G.graph)\n",
    "    if not np.all(np.abs(sk) == truSk):\n",
    "        err += 1\n",
    "err/t"
   ]
  }
 ],
 "metadata": {
  "kernelspec": {
   "display_name": "graph",
   "language": "python",
   "name": "python3"
  },
  "language_info": {
   "codemirror_mode": {
    "name": "ipython",
    "version": 3
   },
   "file_extension": ".py",
   "mimetype": "text/x-python",
   "name": "python",
   "nbconvert_exporter": "python",
   "pygments_lexer": "ipython3",
   "version": "3.12.3"
  }
 },
 "nbformat": 4,
 "nbformat_minor": 2
}
