{
 "cells": [
  {
   "cell_type": "code",
   "execution_count": 3,
   "metadata": {},
   "outputs": [],
   "source": [
    "import numpy as np\n",
    "from ecit import *\n",
    "\n",
    "x, y, z = generate_samples_random(size=100,sType='CI',dx=1,dy=1,dz=1,fixed_function='linear',normalize=False, dist_z ='laplace', debug=False)\n",
    "\n",
    "data = np.hstack((x, y, z))\n",
    "a = data[:,[]]"
   ]
  },
  {
   "cell_type": "code",
   "execution_count": null,
   "metadata": {},
   "outputs": [
    {
     "name": "stdout",
     "output_type": "stream",
     "text": [
      "0.3209043095462647\n",
      "0.0\n"
     ]
    }
   ],
   "source": [
    "print(kcit(x,y,z))\n",
    "print(kcit(x,y,a))"
   ]
  },
  {
   "cell_type": "code",
   "execution_count": 5,
   "metadata": {},
   "outputs": [
    {
     "name": "stdout",
     "output_type": "stream",
     "text": [
      "0.02973167389221054\n",
      "4.882475297618427e-06\n"
     ]
    }
   ],
   "source": [
    "print(rcit(x,y,z))\n",
    "print(rcit(x,y,a))"
   ]
  },
  {
   "cell_type": "code",
   "execution_count": 6,
   "metadata": {},
   "outputs": [
    {
     "name": "stderr",
     "output_type": "stream",
     "text": [
      "WARNING: All log messages before absl::InitializeLog() is called are written to STDERR\n",
      "I0000 00:00:1735734040.856272 39731089 mlir_graph_optimization_pass.cc:401] MLIR V1 optimization pass is not enabled\n"
     ]
    },
    {
     "name": "stdout",
     "output_type": "stream",
     "text": [
      "0.9940119760479041\n",
      "0.001996007984031936\n"
     ]
    }
   ],
   "source": [
    "print(nnscit(x,y,z))\n",
    "print(nnscit(x,y,a))"
   ]
  },
  {
   "cell_type": "code",
   "execution_count": 7,
   "metadata": {},
   "outputs": [
    {
     "name": "stdout",
     "output_type": "stream",
     "text": [
      "0.021\n",
      "0.0\n"
     ]
    }
   ],
   "source": [
    "print(cmiknn(x,y,z))\n",
    "print(cmiknn(x,y,a))"
   ]
  },
  {
   "cell_type": "code",
   "execution_count": 8,
   "metadata": {},
   "outputs": [
    {
     "name": "stdout",
     "output_type": "stream",
     "text": [
      "0.32492941535357656\n",
      "8.395703021690792e-10\n"
     ]
    }
   ],
   "source": [
    "Test = ECIT(data, kcit, ensemble_p_cauchy, 2)\n",
    "print(Test([0],[1],[2]))\n",
    "print(Test([0],[1],[]))"
   ]
  },
  {
   "cell_type": "code",
   "execution_count": 9,
   "metadata": {},
   "outputs": [
    {
     "name": "stdout",
     "output_type": "stream",
     "text": [
      "0.003659714527828928\n"
     ]
    }
   ],
   "source": [
    "Test = ECIT(data, nnscit, ensemble_p_cauchy, 2)\n",
    "print(Test(0,1,[2]))"
   ]
  },
  {
   "cell_type": "code",
   "execution_count": 10,
   "metadata": {},
   "outputs": [
    {
     "name": "stderr",
     "output_type": "stream",
     "text": [
      "Depth=0, working on node 0:  33%|███▎      | 1/3 [00:00<00:00, 2016.49it/s]"
     ]
    },
    {
     "name": "stderr",
     "output_type": "stream",
     "text": [
      "Depth=1, working on node 2: 100%|██████████| 3/3 [00:06<00:00,  2.16s/it]  \n"
     ]
    },
    {
     "data": {
      "text/plain": [
       "array([[ 0,  0, -1],\n",
       "       [ 0,  0, -1],\n",
       "       [-1, -1,  0]])"
      ]
     },
     "execution_count": 10,
     "metadata": {},
     "output_type": "execute_result"
    }
   ],
   "source": [
    "x, y, z = generate_samples_random(size=1000,sType='CI',dx=1,dy=1,dz=1,fixed_function='linear',normalize=False, dist_z ='laplace', debug=False)\n",
    "\n",
    "data = np.hstack((x, y, z))\n",
    "\n",
    "epc(data, rcit, ensemble_p_cauchy, 5, 0.01).G.graph"
   ]
  },
  {
   "cell_type": "code",
   "execution_count": 13,
   "metadata": {},
   "outputs": [
    {
     "name": "stderr",
     "output_type": "stream",
     "text": [
      "Processing: 100%|██████████| 100/100 [02:07<00:00,  1.27s/it]\n"
     ]
    },
    {
     "data": {
      "text/plain": [
       "(0.08, 0.14)"
      ]
     },
     "execution_count": 13,
     "metadata": {},
     "output_type": "execute_result"
    }
   ],
   "source": [
    "from tqdm import tqdm\n",
    "\n",
    "eerrors = 0\n",
    "errors = 0\n",
    "t = 100\n",
    "for i in tqdm(range(t), desc=\"Processing\"):\n",
    "    np.random.seed(i)\n",
    "    x, y, z = generate_samples_random(size=4000,sType='CI',dx=1,dy=1,dz=1,fixed_function='',normalize=False, dist_z ='laplace')\n",
    "    data = np.hstack((x, y, z))\n",
    "\n",
    "    Test = ECIT(data, rcit, p_cauchy, 4)\n",
    "    pe1 = Test([0],[1],[2])\n",
    "    Test = ECIT(data, rcit, p_cauchy, 1)\n",
    "    p1 = Test([0],[1],[2])\n",
    "    if pe1<0.05: eerrors+=1\n",
    "    if p1<0.05: errors+=1\n",
    "\n",
    "eerrors/t, errors/t"
   ]
  },
  {
   "cell_type": "code",
   "execution_count": 14,
   "metadata": {},
   "outputs": [
    {
     "name": "stderr",
     "output_type": "stream",
     "text": [
      "Processing: 100%|██████████| 100/100 [02:06<00:00,  1.27s/it]\n"
     ]
    },
    {
     "data": {
      "text/plain": [
       "(0.05, 0.03)"
      ]
     },
     "execution_count": 14,
     "metadata": {},
     "output_type": "execute_result"
    }
   ],
   "source": [
    "from tqdm import tqdm\n",
    "\n",
    "eerrors = 0\n",
    "errors = 0\n",
    "t = 100\n",
    "for i in tqdm(range(t), desc=\"Processing\"):\n",
    "    np.random.seed(i)\n",
    "    x, y, z = generate_samples_random(size=4000,sType='NI',dx=1,dy=1,dz=1,fixed_function='',normalize=False, dist_z ='laplace')\n",
    "    data = np.hstack((x, y, z))\n",
    "\n",
    "    Test = ECIT(data, rcit, p_cauchy, 4)\n",
    "    pe1 = Test([0],[1],[2])\n",
    "    Test = ECIT(data, rcit, p_cauchy, 1)\n",
    "    p1 = Test([0],[1],[2])\n",
    "    if pe1>0.05: eerrors+=1\n",
    "    if p1>0.05: errors+=1\n",
    "\n",
    "eerrors/t, errors/t"
   ]
  }
 ],
 "metadata": {
  "kernelspec": {
   "display_name": "graph",
   "language": "python",
   "name": "python3"
  },
  "language_info": {
   "codemirror_mode": {
    "name": "ipython",
    "version": 3
   },
   "file_extension": ".py",
   "mimetype": "text/x-python",
   "name": "python",
   "nbconvert_exporter": "python",
   "pygments_lexer": "ipython3",
   "version": "3.10.14"
  }
 },
 "nbformat": 4,
 "nbformat_minor": 2
}
